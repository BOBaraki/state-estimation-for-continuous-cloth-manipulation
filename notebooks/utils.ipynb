{
 "cells": [
  {
   "cell_type": "code",
   "execution_count": 1,
   "id": "607f3cb5-3765-41cb-b780-cb542f105a20",
   "metadata": {},
   "outputs": [],
   "source": [
    "import os\n",
    "import shutil\n",
    "import numpy as np\n",
    "import pandas as pd\n",
    "import matplotlib.pyplot as plt\n",
    "from sklearn.model_selection import StratifiedShuffleSplit\n",
    "import glob\n",
    "from glob import glob\n",
    "import torch\n",
    "import torch.nn as nn\n",
    "import torch.optim as optim\n",
    "from torch.autograd import Variable\n",
    "from torch.utils.data import DataLoader, Dataset\n",
    "import torchvision\n",
    "from torchvision import datasets, models, transforms\n",
    "import time\n",
    "import copy\n",
    "from PIL import Image\n",
    "# for progress bar\n",
    "from tqdm import tqdm_notebook, tqdm, trange\n",
    "#to print multiple outputs\n",
    "from IPython.core.interactiveshell import InteractiveShell\n",
    "InteractiveShell.ast_node_interactivity='all'\n",
    "\n",
    "# from pytorch_pretrained_vit import ViT\n",
    "\n",
    "# from linformer import Linformer\n",
    "# from torch.utils.tensorboard import SummaryWriter"
   ]
  },
  {
   "cell_type": "code",
   "execution_count": 2,
   "id": "4dab1aa9-070d-4ee7-9a0f-08f9960ca9ba",
   "metadata": {},
   "outputs": [],
   "source": [
    "source_PATH = \"/home/tzortzis/Data/IRI-CATs-light/real_data/short_tasks/source_robotics/\"\n",
    "domain_PATH_train = \"/home/tzortzis/Data/IRI-CATs-light/real_data/long_tasks/cropped_robotic/train/\"\n",
    "domain_PATH_test = \"/home/tzortzis/Data/IRI-CATs-light/real_data/long_tasks/cropped_robotic/test/orange/no_release_orange/\"\n",
    "EXT = \"*.csv\"\n",
    "img_EXT = \"*.jpg\""
   ]
  },
  {
   "cell_type": "code",
   "execution_count": 3,
   "id": "e8fcd1bd-dffb-4a4b-91c6-64df995a3650",
   "metadata": {},
   "outputs": [],
   "source": [
    "def get_frame(PATH):\n",
    "    all_csv_files = []\n",
    "    all_img_files = []\n",
    "    for path, subdir, files in os.walk(PATH):\n",
    "        for file in glob(os.path.join(path, EXT)):\n",
    "            if file.endswith('data.csv'):\n",
    "                all_csv_files.append(file)\n",
    "        for i in glob(os.path.join(path, img_EXT)):\n",
    "            all_img_files.append(i)\n",
    "\n",
    "\n",
    "    li = []\n",
    "\n",
    "    for filename in all_csv_files:\n",
    "        df = pd.read_csv(filename, index_col=None, header=0)\n",
    "        li.append(df)\n",
    "\n",
    "\n",
    "\n",
    "    frame = pd.concat(li, axis=0, ignore_index=True)\n",
    "    return frame, all_img_files, all_csv_files"
   ]
  },
  {
   "cell_type": "code",
   "execution_count": 4,
   "id": "9c78be42-8620-4a5e-baa1-f1ef2ceb3857",
   "metadata": {},
   "outputs": [],
   "source": [
    "source_frame, all_img_files_source, all_csv_files_source = get_frame(source_PATH)\n",
    "domain_train_frame,  all_img_files_domain_train, all_csv_files_domain_train = get_frame(domain_PATH_train)\n",
    "domain_test_frame,  all_img_files_domain_test, all_csv_files_domain_test = get_frame(domain_PATH_test)"
   ]
  },
  {
   "cell_type": "code",
   "execution_count": 5,
   "id": "6455ce4d-cac1-480a-8997-9cea429045e1",
   "metadata": {},
   "outputs": [],
   "source": [
    "states = source_frame.cloth_state.unique()\n",
    "def get_idx(frame, states):\n",
    "    state = states\n",
    "    state2idx = dict((state,idx) for idx, state in enumerate(state))\n",
    "    idx2state = dict((idx,state) for idx,state in enumerate(state))\n",
    "    frame['label_idx'] = [state2idx[b] for b in frame.cloth_state]\n",
    "    return"
   ]
  },
  {
   "cell_type": "code",
   "execution_count": 6,
   "id": "28040619-69e7-43ae-a0b6-6c49744f661c",
   "metadata": {},
   "outputs": [],
   "source": [
    "get_idx(source_frame, states)\n",
    "get_idx(domain_train_frame, states)\n",
    "get_idx(domain_test_frame, states)"
   ]
  },
  {
   "cell_type": "code",
   "execution_count": 7,
   "id": "e375bdf4-9a76-4cf9-960d-905f8334b8d9",
   "metadata": {},
   "outputs": [
    {
     "data": {
      "text/plain": [
       "array(['lifted', 'semi-lifted-twohands', 'folded'], dtype=object)"
      ]
     },
     "execution_count": 7,
     "metadata": {},
     "output_type": "execute_result"
    }
   ],
   "source": [
    "domain_test_frame.cloth_state.unique()\n",
    "# domain_test_frame.label_idx.unique()"
   ]
  },
  {
   "cell_type": "code",
   "execution_count": 8,
   "id": "e90fa304-9185-4d7d-973f-94b27475d85d",
   "metadata": {},
   "outputs": [],
   "source": [
    "class CustomDataset(Dataset):\n",
    "    def __init__(self, labels_df, img_path, transform=None):\n",
    "        self.labels_df = labels_df\n",
    "        self.img_path = img_path\n",
    "        self.transform = transform\n",
    "        \n",
    "        \n",
    "    def __len__(self):\n",
    "        return self.labels_df.shape[0]\n",
    "    \n",
    "    def __getitem__(self, idx):\n",
    "        image_name = self.labels_df.filename[idx]\n",
    "        for file in self.img_path:\n",
    "            if file.endswith(image_name + '.jpg'):\n",
    "                img = Image.open(file)\n",
    "                filename = file\n",
    "#                 print(file)\n",
    "        label = self.labels_df.label_idx[idx]\n",
    "#         print(file) \n",
    "            \n",
    "        if self.transform:\n",
    "            img = self.transform(img)\n",
    "\n",
    "        return img, label, filename"
   ]
  },
  {
   "cell_type": "code",
   "execution_count": 9,
   "id": "781d1b09-963c-44fe-87d9-46844eab35cf",
   "metadata": {},
   "outputs": [],
   "source": [
    "input_size = 224\n",
    "bs = 1\n",
    "\n",
    "data_transforms = {\n",
    "    'train': transforms.Compose([\n",
    "    transforms.Resize(input_size),\n",
    "    transforms.RandomResizedCrop(input_size),\n",
    "    transforms.RandomHorizontalFlip(),\n",
    "    transforms.RandomRotation(15),\n",
    "    transforms.ToTensor(),\n",
    "    transforms.Normalize([0.485, 0.456, 0.406], [0.229, 0.224, 0.225])#these vectors is the mean and the std from the statistics in imagenet. They are always the same as far as I can recall\n",
    "    ]),\n",
    "    'val': transforms.Compose([\n",
    "        transforms.Resize(224),\n",
    "#         transforms.CenterCrop(224),\n",
    "        transforms.ToTensor(),\n",
    "        transforms.Normalize([0.485, 0.456, 0.406], [0.229, 0.224, 0.225])\n",
    "    ]),\n",
    "}\n",
    "\n",
    "device = torch.device(\"cuda:0\" if torch.cuda.is_available() else \"cpu\")\n",
    "\n",
    "\n",
    "# source_dataset = CustomDataset(source_frame, all_img_files_source)\n",
    "# target_train =  CustomDataset(domain_train_frame, all_img_files_domain_train)\n",
    "# target_test =  CustomDataset(domain_test_frame, all_img_files_domain_test)"
   ]
  },
  {
   "cell_type": "code",
   "execution_count": 10,
   "id": "dcdef7c5-3804-40a0-a876-042e3c1d9e9c",
   "metadata": {},
   "outputs": [],
   "source": [
    "stratified_split = StratifiedShuffleSplit(n_splits=1, test_size=0.20, random_state=0)\n",
    "train_split_idx, val_split_idx = next(iter(stratified_split.split(source_frame.filename, source_frame.cloth_state)))\n",
    "train_df = source_frame.iloc[train_split_idx].reset_index()\n",
    "val_df = source_frame.iloc[val_split_idx].reset_index()"
   ]
  },
  {
   "cell_type": "code",
   "execution_count": 11,
   "id": "33272c43-acc9-4fea-86c3-47306785dfaf",
   "metadata": {},
   "outputs": [
    {
     "data": {
      "text/plain": [
       "array(['flat', 'semi-lifted-twohands', 'lifted', 'folded'], dtype=object)"
      ]
     },
     "execution_count": 11,
     "metadata": {},
     "output_type": "execute_result"
    },
    {
     "data": {
      "text/plain": [
       "array([0, 1, 3, 2])"
      ]
     },
     "execution_count": 11,
     "metadata": {},
     "output_type": "execute_result"
    }
   ],
   "source": [
    "train_df.cloth_state.unique()\n",
    "train_df.label_idx.unique()"
   ]
  },
  {
   "cell_type": "code",
   "execution_count": 12,
   "id": "05fed980-6822-4868-a00b-6732323fa180",
   "metadata": {},
   "outputs": [],
   "source": [
    "source_train_dataset = CustomDataset(train_df, all_img_files_source, transform = data_transforms['train'])\n",
    "val_dataset = CustomDataset(val_df, all_img_files_source, transform = data_transforms['val'])\n",
    "target_train_dataset = CustomDataset(domain_train_frame, all_img_files_domain_train, transform = data_transforms['train'])\n",
    "test_dataset = CustomDataset(domain_test_frame, all_img_files_domain_test, transform = data_transforms['val'])"
   ]
  },
  {
   "cell_type": "code",
   "execution_count": 13,
   "id": "6d915a4d-32d1-46e7-baf9-a0541d131d37",
   "metadata": {},
   "outputs": [],
   "source": [
    "train_source_loader = DataLoader(source_train_dataset, batch_size=16, shuffle=True, num_workers=2, drop_last=True)\n",
    "train_target_loader = DataLoader(target_train_dataset, batch_size=16, shuffle=True, num_workers=2, drop_last=True)\n",
    "val_loader = DataLoader(val_dataset, batch_size=16, shuffle=False, num_workers=2)\n",
    "test_loader = DataLoader(test_dataset, batch_size=1, shuffle=False, num_workers=2)"
   ]
  },
  {
   "cell_type": "code",
   "execution_count": 14,
   "id": "1d53436d-49b8-4da3-a898-6ffbfcc31f9b",
   "metadata": {},
   "outputs": [
    {
     "data": {
      "text/html": [
       "<div>\n",
       "<style scoped>\n",
       "    .dataframe tbody tr th:only-of-type {\n",
       "        vertical-align: middle;\n",
       "    }\n",
       "\n",
       "    .dataframe tbody tr th {\n",
       "        vertical-align: top;\n",
       "    }\n",
       "\n",
       "    .dataframe thead th {\n",
       "        text-align: right;\n",
       "    }\n",
       "</style>\n",
       "<table border=\"1\" class=\"dataframe\">\n",
       "  <thead>\n",
       "    <tr style=\"text-align: right;\">\n",
       "      <th></th>\n",
       "      <th>filename</th>\n",
       "      <th>cloth_state</th>\n",
       "      <th>false_labeling</th>\n",
       "      <th>label_idx</th>\n",
       "    </tr>\n",
       "  </thead>\n",
       "  <tbody>\n",
       "    <tr>\n",
       "      <th>0</th>\n",
       "      <td>robotic_no_release_orange_0001</td>\n",
       "      <td>lifted</td>\n",
       "      <td>NaN</td>\n",
       "      <td>3</td>\n",
       "    </tr>\n",
       "    <tr>\n",
       "      <th>1</th>\n",
       "      <td>robotic_no_release_orange_0002</td>\n",
       "      <td>lifted</td>\n",
       "      <td>NaN</td>\n",
       "      <td>3</td>\n",
       "    </tr>\n",
       "    <tr>\n",
       "      <th>2</th>\n",
       "      <td>robotic_no_release_orange_0003</td>\n",
       "      <td>lifted</td>\n",
       "      <td>NaN</td>\n",
       "      <td>3</td>\n",
       "    </tr>\n",
       "    <tr>\n",
       "      <th>3</th>\n",
       "      <td>robotic_no_release_orange_0004</td>\n",
       "      <td>lifted</td>\n",
       "      <td>NaN</td>\n",
       "      <td>3</td>\n",
       "    </tr>\n",
       "    <tr>\n",
       "      <th>4</th>\n",
       "      <td>robotic_no_release_orange_0005</td>\n",
       "      <td>lifted</td>\n",
       "      <td>NaN</td>\n",
       "      <td>3</td>\n",
       "    </tr>\n",
       "  </tbody>\n",
       "</table>\n",
       "</div>"
      ],
      "text/plain": [
       "                         filename cloth_state  false_labeling  label_idx\n",
       "0  robotic_no_release_orange_0001      lifted             NaN          3\n",
       "1  robotic_no_release_orange_0002      lifted             NaN          3\n",
       "2  robotic_no_release_orange_0003      lifted             NaN          3\n",
       "3  robotic_no_release_orange_0004      lifted             NaN          3\n",
       "4  robotic_no_release_orange_0005      lifted             NaN          3"
      ]
     },
     "execution_count": 14,
     "metadata": {},
     "output_type": "execute_result"
    }
   ],
   "source": [
    "domain_test_frame.head()"
   ]
  },
  {
   "cell_type": "code",
   "execution_count": 15,
   "id": "0b7a040e-f040-4a3b-8a28-f078d2400531",
   "metadata": {},
   "outputs": [],
   "source": [
    "from bokeh.plotting import figure, show\n",
    "from bokeh.models import ColumnDataSource\n",
    "from bokeh.transform import factor_cmap\n",
    "from bokeh.palettes import Spectral6"
   ]
  },
  {
   "cell_type": "code",
   "execution_count": 17,
   "id": "5a672300",
   "metadata": {},
   "outputs": [
    {
     "data": {
      "text/html": [
       "<div style=\"display: table;\"><div style=\"display: table-row;\"><div style=\"display: table-cell;\"><b title=\"bokeh.models.renderers.GlyphRenderer\">GlyphRenderer</b>(</div><div style=\"display: table-cell;\">id&nbsp;=&nbsp;'1075', <span id=\"1078\" style=\"cursor: pointer;\">&hellip;)</span></div></div><div class=\"1077\" style=\"display: none;\"><div style=\"display: table-cell;\"></div><div style=\"display: table-cell;\">coordinates&nbsp;=&nbsp;None,</div></div><div class=\"1077\" style=\"display: none;\"><div style=\"display: table-cell;\"></div><div style=\"display: table-cell;\">data_source&nbsp;=&nbsp;ColumnDataSource(id='1070', ...),</div></div><div class=\"1077\" style=\"display: none;\"><div style=\"display: table-cell;\"></div><div style=\"display: table-cell;\">glyph&nbsp;=&nbsp;Rect(id='1072', ...),</div></div><div class=\"1077\" style=\"display: none;\"><div style=\"display: table-cell;\"></div><div style=\"display: table-cell;\">group&nbsp;=&nbsp;None,</div></div><div class=\"1077\" style=\"display: none;\"><div style=\"display: table-cell;\"></div><div style=\"display: table-cell;\">hover_glyph&nbsp;=&nbsp;None,</div></div><div class=\"1077\" style=\"display: none;\"><div style=\"display: table-cell;\"></div><div style=\"display: table-cell;\">js_event_callbacks&nbsp;=&nbsp;{},</div></div><div class=\"1077\" style=\"display: none;\"><div style=\"display: table-cell;\"></div><div style=\"display: table-cell;\">js_property_callbacks&nbsp;=&nbsp;{},</div></div><div class=\"1077\" style=\"display: none;\"><div style=\"display: table-cell;\"></div><div style=\"display: table-cell;\">level&nbsp;=&nbsp;'glyph',</div></div><div class=\"1077\" style=\"display: none;\"><div style=\"display: table-cell;\"></div><div style=\"display: table-cell;\">muted&nbsp;=&nbsp;False,</div></div><div class=\"1077\" style=\"display: none;\"><div style=\"display: table-cell;\"></div><div style=\"display: table-cell;\">muted_glyph&nbsp;=&nbsp;Rect(id='1074', ...),</div></div><div class=\"1077\" style=\"display: none;\"><div style=\"display: table-cell;\"></div><div style=\"display: table-cell;\">name&nbsp;=&nbsp;None,</div></div><div class=\"1077\" style=\"display: none;\"><div style=\"display: table-cell;\"></div><div style=\"display: table-cell;\">nonselection_glyph&nbsp;=&nbsp;Rect(id='1073', ...),</div></div><div class=\"1077\" style=\"display: none;\"><div style=\"display: table-cell;\"></div><div style=\"display: table-cell;\">selection_glyph&nbsp;=&nbsp;'auto',</div></div><div class=\"1077\" style=\"display: none;\"><div style=\"display: table-cell;\"></div><div style=\"display: table-cell;\">subscribed_events&nbsp;=&nbsp;[],</div></div><div class=\"1077\" style=\"display: none;\"><div style=\"display: table-cell;\"></div><div style=\"display: table-cell;\">syncable&nbsp;=&nbsp;True,</div></div><div class=\"1077\" style=\"display: none;\"><div style=\"display: table-cell;\"></div><div style=\"display: table-cell;\">tags&nbsp;=&nbsp;[],</div></div><div class=\"1077\" style=\"display: none;\"><div style=\"display: table-cell;\"></div><div style=\"display: table-cell;\">view&nbsp;=&nbsp;CDSView(id='1076', ...),</div></div><div class=\"1077\" style=\"display: none;\"><div style=\"display: table-cell;\"></div><div style=\"display: table-cell;\">visible&nbsp;=&nbsp;True,</div></div><div class=\"1077\" style=\"display: none;\"><div style=\"display: table-cell;\"></div><div style=\"display: table-cell;\">x_range_name&nbsp;=&nbsp;'default',</div></div><div class=\"1077\" style=\"display: none;\"><div style=\"display: table-cell;\"></div><div style=\"display: table-cell;\">y_range_name&nbsp;=&nbsp;'default')</div></div></div>\n",
       "<script>\n",
       "(function() {\n",
       "  let expanded = false;\n",
       "  const ellipsis = document.getElementById(\"1078\");\n",
       "  ellipsis.addEventListener(\"click\", function() {\n",
       "    const rows = document.getElementsByClassName(\"1077\");\n",
       "    for (let i = 0; i < rows.length; i++) {\n",
       "      const el = rows[i];\n",
       "      el.style.display = expanded ? \"none\" : \"table-row\";\n",
       "    }\n",
       "    ellipsis.innerHTML = expanded ? \"&hellip;)\" : \"&lsaquo;&lsaquo;&lsaquo;\";\n",
       "    expanded = !expanded;\n",
       "  });\n",
       "})();\n",
       "</script>\n"
      ],
      "text/plain": [
       "GlyphRenderer(id='1075', ...)"
      ]
     },
     "execution_count": 17,
     "metadata": {},
     "output_type": "execute_result"
    }
   ],
   "source": [
    "p = figure(\n",
    "    width=1000,\n",
    "    height=1000,\n",
    "    title=\"Task Stream\",\n",
    "    toolbar_location=\"above\",\n",
    "    x_axis_type=\"datetime\",\n",
    ")\n",
    "labs = ['lifted', 'semi-lifted-twohands', 'flat', 'folded']\n",
    "p.rect(\n",
    "    source=ColumnDataSource(domain_test_frame),\n",
    "    x=\"index\",\n",
    "    y=\"label_idx\",\n",
    "    width=0.01,\n",
    "    height=0.4\n",
    ")\n",
    "\n",
    "show(p)"
   ]
  },
  {
   "cell_type": "code",
   "execution_count": 21,
   "id": "76643a41",
   "metadata": {},
   "outputs": [
    {
     "data": {
      "text/plain": [
       "(('/home/tzortzis/Data/IRI-CATs-light/real_data/long_tasks/cropped_robotic/test/orange/no_release_orange/robotic_no_release_orange_0001.jpg',),\n",
       " tensor([3]))"
      ]
     },
     "execution_count": 21,
     "metadata": {},
     "output_type": "execute_result"
    },
    {
     "data": {
      "text/plain": [
       "(('/home/tzortzis/Data/IRI-CATs-light/real_data/long_tasks/cropped_robotic/test/orange/no_release_orange/robotic_no_release_orange_0002.jpg',),\n",
       " tensor([3]))"
      ]
     },
     "execution_count": 21,
     "metadata": {},
     "output_type": "execute_result"
    },
    {
     "data": {
      "text/plain": [
       "(('/home/tzortzis/Data/IRI-CATs-light/real_data/long_tasks/cropped_robotic/test/orange/no_release_orange/robotic_no_release_orange_0003.jpg',),\n",
       " tensor([3]))"
      ]
     },
     "execution_count": 21,
     "metadata": {},
     "output_type": "execute_result"
    },
    {
     "data": {
      "text/plain": [
       "(('/home/tzortzis/Data/IRI-CATs-light/real_data/long_tasks/cropped_robotic/test/orange/no_release_orange/robotic_no_release_orange_0004.jpg',),\n",
       " tensor([3]))"
      ]
     },
     "execution_count": 21,
     "metadata": {},
     "output_type": "execute_result"
    },
    {
     "data": {
      "text/plain": [
       "(('/home/tzortzis/Data/IRI-CATs-light/real_data/long_tasks/cropped_robotic/test/orange/no_release_orange/robotic_no_release_orange_0005.jpg',),\n",
       " tensor([3]))"
      ]
     },
     "execution_count": 21,
     "metadata": {},
     "output_type": "execute_result"
    },
    {
     "data": {
      "text/plain": [
       "(('/home/tzortzis/Data/IRI-CATs-light/real_data/long_tasks/cropped_robotic/test/orange/no_release_orange/robotic_no_release_orange_0006.jpg',),\n",
       " tensor([3]))"
      ]
     },
     "execution_count": 21,
     "metadata": {},
     "output_type": "execute_result"
    },
    {
     "data": {
      "text/plain": [
       "(('/home/tzortzis/Data/IRI-CATs-light/real_data/long_tasks/cropped_robotic/test/orange/no_release_orange/robotic_no_release_orange_0007.jpg',),\n",
       " tensor([3]))"
      ]
     },
     "execution_count": 21,
     "metadata": {},
     "output_type": "execute_result"
    },
    {
     "data": {
      "text/plain": [
       "(('/home/tzortzis/Data/IRI-CATs-light/real_data/long_tasks/cropped_robotic/test/orange/no_release_orange/robotic_no_release_orange_0008.jpg',),\n",
       " tensor([3]))"
      ]
     },
     "execution_count": 21,
     "metadata": {},
     "output_type": "execute_result"
    },
    {
     "data": {
      "text/plain": [
       "(('/home/tzortzis/Data/IRI-CATs-light/real_data/long_tasks/cropped_robotic/test/orange/no_release_orange/robotic_no_release_orange_0009.jpg',),\n",
       " tensor([3]))"
      ]
     },
     "execution_count": 21,
     "metadata": {},
     "output_type": "execute_result"
    },
    {
     "data": {
      "text/plain": [
       "(('/home/tzortzis/Data/IRI-CATs-light/real_data/long_tasks/cropped_robotic/test/orange/no_release_orange/robotic_no_release_orange_0010.jpg',),\n",
       " tensor([3]))"
      ]
     },
     "execution_count": 21,
     "metadata": {},
     "output_type": "execute_result"
    },
    {
     "data": {
      "text/plain": [
       "(('/home/tzortzis/Data/IRI-CATs-light/real_data/long_tasks/cropped_robotic/test/orange/no_release_orange/robotic_no_release_orange_0011.jpg',),\n",
       " tensor([3]))"
      ]
     },
     "execution_count": 21,
     "metadata": {},
     "output_type": "execute_result"
    },
    {
     "data": {
      "text/plain": [
       "(('/home/tzortzis/Data/IRI-CATs-light/real_data/long_tasks/cropped_robotic/test/orange/no_release_orange/robotic_no_release_orange_0012.jpg',),\n",
       " tensor([3]))"
      ]
     },
     "execution_count": 21,
     "metadata": {},
     "output_type": "execute_result"
    },
    {
     "data": {
      "text/plain": [
       "(('/home/tzortzis/Data/IRI-CATs-light/real_data/long_tasks/cropped_robotic/test/orange/no_release_orange/robotic_no_release_orange_0013.jpg',),\n",
       " tensor([3]))"
      ]
     },
     "execution_count": 21,
     "metadata": {},
     "output_type": "execute_result"
    },
    {
     "data": {
      "text/plain": [
       "(('/home/tzortzis/Data/IRI-CATs-light/real_data/long_tasks/cropped_robotic/test/orange/no_release_orange/robotic_no_release_orange_0014.jpg',),\n",
       " tensor([3]))"
      ]
     },
     "execution_count": 21,
     "metadata": {},
     "output_type": "execute_result"
    },
    {
     "data": {
      "text/plain": [
       "(('/home/tzortzis/Data/IRI-CATs-light/real_data/long_tasks/cropped_robotic/test/orange/no_release_orange/robotic_no_release_orange_0015.jpg',),\n",
       " tensor([3]))"
      ]
     },
     "execution_count": 21,
     "metadata": {},
     "output_type": "execute_result"
    },
    {
     "data": {
      "text/plain": [
       "(('/home/tzortzis/Data/IRI-CATs-light/real_data/long_tasks/cropped_robotic/test/orange/no_release_orange/robotic_no_release_orange_0016.jpg',),\n",
       " tensor([3]))"
      ]
     },
     "execution_count": 21,
     "metadata": {},
     "output_type": "execute_result"
    },
    {
     "data": {
      "text/plain": [
       "(('/home/tzortzis/Data/IRI-CATs-light/real_data/long_tasks/cropped_robotic/test/orange/no_release_orange/robotic_no_release_orange_0017.jpg',),\n",
       " tensor([3]))"
      ]
     },
     "execution_count": 21,
     "metadata": {},
     "output_type": "execute_result"
    },
    {
     "data": {
      "text/plain": [
       "(('/home/tzortzis/Data/IRI-CATs-light/real_data/long_tasks/cropped_robotic/test/orange/no_release_orange/robotic_no_release_orange_0018.jpg',),\n",
       " tensor([3]))"
      ]
     },
     "execution_count": 21,
     "metadata": {},
     "output_type": "execute_result"
    },
    {
     "data": {
      "text/plain": [
       "(('/home/tzortzis/Data/IRI-CATs-light/real_data/long_tasks/cropped_robotic/test/orange/no_release_orange/robotic_no_release_orange_0019.jpg',),\n",
       " tensor([3]))"
      ]
     },
     "execution_count": 21,
     "metadata": {},
     "output_type": "execute_result"
    },
    {
     "data": {
      "text/plain": [
       "(('/home/tzortzis/Data/IRI-CATs-light/real_data/long_tasks/cropped_robotic/test/orange/no_release_orange/robotic_no_release_orange_0020.jpg',),\n",
       " tensor([3]))"
      ]
     },
     "execution_count": 21,
     "metadata": {},
     "output_type": "execute_result"
    },
    {
     "data": {
      "text/plain": [
       "(('/home/tzortzis/Data/IRI-CATs-light/real_data/long_tasks/cropped_robotic/test/orange/no_release_orange/robotic_no_release_orange_0021.jpg',),\n",
       " tensor([3]))"
      ]
     },
     "execution_count": 21,
     "metadata": {},
     "output_type": "execute_result"
    },
    {
     "data": {
      "text/plain": [
       "(('/home/tzortzis/Data/IRI-CATs-light/real_data/long_tasks/cropped_robotic/test/orange/no_release_orange/robotic_no_release_orange_0022.jpg',),\n",
       " tensor([3]))"
      ]
     },
     "execution_count": 21,
     "metadata": {},
     "output_type": "execute_result"
    },
    {
     "data": {
      "text/plain": [
       "(('/home/tzortzis/Data/IRI-CATs-light/real_data/long_tasks/cropped_robotic/test/orange/no_release_orange/robotic_no_release_orange_0023.jpg',),\n",
       " tensor([3]))"
      ]
     },
     "execution_count": 21,
     "metadata": {},
     "output_type": "execute_result"
    },
    {
     "data": {
      "text/plain": [
       "(('/home/tzortzis/Data/IRI-CATs-light/real_data/long_tasks/cropped_robotic/test/orange/no_release_orange/robotic_no_release_orange_0024.jpg',),\n",
       " tensor([3]))"
      ]
     },
     "execution_count": 21,
     "metadata": {},
     "output_type": "execute_result"
    },
    {
     "data": {
      "text/plain": [
       "(('/home/tzortzis/Data/IRI-CATs-light/real_data/long_tasks/cropped_robotic/test/orange/no_release_orange/robotic_no_release_orange_0025.jpg',),\n",
       " tensor([3]))"
      ]
     },
     "execution_count": 21,
     "metadata": {},
     "output_type": "execute_result"
    },
    {
     "data": {
      "text/plain": [
       "(('/home/tzortzis/Data/IRI-CATs-light/real_data/long_tasks/cropped_robotic/test/orange/no_release_orange/robotic_no_release_orange_0026.jpg',),\n",
       " tensor([3]))"
      ]
     },
     "execution_count": 21,
     "metadata": {},
     "output_type": "execute_result"
    },
    {
     "data": {
      "text/plain": [
       "(('/home/tzortzis/Data/IRI-CATs-light/real_data/long_tasks/cropped_robotic/test/orange/no_release_orange/robotic_no_release_orange_0027.jpg',),\n",
       " tensor([3]))"
      ]
     },
     "execution_count": 21,
     "metadata": {},
     "output_type": "execute_result"
    },
    {
     "data": {
      "text/plain": [
       "(('/home/tzortzis/Data/IRI-CATs-light/real_data/long_tasks/cropped_robotic/test/orange/no_release_orange/robotic_no_release_orange_0028.jpg',),\n",
       " tensor([3]))"
      ]
     },
     "execution_count": 21,
     "metadata": {},
     "output_type": "execute_result"
    },
    {
     "data": {
      "text/plain": [
       "(('/home/tzortzis/Data/IRI-CATs-light/real_data/long_tasks/cropped_robotic/test/orange/no_release_orange/robotic_no_release_orange_0029.jpg',),\n",
       " tensor([3]))"
      ]
     },
     "execution_count": 21,
     "metadata": {},
     "output_type": "execute_result"
    },
    {
     "data": {
      "text/plain": [
       "(('/home/tzortzis/Data/IRI-CATs-light/real_data/long_tasks/cropped_robotic/test/orange/no_release_orange/robotic_no_release_orange_0030.jpg',),\n",
       " tensor([3]))"
      ]
     },
     "execution_count": 21,
     "metadata": {},
     "output_type": "execute_result"
    },
    {
     "data": {
      "text/plain": [
       "(('/home/tzortzis/Data/IRI-CATs-light/real_data/long_tasks/cropped_robotic/test/orange/no_release_orange/robotic_no_release_orange_0031.jpg',),\n",
       " tensor([3]))"
      ]
     },
     "execution_count": 21,
     "metadata": {},
     "output_type": "execute_result"
    },
    {
     "data": {
      "text/plain": [
       "(('/home/tzortzis/Data/IRI-CATs-light/real_data/long_tasks/cropped_robotic/test/orange/no_release_orange/robotic_no_release_orange_0032.jpg',),\n",
       " tensor([3]))"
      ]
     },
     "execution_count": 21,
     "metadata": {},
     "output_type": "execute_result"
    },
    {
     "data": {
      "text/plain": [
       "(('/home/tzortzis/Data/IRI-CATs-light/real_data/long_tasks/cropped_robotic/test/orange/no_release_orange/robotic_no_release_orange_0033.jpg',),\n",
       " tensor([3]))"
      ]
     },
     "execution_count": 21,
     "metadata": {},
     "output_type": "execute_result"
    },
    {
     "data": {
      "text/plain": [
       "(('/home/tzortzis/Data/IRI-CATs-light/real_data/long_tasks/cropped_robotic/test/orange/no_release_orange/robotic_no_release_orange_0034.jpg',),\n",
       " tensor([3]))"
      ]
     },
     "execution_count": 21,
     "metadata": {},
     "output_type": "execute_result"
    },
    {
     "data": {
      "text/plain": [
       "(('/home/tzortzis/Data/IRI-CATs-light/real_data/long_tasks/cropped_robotic/test/orange/no_release_orange/robotic_no_release_orange_0035.jpg',),\n",
       " tensor([3]))"
      ]
     },
     "execution_count": 21,
     "metadata": {},
     "output_type": "execute_result"
    },
    {
     "data": {
      "text/plain": [
       "(('/home/tzortzis/Data/IRI-CATs-light/real_data/long_tasks/cropped_robotic/test/orange/no_release_orange/robotic_no_release_orange_0036.jpg',),\n",
       " tensor([3]))"
      ]
     },
     "execution_count": 21,
     "metadata": {},
     "output_type": "execute_result"
    },
    {
     "data": {
      "text/plain": [
       "(('/home/tzortzis/Data/IRI-CATs-light/real_data/long_tasks/cropped_robotic/test/orange/no_release_orange/robotic_no_release_orange_0037.jpg',),\n",
       " tensor([3]))"
      ]
     },
     "execution_count": 21,
     "metadata": {},
     "output_type": "execute_result"
    },
    {
     "data": {
      "text/plain": [
       "(('/home/tzortzis/Data/IRI-CATs-light/real_data/long_tasks/cropped_robotic/test/orange/no_release_orange/robotic_no_release_orange_0038.jpg',),\n",
       " tensor([3]))"
      ]
     },
     "execution_count": 21,
     "metadata": {},
     "output_type": "execute_result"
    },
    {
     "data": {
      "text/plain": [
       "(('/home/tzortzis/Data/IRI-CATs-light/real_data/long_tasks/cropped_robotic/test/orange/no_release_orange/robotic_no_release_orange_0039.jpg',),\n",
       " tensor([3]))"
      ]
     },
     "execution_count": 21,
     "metadata": {},
     "output_type": "execute_result"
    },
    {
     "data": {
      "text/plain": [
       "(('/home/tzortzis/Data/IRI-CATs-light/real_data/long_tasks/cropped_robotic/test/orange/no_release_orange/robotic_no_release_orange_0040.jpg',),\n",
       " tensor([3]))"
      ]
     },
     "execution_count": 21,
     "metadata": {},
     "output_type": "execute_result"
    },
    {
     "data": {
      "text/plain": [
       "(('/home/tzortzis/Data/IRI-CATs-light/real_data/long_tasks/cropped_robotic/test/orange/no_release_orange/robotic_no_release_orange_0041.jpg',),\n",
       " tensor([3]))"
      ]
     },
     "execution_count": 21,
     "metadata": {},
     "output_type": "execute_result"
    },
    {
     "data": {
      "text/plain": [
       "(('/home/tzortzis/Data/IRI-CATs-light/real_data/long_tasks/cropped_robotic/test/orange/no_release_orange/robotic_no_release_orange_0042.jpg',),\n",
       " tensor([3]))"
      ]
     },
     "execution_count": 21,
     "metadata": {},
     "output_type": "execute_result"
    },
    {
     "data": {
      "text/plain": [
       "(('/home/tzortzis/Data/IRI-CATs-light/real_data/long_tasks/cropped_robotic/test/orange/no_release_orange/robotic_no_release_orange_0043.jpg',),\n",
       " tensor([3]))"
      ]
     },
     "execution_count": 21,
     "metadata": {},
     "output_type": "execute_result"
    },
    {
     "data": {
      "text/plain": [
       "(('/home/tzortzis/Data/IRI-CATs-light/real_data/long_tasks/cropped_robotic/test/orange/no_release_orange/robotic_no_release_orange_0044.jpg',),\n",
       " tensor([3]))"
      ]
     },
     "execution_count": 21,
     "metadata": {},
     "output_type": "execute_result"
    },
    {
     "data": {
      "text/plain": [
       "(('/home/tzortzis/Data/IRI-CATs-light/real_data/long_tasks/cropped_robotic/test/orange/no_release_orange/robotic_no_release_orange_0045.jpg',),\n",
       " tensor([3]))"
      ]
     },
     "execution_count": 21,
     "metadata": {},
     "output_type": "execute_result"
    },
    {
     "data": {
      "text/plain": [
       "(('/home/tzortzis/Data/IRI-CATs-light/real_data/long_tasks/cropped_robotic/test/orange/no_release_orange/robotic_no_release_orange_0046.jpg',),\n",
       " tensor([3]))"
      ]
     },
     "execution_count": 21,
     "metadata": {},
     "output_type": "execute_result"
    },
    {
     "data": {
      "text/plain": [
       "(('/home/tzortzis/Data/IRI-CATs-light/real_data/long_tasks/cropped_robotic/test/orange/no_release_orange/robotic_no_release_orange_0047.jpg',),\n",
       " tensor([3]))"
      ]
     },
     "execution_count": 21,
     "metadata": {},
     "output_type": "execute_result"
    },
    {
     "data": {
      "text/plain": [
       "(('/home/tzortzis/Data/IRI-CATs-light/real_data/long_tasks/cropped_robotic/test/orange/no_release_orange/robotic_no_release_orange_0048.jpg',),\n",
       " tensor([3]))"
      ]
     },
     "execution_count": 21,
     "metadata": {},
     "output_type": "execute_result"
    },
    {
     "data": {
      "text/plain": [
       "(('/home/tzortzis/Data/IRI-CATs-light/real_data/long_tasks/cropped_robotic/test/orange/no_release_orange/robotic_no_release_orange_0049.jpg',),\n",
       " tensor([3]))"
      ]
     },
     "execution_count": 21,
     "metadata": {},
     "output_type": "execute_result"
    },
    {
     "data": {
      "text/plain": [
       "(('/home/tzortzis/Data/IRI-CATs-light/real_data/long_tasks/cropped_robotic/test/orange/no_release_orange/robotic_no_release_orange_0050.jpg',),\n",
       " tensor([3]))"
      ]
     },
     "execution_count": 21,
     "metadata": {},
     "output_type": "execute_result"
    },
    {
     "data": {
      "text/plain": [
       "(('/home/tzortzis/Data/IRI-CATs-light/real_data/long_tasks/cropped_robotic/test/orange/no_release_orange/robotic_no_release_orange_0051.jpg',),\n",
       " tensor([3]))"
      ]
     },
     "execution_count": 21,
     "metadata": {},
     "output_type": "execute_result"
    },
    {
     "data": {
      "text/plain": [
       "(('/home/tzortzis/Data/IRI-CATs-light/real_data/long_tasks/cropped_robotic/test/orange/no_release_orange/robotic_no_release_orange_0052.jpg',),\n",
       " tensor([3]))"
      ]
     },
     "execution_count": 21,
     "metadata": {},
     "output_type": "execute_result"
    },
    {
     "data": {
      "text/plain": [
       "(('/home/tzortzis/Data/IRI-CATs-light/real_data/long_tasks/cropped_robotic/test/orange/no_release_orange/robotic_no_release_orange_0053.jpg',),\n",
       " tensor([3]))"
      ]
     },
     "execution_count": 21,
     "metadata": {},
     "output_type": "execute_result"
    },
    {
     "data": {
      "text/plain": [
       "(('/home/tzortzis/Data/IRI-CATs-light/real_data/long_tasks/cropped_robotic/test/orange/no_release_orange/robotic_no_release_orange_0054.jpg',),\n",
       " tensor([3]))"
      ]
     },
     "execution_count": 21,
     "metadata": {},
     "output_type": "execute_result"
    },
    {
     "data": {
      "text/plain": [
       "(('/home/tzortzis/Data/IRI-CATs-light/real_data/long_tasks/cropped_robotic/test/orange/no_release_orange/robotic_no_release_orange_0055.jpg',),\n",
       " tensor([3]))"
      ]
     },
     "execution_count": 21,
     "metadata": {},
     "output_type": "execute_result"
    },
    {
     "data": {
      "text/plain": [
       "(('/home/tzortzis/Data/IRI-CATs-light/real_data/long_tasks/cropped_robotic/test/orange/no_release_orange/robotic_no_release_orange_0056.jpg',),\n",
       " tensor([3]))"
      ]
     },
     "execution_count": 21,
     "metadata": {},
     "output_type": "execute_result"
    },
    {
     "data": {
      "text/plain": [
       "(('/home/tzortzis/Data/IRI-CATs-light/real_data/long_tasks/cropped_robotic/test/orange/no_release_orange/robotic_no_release_orange_0057.jpg',),\n",
       " tensor([3]))"
      ]
     },
     "execution_count": 21,
     "metadata": {},
     "output_type": "execute_result"
    },
    {
     "data": {
      "text/plain": [
       "(('/home/tzortzis/Data/IRI-CATs-light/real_data/long_tasks/cropped_robotic/test/orange/no_release_orange/robotic_no_release_orange_0058.jpg',),\n",
       " tensor([3]))"
      ]
     },
     "execution_count": 21,
     "metadata": {},
     "output_type": "execute_result"
    },
    {
     "data": {
      "text/plain": [
       "(('/home/tzortzis/Data/IRI-CATs-light/real_data/long_tasks/cropped_robotic/test/orange/no_release_orange/robotic_no_release_orange_0059.jpg',),\n",
       " tensor([3]))"
      ]
     },
     "execution_count": 21,
     "metadata": {},
     "output_type": "execute_result"
    },
    {
     "data": {
      "text/plain": [
       "(('/home/tzortzis/Data/IRI-CATs-light/real_data/long_tasks/cropped_robotic/test/orange/no_release_orange/robotic_no_release_orange_0060.jpg',),\n",
       " tensor([3]))"
      ]
     },
     "execution_count": 21,
     "metadata": {},
     "output_type": "execute_result"
    },
    {
     "data": {
      "text/plain": [
       "(('/home/tzortzis/Data/IRI-CATs-light/real_data/long_tasks/cropped_robotic/test/orange/no_release_orange/robotic_no_release_orange_0061.jpg',),\n",
       " tensor([3]))"
      ]
     },
     "execution_count": 21,
     "metadata": {},
     "output_type": "execute_result"
    },
    {
     "data": {
      "text/plain": [
       "(('/home/tzortzis/Data/IRI-CATs-light/real_data/long_tasks/cropped_robotic/test/orange/no_release_orange/robotic_no_release_orange_0062.jpg',),\n",
       " tensor([3]))"
      ]
     },
     "execution_count": 21,
     "metadata": {},
     "output_type": "execute_result"
    },
    {
     "data": {
      "text/plain": [
       "(('/home/tzortzis/Data/IRI-CATs-light/real_data/long_tasks/cropped_robotic/test/orange/no_release_orange/robotic_no_release_orange_0063.jpg',),\n",
       " tensor([3]))"
      ]
     },
     "execution_count": 21,
     "metadata": {},
     "output_type": "execute_result"
    },
    {
     "data": {
      "text/plain": [
       "(('/home/tzortzis/Data/IRI-CATs-light/real_data/long_tasks/cropped_robotic/test/orange/no_release_orange/robotic_no_release_orange_0064.jpg',),\n",
       " tensor([3]))"
      ]
     },
     "execution_count": 21,
     "metadata": {},
     "output_type": "execute_result"
    },
    {
     "data": {
      "text/plain": [
       "(('/home/tzortzis/Data/IRI-CATs-light/real_data/long_tasks/cropped_robotic/test/orange/no_release_orange/robotic_no_release_orange_0065.jpg',),\n",
       " tensor([3]))"
      ]
     },
     "execution_count": 21,
     "metadata": {},
     "output_type": "execute_result"
    },
    {
     "data": {
      "text/plain": [
       "(('/home/tzortzis/Data/IRI-CATs-light/real_data/long_tasks/cropped_robotic/test/orange/no_release_orange/robotic_no_release_orange_0066.jpg',),\n",
       " tensor([3]))"
      ]
     },
     "execution_count": 21,
     "metadata": {},
     "output_type": "execute_result"
    },
    {
     "data": {
      "text/plain": [
       "(('/home/tzortzis/Data/IRI-CATs-light/real_data/long_tasks/cropped_robotic/test/orange/no_release_orange/robotic_no_release_orange_0067.jpg',),\n",
       " tensor([3]))"
      ]
     },
     "execution_count": 21,
     "metadata": {},
     "output_type": "execute_result"
    },
    {
     "data": {
      "text/plain": [
       "(('/home/tzortzis/Data/IRI-CATs-light/real_data/long_tasks/cropped_robotic/test/orange/no_release_orange/robotic_no_release_orange_0068.jpg',),\n",
       " tensor([3]))"
      ]
     },
     "execution_count": 21,
     "metadata": {},
     "output_type": "execute_result"
    },
    {
     "data": {
      "text/plain": [
       "(('/home/tzortzis/Data/IRI-CATs-light/real_data/long_tasks/cropped_robotic/test/orange/no_release_orange/robotic_no_release_orange_0069.jpg',),\n",
       " tensor([3]))"
      ]
     },
     "execution_count": 21,
     "metadata": {},
     "output_type": "execute_result"
    },
    {
     "data": {
      "text/plain": [
       "(('/home/tzortzis/Data/IRI-CATs-light/real_data/long_tasks/cropped_robotic/test/orange/no_release_orange/robotic_no_release_orange_0070.jpg',),\n",
       " tensor([3]))"
      ]
     },
     "execution_count": 21,
     "metadata": {},
     "output_type": "execute_result"
    },
    {
     "data": {
      "text/plain": [
       "(('/home/tzortzis/Data/IRI-CATs-light/real_data/long_tasks/cropped_robotic/test/orange/no_release_orange/robotic_no_release_orange_0071.jpg',),\n",
       " tensor([3]))"
      ]
     },
     "execution_count": 21,
     "metadata": {},
     "output_type": "execute_result"
    },
    {
     "data": {
      "text/plain": [
       "(('/home/tzortzis/Data/IRI-CATs-light/real_data/long_tasks/cropped_robotic/test/orange/no_release_orange/robotic_no_release_orange_0072.jpg',),\n",
       " tensor([3]))"
      ]
     },
     "execution_count": 21,
     "metadata": {},
     "output_type": "execute_result"
    },
    {
     "data": {
      "text/plain": [
       "(('/home/tzortzis/Data/IRI-CATs-light/real_data/long_tasks/cropped_robotic/test/orange/no_release_orange/robotic_no_release_orange_0073.jpg',),\n",
       " tensor([3]))"
      ]
     },
     "execution_count": 21,
     "metadata": {},
     "output_type": "execute_result"
    },
    {
     "data": {
      "text/plain": [
       "(('/home/tzortzis/Data/IRI-CATs-light/real_data/long_tasks/cropped_robotic/test/orange/no_release_orange/robotic_no_release_orange_0074.jpg',),\n",
       " tensor([3]))"
      ]
     },
     "execution_count": 21,
     "metadata": {},
     "output_type": "execute_result"
    },
    {
     "data": {
      "text/plain": [
       "(('/home/tzortzis/Data/IRI-CATs-light/real_data/long_tasks/cropped_robotic/test/orange/no_release_orange/robotic_no_release_orange_0075.jpg',),\n",
       " tensor([3]))"
      ]
     },
     "execution_count": 21,
     "metadata": {},
     "output_type": "execute_result"
    },
    {
     "data": {
      "text/plain": [
       "(('/home/tzortzis/Data/IRI-CATs-light/real_data/long_tasks/cropped_robotic/test/orange/no_release_orange/robotic_no_release_orange_0076.jpg',),\n",
       " tensor([3]))"
      ]
     },
     "execution_count": 21,
     "metadata": {},
     "output_type": "execute_result"
    },
    {
     "data": {
      "text/plain": [
       "(('/home/tzortzis/Data/IRI-CATs-light/real_data/long_tasks/cropped_robotic/test/orange/no_release_orange/robotic_no_release_orange_0077.jpg',),\n",
       " tensor([3]))"
      ]
     },
     "execution_count": 21,
     "metadata": {},
     "output_type": "execute_result"
    },
    {
     "data": {
      "text/plain": [
       "(('/home/tzortzis/Data/IRI-CATs-light/real_data/long_tasks/cropped_robotic/test/orange/no_release_orange/robotic_no_release_orange_0078.jpg',),\n",
       " tensor([3]))"
      ]
     },
     "execution_count": 21,
     "metadata": {},
     "output_type": "execute_result"
    },
    {
     "data": {
      "text/plain": [
       "(('/home/tzortzis/Data/IRI-CATs-light/real_data/long_tasks/cropped_robotic/test/orange/no_release_orange/robotic_no_release_orange_0079.jpg',),\n",
       " tensor([3]))"
      ]
     },
     "execution_count": 21,
     "metadata": {},
     "output_type": "execute_result"
    },
    {
     "data": {
      "text/plain": [
       "(('/home/tzortzis/Data/IRI-CATs-light/real_data/long_tasks/cropped_robotic/test/orange/no_release_orange/robotic_no_release_orange_0080.jpg',),\n",
       " tensor([3]))"
      ]
     },
     "execution_count": 21,
     "metadata": {},
     "output_type": "execute_result"
    },
    {
     "data": {
      "text/plain": [
       "(('/home/tzortzis/Data/IRI-CATs-light/real_data/long_tasks/cropped_robotic/test/orange/no_release_orange/robotic_no_release_orange_0081.jpg',),\n",
       " tensor([3]))"
      ]
     },
     "execution_count": 21,
     "metadata": {},
     "output_type": "execute_result"
    },
    {
     "data": {
      "text/plain": [
       "(('/home/tzortzis/Data/IRI-CATs-light/real_data/long_tasks/cropped_robotic/test/orange/no_release_orange/robotic_no_release_orange_0082.jpg',),\n",
       " tensor([3]))"
      ]
     },
     "execution_count": 21,
     "metadata": {},
     "output_type": "execute_result"
    },
    {
     "data": {
      "text/plain": [
       "(('/home/tzortzis/Data/IRI-CATs-light/real_data/long_tasks/cropped_robotic/test/orange/no_release_orange/robotic_no_release_orange_0083.jpg',),\n",
       " tensor([3]))"
      ]
     },
     "execution_count": 21,
     "metadata": {},
     "output_type": "execute_result"
    },
    {
     "data": {
      "text/plain": [
       "(('/home/tzortzis/Data/IRI-CATs-light/real_data/long_tasks/cropped_robotic/test/orange/no_release_orange/robotic_no_release_orange_0084.jpg',),\n",
       " tensor([3]))"
      ]
     },
     "execution_count": 21,
     "metadata": {},
     "output_type": "execute_result"
    },
    {
     "data": {
      "text/plain": [
       "(('/home/tzortzis/Data/IRI-CATs-light/real_data/long_tasks/cropped_robotic/test/orange/no_release_orange/robotic_no_release_orange_0085.jpg',),\n",
       " tensor([3]))"
      ]
     },
     "execution_count": 21,
     "metadata": {},
     "output_type": "execute_result"
    },
    {
     "data": {
      "text/plain": [
       "(('/home/tzortzis/Data/IRI-CATs-light/real_data/long_tasks/cropped_robotic/test/orange/no_release_orange/robotic_no_release_orange_0086.jpg',),\n",
       " tensor([3]))"
      ]
     },
     "execution_count": 21,
     "metadata": {},
     "output_type": "execute_result"
    },
    {
     "data": {
      "text/plain": [
       "(('/home/tzortzis/Data/IRI-CATs-light/real_data/long_tasks/cropped_robotic/test/orange/no_release_orange/robotic_no_release_orange_0087.jpg',),\n",
       " tensor([3]))"
      ]
     },
     "execution_count": 21,
     "metadata": {},
     "output_type": "execute_result"
    },
    {
     "data": {
      "text/plain": [
       "(('/home/tzortzis/Data/IRI-CATs-light/real_data/long_tasks/cropped_robotic/test/orange/no_release_orange/robotic_no_release_orange_0088.jpg',),\n",
       " tensor([3]))"
      ]
     },
     "execution_count": 21,
     "metadata": {},
     "output_type": "execute_result"
    },
    {
     "data": {
      "text/plain": [
       "(('/home/tzortzis/Data/IRI-CATs-light/real_data/long_tasks/cropped_robotic/test/orange/no_release_orange/robotic_no_release_orange_0089.jpg',),\n",
       " tensor([3]))"
      ]
     },
     "execution_count": 21,
     "metadata": {},
     "output_type": "execute_result"
    },
    {
     "data": {
      "text/plain": [
       "(('/home/tzortzis/Data/IRI-CATs-light/real_data/long_tasks/cropped_robotic/test/orange/no_release_orange/robotic_no_release_orange_0090.jpg',),\n",
       " tensor([3]))"
      ]
     },
     "execution_count": 21,
     "metadata": {},
     "output_type": "execute_result"
    },
    {
     "data": {
      "text/plain": [
       "(('/home/tzortzis/Data/IRI-CATs-light/real_data/long_tasks/cropped_robotic/test/orange/no_release_orange/robotic_no_release_orange_0091.jpg',),\n",
       " tensor([3]))"
      ]
     },
     "execution_count": 21,
     "metadata": {},
     "output_type": "execute_result"
    },
    {
     "data": {
      "text/plain": [
       "(('/home/tzortzis/Data/IRI-CATs-light/real_data/long_tasks/cropped_robotic/test/orange/no_release_orange/robotic_no_release_orange_0092.jpg',),\n",
       " tensor([3]))"
      ]
     },
     "execution_count": 21,
     "metadata": {},
     "output_type": "execute_result"
    },
    {
     "data": {
      "text/plain": [
       "(('/home/tzortzis/Data/IRI-CATs-light/real_data/long_tasks/cropped_robotic/test/orange/no_release_orange/robotic_no_release_orange_0093.jpg',),\n",
       " tensor([3]))"
      ]
     },
     "execution_count": 21,
     "metadata": {},
     "output_type": "execute_result"
    },
    {
     "data": {
      "text/plain": [
       "(('/home/tzortzis/Data/IRI-CATs-light/real_data/long_tasks/cropped_robotic/test/orange/no_release_orange/robotic_no_release_orange_0094.jpg',),\n",
       " tensor([3]))"
      ]
     },
     "execution_count": 21,
     "metadata": {},
     "output_type": "execute_result"
    },
    {
     "data": {
      "text/plain": [
       "(('/home/tzortzis/Data/IRI-CATs-light/real_data/long_tasks/cropped_robotic/test/orange/no_release_orange/robotic_no_release_orange_0095.jpg',),\n",
       " tensor([3]))"
      ]
     },
     "execution_count": 21,
     "metadata": {},
     "output_type": "execute_result"
    },
    {
     "data": {
      "text/plain": [
       "(('/home/tzortzis/Data/IRI-CATs-light/real_data/long_tasks/cropped_robotic/test/orange/no_release_orange/robotic_no_release_orange_0096.jpg',),\n",
       " tensor([3]))"
      ]
     },
     "execution_count": 21,
     "metadata": {},
     "output_type": "execute_result"
    },
    {
     "data": {
      "text/plain": [
       "(('/home/tzortzis/Data/IRI-CATs-light/real_data/long_tasks/cropped_robotic/test/orange/no_release_orange/robotic_no_release_orange_0097.jpg',),\n",
       " tensor([3]))"
      ]
     },
     "execution_count": 21,
     "metadata": {},
     "output_type": "execute_result"
    },
    {
     "data": {
      "text/plain": [
       "(('/home/tzortzis/Data/IRI-CATs-light/real_data/long_tasks/cropped_robotic/test/orange/no_release_orange/robotic_no_release_orange_0098.jpg',),\n",
       " tensor([3]))"
      ]
     },
     "execution_count": 21,
     "metadata": {},
     "output_type": "execute_result"
    },
    {
     "data": {
      "text/plain": [
       "(('/home/tzortzis/Data/IRI-CATs-light/real_data/long_tasks/cropped_robotic/test/orange/no_release_orange/robotic_no_release_orange_0099.jpg',),\n",
       " tensor([3]))"
      ]
     },
     "execution_count": 21,
     "metadata": {},
     "output_type": "execute_result"
    },
    {
     "data": {
      "text/plain": [
       "(('/home/tzortzis/Data/IRI-CATs-light/real_data/long_tasks/cropped_robotic/test/orange/no_release_orange/robotic_no_release_orange_0100.jpg',),\n",
       " tensor([3]))"
      ]
     },
     "execution_count": 21,
     "metadata": {},
     "output_type": "execute_result"
    },
    {
     "data": {
      "text/plain": [
       "(('/home/tzortzis/Data/IRI-CATs-light/real_data/long_tasks/cropped_robotic/test/orange/no_release_orange/robotic_no_release_orange_0101.jpg',),\n",
       " tensor([3]))"
      ]
     },
     "execution_count": 21,
     "metadata": {},
     "output_type": "execute_result"
    },
    {
     "data": {
      "text/plain": [
       "(('/home/tzortzis/Data/IRI-CATs-light/real_data/long_tasks/cropped_robotic/test/orange/no_release_orange/robotic_no_release_orange_0102.jpg',),\n",
       " tensor([3]))"
      ]
     },
     "execution_count": 21,
     "metadata": {},
     "output_type": "execute_result"
    },
    {
     "data": {
      "text/plain": [
       "(('/home/tzortzis/Data/IRI-CATs-light/real_data/long_tasks/cropped_robotic/test/orange/no_release_orange/robotic_no_release_orange_0103.jpg',),\n",
       " tensor([3]))"
      ]
     },
     "execution_count": 21,
     "metadata": {},
     "output_type": "execute_result"
    },
    {
     "data": {
      "text/plain": [
       "(('/home/tzortzis/Data/IRI-CATs-light/real_data/long_tasks/cropped_robotic/test/orange/no_release_orange/robotic_no_release_orange_0104.jpg',),\n",
       " tensor([3]))"
      ]
     },
     "execution_count": 21,
     "metadata": {},
     "output_type": "execute_result"
    },
    {
     "data": {
      "text/plain": [
       "(('/home/tzortzis/Data/IRI-CATs-light/real_data/long_tasks/cropped_robotic/test/orange/no_release_orange/robotic_no_release_orange_0105.jpg',),\n",
       " tensor([3]))"
      ]
     },
     "execution_count": 21,
     "metadata": {},
     "output_type": "execute_result"
    },
    {
     "data": {
      "text/plain": [
       "(('/home/tzortzis/Data/IRI-CATs-light/real_data/long_tasks/cropped_robotic/test/orange/no_release_orange/robotic_no_release_orange_0106.jpg',),\n",
       " tensor([3]))"
      ]
     },
     "execution_count": 21,
     "metadata": {},
     "output_type": "execute_result"
    },
    {
     "data": {
      "text/plain": [
       "(('/home/tzortzis/Data/IRI-CATs-light/real_data/long_tasks/cropped_robotic/test/orange/no_release_orange/robotic_no_release_orange_0107.jpg',),\n",
       " tensor([3]))"
      ]
     },
     "execution_count": 21,
     "metadata": {},
     "output_type": "execute_result"
    },
    {
     "data": {
      "text/plain": [
       "(('/home/tzortzis/Data/IRI-CATs-light/real_data/long_tasks/cropped_robotic/test/orange/no_release_orange/robotic_no_release_orange_0108.jpg',),\n",
       " tensor([3]))"
      ]
     },
     "execution_count": 21,
     "metadata": {},
     "output_type": "execute_result"
    },
    {
     "data": {
      "text/plain": [
       "(('/home/tzortzis/Data/IRI-CATs-light/real_data/long_tasks/cropped_robotic/test/orange/no_release_orange/robotic_no_release_orange_0109.jpg',),\n",
       " tensor([3]))"
      ]
     },
     "execution_count": 21,
     "metadata": {},
     "output_type": "execute_result"
    },
    {
     "data": {
      "text/plain": [
       "(('/home/tzortzis/Data/IRI-CATs-light/real_data/long_tasks/cropped_robotic/test/orange/no_release_orange/robotic_no_release_orange_0110.jpg',),\n",
       " tensor([3]))"
      ]
     },
     "execution_count": 21,
     "metadata": {},
     "output_type": "execute_result"
    },
    {
     "data": {
      "text/plain": [
       "(('/home/tzortzis/Data/IRI-CATs-light/real_data/long_tasks/cropped_robotic/test/orange/no_release_orange/robotic_no_release_orange_0111.jpg',),\n",
       " tensor([3]))"
      ]
     },
     "execution_count": 21,
     "metadata": {},
     "output_type": "execute_result"
    },
    {
     "data": {
      "text/plain": [
       "(('/home/tzortzis/Data/IRI-CATs-light/real_data/long_tasks/cropped_robotic/test/orange/no_release_orange/robotic_no_release_orange_0112.jpg',),\n",
       " tensor([3]))"
      ]
     },
     "execution_count": 21,
     "metadata": {},
     "output_type": "execute_result"
    },
    {
     "data": {
      "text/plain": [
       "(('/home/tzortzis/Data/IRI-CATs-light/real_data/long_tasks/cropped_robotic/test/orange/no_release_orange/robotic_no_release_orange_0113.jpg',),\n",
       " tensor([3]))"
      ]
     },
     "execution_count": 21,
     "metadata": {},
     "output_type": "execute_result"
    },
    {
     "data": {
      "text/plain": [
       "(('/home/tzortzis/Data/IRI-CATs-light/real_data/long_tasks/cropped_robotic/test/orange/no_release_orange/robotic_no_release_orange_0114.jpg',),\n",
       " tensor([3]))"
      ]
     },
     "execution_count": 21,
     "metadata": {},
     "output_type": "execute_result"
    },
    {
     "data": {
      "text/plain": [
       "(('/home/tzortzis/Data/IRI-CATs-light/real_data/long_tasks/cropped_robotic/test/orange/no_release_orange/robotic_no_release_orange_0115.jpg',),\n",
       " tensor([3]))"
      ]
     },
     "execution_count": 21,
     "metadata": {},
     "output_type": "execute_result"
    },
    {
     "data": {
      "text/plain": [
       "(('/home/tzortzis/Data/IRI-CATs-light/real_data/long_tasks/cropped_robotic/test/orange/no_release_orange/robotic_no_release_orange_0116.jpg',),\n",
       " tensor([3]))"
      ]
     },
     "execution_count": 21,
     "metadata": {},
     "output_type": "execute_result"
    },
    {
     "data": {
      "text/plain": [
       "(('/home/tzortzis/Data/IRI-CATs-light/real_data/long_tasks/cropped_robotic/test/orange/no_release_orange/robotic_no_release_orange_0117.jpg',),\n",
       " tensor([3]))"
      ]
     },
     "execution_count": 21,
     "metadata": {},
     "output_type": "execute_result"
    },
    {
     "data": {
      "text/plain": [
       "(('/home/tzortzis/Data/IRI-CATs-light/real_data/long_tasks/cropped_robotic/test/orange/no_release_orange/robotic_no_release_orange_0118.jpg',),\n",
       " tensor([3]))"
      ]
     },
     "execution_count": 21,
     "metadata": {},
     "output_type": "execute_result"
    },
    {
     "data": {
      "text/plain": [
       "(('/home/tzortzis/Data/IRI-CATs-light/real_data/long_tasks/cropped_robotic/test/orange/no_release_orange/robotic_no_release_orange_0119.jpg',),\n",
       " tensor([3]))"
      ]
     },
     "execution_count": 21,
     "metadata": {},
     "output_type": "execute_result"
    },
    {
     "data": {
      "text/plain": [
       "(('/home/tzortzis/Data/IRI-CATs-light/real_data/long_tasks/cropped_robotic/test/orange/no_release_orange/robotic_no_release_orange_0120.jpg',),\n",
       " tensor([3]))"
      ]
     },
     "execution_count": 21,
     "metadata": {},
     "output_type": "execute_result"
    },
    {
     "data": {
      "text/plain": [
       "(('/home/tzortzis/Data/IRI-CATs-light/real_data/long_tasks/cropped_robotic/test/orange/no_release_orange/robotic_no_release_orange_0121.jpg',),\n",
       " tensor([3]))"
      ]
     },
     "execution_count": 21,
     "metadata": {},
     "output_type": "execute_result"
    },
    {
     "data": {
      "text/plain": [
       "(('/home/tzortzis/Data/IRI-CATs-light/real_data/long_tasks/cropped_robotic/test/orange/no_release_orange/robotic_no_release_orange_0122.jpg',),\n",
       " tensor([3]))"
      ]
     },
     "execution_count": 21,
     "metadata": {},
     "output_type": "execute_result"
    },
    {
     "data": {
      "text/plain": [
       "(('/home/tzortzis/Data/IRI-CATs-light/real_data/long_tasks/cropped_robotic/test/orange/no_release_orange/robotic_no_release_orange_0123.jpg',),\n",
       " tensor([3]))"
      ]
     },
     "execution_count": 21,
     "metadata": {},
     "output_type": "execute_result"
    },
    {
     "data": {
      "text/plain": [
       "(('/home/tzortzis/Data/IRI-CATs-light/real_data/long_tasks/cropped_robotic/test/orange/no_release_orange/robotic_no_release_orange_0124.jpg',),\n",
       " tensor([3]))"
      ]
     },
     "execution_count": 21,
     "metadata": {},
     "output_type": "execute_result"
    },
    {
     "data": {
      "text/plain": [
       "(('/home/tzortzis/Data/IRI-CATs-light/real_data/long_tasks/cropped_robotic/test/orange/no_release_orange/robotic_no_release_orange_0125.jpg',),\n",
       " tensor([3]))"
      ]
     },
     "execution_count": 21,
     "metadata": {},
     "output_type": "execute_result"
    },
    {
     "data": {
      "text/plain": [
       "(('/home/tzortzis/Data/IRI-CATs-light/real_data/long_tasks/cropped_robotic/test/orange/no_release_orange/robotic_no_release_orange_0126.jpg',),\n",
       " tensor([3]))"
      ]
     },
     "execution_count": 21,
     "metadata": {},
     "output_type": "execute_result"
    },
    {
     "data": {
      "text/plain": [
       "(('/home/tzortzis/Data/IRI-CATs-light/real_data/long_tasks/cropped_robotic/test/orange/no_release_orange/robotic_no_release_orange_0127.jpg',),\n",
       " tensor([1]))"
      ]
     },
     "execution_count": 21,
     "metadata": {},
     "output_type": "execute_result"
    },
    {
     "data": {
      "text/plain": [
       "(('/home/tzortzis/Data/IRI-CATs-light/real_data/long_tasks/cropped_robotic/test/orange/no_release_orange/robotic_no_release_orange_0128.jpg',),\n",
       " tensor([1]))"
      ]
     },
     "execution_count": 21,
     "metadata": {},
     "output_type": "execute_result"
    },
    {
     "data": {
      "text/plain": [
       "(('/home/tzortzis/Data/IRI-CATs-light/real_data/long_tasks/cropped_robotic/test/orange/no_release_orange/robotic_no_release_orange_0129.jpg',),\n",
       " tensor([1]))"
      ]
     },
     "execution_count": 21,
     "metadata": {},
     "output_type": "execute_result"
    },
    {
     "data": {
      "text/plain": [
       "(('/home/tzortzis/Data/IRI-CATs-light/real_data/long_tasks/cropped_robotic/test/orange/no_release_orange/robotic_no_release_orange_0130.jpg',),\n",
       " tensor([1]))"
      ]
     },
     "execution_count": 21,
     "metadata": {},
     "output_type": "execute_result"
    },
    {
     "data": {
      "text/plain": [
       "(('/home/tzortzis/Data/IRI-CATs-light/real_data/long_tasks/cropped_robotic/test/orange/no_release_orange/robotic_no_release_orange_0131.jpg',),\n",
       " tensor([1]))"
      ]
     },
     "execution_count": 21,
     "metadata": {},
     "output_type": "execute_result"
    },
    {
     "data": {
      "text/plain": [
       "(('/home/tzortzis/Data/IRI-CATs-light/real_data/long_tasks/cropped_robotic/test/orange/no_release_orange/robotic_no_release_orange_0132.jpg',),\n",
       " tensor([1]))"
      ]
     },
     "execution_count": 21,
     "metadata": {},
     "output_type": "execute_result"
    },
    {
     "data": {
      "text/plain": [
       "(('/home/tzortzis/Data/IRI-CATs-light/real_data/long_tasks/cropped_robotic/test/orange/no_release_orange/robotic_no_release_orange_0133.jpg',),\n",
       " tensor([1]))"
      ]
     },
     "execution_count": 21,
     "metadata": {},
     "output_type": "execute_result"
    },
    {
     "data": {
      "text/plain": [
       "(('/home/tzortzis/Data/IRI-CATs-light/real_data/long_tasks/cropped_robotic/test/orange/no_release_orange/robotic_no_release_orange_0134.jpg',),\n",
       " tensor([1]))"
      ]
     },
     "execution_count": 21,
     "metadata": {},
     "output_type": "execute_result"
    },
    {
     "data": {
      "text/plain": [
       "(('/home/tzortzis/Data/IRI-CATs-light/real_data/long_tasks/cropped_robotic/test/orange/no_release_orange/robotic_no_release_orange_0135.jpg',),\n",
       " tensor([1]))"
      ]
     },
     "execution_count": 21,
     "metadata": {},
     "output_type": "execute_result"
    },
    {
     "data": {
      "text/plain": [
       "(('/home/tzortzis/Data/IRI-CATs-light/real_data/long_tasks/cropped_robotic/test/orange/no_release_orange/robotic_no_release_orange_0136.jpg',),\n",
       " tensor([1]))"
      ]
     },
     "execution_count": 21,
     "metadata": {},
     "output_type": "execute_result"
    },
    {
     "data": {
      "text/plain": [
       "(('/home/tzortzis/Data/IRI-CATs-light/real_data/long_tasks/cropped_robotic/test/orange/no_release_orange/robotic_no_release_orange_0137.jpg',),\n",
       " tensor([1]))"
      ]
     },
     "execution_count": 21,
     "metadata": {},
     "output_type": "execute_result"
    },
    {
     "data": {
      "text/plain": [
       "(('/home/tzortzis/Data/IRI-CATs-light/real_data/long_tasks/cropped_robotic/test/orange/no_release_orange/robotic_no_release_orange_0138.jpg',),\n",
       " tensor([1]))"
      ]
     },
     "execution_count": 21,
     "metadata": {},
     "output_type": "execute_result"
    },
    {
     "data": {
      "text/plain": [
       "(('/home/tzortzis/Data/IRI-CATs-light/real_data/long_tasks/cropped_robotic/test/orange/no_release_orange/robotic_no_release_orange_0139.jpg',),\n",
       " tensor([1]))"
      ]
     },
     "execution_count": 21,
     "metadata": {},
     "output_type": "execute_result"
    },
    {
     "data": {
      "text/plain": [
       "(('/home/tzortzis/Data/IRI-CATs-light/real_data/long_tasks/cropped_robotic/test/orange/no_release_orange/robotic_no_release_orange_0140.jpg',),\n",
       " tensor([1]))"
      ]
     },
     "execution_count": 21,
     "metadata": {},
     "output_type": "execute_result"
    },
    {
     "data": {
      "text/plain": [
       "(('/home/tzortzis/Data/IRI-CATs-light/real_data/long_tasks/cropped_robotic/test/orange/no_release_orange/robotic_no_release_orange_0141.jpg',),\n",
       " tensor([1]))"
      ]
     },
     "execution_count": 21,
     "metadata": {},
     "output_type": "execute_result"
    },
    {
     "data": {
      "text/plain": [
       "(('/home/tzortzis/Data/IRI-CATs-light/real_data/long_tasks/cropped_robotic/test/orange/no_release_orange/robotic_no_release_orange_0142.jpg',),\n",
       " tensor([1]))"
      ]
     },
     "execution_count": 21,
     "metadata": {},
     "output_type": "execute_result"
    },
    {
     "data": {
      "text/plain": [
       "(('/home/tzortzis/Data/IRI-CATs-light/real_data/long_tasks/cropped_robotic/test/orange/no_release_orange/robotic_no_release_orange_0143.jpg',),\n",
       " tensor([1]))"
      ]
     },
     "execution_count": 21,
     "metadata": {},
     "output_type": "execute_result"
    },
    {
     "data": {
      "text/plain": [
       "(('/home/tzortzis/Data/IRI-CATs-light/real_data/long_tasks/cropped_robotic/test/orange/no_release_orange/robotic_no_release_orange_0144.jpg',),\n",
       " tensor([1]))"
      ]
     },
     "execution_count": 21,
     "metadata": {},
     "output_type": "execute_result"
    },
    {
     "data": {
      "text/plain": [
       "(('/home/tzortzis/Data/IRI-CATs-light/real_data/long_tasks/cropped_robotic/test/orange/no_release_orange/robotic_no_release_orange_0145.jpg',),\n",
       " tensor([1]))"
      ]
     },
     "execution_count": 21,
     "metadata": {},
     "output_type": "execute_result"
    },
    {
     "data": {
      "text/plain": [
       "(('/home/tzortzis/Data/IRI-CATs-light/real_data/long_tasks/cropped_robotic/test/orange/no_release_orange/robotic_no_release_orange_0146.jpg',),\n",
       " tensor([1]))"
      ]
     },
     "execution_count": 21,
     "metadata": {},
     "output_type": "execute_result"
    },
    {
     "data": {
      "text/plain": [
       "(('/home/tzortzis/Data/IRI-CATs-light/real_data/long_tasks/cropped_robotic/test/orange/no_release_orange/robotic_no_release_orange_0147.jpg',),\n",
       " tensor([1]))"
      ]
     },
     "execution_count": 21,
     "metadata": {},
     "output_type": "execute_result"
    },
    {
     "data": {
      "text/plain": [
       "(('/home/tzortzis/Data/IRI-CATs-light/real_data/long_tasks/cropped_robotic/test/orange/no_release_orange/robotic_no_release_orange_0148.jpg',),\n",
       " tensor([1]))"
      ]
     },
     "execution_count": 21,
     "metadata": {},
     "output_type": "execute_result"
    },
    {
     "data": {
      "text/plain": [
       "(('/home/tzortzis/Data/IRI-CATs-light/real_data/long_tasks/cropped_robotic/test/orange/no_release_orange/robotic_no_release_orange_0149.jpg',),\n",
       " tensor([1]))"
      ]
     },
     "execution_count": 21,
     "metadata": {},
     "output_type": "execute_result"
    },
    {
     "data": {
      "text/plain": [
       "(('/home/tzortzis/Data/IRI-CATs-light/real_data/long_tasks/cropped_robotic/test/orange/no_release_orange/robotic_no_release_orange_0150.jpg',),\n",
       " tensor([1]))"
      ]
     },
     "execution_count": 21,
     "metadata": {},
     "output_type": "execute_result"
    },
    {
     "data": {
      "text/plain": [
       "(('/home/tzortzis/Data/IRI-CATs-light/real_data/long_tasks/cropped_robotic/test/orange/no_release_orange/robotic_no_release_orange_0151.jpg',),\n",
       " tensor([1]))"
      ]
     },
     "execution_count": 21,
     "metadata": {},
     "output_type": "execute_result"
    },
    {
     "data": {
      "text/plain": [
       "(('/home/tzortzis/Data/IRI-CATs-light/real_data/long_tasks/cropped_robotic/test/orange/no_release_orange/robotic_no_release_orange_0152.jpg',),\n",
       " tensor([1]))"
      ]
     },
     "execution_count": 21,
     "metadata": {},
     "output_type": "execute_result"
    },
    {
     "data": {
      "text/plain": [
       "(('/home/tzortzis/Data/IRI-CATs-light/real_data/long_tasks/cropped_robotic/test/orange/no_release_orange/robotic_no_release_orange_0153.jpg',),\n",
       " tensor([1]))"
      ]
     },
     "execution_count": 21,
     "metadata": {},
     "output_type": "execute_result"
    },
    {
     "data": {
      "text/plain": [
       "(('/home/tzortzis/Data/IRI-CATs-light/real_data/long_tasks/cropped_robotic/test/orange/no_release_orange/robotic_no_release_orange_0154.jpg',),\n",
       " tensor([1]))"
      ]
     },
     "execution_count": 21,
     "metadata": {},
     "output_type": "execute_result"
    },
    {
     "data": {
      "text/plain": [
       "(('/home/tzortzis/Data/IRI-CATs-light/real_data/long_tasks/cropped_robotic/test/orange/no_release_orange/robotic_no_release_orange_0155.jpg',),\n",
       " tensor([1]))"
      ]
     },
     "execution_count": 21,
     "metadata": {},
     "output_type": "execute_result"
    },
    {
     "data": {
      "text/plain": [
       "(('/home/tzortzis/Data/IRI-CATs-light/real_data/long_tasks/cropped_robotic/test/orange/no_release_orange/robotic_no_release_orange_0156.jpg',),\n",
       " tensor([1]))"
      ]
     },
     "execution_count": 21,
     "metadata": {},
     "output_type": "execute_result"
    },
    {
     "data": {
      "text/plain": [
       "(('/home/tzortzis/Data/IRI-CATs-light/real_data/long_tasks/cropped_robotic/test/orange/no_release_orange/robotic_no_release_orange_0157.jpg',),\n",
       " tensor([1]))"
      ]
     },
     "execution_count": 21,
     "metadata": {},
     "output_type": "execute_result"
    },
    {
     "data": {
      "text/plain": [
       "(('/home/tzortzis/Data/IRI-CATs-light/real_data/long_tasks/cropped_robotic/test/orange/no_release_orange/robotic_no_release_orange_0158.jpg',),\n",
       " tensor([1]))"
      ]
     },
     "execution_count": 21,
     "metadata": {},
     "output_type": "execute_result"
    },
    {
     "data": {
      "text/plain": [
       "(('/home/tzortzis/Data/IRI-CATs-light/real_data/long_tasks/cropped_robotic/test/orange/no_release_orange/robotic_no_release_orange_0159.jpg',),\n",
       " tensor([1]))"
      ]
     },
     "execution_count": 21,
     "metadata": {},
     "output_type": "execute_result"
    },
    {
     "data": {
      "text/plain": [
       "(('/home/tzortzis/Data/IRI-CATs-light/real_data/long_tasks/cropped_robotic/test/orange/no_release_orange/robotic_no_release_orange_0160.jpg',),\n",
       " tensor([1]))"
      ]
     },
     "execution_count": 21,
     "metadata": {},
     "output_type": "execute_result"
    },
    {
     "data": {
      "text/plain": [
       "(('/home/tzortzis/Data/IRI-CATs-light/real_data/long_tasks/cropped_robotic/test/orange/no_release_orange/robotic_no_release_orange_0161.jpg',),\n",
       " tensor([1]))"
      ]
     },
     "execution_count": 21,
     "metadata": {},
     "output_type": "execute_result"
    },
    {
     "data": {
      "text/plain": [
       "(('/home/tzortzis/Data/IRI-CATs-light/real_data/long_tasks/cropped_robotic/test/orange/no_release_orange/robotic_no_release_orange_0162.jpg',),\n",
       " tensor([1]))"
      ]
     },
     "execution_count": 21,
     "metadata": {},
     "output_type": "execute_result"
    },
    {
     "data": {
      "text/plain": [
       "(('/home/tzortzis/Data/IRI-CATs-light/real_data/long_tasks/cropped_robotic/test/orange/no_release_orange/robotic_no_release_orange_0163.jpg',),\n",
       " tensor([1]))"
      ]
     },
     "execution_count": 21,
     "metadata": {},
     "output_type": "execute_result"
    },
    {
     "data": {
      "text/plain": [
       "(('/home/tzortzis/Data/IRI-CATs-light/real_data/long_tasks/cropped_robotic/test/orange/no_release_orange/robotic_no_release_orange_0164.jpg',),\n",
       " tensor([1]))"
      ]
     },
     "execution_count": 21,
     "metadata": {},
     "output_type": "execute_result"
    },
    {
     "data": {
      "text/plain": [
       "(('/home/tzortzis/Data/IRI-CATs-light/real_data/long_tasks/cropped_robotic/test/orange/no_release_orange/robotic_no_release_orange_0165.jpg',),\n",
       " tensor([1]))"
      ]
     },
     "execution_count": 21,
     "metadata": {},
     "output_type": "execute_result"
    },
    {
     "data": {
      "text/plain": [
       "(('/home/tzortzis/Data/IRI-CATs-light/real_data/long_tasks/cropped_robotic/test/orange/no_release_orange/robotic_no_release_orange_0166.jpg',),\n",
       " tensor([1]))"
      ]
     },
     "execution_count": 21,
     "metadata": {},
     "output_type": "execute_result"
    },
    {
     "data": {
      "text/plain": [
       "(('/home/tzortzis/Data/IRI-CATs-light/real_data/long_tasks/cropped_robotic/test/orange/no_release_orange/robotic_no_release_orange_0167.jpg',),\n",
       " tensor([1]))"
      ]
     },
     "execution_count": 21,
     "metadata": {},
     "output_type": "execute_result"
    },
    {
     "data": {
      "text/plain": [
       "(('/home/tzortzis/Data/IRI-CATs-light/real_data/long_tasks/cropped_robotic/test/orange/no_release_orange/robotic_no_release_orange_0168.jpg',),\n",
       " tensor([1]))"
      ]
     },
     "execution_count": 21,
     "metadata": {},
     "output_type": "execute_result"
    },
    {
     "data": {
      "text/plain": [
       "(('/home/tzortzis/Data/IRI-CATs-light/real_data/long_tasks/cropped_robotic/test/orange/no_release_orange/robotic_no_release_orange_0169.jpg',),\n",
       " tensor([1]))"
      ]
     },
     "execution_count": 21,
     "metadata": {},
     "output_type": "execute_result"
    },
    {
     "data": {
      "text/plain": [
       "(('/home/tzortzis/Data/IRI-CATs-light/real_data/long_tasks/cropped_robotic/test/orange/no_release_orange/robotic_no_release_orange_0170.jpg',),\n",
       " tensor([1]))"
      ]
     },
     "execution_count": 21,
     "metadata": {},
     "output_type": "execute_result"
    },
    {
     "data": {
      "text/plain": [
       "(('/home/tzortzis/Data/IRI-CATs-light/real_data/long_tasks/cropped_robotic/test/orange/no_release_orange/robotic_no_release_orange_0171.jpg',),\n",
       " tensor([1]))"
      ]
     },
     "execution_count": 21,
     "metadata": {},
     "output_type": "execute_result"
    },
    {
     "data": {
      "text/plain": [
       "(('/home/tzortzis/Data/IRI-CATs-light/real_data/long_tasks/cropped_robotic/test/orange/no_release_orange/robotic_no_release_orange_0172.jpg',),\n",
       " tensor([1]))"
      ]
     },
     "execution_count": 21,
     "metadata": {},
     "output_type": "execute_result"
    },
    {
     "data": {
      "text/plain": [
       "(('/home/tzortzis/Data/IRI-CATs-light/real_data/long_tasks/cropped_robotic/test/orange/no_release_orange/robotic_no_release_orange_0173.jpg',),\n",
       " tensor([1]))"
      ]
     },
     "execution_count": 21,
     "metadata": {},
     "output_type": "execute_result"
    },
    {
     "data": {
      "text/plain": [
       "(('/home/tzortzis/Data/IRI-CATs-light/real_data/long_tasks/cropped_robotic/test/orange/no_release_orange/robotic_no_release_orange_0174.jpg',),\n",
       " tensor([1]))"
      ]
     },
     "execution_count": 21,
     "metadata": {},
     "output_type": "execute_result"
    },
    {
     "data": {
      "text/plain": [
       "(('/home/tzortzis/Data/IRI-CATs-light/real_data/long_tasks/cropped_robotic/test/orange/no_release_orange/robotic_no_release_orange_0175.jpg',),\n",
       " tensor([1]))"
      ]
     },
     "execution_count": 21,
     "metadata": {},
     "output_type": "execute_result"
    },
    {
     "data": {
      "text/plain": [
       "(('/home/tzortzis/Data/IRI-CATs-light/real_data/long_tasks/cropped_robotic/test/orange/no_release_orange/robotic_no_release_orange_0176.jpg',),\n",
       " tensor([1]))"
      ]
     },
     "execution_count": 21,
     "metadata": {},
     "output_type": "execute_result"
    },
    {
     "data": {
      "text/plain": [
       "(('/home/tzortzis/Data/IRI-CATs-light/real_data/long_tasks/cropped_robotic/test/orange/no_release_orange/robotic_no_release_orange_0177.jpg',),\n",
       " tensor([1]))"
      ]
     },
     "execution_count": 21,
     "metadata": {},
     "output_type": "execute_result"
    },
    {
     "data": {
      "text/plain": [
       "(('/home/tzortzis/Data/IRI-CATs-light/real_data/long_tasks/cropped_robotic/test/orange/no_release_orange/robotic_no_release_orange_0178.jpg',),\n",
       " tensor([1]))"
      ]
     },
     "execution_count": 21,
     "metadata": {},
     "output_type": "execute_result"
    },
    {
     "data": {
      "text/plain": [
       "(('/home/tzortzis/Data/IRI-CATs-light/real_data/long_tasks/cropped_robotic/test/orange/no_release_orange/robotic_no_release_orange_0179.jpg',),\n",
       " tensor([1]))"
      ]
     },
     "execution_count": 21,
     "metadata": {},
     "output_type": "execute_result"
    },
    {
     "data": {
      "text/plain": [
       "(('/home/tzortzis/Data/IRI-CATs-light/real_data/long_tasks/cropped_robotic/test/orange/no_release_orange/robotic_no_release_orange_0180.jpg',),\n",
       " tensor([1]))"
      ]
     },
     "execution_count": 21,
     "metadata": {},
     "output_type": "execute_result"
    },
    {
     "data": {
      "text/plain": [
       "(('/home/tzortzis/Data/IRI-CATs-light/real_data/long_tasks/cropped_robotic/test/orange/no_release_orange/robotic_no_release_orange_0181.jpg',),\n",
       " tensor([1]))"
      ]
     },
     "execution_count": 21,
     "metadata": {},
     "output_type": "execute_result"
    },
    {
     "data": {
      "text/plain": [
       "(('/home/tzortzis/Data/IRI-CATs-light/real_data/long_tasks/cropped_robotic/test/orange/no_release_orange/robotic_no_release_orange_0182.jpg',),\n",
       " tensor([1]))"
      ]
     },
     "execution_count": 21,
     "metadata": {},
     "output_type": "execute_result"
    },
    {
     "data": {
      "text/plain": [
       "(('/home/tzortzis/Data/IRI-CATs-light/real_data/long_tasks/cropped_robotic/test/orange/no_release_orange/robotic_no_release_orange_0183.jpg',),\n",
       " tensor([1]))"
      ]
     },
     "execution_count": 21,
     "metadata": {},
     "output_type": "execute_result"
    },
    {
     "data": {
      "text/plain": [
       "(('/home/tzortzis/Data/IRI-CATs-light/real_data/long_tasks/cropped_robotic/test/orange/no_release_orange/robotic_no_release_orange_0184.jpg',),\n",
       " tensor([1]))"
      ]
     },
     "execution_count": 21,
     "metadata": {},
     "output_type": "execute_result"
    },
    {
     "data": {
      "text/plain": [
       "(('/home/tzortzis/Data/IRI-CATs-light/real_data/long_tasks/cropped_robotic/test/orange/no_release_orange/robotic_no_release_orange_0185.jpg',),\n",
       " tensor([1]))"
      ]
     },
     "execution_count": 21,
     "metadata": {},
     "output_type": "execute_result"
    },
    {
     "data": {
      "text/plain": [
       "(('/home/tzortzis/Data/IRI-CATs-light/real_data/long_tasks/cropped_robotic/test/orange/no_release_orange/robotic_no_release_orange_0186.jpg',),\n",
       " tensor([1]))"
      ]
     },
     "execution_count": 21,
     "metadata": {},
     "output_type": "execute_result"
    },
    {
     "data": {
      "text/plain": [
       "(('/home/tzortzis/Data/IRI-CATs-light/real_data/long_tasks/cropped_robotic/test/orange/no_release_orange/robotic_no_release_orange_0187.jpg',),\n",
       " tensor([1]))"
      ]
     },
     "execution_count": 21,
     "metadata": {},
     "output_type": "execute_result"
    },
    {
     "data": {
      "text/plain": [
       "(('/home/tzortzis/Data/IRI-CATs-light/real_data/long_tasks/cropped_robotic/test/orange/no_release_orange/robotic_no_release_orange_0188.jpg',),\n",
       " tensor([1]))"
      ]
     },
     "execution_count": 21,
     "metadata": {},
     "output_type": "execute_result"
    },
    {
     "data": {
      "text/plain": [
       "(('/home/tzortzis/Data/IRI-CATs-light/real_data/long_tasks/cropped_robotic/test/orange/no_release_orange/robotic_no_release_orange_0189.jpg',),\n",
       " tensor([1]))"
      ]
     },
     "execution_count": 21,
     "metadata": {},
     "output_type": "execute_result"
    },
    {
     "data": {
      "text/plain": [
       "(('/home/tzortzis/Data/IRI-CATs-light/real_data/long_tasks/cropped_robotic/test/orange/no_release_orange/robotic_no_release_orange_0190.jpg',),\n",
       " tensor([1]))"
      ]
     },
     "execution_count": 21,
     "metadata": {},
     "output_type": "execute_result"
    },
    {
     "data": {
      "text/plain": [
       "(('/home/tzortzis/Data/IRI-CATs-light/real_data/long_tasks/cropped_robotic/test/orange/no_release_orange/robotic_no_release_orange_0191.jpg',),\n",
       " tensor([1]))"
      ]
     },
     "execution_count": 21,
     "metadata": {},
     "output_type": "execute_result"
    },
    {
     "data": {
      "text/plain": [
       "(('/home/tzortzis/Data/IRI-CATs-light/real_data/long_tasks/cropped_robotic/test/orange/no_release_orange/robotic_no_release_orange_0192.jpg',),\n",
       " tensor([1]))"
      ]
     },
     "execution_count": 21,
     "metadata": {},
     "output_type": "execute_result"
    },
    {
     "data": {
      "text/plain": [
       "(('/home/tzortzis/Data/IRI-CATs-light/real_data/long_tasks/cropped_robotic/test/orange/no_release_orange/robotic_no_release_orange_0193.jpg',),\n",
       " tensor([1]))"
      ]
     },
     "execution_count": 21,
     "metadata": {},
     "output_type": "execute_result"
    },
    {
     "data": {
      "text/plain": [
       "(('/home/tzortzis/Data/IRI-CATs-light/real_data/long_tasks/cropped_robotic/test/orange/no_release_orange/robotic_no_release_orange_0194.jpg',),\n",
       " tensor([1]))"
      ]
     },
     "execution_count": 21,
     "metadata": {},
     "output_type": "execute_result"
    },
    {
     "data": {
      "text/plain": [
       "(('/home/tzortzis/Data/IRI-CATs-light/real_data/long_tasks/cropped_robotic/test/orange/no_release_orange/robotic_no_release_orange_0195.jpg',),\n",
       " tensor([1]))"
      ]
     },
     "execution_count": 21,
     "metadata": {},
     "output_type": "execute_result"
    },
    {
     "data": {
      "text/plain": [
       "(('/home/tzortzis/Data/IRI-CATs-light/real_data/long_tasks/cropped_robotic/test/orange/no_release_orange/robotic_no_release_orange_0196.jpg',),\n",
       " tensor([1]))"
      ]
     },
     "execution_count": 21,
     "metadata": {},
     "output_type": "execute_result"
    },
    {
     "data": {
      "text/plain": [
       "(('/home/tzortzis/Data/IRI-CATs-light/real_data/long_tasks/cropped_robotic/test/orange/no_release_orange/robotic_no_release_orange_0197.jpg',),\n",
       " tensor([1]))"
      ]
     },
     "execution_count": 21,
     "metadata": {},
     "output_type": "execute_result"
    },
    {
     "data": {
      "text/plain": [
       "(('/home/tzortzis/Data/IRI-CATs-light/real_data/long_tasks/cropped_robotic/test/orange/no_release_orange/robotic_no_release_orange_0198.jpg',),\n",
       " tensor([1]))"
      ]
     },
     "execution_count": 21,
     "metadata": {},
     "output_type": "execute_result"
    },
    {
     "data": {
      "text/plain": [
       "(('/home/tzortzis/Data/IRI-CATs-light/real_data/long_tasks/cropped_robotic/test/orange/no_release_orange/robotic_no_release_orange_0199.jpg',),\n",
       " tensor([1]))"
      ]
     },
     "execution_count": 21,
     "metadata": {},
     "output_type": "execute_result"
    },
    {
     "data": {
      "text/plain": [
       "(('/home/tzortzis/Data/IRI-CATs-light/real_data/long_tasks/cropped_robotic/test/orange/no_release_orange/robotic_no_release_orange_0200.jpg',),\n",
       " tensor([1]))"
      ]
     },
     "execution_count": 21,
     "metadata": {},
     "output_type": "execute_result"
    },
    {
     "data": {
      "text/plain": [
       "(('/home/tzortzis/Data/IRI-CATs-light/real_data/long_tasks/cropped_robotic/test/orange/no_release_orange/robotic_no_release_orange_0201.jpg',),\n",
       " tensor([1]))"
      ]
     },
     "execution_count": 21,
     "metadata": {},
     "output_type": "execute_result"
    },
    {
     "data": {
      "text/plain": [
       "(('/home/tzortzis/Data/IRI-CATs-light/real_data/long_tasks/cropped_robotic/test/orange/no_release_orange/robotic_no_release_orange_0202.jpg',),\n",
       " tensor([1]))"
      ]
     },
     "execution_count": 21,
     "metadata": {},
     "output_type": "execute_result"
    },
    {
     "data": {
      "text/plain": [
       "(('/home/tzortzis/Data/IRI-CATs-light/real_data/long_tasks/cropped_robotic/test/orange/no_release_orange/robotic_no_release_orange_0203.jpg',),\n",
       " tensor([1]))"
      ]
     },
     "execution_count": 21,
     "metadata": {},
     "output_type": "execute_result"
    },
    {
     "data": {
      "text/plain": [
       "(('/home/tzortzis/Data/IRI-CATs-light/real_data/long_tasks/cropped_robotic/test/orange/no_release_orange/robotic_no_release_orange_0204.jpg',),\n",
       " tensor([1]))"
      ]
     },
     "execution_count": 21,
     "metadata": {},
     "output_type": "execute_result"
    },
    {
     "data": {
      "text/plain": [
       "(('/home/tzortzis/Data/IRI-CATs-light/real_data/long_tasks/cropped_robotic/test/orange/no_release_orange/robotic_no_release_orange_0205.jpg',),\n",
       " tensor([1]))"
      ]
     },
     "execution_count": 21,
     "metadata": {},
     "output_type": "execute_result"
    },
    {
     "data": {
      "text/plain": [
       "(('/home/tzortzis/Data/IRI-CATs-light/real_data/long_tasks/cropped_robotic/test/orange/no_release_orange/robotic_no_release_orange_0206.jpg',),\n",
       " tensor([1]))"
      ]
     },
     "execution_count": 21,
     "metadata": {},
     "output_type": "execute_result"
    },
    {
     "data": {
      "text/plain": [
       "(('/home/tzortzis/Data/IRI-CATs-light/real_data/long_tasks/cropped_robotic/test/orange/no_release_orange/robotic_no_release_orange_0207.jpg',),\n",
       " tensor([1]))"
      ]
     },
     "execution_count": 21,
     "metadata": {},
     "output_type": "execute_result"
    },
    {
     "data": {
      "text/plain": [
       "(('/home/tzortzis/Data/IRI-CATs-light/real_data/long_tasks/cropped_robotic/test/orange/no_release_orange/robotic_no_release_orange_0208.jpg',),\n",
       " tensor([1]))"
      ]
     },
     "execution_count": 21,
     "metadata": {},
     "output_type": "execute_result"
    },
    {
     "data": {
      "text/plain": [
       "(('/home/tzortzis/Data/IRI-CATs-light/real_data/long_tasks/cropped_robotic/test/orange/no_release_orange/robotic_no_release_orange_0209.jpg',),\n",
       " tensor([1]))"
      ]
     },
     "execution_count": 21,
     "metadata": {},
     "output_type": "execute_result"
    },
    {
     "data": {
      "text/plain": [
       "(('/home/tzortzis/Data/IRI-CATs-light/real_data/long_tasks/cropped_robotic/test/orange/no_release_orange/robotic_no_release_orange_0210.jpg',),\n",
       " tensor([1]))"
      ]
     },
     "execution_count": 21,
     "metadata": {},
     "output_type": "execute_result"
    },
    {
     "data": {
      "text/plain": [
       "(('/home/tzortzis/Data/IRI-CATs-light/real_data/long_tasks/cropped_robotic/test/orange/no_release_orange/robotic_no_release_orange_0211.jpg',),\n",
       " tensor([1]))"
      ]
     },
     "execution_count": 21,
     "metadata": {},
     "output_type": "execute_result"
    },
    {
     "data": {
      "text/plain": [
       "(('/home/tzortzis/Data/IRI-CATs-light/real_data/long_tasks/cropped_robotic/test/orange/no_release_orange/robotic_no_release_orange_0212.jpg',),\n",
       " tensor([1]))"
      ]
     },
     "execution_count": 21,
     "metadata": {},
     "output_type": "execute_result"
    },
    {
     "data": {
      "text/plain": [
       "(('/home/tzortzis/Data/IRI-CATs-light/real_data/long_tasks/cropped_robotic/test/orange/no_release_orange/robotic_no_release_orange_0213.jpg',),\n",
       " tensor([1]))"
      ]
     },
     "execution_count": 21,
     "metadata": {},
     "output_type": "execute_result"
    },
    {
     "data": {
      "text/plain": [
       "(('/home/tzortzis/Data/IRI-CATs-light/real_data/long_tasks/cropped_robotic/test/orange/no_release_orange/robotic_no_release_orange_0214.jpg',),\n",
       " tensor([1]))"
      ]
     },
     "execution_count": 21,
     "metadata": {},
     "output_type": "execute_result"
    },
    {
     "data": {
      "text/plain": [
       "(('/home/tzortzis/Data/IRI-CATs-light/real_data/long_tasks/cropped_robotic/test/orange/no_release_orange/robotic_no_release_orange_0215.jpg',),\n",
       " tensor([1]))"
      ]
     },
     "execution_count": 21,
     "metadata": {},
     "output_type": "execute_result"
    },
    {
     "data": {
      "text/plain": [
       "(('/home/tzortzis/Data/IRI-CATs-light/real_data/long_tasks/cropped_robotic/test/orange/no_release_orange/robotic_no_release_orange_0216.jpg',),\n",
       " tensor([1]))"
      ]
     },
     "execution_count": 21,
     "metadata": {},
     "output_type": "execute_result"
    },
    {
     "data": {
      "text/plain": [
       "(('/home/tzortzis/Data/IRI-CATs-light/real_data/long_tasks/cropped_robotic/test/orange/no_release_orange/robotic_no_release_orange_0217.jpg',),\n",
       " tensor([1]))"
      ]
     },
     "execution_count": 21,
     "metadata": {},
     "output_type": "execute_result"
    },
    {
     "data": {
      "text/plain": [
       "(('/home/tzortzis/Data/IRI-CATs-light/real_data/long_tasks/cropped_robotic/test/orange/no_release_orange/robotic_no_release_orange_0218.jpg',),\n",
       " tensor([1]))"
      ]
     },
     "execution_count": 21,
     "metadata": {},
     "output_type": "execute_result"
    },
    {
     "data": {
      "text/plain": [
       "(('/home/tzortzis/Data/IRI-CATs-light/real_data/long_tasks/cropped_robotic/test/orange/no_release_orange/robotic_no_release_orange_0219.jpg',),\n",
       " tensor([1]))"
      ]
     },
     "execution_count": 21,
     "metadata": {},
     "output_type": "execute_result"
    },
    {
     "data": {
      "text/plain": [
       "(('/home/tzortzis/Data/IRI-CATs-light/real_data/long_tasks/cropped_robotic/test/orange/no_release_orange/robotic_no_release_orange_0220.jpg',),\n",
       " tensor([1]))"
      ]
     },
     "execution_count": 21,
     "metadata": {},
     "output_type": "execute_result"
    },
    {
     "data": {
      "text/plain": [
       "(('/home/tzortzis/Data/IRI-CATs-light/real_data/long_tasks/cropped_robotic/test/orange/no_release_orange/robotic_no_release_orange_0221.jpg',),\n",
       " tensor([1]))"
      ]
     },
     "execution_count": 21,
     "metadata": {},
     "output_type": "execute_result"
    },
    {
     "data": {
      "text/plain": [
       "(('/home/tzortzis/Data/IRI-CATs-light/real_data/long_tasks/cropped_robotic/test/orange/no_release_orange/robotic_no_release_orange_0222.jpg',),\n",
       " tensor([1]))"
      ]
     },
     "execution_count": 21,
     "metadata": {},
     "output_type": "execute_result"
    },
    {
     "data": {
      "text/plain": [
       "(('/home/tzortzis/Data/IRI-CATs-light/real_data/long_tasks/cropped_robotic/test/orange/no_release_orange/robotic_no_release_orange_0223.jpg',),\n",
       " tensor([1]))"
      ]
     },
     "execution_count": 21,
     "metadata": {},
     "output_type": "execute_result"
    },
    {
     "data": {
      "text/plain": [
       "(('/home/tzortzis/Data/IRI-CATs-light/real_data/long_tasks/cropped_robotic/test/orange/no_release_orange/robotic_no_release_orange_0224.jpg',),\n",
       " tensor([1]))"
      ]
     },
     "execution_count": 21,
     "metadata": {},
     "output_type": "execute_result"
    },
    {
     "data": {
      "text/plain": [
       "(('/home/tzortzis/Data/IRI-CATs-light/real_data/long_tasks/cropped_robotic/test/orange/no_release_orange/robotic_no_release_orange_0225.jpg',),\n",
       " tensor([1]))"
      ]
     },
     "execution_count": 21,
     "metadata": {},
     "output_type": "execute_result"
    },
    {
     "data": {
      "text/plain": [
       "(('/home/tzortzis/Data/IRI-CATs-light/real_data/long_tasks/cropped_robotic/test/orange/no_release_orange/robotic_no_release_orange_0226.jpg',),\n",
       " tensor([1]))"
      ]
     },
     "execution_count": 21,
     "metadata": {},
     "output_type": "execute_result"
    },
    {
     "data": {
      "text/plain": [
       "(('/home/tzortzis/Data/IRI-CATs-light/real_data/long_tasks/cropped_robotic/test/orange/no_release_orange/robotic_no_release_orange_0227.jpg',),\n",
       " tensor([1]))"
      ]
     },
     "execution_count": 21,
     "metadata": {},
     "output_type": "execute_result"
    },
    {
     "data": {
      "text/plain": [
       "(('/home/tzortzis/Data/IRI-CATs-light/real_data/long_tasks/cropped_robotic/test/orange/no_release_orange/robotic_no_release_orange_0228.jpg',),\n",
       " tensor([1]))"
      ]
     },
     "execution_count": 21,
     "metadata": {},
     "output_type": "execute_result"
    },
    {
     "data": {
      "text/plain": [
       "(('/home/tzortzis/Data/IRI-CATs-light/real_data/long_tasks/cropped_robotic/test/orange/no_release_orange/robotic_no_release_orange_0229.jpg',),\n",
       " tensor([1]))"
      ]
     },
     "execution_count": 21,
     "metadata": {},
     "output_type": "execute_result"
    },
    {
     "data": {
      "text/plain": [
       "(('/home/tzortzis/Data/IRI-CATs-light/real_data/long_tasks/cropped_robotic/test/orange/no_release_orange/robotic_no_release_orange_0230.jpg',),\n",
       " tensor([1]))"
      ]
     },
     "execution_count": 21,
     "metadata": {},
     "output_type": "execute_result"
    },
    {
     "data": {
      "text/plain": [
       "(('/home/tzortzis/Data/IRI-CATs-light/real_data/long_tasks/cropped_robotic/test/orange/no_release_orange/robotic_no_release_orange_0231.jpg',),\n",
       " tensor([1]))"
      ]
     },
     "execution_count": 21,
     "metadata": {},
     "output_type": "execute_result"
    },
    {
     "data": {
      "text/plain": [
       "(('/home/tzortzis/Data/IRI-CATs-light/real_data/long_tasks/cropped_robotic/test/orange/no_release_orange/robotic_no_release_orange_0232.jpg',),\n",
       " tensor([1]))"
      ]
     },
     "execution_count": 21,
     "metadata": {},
     "output_type": "execute_result"
    },
    {
     "data": {
      "text/plain": [
       "(('/home/tzortzis/Data/IRI-CATs-light/real_data/long_tasks/cropped_robotic/test/orange/no_release_orange/robotic_no_release_orange_0233.jpg',),\n",
       " tensor([1]))"
      ]
     },
     "execution_count": 21,
     "metadata": {},
     "output_type": "execute_result"
    },
    {
     "data": {
      "text/plain": [
       "(('/home/tzortzis/Data/IRI-CATs-light/real_data/long_tasks/cropped_robotic/test/orange/no_release_orange/robotic_no_release_orange_0234.jpg',),\n",
       " tensor([1]))"
      ]
     },
     "execution_count": 21,
     "metadata": {},
     "output_type": "execute_result"
    },
    {
     "data": {
      "text/plain": [
       "(('/home/tzortzis/Data/IRI-CATs-light/real_data/long_tasks/cropped_robotic/test/orange/no_release_orange/robotic_no_release_orange_0235.jpg',),\n",
       " tensor([1]))"
      ]
     },
     "execution_count": 21,
     "metadata": {},
     "output_type": "execute_result"
    },
    {
     "data": {
      "text/plain": [
       "(('/home/tzortzis/Data/IRI-CATs-light/real_data/long_tasks/cropped_robotic/test/orange/no_release_orange/robotic_no_release_orange_0236.jpg',),\n",
       " tensor([1]))"
      ]
     },
     "execution_count": 21,
     "metadata": {},
     "output_type": "execute_result"
    },
    {
     "data": {
      "text/plain": [
       "(('/home/tzortzis/Data/IRI-CATs-light/real_data/long_tasks/cropped_robotic/test/orange/no_release_orange/robotic_no_release_orange_0237.jpg',),\n",
       " tensor([1]))"
      ]
     },
     "execution_count": 21,
     "metadata": {},
     "output_type": "execute_result"
    },
    {
     "data": {
      "text/plain": [
       "(('/home/tzortzis/Data/IRI-CATs-light/real_data/long_tasks/cropped_robotic/test/orange/no_release_orange/robotic_no_release_orange_0238.jpg',),\n",
       " tensor([1]))"
      ]
     },
     "execution_count": 21,
     "metadata": {},
     "output_type": "execute_result"
    },
    {
     "data": {
      "text/plain": [
       "(('/home/tzortzis/Data/IRI-CATs-light/real_data/long_tasks/cropped_robotic/test/orange/no_release_orange/robotic_no_release_orange_0239.jpg',),\n",
       " tensor([1]))"
      ]
     },
     "execution_count": 21,
     "metadata": {},
     "output_type": "execute_result"
    },
    {
     "data": {
      "text/plain": [
       "(('/home/tzortzis/Data/IRI-CATs-light/real_data/long_tasks/cropped_robotic/test/orange/no_release_orange/robotic_no_release_orange_0240.jpg',),\n",
       " tensor([1]))"
      ]
     },
     "execution_count": 21,
     "metadata": {},
     "output_type": "execute_result"
    },
    {
     "data": {
      "text/plain": [
       "(('/home/tzortzis/Data/IRI-CATs-light/real_data/long_tasks/cropped_robotic/test/orange/no_release_orange/robotic_no_release_orange_0241.jpg',),\n",
       " tensor([1]))"
      ]
     },
     "execution_count": 21,
     "metadata": {},
     "output_type": "execute_result"
    },
    {
     "data": {
      "text/plain": [
       "(('/home/tzortzis/Data/IRI-CATs-light/real_data/long_tasks/cropped_robotic/test/orange/no_release_orange/robotic_no_release_orange_0242.jpg',),\n",
       " tensor([1]))"
      ]
     },
     "execution_count": 21,
     "metadata": {},
     "output_type": "execute_result"
    },
    {
     "data": {
      "text/plain": [
       "(('/home/tzortzis/Data/IRI-CATs-light/real_data/long_tasks/cropped_robotic/test/orange/no_release_orange/robotic_no_release_orange_0243.jpg',),\n",
       " tensor([1]))"
      ]
     },
     "execution_count": 21,
     "metadata": {},
     "output_type": "execute_result"
    },
    {
     "data": {
      "text/plain": [
       "(('/home/tzortzis/Data/IRI-CATs-light/real_data/long_tasks/cropped_robotic/test/orange/no_release_orange/robotic_no_release_orange_0244.jpg',),\n",
       " tensor([1]))"
      ]
     },
     "execution_count": 21,
     "metadata": {},
     "output_type": "execute_result"
    },
    {
     "data": {
      "text/plain": [
       "(('/home/tzortzis/Data/IRI-CATs-light/real_data/long_tasks/cropped_robotic/test/orange/no_release_orange/robotic_no_release_orange_0245.jpg',),\n",
       " tensor([1]))"
      ]
     },
     "execution_count": 21,
     "metadata": {},
     "output_type": "execute_result"
    },
    {
     "data": {
      "text/plain": [
       "(('/home/tzortzis/Data/IRI-CATs-light/real_data/long_tasks/cropped_robotic/test/orange/no_release_orange/robotic_no_release_orange_0246.jpg',),\n",
       " tensor([1]))"
      ]
     },
     "execution_count": 21,
     "metadata": {},
     "output_type": "execute_result"
    },
    {
     "data": {
      "text/plain": [
       "(('/home/tzortzis/Data/IRI-CATs-light/real_data/long_tasks/cropped_robotic/test/orange/no_release_orange/robotic_no_release_orange_0247.jpg',),\n",
       " tensor([1]))"
      ]
     },
     "execution_count": 21,
     "metadata": {},
     "output_type": "execute_result"
    },
    {
     "data": {
      "text/plain": [
       "(('/home/tzortzis/Data/IRI-CATs-light/real_data/long_tasks/cropped_robotic/test/orange/no_release_orange/robotic_no_release_orange_0248.jpg',),\n",
       " tensor([1]))"
      ]
     },
     "execution_count": 21,
     "metadata": {},
     "output_type": "execute_result"
    },
    {
     "data": {
      "text/plain": [
       "(('/home/tzortzis/Data/IRI-CATs-light/real_data/long_tasks/cropped_robotic/test/orange/no_release_orange/robotic_no_release_orange_0249.jpg',),\n",
       " tensor([1]))"
      ]
     },
     "execution_count": 21,
     "metadata": {},
     "output_type": "execute_result"
    },
    {
     "data": {
      "text/plain": [
       "(('/home/tzortzis/Data/IRI-CATs-light/real_data/long_tasks/cropped_robotic/test/orange/no_release_orange/robotic_no_release_orange_0250.jpg',),\n",
       " tensor([1]))"
      ]
     },
     "execution_count": 21,
     "metadata": {},
     "output_type": "execute_result"
    },
    {
     "data": {
      "text/plain": [
       "(('/home/tzortzis/Data/IRI-CATs-light/real_data/long_tasks/cropped_robotic/test/orange/no_release_orange/robotic_no_release_orange_0251.jpg',),\n",
       " tensor([1]))"
      ]
     },
     "execution_count": 21,
     "metadata": {},
     "output_type": "execute_result"
    },
    {
     "data": {
      "text/plain": [
       "(('/home/tzortzis/Data/IRI-CATs-light/real_data/long_tasks/cropped_robotic/test/orange/no_release_orange/robotic_no_release_orange_0252.jpg',),\n",
       " tensor([1]))"
      ]
     },
     "execution_count": 21,
     "metadata": {},
     "output_type": "execute_result"
    },
    {
     "data": {
      "text/plain": [
       "(('/home/tzortzis/Data/IRI-CATs-light/real_data/long_tasks/cropped_robotic/test/orange/no_release_orange/robotic_no_release_orange_0253.jpg',),\n",
       " tensor([1]))"
      ]
     },
     "execution_count": 21,
     "metadata": {},
     "output_type": "execute_result"
    },
    {
     "data": {
      "text/plain": [
       "(('/home/tzortzis/Data/IRI-CATs-light/real_data/long_tasks/cropped_robotic/test/orange/no_release_orange/robotic_no_release_orange_0254.jpg',),\n",
       " tensor([1]))"
      ]
     },
     "execution_count": 21,
     "metadata": {},
     "output_type": "execute_result"
    },
    {
     "data": {
      "text/plain": [
       "(('/home/tzortzis/Data/IRI-CATs-light/real_data/long_tasks/cropped_robotic/test/orange/no_release_orange/robotic_no_release_orange_0255.jpg',),\n",
       " tensor([1]))"
      ]
     },
     "execution_count": 21,
     "metadata": {},
     "output_type": "execute_result"
    },
    {
     "data": {
      "text/plain": [
       "(('/home/tzortzis/Data/IRI-CATs-light/real_data/long_tasks/cropped_robotic/test/orange/no_release_orange/robotic_no_release_orange_0256.jpg',),\n",
       " tensor([1]))"
      ]
     },
     "execution_count": 21,
     "metadata": {},
     "output_type": "execute_result"
    },
    {
     "data": {
      "text/plain": [
       "(('/home/tzortzis/Data/IRI-CATs-light/real_data/long_tasks/cropped_robotic/test/orange/no_release_orange/robotic_no_release_orange_0257.jpg',),\n",
       " tensor([1]))"
      ]
     },
     "execution_count": 21,
     "metadata": {},
     "output_type": "execute_result"
    },
    {
     "data": {
      "text/plain": [
       "(('/home/tzortzis/Data/IRI-CATs-light/real_data/long_tasks/cropped_robotic/test/orange/no_release_orange/robotic_no_release_orange_0258.jpg',),\n",
       " tensor([1]))"
      ]
     },
     "execution_count": 21,
     "metadata": {},
     "output_type": "execute_result"
    },
    {
     "data": {
      "text/plain": [
       "(('/home/tzortzis/Data/IRI-CATs-light/real_data/long_tasks/cropped_robotic/test/orange/no_release_orange/robotic_no_release_orange_0259.jpg',),\n",
       " tensor([1]))"
      ]
     },
     "execution_count": 21,
     "metadata": {},
     "output_type": "execute_result"
    },
    {
     "data": {
      "text/plain": [
       "(('/home/tzortzis/Data/IRI-CATs-light/real_data/long_tasks/cropped_robotic/test/orange/no_release_orange/robotic_no_release_orange_0260.jpg',),\n",
       " tensor([1]))"
      ]
     },
     "execution_count": 21,
     "metadata": {},
     "output_type": "execute_result"
    },
    {
     "data": {
      "text/plain": [
       "(('/home/tzortzis/Data/IRI-CATs-light/real_data/long_tasks/cropped_robotic/test/orange/no_release_orange/robotic_no_release_orange_0261.jpg',),\n",
       " tensor([1]))"
      ]
     },
     "execution_count": 21,
     "metadata": {},
     "output_type": "execute_result"
    },
    {
     "data": {
      "text/plain": [
       "(('/home/tzortzis/Data/IRI-CATs-light/real_data/long_tasks/cropped_robotic/test/orange/no_release_orange/robotic_no_release_orange_0262.jpg',),\n",
       " tensor([1]))"
      ]
     },
     "execution_count": 21,
     "metadata": {},
     "output_type": "execute_result"
    },
    {
     "data": {
      "text/plain": [
       "(('/home/tzortzis/Data/IRI-CATs-light/real_data/long_tasks/cropped_robotic/test/orange/no_release_orange/robotic_no_release_orange_0263.jpg',),\n",
       " tensor([1]))"
      ]
     },
     "execution_count": 21,
     "metadata": {},
     "output_type": "execute_result"
    },
    {
     "data": {
      "text/plain": [
       "(('/home/tzortzis/Data/IRI-CATs-light/real_data/long_tasks/cropped_robotic/test/orange/no_release_orange/robotic_no_release_orange_0264.jpg',),\n",
       " tensor([1]))"
      ]
     },
     "execution_count": 21,
     "metadata": {},
     "output_type": "execute_result"
    },
    {
     "data": {
      "text/plain": [
       "(('/home/tzortzis/Data/IRI-CATs-light/real_data/long_tasks/cropped_robotic/test/orange/no_release_orange/robotic_no_release_orange_0265.jpg',),\n",
       " tensor([1]))"
      ]
     },
     "execution_count": 21,
     "metadata": {},
     "output_type": "execute_result"
    },
    {
     "data": {
      "text/plain": [
       "(('/home/tzortzis/Data/IRI-CATs-light/real_data/long_tasks/cropped_robotic/test/orange/no_release_orange/robotic_no_release_orange_0266.jpg',),\n",
       " tensor([1]))"
      ]
     },
     "execution_count": 21,
     "metadata": {},
     "output_type": "execute_result"
    },
    {
     "data": {
      "text/plain": [
       "(('/home/tzortzis/Data/IRI-CATs-light/real_data/long_tasks/cropped_robotic/test/orange/no_release_orange/robotic_no_release_orange_0267.jpg',),\n",
       " tensor([1]))"
      ]
     },
     "execution_count": 21,
     "metadata": {},
     "output_type": "execute_result"
    },
    {
     "data": {
      "text/plain": [
       "(('/home/tzortzis/Data/IRI-CATs-light/real_data/long_tasks/cropped_robotic/test/orange/no_release_orange/robotic_no_release_orange_0268.jpg',),\n",
       " tensor([1]))"
      ]
     },
     "execution_count": 21,
     "metadata": {},
     "output_type": "execute_result"
    },
    {
     "data": {
      "text/plain": [
       "(('/home/tzortzis/Data/IRI-CATs-light/real_data/long_tasks/cropped_robotic/test/orange/no_release_orange/robotic_no_release_orange_0269.jpg',),\n",
       " tensor([1]))"
      ]
     },
     "execution_count": 21,
     "metadata": {},
     "output_type": "execute_result"
    },
    {
     "data": {
      "text/plain": [
       "(('/home/tzortzis/Data/IRI-CATs-light/real_data/long_tasks/cropped_robotic/test/orange/no_release_orange/robotic_no_release_orange_0270.jpg',),\n",
       " tensor([1]))"
      ]
     },
     "execution_count": 21,
     "metadata": {},
     "output_type": "execute_result"
    },
    {
     "data": {
      "text/plain": [
       "(('/home/tzortzis/Data/IRI-CATs-light/real_data/long_tasks/cropped_robotic/test/orange/no_release_orange/robotic_no_release_orange_0271.jpg',),\n",
       " tensor([1]))"
      ]
     },
     "execution_count": 21,
     "metadata": {},
     "output_type": "execute_result"
    },
    {
     "data": {
      "text/plain": [
       "(('/home/tzortzis/Data/IRI-CATs-light/real_data/long_tasks/cropped_robotic/test/orange/no_release_orange/robotic_no_release_orange_0272.jpg',),\n",
       " tensor([1]))"
      ]
     },
     "execution_count": 21,
     "metadata": {},
     "output_type": "execute_result"
    },
    {
     "data": {
      "text/plain": [
       "(('/home/tzortzis/Data/IRI-CATs-light/real_data/long_tasks/cropped_robotic/test/orange/no_release_orange/robotic_no_release_orange_0273.jpg',),\n",
       " tensor([1]))"
      ]
     },
     "execution_count": 21,
     "metadata": {},
     "output_type": "execute_result"
    },
    {
     "data": {
      "text/plain": [
       "(('/home/tzortzis/Data/IRI-CATs-light/real_data/long_tasks/cropped_robotic/test/orange/no_release_orange/robotic_no_release_orange_0274.jpg',),\n",
       " tensor([1]))"
      ]
     },
     "execution_count": 21,
     "metadata": {},
     "output_type": "execute_result"
    },
    {
     "data": {
      "text/plain": [
       "(('/home/tzortzis/Data/IRI-CATs-light/real_data/long_tasks/cropped_robotic/test/orange/no_release_orange/robotic_no_release_orange_0275.jpg',),\n",
       " tensor([1]))"
      ]
     },
     "execution_count": 21,
     "metadata": {},
     "output_type": "execute_result"
    },
    {
     "data": {
      "text/plain": [
       "(('/home/tzortzis/Data/IRI-CATs-light/real_data/long_tasks/cropped_robotic/test/orange/no_release_orange/robotic_no_release_orange_0276.jpg',),\n",
       " tensor([1]))"
      ]
     },
     "execution_count": 21,
     "metadata": {},
     "output_type": "execute_result"
    },
    {
     "data": {
      "text/plain": [
       "(('/home/tzortzis/Data/IRI-CATs-light/real_data/long_tasks/cropped_robotic/test/orange/no_release_orange/robotic_no_release_orange_0277.jpg',),\n",
       " tensor([1]))"
      ]
     },
     "execution_count": 21,
     "metadata": {},
     "output_type": "execute_result"
    },
    {
     "data": {
      "text/plain": [
       "(('/home/tzortzis/Data/IRI-CATs-light/real_data/long_tasks/cropped_robotic/test/orange/no_release_orange/robotic_no_release_orange_0278.jpg',),\n",
       " tensor([1]))"
      ]
     },
     "execution_count": 21,
     "metadata": {},
     "output_type": "execute_result"
    },
    {
     "data": {
      "text/plain": [
       "(('/home/tzortzis/Data/IRI-CATs-light/real_data/long_tasks/cropped_robotic/test/orange/no_release_orange/robotic_no_release_orange_0279.jpg',),\n",
       " tensor([1]))"
      ]
     },
     "execution_count": 21,
     "metadata": {},
     "output_type": "execute_result"
    },
    {
     "data": {
      "text/plain": [
       "(('/home/tzortzis/Data/IRI-CATs-light/real_data/long_tasks/cropped_robotic/test/orange/no_release_orange/robotic_no_release_orange_0280.jpg',),\n",
       " tensor([1]))"
      ]
     },
     "execution_count": 21,
     "metadata": {},
     "output_type": "execute_result"
    },
    {
     "data": {
      "text/plain": [
       "(('/home/tzortzis/Data/IRI-CATs-light/real_data/long_tasks/cropped_robotic/test/orange/no_release_orange/robotic_no_release_orange_0281.jpg',),\n",
       " tensor([1]))"
      ]
     },
     "execution_count": 21,
     "metadata": {},
     "output_type": "execute_result"
    },
    {
     "data": {
      "text/plain": [
       "(('/home/tzortzis/Data/IRI-CATs-light/real_data/long_tasks/cropped_robotic/test/orange/no_release_orange/robotic_no_release_orange_0282.jpg',),\n",
       " tensor([1]))"
      ]
     },
     "execution_count": 21,
     "metadata": {},
     "output_type": "execute_result"
    },
    {
     "data": {
      "text/plain": [
       "(('/home/tzortzis/Data/IRI-CATs-light/real_data/long_tasks/cropped_robotic/test/orange/no_release_orange/robotic_no_release_orange_0283.jpg',),\n",
       " tensor([1]))"
      ]
     },
     "execution_count": 21,
     "metadata": {},
     "output_type": "execute_result"
    },
    {
     "data": {
      "text/plain": [
       "(('/home/tzortzis/Data/IRI-CATs-light/real_data/long_tasks/cropped_robotic/test/orange/no_release_orange/robotic_no_release_orange_0284.jpg',),\n",
       " tensor([1]))"
      ]
     },
     "execution_count": 21,
     "metadata": {},
     "output_type": "execute_result"
    },
    {
     "data": {
      "text/plain": [
       "(('/home/tzortzis/Data/IRI-CATs-light/real_data/long_tasks/cropped_robotic/test/orange/no_release_orange/robotic_no_release_orange_0285.jpg',),\n",
       " tensor([1]))"
      ]
     },
     "execution_count": 21,
     "metadata": {},
     "output_type": "execute_result"
    },
    {
     "data": {
      "text/plain": [
       "(('/home/tzortzis/Data/IRI-CATs-light/real_data/long_tasks/cropped_robotic/test/orange/no_release_orange/robotic_no_release_orange_0286.jpg',),\n",
       " tensor([1]))"
      ]
     },
     "execution_count": 21,
     "metadata": {},
     "output_type": "execute_result"
    },
    {
     "data": {
      "text/plain": [
       "(('/home/tzortzis/Data/IRI-CATs-light/real_data/long_tasks/cropped_robotic/test/orange/no_release_orange/robotic_no_release_orange_0287.jpg',),\n",
       " tensor([1]))"
      ]
     },
     "execution_count": 21,
     "metadata": {},
     "output_type": "execute_result"
    },
    {
     "data": {
      "text/plain": [
       "(('/home/tzortzis/Data/IRI-CATs-light/real_data/long_tasks/cropped_robotic/test/orange/no_release_orange/robotic_no_release_orange_0288.jpg',),\n",
       " tensor([1]))"
      ]
     },
     "execution_count": 21,
     "metadata": {},
     "output_type": "execute_result"
    },
    {
     "data": {
      "text/plain": [
       "(('/home/tzortzis/Data/IRI-CATs-light/real_data/long_tasks/cropped_robotic/test/orange/no_release_orange/robotic_no_release_orange_0289.jpg',),\n",
       " tensor([1]))"
      ]
     },
     "execution_count": 21,
     "metadata": {},
     "output_type": "execute_result"
    },
    {
     "data": {
      "text/plain": [
       "(('/home/tzortzis/Data/IRI-CATs-light/real_data/long_tasks/cropped_robotic/test/orange/no_release_orange/robotic_no_release_orange_0290.jpg',),\n",
       " tensor([1]))"
      ]
     },
     "execution_count": 21,
     "metadata": {},
     "output_type": "execute_result"
    },
    {
     "data": {
      "text/plain": [
       "(('/home/tzortzis/Data/IRI-CATs-light/real_data/long_tasks/cropped_robotic/test/orange/no_release_orange/robotic_no_release_orange_0291.jpg',),\n",
       " tensor([1]))"
      ]
     },
     "execution_count": 21,
     "metadata": {},
     "output_type": "execute_result"
    },
    {
     "data": {
      "text/plain": [
       "(('/home/tzortzis/Data/IRI-CATs-light/real_data/long_tasks/cropped_robotic/test/orange/no_release_orange/robotic_no_release_orange_0292.jpg',),\n",
       " tensor([1]))"
      ]
     },
     "execution_count": 21,
     "metadata": {},
     "output_type": "execute_result"
    },
    {
     "data": {
      "text/plain": [
       "(('/home/tzortzis/Data/IRI-CATs-light/real_data/long_tasks/cropped_robotic/test/orange/no_release_orange/robotic_no_release_orange_0293.jpg',),\n",
       " tensor([1]))"
      ]
     },
     "execution_count": 21,
     "metadata": {},
     "output_type": "execute_result"
    },
    {
     "data": {
      "text/plain": [
       "(('/home/tzortzis/Data/IRI-CATs-light/real_data/long_tasks/cropped_robotic/test/orange/no_release_orange/robotic_no_release_orange_0294.jpg',),\n",
       " tensor([1]))"
      ]
     },
     "execution_count": 21,
     "metadata": {},
     "output_type": "execute_result"
    },
    {
     "data": {
      "text/plain": [
       "(('/home/tzortzis/Data/IRI-CATs-light/real_data/long_tasks/cropped_robotic/test/orange/no_release_orange/robotic_no_release_orange_0295.jpg',),\n",
       " tensor([1]))"
      ]
     },
     "execution_count": 21,
     "metadata": {},
     "output_type": "execute_result"
    },
    {
     "data": {
      "text/plain": [
       "(('/home/tzortzis/Data/IRI-CATs-light/real_data/long_tasks/cropped_robotic/test/orange/no_release_orange/robotic_no_release_orange_0296.jpg',),\n",
       " tensor([1]))"
      ]
     },
     "execution_count": 21,
     "metadata": {},
     "output_type": "execute_result"
    },
    {
     "data": {
      "text/plain": [
       "(('/home/tzortzis/Data/IRI-CATs-light/real_data/long_tasks/cropped_robotic/test/orange/no_release_orange/robotic_no_release_orange_0297.jpg',),\n",
       " tensor([1]))"
      ]
     },
     "execution_count": 21,
     "metadata": {},
     "output_type": "execute_result"
    },
    {
     "data": {
      "text/plain": [
       "(('/home/tzortzis/Data/IRI-CATs-light/real_data/long_tasks/cropped_robotic/test/orange/no_release_orange/robotic_no_release_orange_0298.jpg',),\n",
       " tensor([1]))"
      ]
     },
     "execution_count": 21,
     "metadata": {},
     "output_type": "execute_result"
    },
    {
     "data": {
      "text/plain": [
       "(('/home/tzortzis/Data/IRI-CATs-light/real_data/long_tasks/cropped_robotic/test/orange/no_release_orange/robotic_no_release_orange_0299.jpg',),\n",
       " tensor([1]))"
      ]
     },
     "execution_count": 21,
     "metadata": {},
     "output_type": "execute_result"
    },
    {
     "data": {
      "text/plain": [
       "(('/home/tzortzis/Data/IRI-CATs-light/real_data/long_tasks/cropped_robotic/test/orange/no_release_orange/robotic_no_release_orange_0300.jpg',),\n",
       " tensor([1]))"
      ]
     },
     "execution_count": 21,
     "metadata": {},
     "output_type": "execute_result"
    },
    {
     "data": {
      "text/plain": [
       "(('/home/tzortzis/Data/IRI-CATs-light/real_data/long_tasks/cropped_robotic/test/orange/no_release_orange/robotic_no_release_orange_0301.jpg',),\n",
       " tensor([1]))"
      ]
     },
     "execution_count": 21,
     "metadata": {},
     "output_type": "execute_result"
    },
    {
     "data": {
      "text/plain": [
       "(('/home/tzortzis/Data/IRI-CATs-light/real_data/long_tasks/cropped_robotic/test/orange/no_release_orange/robotic_no_release_orange_0302.jpg',),\n",
       " tensor([1]))"
      ]
     },
     "execution_count": 21,
     "metadata": {},
     "output_type": "execute_result"
    },
    {
     "data": {
      "text/plain": [
       "(('/home/tzortzis/Data/IRI-CATs-light/real_data/long_tasks/cropped_robotic/test/orange/no_release_orange/robotic_no_release_orange_0303.jpg',),\n",
       " tensor([1]))"
      ]
     },
     "execution_count": 21,
     "metadata": {},
     "output_type": "execute_result"
    },
    {
     "data": {
      "text/plain": [
       "(('/home/tzortzis/Data/IRI-CATs-light/real_data/long_tasks/cropped_robotic/test/orange/no_release_orange/robotic_no_release_orange_0304.jpg',),\n",
       " tensor([1]))"
      ]
     },
     "execution_count": 21,
     "metadata": {},
     "output_type": "execute_result"
    },
    {
     "data": {
      "text/plain": [
       "(('/home/tzortzis/Data/IRI-CATs-light/real_data/long_tasks/cropped_robotic/test/orange/no_release_orange/robotic_no_release_orange_0305.jpg',),\n",
       " tensor([1]))"
      ]
     },
     "execution_count": 21,
     "metadata": {},
     "output_type": "execute_result"
    },
    {
     "data": {
      "text/plain": [
       "(('/home/tzortzis/Data/IRI-CATs-light/real_data/long_tasks/cropped_robotic/test/orange/no_release_orange/robotic_no_release_orange_0306.jpg',),\n",
       " tensor([1]))"
      ]
     },
     "execution_count": 21,
     "metadata": {},
     "output_type": "execute_result"
    },
    {
     "data": {
      "text/plain": [
       "(('/home/tzortzis/Data/IRI-CATs-light/real_data/long_tasks/cropped_robotic/test/orange/no_release_orange/robotic_no_release_orange_0307.jpg',),\n",
       " tensor([1]))"
      ]
     },
     "execution_count": 21,
     "metadata": {},
     "output_type": "execute_result"
    },
    {
     "data": {
      "text/plain": [
       "(('/home/tzortzis/Data/IRI-CATs-light/real_data/long_tasks/cropped_robotic/test/orange/no_release_orange/robotic_no_release_orange_0308.jpg',),\n",
       " tensor([1]))"
      ]
     },
     "execution_count": 21,
     "metadata": {},
     "output_type": "execute_result"
    },
    {
     "data": {
      "text/plain": [
       "(('/home/tzortzis/Data/IRI-CATs-light/real_data/long_tasks/cropped_robotic/test/orange/no_release_orange/robotic_no_release_orange_0309.jpg',),\n",
       " tensor([1]))"
      ]
     },
     "execution_count": 21,
     "metadata": {},
     "output_type": "execute_result"
    },
    {
     "data": {
      "text/plain": [
       "(('/home/tzortzis/Data/IRI-CATs-light/real_data/long_tasks/cropped_robotic/test/orange/no_release_orange/robotic_no_release_orange_0310.jpg',),\n",
       " tensor([1]))"
      ]
     },
     "execution_count": 21,
     "metadata": {},
     "output_type": "execute_result"
    },
    {
     "data": {
      "text/plain": [
       "(('/home/tzortzis/Data/IRI-CATs-light/real_data/long_tasks/cropped_robotic/test/orange/no_release_orange/robotic_no_release_orange_0311.jpg',),\n",
       " tensor([1]))"
      ]
     },
     "execution_count": 21,
     "metadata": {},
     "output_type": "execute_result"
    },
    {
     "data": {
      "text/plain": [
       "(('/home/tzortzis/Data/IRI-CATs-light/real_data/long_tasks/cropped_robotic/test/orange/no_release_orange/robotic_no_release_orange_0312.jpg',),\n",
       " tensor([1]))"
      ]
     },
     "execution_count": 21,
     "metadata": {},
     "output_type": "execute_result"
    },
    {
     "data": {
      "text/plain": [
       "(('/home/tzortzis/Data/IRI-CATs-light/real_data/long_tasks/cropped_robotic/test/orange/no_release_orange/robotic_no_release_orange_0313.jpg',),\n",
       " tensor([1]))"
      ]
     },
     "execution_count": 21,
     "metadata": {},
     "output_type": "execute_result"
    },
    {
     "data": {
      "text/plain": [
       "(('/home/tzortzis/Data/IRI-CATs-light/real_data/long_tasks/cropped_robotic/test/orange/no_release_orange/robotic_no_release_orange_0314.jpg',),\n",
       " tensor([1]))"
      ]
     },
     "execution_count": 21,
     "metadata": {},
     "output_type": "execute_result"
    },
    {
     "data": {
      "text/plain": [
       "(('/home/tzortzis/Data/IRI-CATs-light/real_data/long_tasks/cropped_robotic/test/orange/no_release_orange/robotic_no_release_orange_0315.jpg',),\n",
       " tensor([1]))"
      ]
     },
     "execution_count": 21,
     "metadata": {},
     "output_type": "execute_result"
    },
    {
     "data": {
      "text/plain": [
       "(('/home/tzortzis/Data/IRI-CATs-light/real_data/long_tasks/cropped_robotic/test/orange/no_release_orange/robotic_no_release_orange_0316.jpg',),\n",
       " tensor([1]))"
      ]
     },
     "execution_count": 21,
     "metadata": {},
     "output_type": "execute_result"
    },
    {
     "data": {
      "text/plain": [
       "(('/home/tzortzis/Data/IRI-CATs-light/real_data/long_tasks/cropped_robotic/test/orange/no_release_orange/robotic_no_release_orange_0317.jpg',),\n",
       " tensor([1]))"
      ]
     },
     "execution_count": 21,
     "metadata": {},
     "output_type": "execute_result"
    },
    {
     "data": {
      "text/plain": [
       "(('/home/tzortzis/Data/IRI-CATs-light/real_data/long_tasks/cropped_robotic/test/orange/no_release_orange/robotic_no_release_orange_0318.jpg',),\n",
       " tensor([1]))"
      ]
     },
     "execution_count": 21,
     "metadata": {},
     "output_type": "execute_result"
    },
    {
     "data": {
      "text/plain": [
       "(('/home/tzortzis/Data/IRI-CATs-light/real_data/long_tasks/cropped_robotic/test/orange/no_release_orange/robotic_no_release_orange_0319.jpg',),\n",
       " tensor([1]))"
      ]
     },
     "execution_count": 21,
     "metadata": {},
     "output_type": "execute_result"
    },
    {
     "data": {
      "text/plain": [
       "(('/home/tzortzis/Data/IRI-CATs-light/real_data/long_tasks/cropped_robotic/test/orange/no_release_orange/robotic_no_release_orange_0320.jpg',),\n",
       " tensor([1]))"
      ]
     },
     "execution_count": 21,
     "metadata": {},
     "output_type": "execute_result"
    },
    {
     "data": {
      "text/plain": [
       "(('/home/tzortzis/Data/IRI-CATs-light/real_data/long_tasks/cropped_robotic/test/orange/no_release_orange/robotic_no_release_orange_0321.jpg',),\n",
       " tensor([1]))"
      ]
     },
     "execution_count": 21,
     "metadata": {},
     "output_type": "execute_result"
    },
    {
     "data": {
      "text/plain": [
       "(('/home/tzortzis/Data/IRI-CATs-light/real_data/long_tasks/cropped_robotic/test/orange/no_release_orange/robotic_no_release_orange_0322.jpg',),\n",
       " tensor([1]))"
      ]
     },
     "execution_count": 21,
     "metadata": {},
     "output_type": "execute_result"
    },
    {
     "data": {
      "text/plain": [
       "(('/home/tzortzis/Data/IRI-CATs-light/real_data/long_tasks/cropped_robotic/test/orange/no_release_orange/robotic_no_release_orange_0323.jpg',),\n",
       " tensor([1]))"
      ]
     },
     "execution_count": 21,
     "metadata": {},
     "output_type": "execute_result"
    },
    {
     "data": {
      "text/plain": [
       "(('/home/tzortzis/Data/IRI-CATs-light/real_data/long_tasks/cropped_robotic/test/orange/no_release_orange/robotic_no_release_orange_0324.jpg',),\n",
       " tensor([1]))"
      ]
     },
     "execution_count": 21,
     "metadata": {},
     "output_type": "execute_result"
    },
    {
     "data": {
      "text/plain": [
       "(('/home/tzortzis/Data/IRI-CATs-light/real_data/long_tasks/cropped_robotic/test/orange/no_release_orange/robotic_no_release_orange_0325.jpg',),\n",
       " tensor([1]))"
      ]
     },
     "execution_count": 21,
     "metadata": {},
     "output_type": "execute_result"
    },
    {
     "data": {
      "text/plain": [
       "(('/home/tzortzis/Data/IRI-CATs-light/real_data/long_tasks/cropped_robotic/test/orange/no_release_orange/robotic_no_release_orange_0326.jpg',),\n",
       " tensor([1]))"
      ]
     },
     "execution_count": 21,
     "metadata": {},
     "output_type": "execute_result"
    },
    {
     "data": {
      "text/plain": [
       "(('/home/tzortzis/Data/IRI-CATs-light/real_data/long_tasks/cropped_robotic/test/orange/no_release_orange/robotic_no_release_orange_0327.jpg',),\n",
       " tensor([1]))"
      ]
     },
     "execution_count": 21,
     "metadata": {},
     "output_type": "execute_result"
    },
    {
     "data": {
      "text/plain": [
       "(('/home/tzortzis/Data/IRI-CATs-light/real_data/long_tasks/cropped_robotic/test/orange/no_release_orange/robotic_no_release_orange_0328.jpg',),\n",
       " tensor([1]))"
      ]
     },
     "execution_count": 21,
     "metadata": {},
     "output_type": "execute_result"
    },
    {
     "data": {
      "text/plain": [
       "(('/home/tzortzis/Data/IRI-CATs-light/real_data/long_tasks/cropped_robotic/test/orange/no_release_orange/robotic_no_release_orange_0329.jpg',),\n",
       " tensor([1]))"
      ]
     },
     "execution_count": 21,
     "metadata": {},
     "output_type": "execute_result"
    },
    {
     "data": {
      "text/plain": [
       "(('/home/tzortzis/Data/IRI-CATs-light/real_data/long_tasks/cropped_robotic/test/orange/no_release_orange/robotic_no_release_orange_0330.jpg',),\n",
       " tensor([1]))"
      ]
     },
     "execution_count": 21,
     "metadata": {},
     "output_type": "execute_result"
    },
    {
     "data": {
      "text/plain": [
       "(('/home/tzortzis/Data/IRI-CATs-light/real_data/long_tasks/cropped_robotic/test/orange/no_release_orange/robotic_no_release_orange_0331.jpg',),\n",
       " tensor([1]))"
      ]
     },
     "execution_count": 21,
     "metadata": {},
     "output_type": "execute_result"
    },
    {
     "data": {
      "text/plain": [
       "(('/home/tzortzis/Data/IRI-CATs-light/real_data/long_tasks/cropped_robotic/test/orange/no_release_orange/robotic_no_release_orange_0332.jpg',),\n",
       " tensor([1]))"
      ]
     },
     "execution_count": 21,
     "metadata": {},
     "output_type": "execute_result"
    },
    {
     "data": {
      "text/plain": [
       "(('/home/tzortzis/Data/IRI-CATs-light/real_data/long_tasks/cropped_robotic/test/orange/no_release_orange/robotic_no_release_orange_0333.jpg',),\n",
       " tensor([1]))"
      ]
     },
     "execution_count": 21,
     "metadata": {},
     "output_type": "execute_result"
    },
    {
     "data": {
      "text/plain": [
       "(('/home/tzortzis/Data/IRI-CATs-light/real_data/long_tasks/cropped_robotic/test/orange/no_release_orange/robotic_no_release_orange_0334.jpg',),\n",
       " tensor([1]))"
      ]
     },
     "execution_count": 21,
     "metadata": {},
     "output_type": "execute_result"
    },
    {
     "data": {
      "text/plain": [
       "(('/home/tzortzis/Data/IRI-CATs-light/real_data/long_tasks/cropped_robotic/test/orange/no_release_orange/robotic_no_release_orange_0335.jpg',),\n",
       " tensor([1]))"
      ]
     },
     "execution_count": 21,
     "metadata": {},
     "output_type": "execute_result"
    },
    {
     "data": {
      "text/plain": [
       "(('/home/tzortzis/Data/IRI-CATs-light/real_data/long_tasks/cropped_robotic/test/orange/no_release_orange/robotic_no_release_orange_0336.jpg',),\n",
       " tensor([1]))"
      ]
     },
     "execution_count": 21,
     "metadata": {},
     "output_type": "execute_result"
    },
    {
     "data": {
      "text/plain": [
       "(('/home/tzortzis/Data/IRI-CATs-light/real_data/long_tasks/cropped_robotic/test/orange/no_release_orange/robotic_no_release_orange_0337.jpg',),\n",
       " tensor([1]))"
      ]
     },
     "execution_count": 21,
     "metadata": {},
     "output_type": "execute_result"
    },
    {
     "data": {
      "text/plain": [
       "(('/home/tzortzis/Data/IRI-CATs-light/real_data/long_tasks/cropped_robotic/test/orange/no_release_orange/robotic_no_release_orange_0338.jpg',),\n",
       " tensor([1]))"
      ]
     },
     "execution_count": 21,
     "metadata": {},
     "output_type": "execute_result"
    },
    {
     "data": {
      "text/plain": [
       "(('/home/tzortzis/Data/IRI-CATs-light/real_data/long_tasks/cropped_robotic/test/orange/no_release_orange/robotic_no_release_orange_0339.jpg',),\n",
       " tensor([1]))"
      ]
     },
     "execution_count": 21,
     "metadata": {},
     "output_type": "execute_result"
    },
    {
     "data": {
      "text/plain": [
       "(('/home/tzortzis/Data/IRI-CATs-light/real_data/long_tasks/cropped_robotic/test/orange/no_release_orange/robotic_no_release_orange_0340.jpg',),\n",
       " tensor([1]))"
      ]
     },
     "execution_count": 21,
     "metadata": {},
     "output_type": "execute_result"
    },
    {
     "data": {
      "text/plain": [
       "(('/home/tzortzis/Data/IRI-CATs-light/real_data/long_tasks/cropped_robotic/test/orange/no_release_orange/robotic_no_release_orange_0341.jpg',),\n",
       " tensor([1]))"
      ]
     },
     "execution_count": 21,
     "metadata": {},
     "output_type": "execute_result"
    },
    {
     "data": {
      "text/plain": [
       "(('/home/tzortzis/Data/IRI-CATs-light/real_data/long_tasks/cropped_robotic/test/orange/no_release_orange/robotic_no_release_orange_0342.jpg',),\n",
       " tensor([1]))"
      ]
     },
     "execution_count": 21,
     "metadata": {},
     "output_type": "execute_result"
    },
    {
     "data": {
      "text/plain": [
       "(('/home/tzortzis/Data/IRI-CATs-light/real_data/long_tasks/cropped_robotic/test/orange/no_release_orange/robotic_no_release_orange_0343.jpg',),\n",
       " tensor([1]))"
      ]
     },
     "execution_count": 21,
     "metadata": {},
     "output_type": "execute_result"
    },
    {
     "data": {
      "text/plain": [
       "(('/home/tzortzis/Data/IRI-CATs-light/real_data/long_tasks/cropped_robotic/test/orange/no_release_orange/robotic_no_release_orange_0344.jpg',),\n",
       " tensor([1]))"
      ]
     },
     "execution_count": 21,
     "metadata": {},
     "output_type": "execute_result"
    },
    {
     "data": {
      "text/plain": [
       "(('/home/tzortzis/Data/IRI-CATs-light/real_data/long_tasks/cropped_robotic/test/orange/no_release_orange/robotic_no_release_orange_0345.jpg',),\n",
       " tensor([1]))"
      ]
     },
     "execution_count": 21,
     "metadata": {},
     "output_type": "execute_result"
    },
    {
     "data": {
      "text/plain": [
       "(('/home/tzortzis/Data/IRI-CATs-light/real_data/long_tasks/cropped_robotic/test/orange/no_release_orange/robotic_no_release_orange_0346.jpg',),\n",
       " tensor([1]))"
      ]
     },
     "execution_count": 21,
     "metadata": {},
     "output_type": "execute_result"
    },
    {
     "data": {
      "text/plain": [
       "(('/home/tzortzis/Data/IRI-CATs-light/real_data/long_tasks/cropped_robotic/test/orange/no_release_orange/robotic_no_release_orange_0347.jpg',),\n",
       " tensor([1]))"
      ]
     },
     "execution_count": 21,
     "metadata": {},
     "output_type": "execute_result"
    },
    {
     "data": {
      "text/plain": [
       "(('/home/tzortzis/Data/IRI-CATs-light/real_data/long_tasks/cropped_robotic/test/orange/no_release_orange/robotic_no_release_orange_0348.jpg',),\n",
       " tensor([1]))"
      ]
     },
     "execution_count": 21,
     "metadata": {},
     "output_type": "execute_result"
    },
    {
     "data": {
      "text/plain": [
       "(('/home/tzortzis/Data/IRI-CATs-light/real_data/long_tasks/cropped_robotic/test/orange/no_release_orange/robotic_no_release_orange_0349.jpg',),\n",
       " tensor([1]))"
      ]
     },
     "execution_count": 21,
     "metadata": {},
     "output_type": "execute_result"
    },
    {
     "data": {
      "text/plain": [
       "(('/home/tzortzis/Data/IRI-CATs-light/real_data/long_tasks/cropped_robotic/test/orange/no_release_orange/robotic_no_release_orange_0350.jpg',),\n",
       " tensor([1]))"
      ]
     },
     "execution_count": 21,
     "metadata": {},
     "output_type": "execute_result"
    },
    {
     "data": {
      "text/plain": [
       "(('/home/tzortzis/Data/IRI-CATs-light/real_data/long_tasks/cropped_robotic/test/orange/no_release_orange/robotic_no_release_orange_0351.jpg',),\n",
       " tensor([1]))"
      ]
     },
     "execution_count": 21,
     "metadata": {},
     "output_type": "execute_result"
    },
    {
     "data": {
      "text/plain": [
       "(('/home/tzortzis/Data/IRI-CATs-light/real_data/long_tasks/cropped_robotic/test/orange/no_release_orange/robotic_no_release_orange_0352.jpg',),\n",
       " tensor([1]))"
      ]
     },
     "execution_count": 21,
     "metadata": {},
     "output_type": "execute_result"
    },
    {
     "data": {
      "text/plain": [
       "(('/home/tzortzis/Data/IRI-CATs-light/real_data/long_tasks/cropped_robotic/test/orange/no_release_orange/robotic_no_release_orange_0353.jpg',),\n",
       " tensor([1]))"
      ]
     },
     "execution_count": 21,
     "metadata": {},
     "output_type": "execute_result"
    },
    {
     "data": {
      "text/plain": [
       "(('/home/tzortzis/Data/IRI-CATs-light/real_data/long_tasks/cropped_robotic/test/orange/no_release_orange/robotic_no_release_orange_0354.jpg',),\n",
       " tensor([1]))"
      ]
     },
     "execution_count": 21,
     "metadata": {},
     "output_type": "execute_result"
    },
    {
     "data": {
      "text/plain": [
       "(('/home/tzortzis/Data/IRI-CATs-light/real_data/long_tasks/cropped_robotic/test/orange/no_release_orange/robotic_no_release_orange_0355.jpg',),\n",
       " tensor([1]))"
      ]
     },
     "execution_count": 21,
     "metadata": {},
     "output_type": "execute_result"
    },
    {
     "data": {
      "text/plain": [
       "(('/home/tzortzis/Data/IRI-CATs-light/real_data/long_tasks/cropped_robotic/test/orange/no_release_orange/robotic_no_release_orange_0356.jpg',),\n",
       " tensor([1]))"
      ]
     },
     "execution_count": 21,
     "metadata": {},
     "output_type": "execute_result"
    },
    {
     "data": {
      "text/plain": [
       "(('/home/tzortzis/Data/IRI-CATs-light/real_data/long_tasks/cropped_robotic/test/orange/no_release_orange/robotic_no_release_orange_0357.jpg',),\n",
       " tensor([1]))"
      ]
     },
     "execution_count": 21,
     "metadata": {},
     "output_type": "execute_result"
    },
    {
     "data": {
      "text/plain": [
       "(('/home/tzortzis/Data/IRI-CATs-light/real_data/long_tasks/cropped_robotic/test/orange/no_release_orange/robotic_no_release_orange_0358.jpg',),\n",
       " tensor([1]))"
      ]
     },
     "execution_count": 21,
     "metadata": {},
     "output_type": "execute_result"
    },
    {
     "data": {
      "text/plain": [
       "(('/home/tzortzis/Data/IRI-CATs-light/real_data/long_tasks/cropped_robotic/test/orange/no_release_orange/robotic_no_release_orange_0359.jpg',),\n",
       " tensor([1]))"
      ]
     },
     "execution_count": 21,
     "metadata": {},
     "output_type": "execute_result"
    },
    {
     "data": {
      "text/plain": [
       "(('/home/tzortzis/Data/IRI-CATs-light/real_data/long_tasks/cropped_robotic/test/orange/no_release_orange/robotic_no_release_orange_0360.jpg',),\n",
       " tensor([1]))"
      ]
     },
     "execution_count": 21,
     "metadata": {},
     "output_type": "execute_result"
    },
    {
     "data": {
      "text/plain": [
       "(('/home/tzortzis/Data/IRI-CATs-light/real_data/long_tasks/cropped_robotic/test/orange/no_release_orange/robotic_no_release_orange_0361.jpg',),\n",
       " tensor([1]))"
      ]
     },
     "execution_count": 21,
     "metadata": {},
     "output_type": "execute_result"
    },
    {
     "data": {
      "text/plain": [
       "(('/home/tzortzis/Data/IRI-CATs-light/real_data/long_tasks/cropped_robotic/test/orange/no_release_orange/robotic_no_release_orange_0362.jpg',),\n",
       " tensor([1]))"
      ]
     },
     "execution_count": 21,
     "metadata": {},
     "output_type": "execute_result"
    },
    {
     "data": {
      "text/plain": [
       "(('/home/tzortzis/Data/IRI-CATs-light/real_data/long_tasks/cropped_robotic/test/orange/no_release_orange/robotic_no_release_orange_0363.jpg',),\n",
       " tensor([1]))"
      ]
     },
     "execution_count": 21,
     "metadata": {},
     "output_type": "execute_result"
    },
    {
     "data": {
      "text/plain": [
       "(('/home/tzortzis/Data/IRI-CATs-light/real_data/long_tasks/cropped_robotic/test/orange/no_release_orange/robotic_no_release_orange_0364.jpg',),\n",
       " tensor([1]))"
      ]
     },
     "execution_count": 21,
     "metadata": {},
     "output_type": "execute_result"
    },
    {
     "data": {
      "text/plain": [
       "(('/home/tzortzis/Data/IRI-CATs-light/real_data/long_tasks/cropped_robotic/test/orange/no_release_orange/robotic_no_release_orange_0365.jpg',),\n",
       " tensor([1]))"
      ]
     },
     "execution_count": 21,
     "metadata": {},
     "output_type": "execute_result"
    },
    {
     "data": {
      "text/plain": [
       "(('/home/tzortzis/Data/IRI-CATs-light/real_data/long_tasks/cropped_robotic/test/orange/no_release_orange/robotic_no_release_orange_0366.jpg',),\n",
       " tensor([1]))"
      ]
     },
     "execution_count": 21,
     "metadata": {},
     "output_type": "execute_result"
    },
    {
     "data": {
      "text/plain": [
       "(('/home/tzortzis/Data/IRI-CATs-light/real_data/long_tasks/cropped_robotic/test/orange/no_release_orange/robotic_no_release_orange_0367.jpg',),\n",
       " tensor([1]))"
      ]
     },
     "execution_count": 21,
     "metadata": {},
     "output_type": "execute_result"
    },
    {
     "data": {
      "text/plain": [
       "(('/home/tzortzis/Data/IRI-CATs-light/real_data/long_tasks/cropped_robotic/test/orange/no_release_orange/robotic_no_release_orange_0368.jpg',),\n",
       " tensor([1]))"
      ]
     },
     "execution_count": 21,
     "metadata": {},
     "output_type": "execute_result"
    },
    {
     "data": {
      "text/plain": [
       "(('/home/tzortzis/Data/IRI-CATs-light/real_data/long_tasks/cropped_robotic/test/orange/no_release_orange/robotic_no_release_orange_0369.jpg',),\n",
       " tensor([1]))"
      ]
     },
     "execution_count": 21,
     "metadata": {},
     "output_type": "execute_result"
    },
    {
     "data": {
      "text/plain": [
       "(('/home/tzortzis/Data/IRI-CATs-light/real_data/long_tasks/cropped_robotic/test/orange/no_release_orange/robotic_no_release_orange_0370.jpg',),\n",
       " tensor([1]))"
      ]
     },
     "execution_count": 21,
     "metadata": {},
     "output_type": "execute_result"
    },
    {
     "data": {
      "text/plain": [
       "(('/home/tzortzis/Data/IRI-CATs-light/real_data/long_tasks/cropped_robotic/test/orange/no_release_orange/robotic_no_release_orange_0371.jpg',),\n",
       " tensor([1]))"
      ]
     },
     "execution_count": 21,
     "metadata": {},
     "output_type": "execute_result"
    },
    {
     "data": {
      "text/plain": [
       "(('/home/tzortzis/Data/IRI-CATs-light/real_data/long_tasks/cropped_robotic/test/orange/no_release_orange/robotic_no_release_orange_0372.jpg',),\n",
       " tensor([1]))"
      ]
     },
     "execution_count": 21,
     "metadata": {},
     "output_type": "execute_result"
    },
    {
     "data": {
      "text/plain": [
       "(('/home/tzortzis/Data/IRI-CATs-light/real_data/long_tasks/cropped_robotic/test/orange/no_release_orange/robotic_no_release_orange_0373.jpg',),\n",
       " tensor([1]))"
      ]
     },
     "execution_count": 21,
     "metadata": {},
     "output_type": "execute_result"
    },
    {
     "data": {
      "text/plain": [
       "(('/home/tzortzis/Data/IRI-CATs-light/real_data/long_tasks/cropped_robotic/test/orange/no_release_orange/robotic_no_release_orange_0374.jpg',),\n",
       " tensor([1]))"
      ]
     },
     "execution_count": 21,
     "metadata": {},
     "output_type": "execute_result"
    },
    {
     "data": {
      "text/plain": [
       "(('/home/tzortzis/Data/IRI-CATs-light/real_data/long_tasks/cropped_robotic/test/orange/no_release_orange/robotic_no_release_orange_0375.jpg',),\n",
       " tensor([1]))"
      ]
     },
     "execution_count": 21,
     "metadata": {},
     "output_type": "execute_result"
    },
    {
     "data": {
      "text/plain": [
       "(('/home/tzortzis/Data/IRI-CATs-light/real_data/long_tasks/cropped_robotic/test/orange/no_release_orange/robotic_no_release_orange_0376.jpg',),\n",
       " tensor([1]))"
      ]
     },
     "execution_count": 21,
     "metadata": {},
     "output_type": "execute_result"
    },
    {
     "data": {
      "text/plain": [
       "(('/home/tzortzis/Data/IRI-CATs-light/real_data/long_tasks/cropped_robotic/test/orange/no_release_orange/robotic_no_release_orange_0377.jpg',),\n",
       " tensor([1]))"
      ]
     },
     "execution_count": 21,
     "metadata": {},
     "output_type": "execute_result"
    },
    {
     "data": {
      "text/plain": [
       "(('/home/tzortzis/Data/IRI-CATs-light/real_data/long_tasks/cropped_robotic/test/orange/no_release_orange/robotic_no_release_orange_0378.jpg',),\n",
       " tensor([1]))"
      ]
     },
     "execution_count": 21,
     "metadata": {},
     "output_type": "execute_result"
    },
    {
     "data": {
      "text/plain": [
       "(('/home/tzortzis/Data/IRI-CATs-light/real_data/long_tasks/cropped_robotic/test/orange/no_release_orange/robotic_no_release_orange_0379.jpg',),\n",
       " tensor([1]))"
      ]
     },
     "execution_count": 21,
     "metadata": {},
     "output_type": "execute_result"
    },
    {
     "data": {
      "text/plain": [
       "(('/home/tzortzis/Data/IRI-CATs-light/real_data/long_tasks/cropped_robotic/test/orange/no_release_orange/robotic_no_release_orange_0380.jpg',),\n",
       " tensor([1]))"
      ]
     },
     "execution_count": 21,
     "metadata": {},
     "output_type": "execute_result"
    },
    {
     "data": {
      "text/plain": [
       "(('/home/tzortzis/Data/IRI-CATs-light/real_data/long_tasks/cropped_robotic/test/orange/no_release_orange/robotic_no_release_orange_0381.jpg',),\n",
       " tensor([1]))"
      ]
     },
     "execution_count": 21,
     "metadata": {},
     "output_type": "execute_result"
    },
    {
     "data": {
      "text/plain": [
       "(('/home/tzortzis/Data/IRI-CATs-light/real_data/long_tasks/cropped_robotic/test/orange/no_release_orange/robotic_no_release_orange_0382.jpg',),\n",
       " tensor([1]))"
      ]
     },
     "execution_count": 21,
     "metadata": {},
     "output_type": "execute_result"
    },
    {
     "data": {
      "text/plain": [
       "(('/home/tzortzis/Data/IRI-CATs-light/real_data/long_tasks/cropped_robotic/test/orange/no_release_orange/robotic_no_release_orange_0383.jpg',),\n",
       " tensor([1]))"
      ]
     },
     "execution_count": 21,
     "metadata": {},
     "output_type": "execute_result"
    },
    {
     "data": {
      "text/plain": [
       "(('/home/tzortzis/Data/IRI-CATs-light/real_data/long_tasks/cropped_robotic/test/orange/no_release_orange/robotic_no_release_orange_0384.jpg',),\n",
       " tensor([1]))"
      ]
     },
     "execution_count": 21,
     "metadata": {},
     "output_type": "execute_result"
    },
    {
     "data": {
      "text/plain": [
       "(('/home/tzortzis/Data/IRI-CATs-light/real_data/long_tasks/cropped_robotic/test/orange/no_release_orange/robotic_no_release_orange_0385.jpg',),\n",
       " tensor([1]))"
      ]
     },
     "execution_count": 21,
     "metadata": {},
     "output_type": "execute_result"
    },
    {
     "data": {
      "text/plain": [
       "(('/home/tzortzis/Data/IRI-CATs-light/real_data/long_tasks/cropped_robotic/test/orange/no_release_orange/robotic_no_release_orange_0386.jpg',),\n",
       " tensor([1]))"
      ]
     },
     "execution_count": 21,
     "metadata": {},
     "output_type": "execute_result"
    },
    {
     "data": {
      "text/plain": [
       "(('/home/tzortzis/Data/IRI-CATs-light/real_data/long_tasks/cropped_robotic/test/orange/no_release_orange/robotic_no_release_orange_0387.jpg',),\n",
       " tensor([1]))"
      ]
     },
     "execution_count": 21,
     "metadata": {},
     "output_type": "execute_result"
    },
    {
     "data": {
      "text/plain": [
       "(('/home/tzortzis/Data/IRI-CATs-light/real_data/long_tasks/cropped_robotic/test/orange/no_release_orange/robotic_no_release_orange_0388.jpg',),\n",
       " tensor([1]))"
      ]
     },
     "execution_count": 21,
     "metadata": {},
     "output_type": "execute_result"
    },
    {
     "data": {
      "text/plain": [
       "(('/home/tzortzis/Data/IRI-CATs-light/real_data/long_tasks/cropped_robotic/test/orange/no_release_orange/robotic_no_release_orange_0389.jpg',),\n",
       " tensor([1]))"
      ]
     },
     "execution_count": 21,
     "metadata": {},
     "output_type": "execute_result"
    },
    {
     "data": {
      "text/plain": [
       "(('/home/tzortzis/Data/IRI-CATs-light/real_data/long_tasks/cropped_robotic/test/orange/no_release_orange/robotic_no_release_orange_0390.jpg',),\n",
       " tensor([1]))"
      ]
     },
     "execution_count": 21,
     "metadata": {},
     "output_type": "execute_result"
    },
    {
     "data": {
      "text/plain": [
       "(('/home/tzortzis/Data/IRI-CATs-light/real_data/long_tasks/cropped_robotic/test/orange/no_release_orange/robotic_no_release_orange_0391.jpg',),\n",
       " tensor([1]))"
      ]
     },
     "execution_count": 21,
     "metadata": {},
     "output_type": "execute_result"
    },
    {
     "data": {
      "text/plain": [
       "(('/home/tzortzis/Data/IRI-CATs-light/real_data/long_tasks/cropped_robotic/test/orange/no_release_orange/robotic_no_release_orange_0392.jpg',),\n",
       " tensor([1]))"
      ]
     },
     "execution_count": 21,
     "metadata": {},
     "output_type": "execute_result"
    },
    {
     "data": {
      "text/plain": [
       "(('/home/tzortzis/Data/IRI-CATs-light/real_data/long_tasks/cropped_robotic/test/orange/no_release_orange/robotic_no_release_orange_0393.jpg',),\n",
       " tensor([1]))"
      ]
     },
     "execution_count": 21,
     "metadata": {},
     "output_type": "execute_result"
    },
    {
     "data": {
      "text/plain": [
       "(('/home/tzortzis/Data/IRI-CATs-light/real_data/long_tasks/cropped_robotic/test/orange/no_release_orange/robotic_no_release_orange_0394.jpg',),\n",
       " tensor([1]))"
      ]
     },
     "execution_count": 21,
     "metadata": {},
     "output_type": "execute_result"
    },
    {
     "data": {
      "text/plain": [
       "(('/home/tzortzis/Data/IRI-CATs-light/real_data/long_tasks/cropped_robotic/test/orange/no_release_orange/robotic_no_release_orange_0395.jpg',),\n",
       " tensor([1]))"
      ]
     },
     "execution_count": 21,
     "metadata": {},
     "output_type": "execute_result"
    },
    {
     "data": {
      "text/plain": [
       "(('/home/tzortzis/Data/IRI-CATs-light/real_data/long_tasks/cropped_robotic/test/orange/no_release_orange/robotic_no_release_orange_0396.jpg',),\n",
       " tensor([1]))"
      ]
     },
     "execution_count": 21,
     "metadata": {},
     "output_type": "execute_result"
    },
    {
     "data": {
      "text/plain": [
       "(('/home/tzortzis/Data/IRI-CATs-light/real_data/long_tasks/cropped_robotic/test/orange/no_release_orange/robotic_no_release_orange_0397.jpg',),\n",
       " tensor([1]))"
      ]
     },
     "execution_count": 21,
     "metadata": {},
     "output_type": "execute_result"
    },
    {
     "data": {
      "text/plain": [
       "(('/home/tzortzis/Data/IRI-CATs-light/real_data/long_tasks/cropped_robotic/test/orange/no_release_orange/robotic_no_release_orange_0398.jpg',),\n",
       " tensor([1]))"
      ]
     },
     "execution_count": 21,
     "metadata": {},
     "output_type": "execute_result"
    },
    {
     "data": {
      "text/plain": [
       "(('/home/tzortzis/Data/IRI-CATs-light/real_data/long_tasks/cropped_robotic/test/orange/no_release_orange/robotic_no_release_orange_0399.jpg',),\n",
       " tensor([1]))"
      ]
     },
     "execution_count": 21,
     "metadata": {},
     "output_type": "execute_result"
    },
    {
     "data": {
      "text/plain": [
       "(('/home/tzortzis/Data/IRI-CATs-light/real_data/long_tasks/cropped_robotic/test/orange/no_release_orange/robotic_no_release_orange_0400.jpg',),\n",
       " tensor([1]))"
      ]
     },
     "execution_count": 21,
     "metadata": {},
     "output_type": "execute_result"
    },
    {
     "data": {
      "text/plain": [
       "(('/home/tzortzis/Data/IRI-CATs-light/real_data/long_tasks/cropped_robotic/test/orange/no_release_orange/robotic_no_release_orange_0401.jpg',),\n",
       " tensor([1]))"
      ]
     },
     "execution_count": 21,
     "metadata": {},
     "output_type": "execute_result"
    },
    {
     "data": {
      "text/plain": [
       "(('/home/tzortzis/Data/IRI-CATs-light/real_data/long_tasks/cropped_robotic/test/orange/no_release_orange/robotic_no_release_orange_0402.jpg',),\n",
       " tensor([1]))"
      ]
     },
     "execution_count": 21,
     "metadata": {},
     "output_type": "execute_result"
    },
    {
     "data": {
      "text/plain": [
       "(('/home/tzortzis/Data/IRI-CATs-light/real_data/long_tasks/cropped_robotic/test/orange/no_release_orange/robotic_no_release_orange_0403.jpg',),\n",
       " tensor([1]))"
      ]
     },
     "execution_count": 21,
     "metadata": {},
     "output_type": "execute_result"
    },
    {
     "data": {
      "text/plain": [
       "(('/home/tzortzis/Data/IRI-CATs-light/real_data/long_tasks/cropped_robotic/test/orange/no_release_orange/robotic_no_release_orange_0404.jpg',),\n",
       " tensor([1]))"
      ]
     },
     "execution_count": 21,
     "metadata": {},
     "output_type": "execute_result"
    },
    {
     "data": {
      "text/plain": [
       "(('/home/tzortzis/Data/IRI-CATs-light/real_data/long_tasks/cropped_robotic/test/orange/no_release_orange/robotic_no_release_orange_0405.jpg',),\n",
       " tensor([1]))"
      ]
     },
     "execution_count": 21,
     "metadata": {},
     "output_type": "execute_result"
    },
    {
     "data": {
      "text/plain": [
       "(('/home/tzortzis/Data/IRI-CATs-light/real_data/long_tasks/cropped_robotic/test/orange/no_release_orange/robotic_no_release_orange_0406.jpg',),\n",
       " tensor([1]))"
      ]
     },
     "execution_count": 21,
     "metadata": {},
     "output_type": "execute_result"
    },
    {
     "data": {
      "text/plain": [
       "(('/home/tzortzis/Data/IRI-CATs-light/real_data/long_tasks/cropped_robotic/test/orange/no_release_orange/robotic_no_release_orange_0407.jpg',),\n",
       " tensor([1]))"
      ]
     },
     "execution_count": 21,
     "metadata": {},
     "output_type": "execute_result"
    },
    {
     "data": {
      "text/plain": [
       "(('/home/tzortzis/Data/IRI-CATs-light/real_data/long_tasks/cropped_robotic/test/orange/no_release_orange/robotic_no_release_orange_0408.jpg',),\n",
       " tensor([1]))"
      ]
     },
     "execution_count": 21,
     "metadata": {},
     "output_type": "execute_result"
    },
    {
     "data": {
      "text/plain": [
       "(('/home/tzortzis/Data/IRI-CATs-light/real_data/long_tasks/cropped_robotic/test/orange/no_release_orange/robotic_no_release_orange_0409.jpg',),\n",
       " tensor([1]))"
      ]
     },
     "execution_count": 21,
     "metadata": {},
     "output_type": "execute_result"
    },
    {
     "data": {
      "text/plain": [
       "(('/home/tzortzis/Data/IRI-CATs-light/real_data/long_tasks/cropped_robotic/test/orange/no_release_orange/robotic_no_release_orange_0410.jpg',),\n",
       " tensor([1]))"
      ]
     },
     "execution_count": 21,
     "metadata": {},
     "output_type": "execute_result"
    },
    {
     "data": {
      "text/plain": [
       "(('/home/tzortzis/Data/IRI-CATs-light/real_data/long_tasks/cropped_robotic/test/orange/no_release_orange/robotic_no_release_orange_0411.jpg',),\n",
       " tensor([1]))"
      ]
     },
     "execution_count": 21,
     "metadata": {},
     "output_type": "execute_result"
    },
    {
     "data": {
      "text/plain": [
       "(('/home/tzortzis/Data/IRI-CATs-light/real_data/long_tasks/cropped_robotic/test/orange/no_release_orange/robotic_no_release_orange_0412.jpg',),\n",
       " tensor([1]))"
      ]
     },
     "execution_count": 21,
     "metadata": {},
     "output_type": "execute_result"
    },
    {
     "data": {
      "text/plain": [
       "(('/home/tzortzis/Data/IRI-CATs-light/real_data/long_tasks/cropped_robotic/test/orange/no_release_orange/robotic_no_release_orange_0413.jpg',),\n",
       " tensor([1]))"
      ]
     },
     "execution_count": 21,
     "metadata": {},
     "output_type": "execute_result"
    },
    {
     "data": {
      "text/plain": [
       "(('/home/tzortzis/Data/IRI-CATs-light/real_data/long_tasks/cropped_robotic/test/orange/no_release_orange/robotic_no_release_orange_0414.jpg',),\n",
       " tensor([1]))"
      ]
     },
     "execution_count": 21,
     "metadata": {},
     "output_type": "execute_result"
    },
    {
     "data": {
      "text/plain": [
       "(('/home/tzortzis/Data/IRI-CATs-light/real_data/long_tasks/cropped_robotic/test/orange/no_release_orange/robotic_no_release_orange_0415.jpg',),\n",
       " tensor([1]))"
      ]
     },
     "execution_count": 21,
     "metadata": {},
     "output_type": "execute_result"
    },
    {
     "data": {
      "text/plain": [
       "(('/home/tzortzis/Data/IRI-CATs-light/real_data/long_tasks/cropped_robotic/test/orange/no_release_orange/robotic_no_release_orange_0416.jpg',),\n",
       " tensor([1]))"
      ]
     },
     "execution_count": 21,
     "metadata": {},
     "output_type": "execute_result"
    },
    {
     "data": {
      "text/plain": [
       "(('/home/tzortzis/Data/IRI-CATs-light/real_data/long_tasks/cropped_robotic/test/orange/no_release_orange/robotic_no_release_orange_0417.jpg',),\n",
       " tensor([1]))"
      ]
     },
     "execution_count": 21,
     "metadata": {},
     "output_type": "execute_result"
    },
    {
     "data": {
      "text/plain": [
       "(('/home/tzortzis/Data/IRI-CATs-light/real_data/long_tasks/cropped_robotic/test/orange/no_release_orange/robotic_no_release_orange_0418.jpg',),\n",
       " tensor([1]))"
      ]
     },
     "execution_count": 21,
     "metadata": {},
     "output_type": "execute_result"
    },
    {
     "data": {
      "text/plain": [
       "(('/home/tzortzis/Data/IRI-CATs-light/real_data/long_tasks/cropped_robotic/test/orange/no_release_orange/robotic_no_release_orange_0419.jpg',),\n",
       " tensor([1]))"
      ]
     },
     "execution_count": 21,
     "metadata": {},
     "output_type": "execute_result"
    },
    {
     "data": {
      "text/plain": [
       "(('/home/tzortzis/Data/IRI-CATs-light/real_data/long_tasks/cropped_robotic/test/orange/no_release_orange/robotic_no_release_orange_0420.jpg',),\n",
       " tensor([1]))"
      ]
     },
     "execution_count": 21,
     "metadata": {},
     "output_type": "execute_result"
    },
    {
     "data": {
      "text/plain": [
       "(('/home/tzortzis/Data/IRI-CATs-light/real_data/long_tasks/cropped_robotic/test/orange/no_release_orange/robotic_no_release_orange_0421.jpg',),\n",
       " tensor([1]))"
      ]
     },
     "execution_count": 21,
     "metadata": {},
     "output_type": "execute_result"
    },
    {
     "data": {
      "text/plain": [
       "(('/home/tzortzis/Data/IRI-CATs-light/real_data/long_tasks/cropped_robotic/test/orange/no_release_orange/robotic_no_release_orange_0422.jpg',),\n",
       " tensor([1]))"
      ]
     },
     "execution_count": 21,
     "metadata": {},
     "output_type": "execute_result"
    },
    {
     "data": {
      "text/plain": [
       "(('/home/tzortzis/Data/IRI-CATs-light/real_data/long_tasks/cropped_robotic/test/orange/no_release_orange/robotic_no_release_orange_0423.jpg',),\n",
       " tensor([1]))"
      ]
     },
     "execution_count": 21,
     "metadata": {},
     "output_type": "execute_result"
    },
    {
     "data": {
      "text/plain": [
       "(('/home/tzortzis/Data/IRI-CATs-light/real_data/long_tasks/cropped_robotic/test/orange/no_release_orange/robotic_no_release_orange_0424.jpg',),\n",
       " tensor([1]))"
      ]
     },
     "execution_count": 21,
     "metadata": {},
     "output_type": "execute_result"
    },
    {
     "data": {
      "text/plain": [
       "(('/home/tzortzis/Data/IRI-CATs-light/real_data/long_tasks/cropped_robotic/test/orange/no_release_orange/robotic_no_release_orange_0425.jpg',),\n",
       " tensor([1]))"
      ]
     },
     "execution_count": 21,
     "metadata": {},
     "output_type": "execute_result"
    },
    {
     "data": {
      "text/plain": [
       "(('/home/tzortzis/Data/IRI-CATs-light/real_data/long_tasks/cropped_robotic/test/orange/no_release_orange/robotic_no_release_orange_0426.jpg',),\n",
       " tensor([1]))"
      ]
     },
     "execution_count": 21,
     "metadata": {},
     "output_type": "execute_result"
    },
    {
     "data": {
      "text/plain": [
       "(('/home/tzortzis/Data/IRI-CATs-light/real_data/long_tasks/cropped_robotic/test/orange/no_release_orange/robotic_no_release_orange_0427.jpg',),\n",
       " tensor([1]))"
      ]
     },
     "execution_count": 21,
     "metadata": {},
     "output_type": "execute_result"
    },
    {
     "data": {
      "text/plain": [
       "(('/home/tzortzis/Data/IRI-CATs-light/real_data/long_tasks/cropped_robotic/test/orange/no_release_orange/robotic_no_release_orange_0428.jpg',),\n",
       " tensor([1]))"
      ]
     },
     "execution_count": 21,
     "metadata": {},
     "output_type": "execute_result"
    },
    {
     "data": {
      "text/plain": [
       "(('/home/tzortzis/Data/IRI-CATs-light/real_data/long_tasks/cropped_robotic/test/orange/no_release_orange/robotic_no_release_orange_0429.jpg',),\n",
       " tensor([1]))"
      ]
     },
     "execution_count": 21,
     "metadata": {},
     "output_type": "execute_result"
    },
    {
     "data": {
      "text/plain": [
       "(('/home/tzortzis/Data/IRI-CATs-light/real_data/long_tasks/cropped_robotic/test/orange/no_release_orange/robotic_no_release_orange_0430.jpg',),\n",
       " tensor([1]))"
      ]
     },
     "execution_count": 21,
     "metadata": {},
     "output_type": "execute_result"
    },
    {
     "data": {
      "text/plain": [
       "(('/home/tzortzis/Data/IRI-CATs-light/real_data/long_tasks/cropped_robotic/test/orange/no_release_orange/robotic_no_release_orange_0431.jpg',),\n",
       " tensor([1]))"
      ]
     },
     "execution_count": 21,
     "metadata": {},
     "output_type": "execute_result"
    },
    {
     "data": {
      "text/plain": [
       "(('/home/tzortzis/Data/IRI-CATs-light/real_data/long_tasks/cropped_robotic/test/orange/no_release_orange/robotic_no_release_orange_0432.jpg',),\n",
       " tensor([1]))"
      ]
     },
     "execution_count": 21,
     "metadata": {},
     "output_type": "execute_result"
    },
    {
     "data": {
      "text/plain": [
       "(('/home/tzortzis/Data/IRI-CATs-light/real_data/long_tasks/cropped_robotic/test/orange/no_release_orange/robotic_no_release_orange_0433.jpg',),\n",
       " tensor([1]))"
      ]
     },
     "execution_count": 21,
     "metadata": {},
     "output_type": "execute_result"
    },
    {
     "data": {
      "text/plain": [
       "(('/home/tzortzis/Data/IRI-CATs-light/real_data/long_tasks/cropped_robotic/test/orange/no_release_orange/robotic_no_release_orange_0434.jpg',),\n",
       " tensor([1]))"
      ]
     },
     "execution_count": 21,
     "metadata": {},
     "output_type": "execute_result"
    },
    {
     "data": {
      "text/plain": [
       "(('/home/tzortzis/Data/IRI-CATs-light/real_data/long_tasks/cropped_robotic/test/orange/no_release_orange/robotic_no_release_orange_0435.jpg',),\n",
       " tensor([1]))"
      ]
     },
     "execution_count": 21,
     "metadata": {},
     "output_type": "execute_result"
    },
    {
     "data": {
      "text/plain": [
       "(('/home/tzortzis/Data/IRI-CATs-light/real_data/long_tasks/cropped_robotic/test/orange/no_release_orange/robotic_no_release_orange_0436.jpg',),\n",
       " tensor([1]))"
      ]
     },
     "execution_count": 21,
     "metadata": {},
     "output_type": "execute_result"
    },
    {
     "data": {
      "text/plain": [
       "(('/home/tzortzis/Data/IRI-CATs-light/real_data/long_tasks/cropped_robotic/test/orange/no_release_orange/robotic_no_release_orange_0437.jpg',),\n",
       " tensor([1]))"
      ]
     },
     "execution_count": 21,
     "metadata": {},
     "output_type": "execute_result"
    },
    {
     "data": {
      "text/plain": [
       "(('/home/tzortzis/Data/IRI-CATs-light/real_data/long_tasks/cropped_robotic/test/orange/no_release_orange/robotic_no_release_orange_0438.jpg',),\n",
       " tensor([1]))"
      ]
     },
     "execution_count": 21,
     "metadata": {},
     "output_type": "execute_result"
    },
    {
     "data": {
      "text/plain": [
       "(('/home/tzortzis/Data/IRI-CATs-light/real_data/long_tasks/cropped_robotic/test/orange/no_release_orange/robotic_no_release_orange_0439.jpg',),\n",
       " tensor([1]))"
      ]
     },
     "execution_count": 21,
     "metadata": {},
     "output_type": "execute_result"
    },
    {
     "data": {
      "text/plain": [
       "(('/home/tzortzis/Data/IRI-CATs-light/real_data/long_tasks/cropped_robotic/test/orange/no_release_orange/robotic_no_release_orange_0440.jpg',),\n",
       " tensor([1]))"
      ]
     },
     "execution_count": 21,
     "metadata": {},
     "output_type": "execute_result"
    },
    {
     "data": {
      "text/plain": [
       "(('/home/tzortzis/Data/IRI-CATs-light/real_data/long_tasks/cropped_robotic/test/orange/no_release_orange/robotic_no_release_orange_0441.jpg',),\n",
       " tensor([1]))"
      ]
     },
     "execution_count": 21,
     "metadata": {},
     "output_type": "execute_result"
    },
    {
     "data": {
      "text/plain": [
       "(('/home/tzortzis/Data/IRI-CATs-light/real_data/long_tasks/cropped_robotic/test/orange/no_release_orange/robotic_no_release_orange_0442.jpg',),\n",
       " tensor([1]))"
      ]
     },
     "execution_count": 21,
     "metadata": {},
     "output_type": "execute_result"
    },
    {
     "data": {
      "text/plain": [
       "(('/home/tzortzis/Data/IRI-CATs-light/real_data/long_tasks/cropped_robotic/test/orange/no_release_orange/robotic_no_release_orange_0443.jpg',),\n",
       " tensor([1]))"
      ]
     },
     "execution_count": 21,
     "metadata": {},
     "output_type": "execute_result"
    },
    {
     "data": {
      "text/plain": [
       "(('/home/tzortzis/Data/IRI-CATs-light/real_data/long_tasks/cropped_robotic/test/orange/no_release_orange/robotic_no_release_orange_0444.jpg',),\n",
       " tensor([1]))"
      ]
     },
     "execution_count": 21,
     "metadata": {},
     "output_type": "execute_result"
    },
    {
     "data": {
      "text/plain": [
       "(('/home/tzortzis/Data/IRI-CATs-light/real_data/long_tasks/cropped_robotic/test/orange/no_release_orange/robotic_no_release_orange_0445.jpg',),\n",
       " tensor([1]))"
      ]
     },
     "execution_count": 21,
     "metadata": {},
     "output_type": "execute_result"
    },
    {
     "data": {
      "text/plain": [
       "(('/home/tzortzis/Data/IRI-CATs-light/real_data/long_tasks/cropped_robotic/test/orange/no_release_orange/robotic_no_release_orange_0446.jpg',),\n",
       " tensor([1]))"
      ]
     },
     "execution_count": 21,
     "metadata": {},
     "output_type": "execute_result"
    },
    {
     "data": {
      "text/plain": [
       "(('/home/tzortzis/Data/IRI-CATs-light/real_data/long_tasks/cropped_robotic/test/orange/no_release_orange/robotic_no_release_orange_0447.jpg',),\n",
       " tensor([1]))"
      ]
     },
     "execution_count": 21,
     "metadata": {},
     "output_type": "execute_result"
    },
    {
     "data": {
      "text/plain": [
       "(('/home/tzortzis/Data/IRI-CATs-light/real_data/long_tasks/cropped_robotic/test/orange/no_release_orange/robotic_no_release_orange_0448.jpg',),\n",
       " tensor([1]))"
      ]
     },
     "execution_count": 21,
     "metadata": {},
     "output_type": "execute_result"
    },
    {
     "data": {
      "text/plain": [
       "(('/home/tzortzis/Data/IRI-CATs-light/real_data/long_tasks/cropped_robotic/test/orange/no_release_orange/robotic_no_release_orange_0449.jpg',),\n",
       " tensor([1]))"
      ]
     },
     "execution_count": 21,
     "metadata": {},
     "output_type": "execute_result"
    },
    {
     "data": {
      "text/plain": [
       "(('/home/tzortzis/Data/IRI-CATs-light/real_data/long_tasks/cropped_robotic/test/orange/no_release_orange/robotic_no_release_orange_0450.jpg',),\n",
       " tensor([1]))"
      ]
     },
     "execution_count": 21,
     "metadata": {},
     "output_type": "execute_result"
    },
    {
     "data": {
      "text/plain": [
       "(('/home/tzortzis/Data/IRI-CATs-light/real_data/long_tasks/cropped_robotic/test/orange/no_release_orange/robotic_no_release_orange_0451.jpg',),\n",
       " tensor([1]))"
      ]
     },
     "execution_count": 21,
     "metadata": {},
     "output_type": "execute_result"
    },
    {
     "data": {
      "text/plain": [
       "(('/home/tzortzis/Data/IRI-CATs-light/real_data/long_tasks/cropped_robotic/test/orange/no_release_orange/robotic_no_release_orange_0452.jpg',),\n",
       " tensor([1]))"
      ]
     },
     "execution_count": 21,
     "metadata": {},
     "output_type": "execute_result"
    },
    {
     "data": {
      "text/plain": [
       "(('/home/tzortzis/Data/IRI-CATs-light/real_data/long_tasks/cropped_robotic/test/orange/no_release_orange/robotic_no_release_orange_0453.jpg',),\n",
       " tensor([1]))"
      ]
     },
     "execution_count": 21,
     "metadata": {},
     "output_type": "execute_result"
    },
    {
     "data": {
      "text/plain": [
       "(('/home/tzortzis/Data/IRI-CATs-light/real_data/long_tasks/cropped_robotic/test/orange/no_release_orange/robotic_no_release_orange_0454.jpg',),\n",
       " tensor([1]))"
      ]
     },
     "execution_count": 21,
     "metadata": {},
     "output_type": "execute_result"
    },
    {
     "data": {
      "text/plain": [
       "(('/home/tzortzis/Data/IRI-CATs-light/real_data/long_tasks/cropped_robotic/test/orange/no_release_orange/robotic_no_release_orange_0455.jpg',),\n",
       " tensor([1]))"
      ]
     },
     "execution_count": 21,
     "metadata": {},
     "output_type": "execute_result"
    },
    {
     "data": {
      "text/plain": [
       "(('/home/tzortzis/Data/IRI-CATs-light/real_data/long_tasks/cropped_robotic/test/orange/no_release_orange/robotic_no_release_orange_0456.jpg',),\n",
       " tensor([1]))"
      ]
     },
     "execution_count": 21,
     "metadata": {},
     "output_type": "execute_result"
    },
    {
     "data": {
      "text/plain": [
       "(('/home/tzortzis/Data/IRI-CATs-light/real_data/long_tasks/cropped_robotic/test/orange/no_release_orange/robotic_no_release_orange_0457.jpg',),\n",
       " tensor([1]))"
      ]
     },
     "execution_count": 21,
     "metadata": {},
     "output_type": "execute_result"
    },
    {
     "data": {
      "text/plain": [
       "(('/home/tzortzis/Data/IRI-CATs-light/real_data/long_tasks/cropped_robotic/test/orange/no_release_orange/robotic_no_release_orange_0458.jpg',),\n",
       " tensor([1]))"
      ]
     },
     "execution_count": 21,
     "metadata": {},
     "output_type": "execute_result"
    },
    {
     "data": {
      "text/plain": [
       "(('/home/tzortzis/Data/IRI-CATs-light/real_data/long_tasks/cropped_robotic/test/orange/no_release_orange/robotic_no_release_orange_0459.jpg',),\n",
       " tensor([1]))"
      ]
     },
     "execution_count": 21,
     "metadata": {},
     "output_type": "execute_result"
    },
    {
     "data": {
      "text/plain": [
       "(('/home/tzortzis/Data/IRI-CATs-light/real_data/long_tasks/cropped_robotic/test/orange/no_release_orange/robotic_no_release_orange_0460.jpg',),\n",
       " tensor([1]))"
      ]
     },
     "execution_count": 21,
     "metadata": {},
     "output_type": "execute_result"
    },
    {
     "data": {
      "text/plain": [
       "(('/home/tzortzis/Data/IRI-CATs-light/real_data/long_tasks/cropped_robotic/test/orange/no_release_orange/robotic_no_release_orange_0461.jpg',),\n",
       " tensor([1]))"
      ]
     },
     "execution_count": 21,
     "metadata": {},
     "output_type": "execute_result"
    },
    {
     "data": {
      "text/plain": [
       "(('/home/tzortzis/Data/IRI-CATs-light/real_data/long_tasks/cropped_robotic/test/orange/no_release_orange/robotic_no_release_orange_0462.jpg',),\n",
       " tensor([1]))"
      ]
     },
     "execution_count": 21,
     "metadata": {},
     "output_type": "execute_result"
    },
    {
     "data": {
      "text/plain": [
       "(('/home/tzortzis/Data/IRI-CATs-light/real_data/long_tasks/cropped_robotic/test/orange/no_release_orange/robotic_no_release_orange_0463.jpg',),\n",
       " tensor([1]))"
      ]
     },
     "execution_count": 21,
     "metadata": {},
     "output_type": "execute_result"
    },
    {
     "data": {
      "text/plain": [
       "(('/home/tzortzis/Data/IRI-CATs-light/real_data/long_tasks/cropped_robotic/test/orange/no_release_orange/robotic_no_release_orange_0464.jpg',),\n",
       " tensor([1]))"
      ]
     },
     "execution_count": 21,
     "metadata": {},
     "output_type": "execute_result"
    },
    {
     "data": {
      "text/plain": [
       "(('/home/tzortzis/Data/IRI-CATs-light/real_data/long_tasks/cropped_robotic/test/orange/no_release_orange/robotic_no_release_orange_0465.jpg',),\n",
       " tensor([1]))"
      ]
     },
     "execution_count": 21,
     "metadata": {},
     "output_type": "execute_result"
    },
    {
     "data": {
      "text/plain": [
       "(('/home/tzortzis/Data/IRI-CATs-light/real_data/long_tasks/cropped_robotic/test/orange/no_release_orange/robotic_no_release_orange_0466.jpg',),\n",
       " tensor([1]))"
      ]
     },
     "execution_count": 21,
     "metadata": {},
     "output_type": "execute_result"
    },
    {
     "data": {
      "text/plain": [
       "(('/home/tzortzis/Data/IRI-CATs-light/real_data/long_tasks/cropped_robotic/test/orange/no_release_orange/robotic_no_release_orange_0467.jpg',),\n",
       " tensor([1]))"
      ]
     },
     "execution_count": 21,
     "metadata": {},
     "output_type": "execute_result"
    },
    {
     "data": {
      "text/plain": [
       "(('/home/tzortzis/Data/IRI-CATs-light/real_data/long_tasks/cropped_robotic/test/orange/no_release_orange/robotic_no_release_orange_0468.jpg',),\n",
       " tensor([1]))"
      ]
     },
     "execution_count": 21,
     "metadata": {},
     "output_type": "execute_result"
    },
    {
     "data": {
      "text/plain": [
       "(('/home/tzortzis/Data/IRI-CATs-light/real_data/long_tasks/cropped_robotic/test/orange/no_release_orange/robotic_no_release_orange_0469.jpg',),\n",
       " tensor([1]))"
      ]
     },
     "execution_count": 21,
     "metadata": {},
     "output_type": "execute_result"
    },
    {
     "data": {
      "text/plain": [
       "(('/home/tzortzis/Data/IRI-CATs-light/real_data/long_tasks/cropped_robotic/test/orange/no_release_orange/robotic_no_release_orange_0470.jpg',),\n",
       " tensor([1]))"
      ]
     },
     "execution_count": 21,
     "metadata": {},
     "output_type": "execute_result"
    },
    {
     "data": {
      "text/plain": [
       "(('/home/tzortzis/Data/IRI-CATs-light/real_data/long_tasks/cropped_robotic/test/orange/no_release_orange/robotic_no_release_orange_0471.jpg',),\n",
       " tensor([1]))"
      ]
     },
     "execution_count": 21,
     "metadata": {},
     "output_type": "execute_result"
    },
    {
     "data": {
      "text/plain": [
       "(('/home/tzortzis/Data/IRI-CATs-light/real_data/long_tasks/cropped_robotic/test/orange/no_release_orange/robotic_no_release_orange_0472.jpg',),\n",
       " tensor([1]))"
      ]
     },
     "execution_count": 21,
     "metadata": {},
     "output_type": "execute_result"
    },
    {
     "data": {
      "text/plain": [
       "(('/home/tzortzis/Data/IRI-CATs-light/real_data/long_tasks/cropped_robotic/test/orange/no_release_orange/robotic_no_release_orange_0473.jpg',),\n",
       " tensor([1]))"
      ]
     },
     "execution_count": 21,
     "metadata": {},
     "output_type": "execute_result"
    },
    {
     "data": {
      "text/plain": [
       "(('/home/tzortzis/Data/IRI-CATs-light/real_data/long_tasks/cropped_robotic/test/orange/no_release_orange/robotic_no_release_orange_0474.jpg',),\n",
       " tensor([1]))"
      ]
     },
     "execution_count": 21,
     "metadata": {},
     "output_type": "execute_result"
    },
    {
     "data": {
      "text/plain": [
       "(('/home/tzortzis/Data/IRI-CATs-light/real_data/long_tasks/cropped_robotic/test/orange/no_release_orange/robotic_no_release_orange_0475.jpg',),\n",
       " tensor([1]))"
      ]
     },
     "execution_count": 21,
     "metadata": {},
     "output_type": "execute_result"
    },
    {
     "data": {
      "text/plain": [
       "(('/home/tzortzis/Data/IRI-CATs-light/real_data/long_tasks/cropped_robotic/test/orange/no_release_orange/robotic_no_release_orange_0476.jpg',),\n",
       " tensor([1]))"
      ]
     },
     "execution_count": 21,
     "metadata": {},
     "output_type": "execute_result"
    },
    {
     "data": {
      "text/plain": [
       "(('/home/tzortzis/Data/IRI-CATs-light/real_data/long_tasks/cropped_robotic/test/orange/no_release_orange/robotic_no_release_orange_0477.jpg',),\n",
       " tensor([1]))"
      ]
     },
     "execution_count": 21,
     "metadata": {},
     "output_type": "execute_result"
    },
    {
     "data": {
      "text/plain": [
       "(('/home/tzortzis/Data/IRI-CATs-light/real_data/long_tasks/cropped_robotic/test/orange/no_release_orange/robotic_no_release_orange_0478.jpg',),\n",
       " tensor([1]))"
      ]
     },
     "execution_count": 21,
     "metadata": {},
     "output_type": "execute_result"
    },
    {
     "data": {
      "text/plain": [
       "(('/home/tzortzis/Data/IRI-CATs-light/real_data/long_tasks/cropped_robotic/test/orange/no_release_orange/robotic_no_release_orange_0479.jpg',),\n",
       " tensor([1]))"
      ]
     },
     "execution_count": 21,
     "metadata": {},
     "output_type": "execute_result"
    },
    {
     "data": {
      "text/plain": [
       "(('/home/tzortzis/Data/IRI-CATs-light/real_data/long_tasks/cropped_robotic/test/orange/no_release_orange/robotic_no_release_orange_0480.jpg',),\n",
       " tensor([1]))"
      ]
     },
     "execution_count": 21,
     "metadata": {},
     "output_type": "execute_result"
    },
    {
     "data": {
      "text/plain": [
       "(('/home/tzortzis/Data/IRI-CATs-light/real_data/long_tasks/cropped_robotic/test/orange/no_release_orange/robotic_no_release_orange_0481.jpg',),\n",
       " tensor([1]))"
      ]
     },
     "execution_count": 21,
     "metadata": {},
     "output_type": "execute_result"
    },
    {
     "data": {
      "text/plain": [
       "(('/home/tzortzis/Data/IRI-CATs-light/real_data/long_tasks/cropped_robotic/test/orange/no_release_orange/robotic_no_release_orange_0482.jpg',),\n",
       " tensor([1]))"
      ]
     },
     "execution_count": 21,
     "metadata": {},
     "output_type": "execute_result"
    },
    {
     "data": {
      "text/plain": [
       "(('/home/tzortzis/Data/IRI-CATs-light/real_data/long_tasks/cropped_robotic/test/orange/no_release_orange/robotic_no_release_orange_0483.jpg',),\n",
       " tensor([1]))"
      ]
     },
     "execution_count": 21,
     "metadata": {},
     "output_type": "execute_result"
    },
    {
     "data": {
      "text/plain": [
       "(('/home/tzortzis/Data/IRI-CATs-light/real_data/long_tasks/cropped_robotic/test/orange/no_release_orange/robotic_no_release_orange_0484.jpg',),\n",
       " tensor([1]))"
      ]
     },
     "execution_count": 21,
     "metadata": {},
     "output_type": "execute_result"
    },
    {
     "data": {
      "text/plain": [
       "(('/home/tzortzis/Data/IRI-CATs-light/real_data/long_tasks/cropped_robotic/test/orange/no_release_orange/robotic_no_release_orange_0485.jpg',),\n",
       " tensor([1]))"
      ]
     },
     "execution_count": 21,
     "metadata": {},
     "output_type": "execute_result"
    },
    {
     "data": {
      "text/plain": [
       "(('/home/tzortzis/Data/IRI-CATs-light/real_data/long_tasks/cropped_robotic/test/orange/no_release_orange/robotic_no_release_orange_0486.jpg',),\n",
       " tensor([1]))"
      ]
     },
     "execution_count": 21,
     "metadata": {},
     "output_type": "execute_result"
    },
    {
     "data": {
      "text/plain": [
       "(('/home/tzortzis/Data/IRI-CATs-light/real_data/long_tasks/cropped_robotic/test/orange/no_release_orange/robotic_no_release_orange_0487.jpg',),\n",
       " tensor([1]))"
      ]
     },
     "execution_count": 21,
     "metadata": {},
     "output_type": "execute_result"
    },
    {
     "data": {
      "text/plain": [
       "(('/home/tzortzis/Data/IRI-CATs-light/real_data/long_tasks/cropped_robotic/test/orange/no_release_orange/robotic_no_release_orange_0488.jpg',),\n",
       " tensor([1]))"
      ]
     },
     "execution_count": 21,
     "metadata": {},
     "output_type": "execute_result"
    },
    {
     "data": {
      "text/plain": [
       "(('/home/tzortzis/Data/IRI-CATs-light/real_data/long_tasks/cropped_robotic/test/orange/no_release_orange/robotic_no_release_orange_0489.jpg',),\n",
       " tensor([1]))"
      ]
     },
     "execution_count": 21,
     "metadata": {},
     "output_type": "execute_result"
    },
    {
     "data": {
      "text/plain": [
       "(('/home/tzortzis/Data/IRI-CATs-light/real_data/long_tasks/cropped_robotic/test/orange/no_release_orange/robotic_no_release_orange_0490.jpg',),\n",
       " tensor([1]))"
      ]
     },
     "execution_count": 21,
     "metadata": {},
     "output_type": "execute_result"
    },
    {
     "data": {
      "text/plain": [
       "(('/home/tzortzis/Data/IRI-CATs-light/real_data/long_tasks/cropped_robotic/test/orange/no_release_orange/robotic_no_release_orange_0491.jpg',),\n",
       " tensor([1]))"
      ]
     },
     "execution_count": 21,
     "metadata": {},
     "output_type": "execute_result"
    },
    {
     "data": {
      "text/plain": [
       "(('/home/tzortzis/Data/IRI-CATs-light/real_data/long_tasks/cropped_robotic/test/orange/no_release_orange/robotic_no_release_orange_0492.jpg',),\n",
       " tensor([1]))"
      ]
     },
     "execution_count": 21,
     "metadata": {},
     "output_type": "execute_result"
    },
    {
     "data": {
      "text/plain": [
       "(('/home/tzortzis/Data/IRI-CATs-light/real_data/long_tasks/cropped_robotic/test/orange/no_release_orange/robotic_no_release_orange_0493.jpg',),\n",
       " tensor([1]))"
      ]
     },
     "execution_count": 21,
     "metadata": {},
     "output_type": "execute_result"
    },
    {
     "data": {
      "text/plain": [
       "(('/home/tzortzis/Data/IRI-CATs-light/real_data/long_tasks/cropped_robotic/test/orange/no_release_orange/robotic_no_release_orange_0494.jpg',),\n",
       " tensor([1]))"
      ]
     },
     "execution_count": 21,
     "metadata": {},
     "output_type": "execute_result"
    },
    {
     "data": {
      "text/plain": [
       "(('/home/tzortzis/Data/IRI-CATs-light/real_data/long_tasks/cropped_robotic/test/orange/no_release_orange/robotic_no_release_orange_0495.jpg',),\n",
       " tensor([1]))"
      ]
     },
     "execution_count": 21,
     "metadata": {},
     "output_type": "execute_result"
    },
    {
     "data": {
      "text/plain": [
       "(('/home/tzortzis/Data/IRI-CATs-light/real_data/long_tasks/cropped_robotic/test/orange/no_release_orange/robotic_no_release_orange_0496.jpg',),\n",
       " tensor([1]))"
      ]
     },
     "execution_count": 21,
     "metadata": {},
     "output_type": "execute_result"
    },
    {
     "data": {
      "text/plain": [
       "(('/home/tzortzis/Data/IRI-CATs-light/real_data/long_tasks/cropped_robotic/test/orange/no_release_orange/robotic_no_release_orange_0497.jpg',),\n",
       " tensor([1]))"
      ]
     },
     "execution_count": 21,
     "metadata": {},
     "output_type": "execute_result"
    },
    {
     "data": {
      "text/plain": [
       "(('/home/tzortzis/Data/IRI-CATs-light/real_data/long_tasks/cropped_robotic/test/orange/no_release_orange/robotic_no_release_orange_0498.jpg',),\n",
       " tensor([1]))"
      ]
     },
     "execution_count": 21,
     "metadata": {},
     "output_type": "execute_result"
    },
    {
     "data": {
      "text/plain": [
       "(('/home/tzortzis/Data/IRI-CATs-light/real_data/long_tasks/cropped_robotic/test/orange/no_release_orange/robotic_no_release_orange_0499.jpg',),\n",
       " tensor([1]))"
      ]
     },
     "execution_count": 21,
     "metadata": {},
     "output_type": "execute_result"
    },
    {
     "data": {
      "text/plain": [
       "(('/home/tzortzis/Data/IRI-CATs-light/real_data/long_tasks/cropped_robotic/test/orange/no_release_orange/robotic_no_release_orange_0500.jpg',),\n",
       " tensor([1]))"
      ]
     },
     "execution_count": 21,
     "metadata": {},
     "output_type": "execute_result"
    },
    {
     "data": {
      "text/plain": [
       "(('/home/tzortzis/Data/IRI-CATs-light/real_data/long_tasks/cropped_robotic/test/orange/no_release_orange/robotic_no_release_orange_0501.jpg',),\n",
       " tensor([1]))"
      ]
     },
     "execution_count": 21,
     "metadata": {},
     "output_type": "execute_result"
    },
    {
     "data": {
      "text/plain": [
       "(('/home/tzortzis/Data/IRI-CATs-light/real_data/long_tasks/cropped_robotic/test/orange/no_release_orange/robotic_no_release_orange_0502.jpg',),\n",
       " tensor([1]))"
      ]
     },
     "execution_count": 21,
     "metadata": {},
     "output_type": "execute_result"
    },
    {
     "data": {
      "text/plain": [
       "(('/home/tzortzis/Data/IRI-CATs-light/real_data/long_tasks/cropped_robotic/test/orange/no_release_orange/robotic_no_release_orange_0503.jpg',),\n",
       " tensor([1]))"
      ]
     },
     "execution_count": 21,
     "metadata": {},
     "output_type": "execute_result"
    },
    {
     "data": {
      "text/plain": [
       "(('/home/tzortzis/Data/IRI-CATs-light/real_data/long_tasks/cropped_robotic/test/orange/no_release_orange/robotic_no_release_orange_0504.jpg',),\n",
       " tensor([1]))"
      ]
     },
     "execution_count": 21,
     "metadata": {},
     "output_type": "execute_result"
    },
    {
     "data": {
      "text/plain": [
       "(('/home/tzortzis/Data/IRI-CATs-light/real_data/long_tasks/cropped_robotic/test/orange/no_release_orange/robotic_no_release_orange_0505.jpg',),\n",
       " tensor([1]))"
      ]
     },
     "execution_count": 21,
     "metadata": {},
     "output_type": "execute_result"
    },
    {
     "data": {
      "text/plain": [
       "(('/home/tzortzis/Data/IRI-CATs-light/real_data/long_tasks/cropped_robotic/test/orange/no_release_orange/robotic_no_release_orange_0506.jpg',),\n",
       " tensor([1]))"
      ]
     },
     "execution_count": 21,
     "metadata": {},
     "output_type": "execute_result"
    },
    {
     "data": {
      "text/plain": [
       "(('/home/tzortzis/Data/IRI-CATs-light/real_data/long_tasks/cropped_robotic/test/orange/no_release_orange/robotic_no_release_orange_0507.jpg',),\n",
       " tensor([1]))"
      ]
     },
     "execution_count": 21,
     "metadata": {},
     "output_type": "execute_result"
    },
    {
     "data": {
      "text/plain": [
       "(('/home/tzortzis/Data/IRI-CATs-light/real_data/long_tasks/cropped_robotic/test/orange/no_release_orange/robotic_no_release_orange_0508.jpg',),\n",
       " tensor([1]))"
      ]
     },
     "execution_count": 21,
     "metadata": {},
     "output_type": "execute_result"
    },
    {
     "data": {
      "text/plain": [
       "(('/home/tzortzis/Data/IRI-CATs-light/real_data/long_tasks/cropped_robotic/test/orange/no_release_orange/robotic_no_release_orange_0509.jpg',),\n",
       " tensor([1]))"
      ]
     },
     "execution_count": 21,
     "metadata": {},
     "output_type": "execute_result"
    },
    {
     "data": {
      "text/plain": [
       "(('/home/tzortzis/Data/IRI-CATs-light/real_data/long_tasks/cropped_robotic/test/orange/no_release_orange/robotic_no_release_orange_0510.jpg',),\n",
       " tensor([1]))"
      ]
     },
     "execution_count": 21,
     "metadata": {},
     "output_type": "execute_result"
    },
    {
     "data": {
      "text/plain": [
       "(('/home/tzortzis/Data/IRI-CATs-light/real_data/long_tasks/cropped_robotic/test/orange/no_release_orange/robotic_no_release_orange_0511.jpg',),\n",
       " tensor([1]))"
      ]
     },
     "execution_count": 21,
     "metadata": {},
     "output_type": "execute_result"
    },
    {
     "data": {
      "text/plain": [
       "(('/home/tzortzis/Data/IRI-CATs-light/real_data/long_tasks/cropped_robotic/test/orange/no_release_orange/robotic_no_release_orange_0512.jpg',),\n",
       " tensor([1]))"
      ]
     },
     "execution_count": 21,
     "metadata": {},
     "output_type": "execute_result"
    },
    {
     "data": {
      "text/plain": [
       "(('/home/tzortzis/Data/IRI-CATs-light/real_data/long_tasks/cropped_robotic/test/orange/no_release_orange/robotic_no_release_orange_0513.jpg',),\n",
       " tensor([1]))"
      ]
     },
     "execution_count": 21,
     "metadata": {},
     "output_type": "execute_result"
    },
    {
     "data": {
      "text/plain": [
       "(('/home/tzortzis/Data/IRI-CATs-light/real_data/long_tasks/cropped_robotic/test/orange/no_release_orange/robotic_no_release_orange_0514.jpg',),\n",
       " tensor([1]))"
      ]
     },
     "execution_count": 21,
     "metadata": {},
     "output_type": "execute_result"
    },
    {
     "data": {
      "text/plain": [
       "(('/home/tzortzis/Data/IRI-CATs-light/real_data/long_tasks/cropped_robotic/test/orange/no_release_orange/robotic_no_release_orange_0515.jpg',),\n",
       " tensor([1]))"
      ]
     },
     "execution_count": 21,
     "metadata": {},
     "output_type": "execute_result"
    },
    {
     "data": {
      "text/plain": [
       "(('/home/tzortzis/Data/IRI-CATs-light/real_data/long_tasks/cropped_robotic/test/orange/no_release_orange/robotic_no_release_orange_0516.jpg',),\n",
       " tensor([1]))"
      ]
     },
     "execution_count": 21,
     "metadata": {},
     "output_type": "execute_result"
    },
    {
     "data": {
      "text/plain": [
       "(('/home/tzortzis/Data/IRI-CATs-light/real_data/long_tasks/cropped_robotic/test/orange/no_release_orange/robotic_no_release_orange_0517.jpg',),\n",
       " tensor([1]))"
      ]
     },
     "execution_count": 21,
     "metadata": {},
     "output_type": "execute_result"
    },
    {
     "data": {
      "text/plain": [
       "(('/home/tzortzis/Data/IRI-CATs-light/real_data/long_tasks/cropped_robotic/test/orange/no_release_orange/robotic_no_release_orange_0518.jpg',),\n",
       " tensor([1]))"
      ]
     },
     "execution_count": 21,
     "metadata": {},
     "output_type": "execute_result"
    },
    {
     "data": {
      "text/plain": [
       "(('/home/tzortzis/Data/IRI-CATs-light/real_data/long_tasks/cropped_robotic/test/orange/no_release_orange/robotic_no_release_orange_0519.jpg',),\n",
       " tensor([1]))"
      ]
     },
     "execution_count": 21,
     "metadata": {},
     "output_type": "execute_result"
    },
    {
     "data": {
      "text/plain": [
       "(('/home/tzortzis/Data/IRI-CATs-light/real_data/long_tasks/cropped_robotic/test/orange/no_release_orange/robotic_no_release_orange_0520.jpg',),\n",
       " tensor([1]))"
      ]
     },
     "execution_count": 21,
     "metadata": {},
     "output_type": "execute_result"
    },
    {
     "data": {
      "text/plain": [
       "(('/home/tzortzis/Data/IRI-CATs-light/real_data/long_tasks/cropped_robotic/test/orange/no_release_orange/robotic_no_release_orange_0521.jpg',),\n",
       " tensor([1]))"
      ]
     },
     "execution_count": 21,
     "metadata": {},
     "output_type": "execute_result"
    },
    {
     "data": {
      "text/plain": [
       "(('/home/tzortzis/Data/IRI-CATs-light/real_data/long_tasks/cropped_robotic/test/orange/no_release_orange/robotic_no_release_orange_0522.jpg',),\n",
       " tensor([1]))"
      ]
     },
     "execution_count": 21,
     "metadata": {},
     "output_type": "execute_result"
    },
    {
     "data": {
      "text/plain": [
       "(('/home/tzortzis/Data/IRI-CATs-light/real_data/long_tasks/cropped_robotic/test/orange/no_release_orange/robotic_no_release_orange_0523.jpg',),\n",
       " tensor([1]))"
      ]
     },
     "execution_count": 21,
     "metadata": {},
     "output_type": "execute_result"
    },
    {
     "data": {
      "text/plain": [
       "(('/home/tzortzis/Data/IRI-CATs-light/real_data/long_tasks/cropped_robotic/test/orange/no_release_orange/robotic_no_release_orange_0524.jpg',),\n",
       " tensor([1]))"
      ]
     },
     "execution_count": 21,
     "metadata": {},
     "output_type": "execute_result"
    },
    {
     "data": {
      "text/plain": [
       "(('/home/tzortzis/Data/IRI-CATs-light/real_data/long_tasks/cropped_robotic/test/orange/no_release_orange/robotic_no_release_orange_0525.jpg',),\n",
       " tensor([1]))"
      ]
     },
     "execution_count": 21,
     "metadata": {},
     "output_type": "execute_result"
    },
    {
     "data": {
      "text/plain": [
       "(('/home/tzortzis/Data/IRI-CATs-light/real_data/long_tasks/cropped_robotic/test/orange/no_release_orange/robotic_no_release_orange_0526.jpg',),\n",
       " tensor([1]))"
      ]
     },
     "execution_count": 21,
     "metadata": {},
     "output_type": "execute_result"
    },
    {
     "data": {
      "text/plain": [
       "(('/home/tzortzis/Data/IRI-CATs-light/real_data/long_tasks/cropped_robotic/test/orange/no_release_orange/robotic_no_release_orange_0527.jpg',),\n",
       " tensor([1]))"
      ]
     },
     "execution_count": 21,
     "metadata": {},
     "output_type": "execute_result"
    },
    {
     "data": {
      "text/plain": [
       "(('/home/tzortzis/Data/IRI-CATs-light/real_data/long_tasks/cropped_robotic/test/orange/no_release_orange/robotic_no_release_orange_0528.jpg',),\n",
       " tensor([1]))"
      ]
     },
     "execution_count": 21,
     "metadata": {},
     "output_type": "execute_result"
    },
    {
     "data": {
      "text/plain": [
       "(('/home/tzortzis/Data/IRI-CATs-light/real_data/long_tasks/cropped_robotic/test/orange/no_release_orange/robotic_no_release_orange_0529.jpg',),\n",
       " tensor([1]))"
      ]
     },
     "execution_count": 21,
     "metadata": {},
     "output_type": "execute_result"
    },
    {
     "data": {
      "text/plain": [
       "(('/home/tzortzis/Data/IRI-CATs-light/real_data/long_tasks/cropped_robotic/test/orange/no_release_orange/robotic_no_release_orange_0530.jpg',),\n",
       " tensor([1]))"
      ]
     },
     "execution_count": 21,
     "metadata": {},
     "output_type": "execute_result"
    },
    {
     "data": {
      "text/plain": [
       "(('/home/tzortzis/Data/IRI-CATs-light/real_data/long_tasks/cropped_robotic/test/orange/no_release_orange/robotic_no_release_orange_0531.jpg',),\n",
       " tensor([1]))"
      ]
     },
     "execution_count": 21,
     "metadata": {},
     "output_type": "execute_result"
    },
    {
     "data": {
      "text/plain": [
       "(('/home/tzortzis/Data/IRI-CATs-light/real_data/long_tasks/cropped_robotic/test/orange/no_release_orange/robotic_no_release_orange_0532.jpg',),\n",
       " tensor([1]))"
      ]
     },
     "execution_count": 21,
     "metadata": {},
     "output_type": "execute_result"
    },
    {
     "data": {
      "text/plain": [
       "(('/home/tzortzis/Data/IRI-CATs-light/real_data/long_tasks/cropped_robotic/test/orange/no_release_orange/robotic_no_release_orange_0533.jpg',),\n",
       " tensor([1]))"
      ]
     },
     "execution_count": 21,
     "metadata": {},
     "output_type": "execute_result"
    },
    {
     "data": {
      "text/plain": [
       "(('/home/tzortzis/Data/IRI-CATs-light/real_data/long_tasks/cropped_robotic/test/orange/no_release_orange/robotic_no_release_orange_0534.jpg',),\n",
       " tensor([1]))"
      ]
     },
     "execution_count": 21,
     "metadata": {},
     "output_type": "execute_result"
    },
    {
     "data": {
      "text/plain": [
       "(('/home/tzortzis/Data/IRI-CATs-light/real_data/long_tasks/cropped_robotic/test/orange/no_release_orange/robotic_no_release_orange_0535.jpg',),\n",
       " tensor([1]))"
      ]
     },
     "execution_count": 21,
     "metadata": {},
     "output_type": "execute_result"
    },
    {
     "data": {
      "text/plain": [
       "(('/home/tzortzis/Data/IRI-CATs-light/real_data/long_tasks/cropped_robotic/test/orange/no_release_orange/robotic_no_release_orange_0536.jpg',),\n",
       " tensor([1]))"
      ]
     },
     "execution_count": 21,
     "metadata": {},
     "output_type": "execute_result"
    },
    {
     "data": {
      "text/plain": [
       "(('/home/tzortzis/Data/IRI-CATs-light/real_data/long_tasks/cropped_robotic/test/orange/no_release_orange/robotic_no_release_orange_0537.jpg',),\n",
       " tensor([1]))"
      ]
     },
     "execution_count": 21,
     "metadata": {},
     "output_type": "execute_result"
    },
    {
     "data": {
      "text/plain": [
       "(('/home/tzortzis/Data/IRI-CATs-light/real_data/long_tasks/cropped_robotic/test/orange/no_release_orange/robotic_no_release_orange_0538.jpg',),\n",
       " tensor([1]))"
      ]
     },
     "execution_count": 21,
     "metadata": {},
     "output_type": "execute_result"
    },
    {
     "data": {
      "text/plain": [
       "(('/home/tzortzis/Data/IRI-CATs-light/real_data/long_tasks/cropped_robotic/test/orange/no_release_orange/robotic_no_release_orange_0539.jpg',),\n",
       " tensor([1]))"
      ]
     },
     "execution_count": 21,
     "metadata": {},
     "output_type": "execute_result"
    },
    {
     "data": {
      "text/plain": [
       "(('/home/tzortzis/Data/IRI-CATs-light/real_data/long_tasks/cropped_robotic/test/orange/no_release_orange/robotic_no_release_orange_0540.jpg',),\n",
       " tensor([1]))"
      ]
     },
     "execution_count": 21,
     "metadata": {},
     "output_type": "execute_result"
    },
    {
     "data": {
      "text/plain": [
       "(('/home/tzortzis/Data/IRI-CATs-light/real_data/long_tasks/cropped_robotic/test/orange/no_release_orange/robotic_no_release_orange_0541.jpg',),\n",
       " tensor([1]))"
      ]
     },
     "execution_count": 21,
     "metadata": {},
     "output_type": "execute_result"
    },
    {
     "data": {
      "text/plain": [
       "(('/home/tzortzis/Data/IRI-CATs-light/real_data/long_tasks/cropped_robotic/test/orange/no_release_orange/robotic_no_release_orange_0542.jpg',),\n",
       " tensor([1]))"
      ]
     },
     "execution_count": 21,
     "metadata": {},
     "output_type": "execute_result"
    },
    {
     "data": {
      "text/plain": [
       "(('/home/tzortzis/Data/IRI-CATs-light/real_data/long_tasks/cropped_robotic/test/orange/no_release_orange/robotic_no_release_orange_0543.jpg',),\n",
       " tensor([1]))"
      ]
     },
     "execution_count": 21,
     "metadata": {},
     "output_type": "execute_result"
    },
    {
     "data": {
      "text/plain": [
       "(('/home/tzortzis/Data/IRI-CATs-light/real_data/long_tasks/cropped_robotic/test/orange/no_release_orange/robotic_no_release_orange_0544.jpg',),\n",
       " tensor([1]))"
      ]
     },
     "execution_count": 21,
     "metadata": {},
     "output_type": "execute_result"
    },
    {
     "data": {
      "text/plain": [
       "(('/home/tzortzis/Data/IRI-CATs-light/real_data/long_tasks/cropped_robotic/test/orange/no_release_orange/robotic_no_release_orange_0545.jpg',),\n",
       " tensor([1]))"
      ]
     },
     "execution_count": 21,
     "metadata": {},
     "output_type": "execute_result"
    },
    {
     "data": {
      "text/plain": [
       "(('/home/tzortzis/Data/IRI-CATs-light/real_data/long_tasks/cropped_robotic/test/orange/no_release_orange/robotic_no_release_orange_0546.jpg',),\n",
       " tensor([1]))"
      ]
     },
     "execution_count": 21,
     "metadata": {},
     "output_type": "execute_result"
    },
    {
     "data": {
      "text/plain": [
       "(('/home/tzortzis/Data/IRI-CATs-light/real_data/long_tasks/cropped_robotic/test/orange/no_release_orange/robotic_no_release_orange_0547.jpg',),\n",
       " tensor([1]))"
      ]
     },
     "execution_count": 21,
     "metadata": {},
     "output_type": "execute_result"
    },
    {
     "data": {
      "text/plain": [
       "(('/home/tzortzis/Data/IRI-CATs-light/real_data/long_tasks/cropped_robotic/test/orange/no_release_orange/robotic_no_release_orange_0548.jpg',),\n",
       " tensor([1]))"
      ]
     },
     "execution_count": 21,
     "metadata": {},
     "output_type": "execute_result"
    },
    {
     "data": {
      "text/plain": [
       "(('/home/tzortzis/Data/IRI-CATs-light/real_data/long_tasks/cropped_robotic/test/orange/no_release_orange/robotic_no_release_orange_0549.jpg',),\n",
       " tensor([1]))"
      ]
     },
     "execution_count": 21,
     "metadata": {},
     "output_type": "execute_result"
    },
    {
     "data": {
      "text/plain": [
       "(('/home/tzortzis/Data/IRI-CATs-light/real_data/long_tasks/cropped_robotic/test/orange/no_release_orange/robotic_no_release_orange_0550.jpg',),\n",
       " tensor([1]))"
      ]
     },
     "execution_count": 21,
     "metadata": {},
     "output_type": "execute_result"
    },
    {
     "data": {
      "text/plain": [
       "(('/home/tzortzis/Data/IRI-CATs-light/real_data/long_tasks/cropped_robotic/test/orange/no_release_orange/robotic_no_release_orange_0551.jpg',),\n",
       " tensor([1]))"
      ]
     },
     "execution_count": 21,
     "metadata": {},
     "output_type": "execute_result"
    },
    {
     "data": {
      "text/plain": [
       "(('/home/tzortzis/Data/IRI-CATs-light/real_data/long_tasks/cropped_robotic/test/orange/no_release_orange/robotic_no_release_orange_0552.jpg',),\n",
       " tensor([1]))"
      ]
     },
     "execution_count": 21,
     "metadata": {},
     "output_type": "execute_result"
    },
    {
     "data": {
      "text/plain": [
       "(('/home/tzortzis/Data/IRI-CATs-light/real_data/long_tasks/cropped_robotic/test/orange/no_release_orange/robotic_no_release_orange_0553.jpg',),\n",
       " tensor([1]))"
      ]
     },
     "execution_count": 21,
     "metadata": {},
     "output_type": "execute_result"
    },
    {
     "data": {
      "text/plain": [
       "(('/home/tzortzis/Data/IRI-CATs-light/real_data/long_tasks/cropped_robotic/test/orange/no_release_orange/robotic_no_release_orange_0554.jpg',),\n",
       " tensor([1]))"
      ]
     },
     "execution_count": 21,
     "metadata": {},
     "output_type": "execute_result"
    },
    {
     "data": {
      "text/plain": [
       "(('/home/tzortzis/Data/IRI-CATs-light/real_data/long_tasks/cropped_robotic/test/orange/no_release_orange/robotic_no_release_orange_0555.jpg',),\n",
       " tensor([1]))"
      ]
     },
     "execution_count": 21,
     "metadata": {},
     "output_type": "execute_result"
    },
    {
     "data": {
      "text/plain": [
       "(('/home/tzortzis/Data/IRI-CATs-light/real_data/long_tasks/cropped_robotic/test/orange/no_release_orange/robotic_no_release_orange_0556.jpg',),\n",
       " tensor([1]))"
      ]
     },
     "execution_count": 21,
     "metadata": {},
     "output_type": "execute_result"
    },
    {
     "data": {
      "text/plain": [
       "(('/home/tzortzis/Data/IRI-CATs-light/real_data/long_tasks/cropped_robotic/test/orange/no_release_orange/robotic_no_release_orange_0557.jpg',),\n",
       " tensor([1]))"
      ]
     },
     "execution_count": 21,
     "metadata": {},
     "output_type": "execute_result"
    },
    {
     "data": {
      "text/plain": [
       "(('/home/tzortzis/Data/IRI-CATs-light/real_data/long_tasks/cropped_robotic/test/orange/no_release_orange/robotic_no_release_orange_0558.jpg',),\n",
       " tensor([1]))"
      ]
     },
     "execution_count": 21,
     "metadata": {},
     "output_type": "execute_result"
    },
    {
     "data": {
      "text/plain": [
       "(('/home/tzortzis/Data/IRI-CATs-light/real_data/long_tasks/cropped_robotic/test/orange/no_release_orange/robotic_no_release_orange_0559.jpg',),\n",
       " tensor([1]))"
      ]
     },
     "execution_count": 21,
     "metadata": {},
     "output_type": "execute_result"
    },
    {
     "data": {
      "text/plain": [
       "(('/home/tzortzis/Data/IRI-CATs-light/real_data/long_tasks/cropped_robotic/test/orange/no_release_orange/robotic_no_release_orange_0560.jpg',),\n",
       " tensor([1]))"
      ]
     },
     "execution_count": 21,
     "metadata": {},
     "output_type": "execute_result"
    },
    {
     "data": {
      "text/plain": [
       "(('/home/tzortzis/Data/IRI-CATs-light/real_data/long_tasks/cropped_robotic/test/orange/no_release_orange/robotic_no_release_orange_0561.jpg',),\n",
       " tensor([1]))"
      ]
     },
     "execution_count": 21,
     "metadata": {},
     "output_type": "execute_result"
    },
    {
     "data": {
      "text/plain": [
       "(('/home/tzortzis/Data/IRI-CATs-light/real_data/long_tasks/cropped_robotic/test/orange/no_release_orange/robotic_no_release_orange_0562.jpg',),\n",
       " tensor([1]))"
      ]
     },
     "execution_count": 21,
     "metadata": {},
     "output_type": "execute_result"
    },
    {
     "data": {
      "text/plain": [
       "(('/home/tzortzis/Data/IRI-CATs-light/real_data/long_tasks/cropped_robotic/test/orange/no_release_orange/robotic_no_release_orange_0563.jpg',),\n",
       " tensor([1]))"
      ]
     },
     "execution_count": 21,
     "metadata": {},
     "output_type": "execute_result"
    },
    {
     "data": {
      "text/plain": [
       "(('/home/tzortzis/Data/IRI-CATs-light/real_data/long_tasks/cropped_robotic/test/orange/no_release_orange/robotic_no_release_orange_0564.jpg',),\n",
       " tensor([1]))"
      ]
     },
     "execution_count": 21,
     "metadata": {},
     "output_type": "execute_result"
    },
    {
     "data": {
      "text/plain": [
       "(('/home/tzortzis/Data/IRI-CATs-light/real_data/long_tasks/cropped_robotic/test/orange/no_release_orange/robotic_no_release_orange_0565.jpg',),\n",
       " tensor([1]))"
      ]
     },
     "execution_count": 21,
     "metadata": {},
     "output_type": "execute_result"
    },
    {
     "data": {
      "text/plain": [
       "(('/home/tzortzis/Data/IRI-CATs-light/real_data/long_tasks/cropped_robotic/test/orange/no_release_orange/robotic_no_release_orange_0566.jpg',),\n",
       " tensor([1]))"
      ]
     },
     "execution_count": 21,
     "metadata": {},
     "output_type": "execute_result"
    },
    {
     "data": {
      "text/plain": [
       "(('/home/tzortzis/Data/IRI-CATs-light/real_data/long_tasks/cropped_robotic/test/orange/no_release_orange/robotic_no_release_orange_0567.jpg',),\n",
       " tensor([1]))"
      ]
     },
     "execution_count": 21,
     "metadata": {},
     "output_type": "execute_result"
    },
    {
     "data": {
      "text/plain": [
       "(('/home/tzortzis/Data/IRI-CATs-light/real_data/long_tasks/cropped_robotic/test/orange/no_release_orange/robotic_no_release_orange_0568.jpg',),\n",
       " tensor([1]))"
      ]
     },
     "execution_count": 21,
     "metadata": {},
     "output_type": "execute_result"
    },
    {
     "data": {
      "text/plain": [
       "(('/home/tzortzis/Data/IRI-CATs-light/real_data/long_tasks/cropped_robotic/test/orange/no_release_orange/robotic_no_release_orange_0569.jpg',),\n",
       " tensor([1]))"
      ]
     },
     "execution_count": 21,
     "metadata": {},
     "output_type": "execute_result"
    },
    {
     "data": {
      "text/plain": [
       "(('/home/tzortzis/Data/IRI-CATs-light/real_data/long_tasks/cropped_robotic/test/orange/no_release_orange/robotic_no_release_orange_0570.jpg',),\n",
       " tensor([1]))"
      ]
     },
     "execution_count": 21,
     "metadata": {},
     "output_type": "execute_result"
    },
    {
     "data": {
      "text/plain": [
       "(('/home/tzortzis/Data/IRI-CATs-light/real_data/long_tasks/cropped_robotic/test/orange/no_release_orange/robotic_no_release_orange_0571.jpg',),\n",
       " tensor([1]))"
      ]
     },
     "execution_count": 21,
     "metadata": {},
     "output_type": "execute_result"
    },
    {
     "data": {
      "text/plain": [
       "(('/home/tzortzis/Data/IRI-CATs-light/real_data/long_tasks/cropped_robotic/test/orange/no_release_orange/robotic_no_release_orange_0572.jpg',),\n",
       " tensor([1]))"
      ]
     },
     "execution_count": 21,
     "metadata": {},
     "output_type": "execute_result"
    },
    {
     "data": {
      "text/plain": [
       "(('/home/tzortzis/Data/IRI-CATs-light/real_data/long_tasks/cropped_robotic/test/orange/no_release_orange/robotic_no_release_orange_0573.jpg',),\n",
       " tensor([1]))"
      ]
     },
     "execution_count": 21,
     "metadata": {},
     "output_type": "execute_result"
    },
    {
     "data": {
      "text/plain": [
       "(('/home/tzortzis/Data/IRI-CATs-light/real_data/long_tasks/cropped_robotic/test/orange/no_release_orange/robotic_no_release_orange_0574.jpg',),\n",
       " tensor([1]))"
      ]
     },
     "execution_count": 21,
     "metadata": {},
     "output_type": "execute_result"
    },
    {
     "data": {
      "text/plain": [
       "(('/home/tzortzis/Data/IRI-CATs-light/real_data/long_tasks/cropped_robotic/test/orange/no_release_orange/robotic_no_release_orange_0575.jpg',),\n",
       " tensor([1]))"
      ]
     },
     "execution_count": 21,
     "metadata": {},
     "output_type": "execute_result"
    },
    {
     "data": {
      "text/plain": [
       "(('/home/tzortzis/Data/IRI-CATs-light/real_data/long_tasks/cropped_robotic/test/orange/no_release_orange/robotic_no_release_orange_0576.jpg',),\n",
       " tensor([1]))"
      ]
     },
     "execution_count": 21,
     "metadata": {},
     "output_type": "execute_result"
    },
    {
     "data": {
      "text/plain": [
       "(('/home/tzortzis/Data/IRI-CATs-light/real_data/long_tasks/cropped_robotic/test/orange/no_release_orange/robotic_no_release_orange_0577.jpg',),\n",
       " tensor([1]))"
      ]
     },
     "execution_count": 21,
     "metadata": {},
     "output_type": "execute_result"
    },
    {
     "data": {
      "text/plain": [
       "(('/home/tzortzis/Data/IRI-CATs-light/real_data/long_tasks/cropped_robotic/test/orange/no_release_orange/robotic_no_release_orange_0578.jpg',),\n",
       " tensor([1]))"
      ]
     },
     "execution_count": 21,
     "metadata": {},
     "output_type": "execute_result"
    },
    {
     "data": {
      "text/plain": [
       "(('/home/tzortzis/Data/IRI-CATs-light/real_data/long_tasks/cropped_robotic/test/orange/no_release_orange/robotic_no_release_orange_0579.jpg',),\n",
       " tensor([1]))"
      ]
     },
     "execution_count": 21,
     "metadata": {},
     "output_type": "execute_result"
    },
    {
     "data": {
      "text/plain": [
       "(('/home/tzortzis/Data/IRI-CATs-light/real_data/long_tasks/cropped_robotic/test/orange/no_release_orange/robotic_no_release_orange_0580.jpg',),\n",
       " tensor([1]))"
      ]
     },
     "execution_count": 21,
     "metadata": {},
     "output_type": "execute_result"
    },
    {
     "data": {
      "text/plain": [
       "(('/home/tzortzis/Data/IRI-CATs-light/real_data/long_tasks/cropped_robotic/test/orange/no_release_orange/robotic_no_release_orange_0581.jpg',),\n",
       " tensor([1]))"
      ]
     },
     "execution_count": 21,
     "metadata": {},
     "output_type": "execute_result"
    },
    {
     "data": {
      "text/plain": [
       "(('/home/tzortzis/Data/IRI-CATs-light/real_data/long_tasks/cropped_robotic/test/orange/no_release_orange/robotic_no_release_orange_0582.jpg',),\n",
       " tensor([1]))"
      ]
     },
     "execution_count": 21,
     "metadata": {},
     "output_type": "execute_result"
    },
    {
     "data": {
      "text/plain": [
       "(('/home/tzortzis/Data/IRI-CATs-light/real_data/long_tasks/cropped_robotic/test/orange/no_release_orange/robotic_no_release_orange_0583.jpg',),\n",
       " tensor([1]))"
      ]
     },
     "execution_count": 21,
     "metadata": {},
     "output_type": "execute_result"
    },
    {
     "data": {
      "text/plain": [
       "(('/home/tzortzis/Data/IRI-CATs-light/real_data/long_tasks/cropped_robotic/test/orange/no_release_orange/robotic_no_release_orange_0584.jpg',),\n",
       " tensor([1]))"
      ]
     },
     "execution_count": 21,
     "metadata": {},
     "output_type": "execute_result"
    },
    {
     "data": {
      "text/plain": [
       "(('/home/tzortzis/Data/IRI-CATs-light/real_data/long_tasks/cropped_robotic/test/orange/no_release_orange/robotic_no_release_orange_0585.jpg',),\n",
       " tensor([1]))"
      ]
     },
     "execution_count": 21,
     "metadata": {},
     "output_type": "execute_result"
    },
    {
     "data": {
      "text/plain": [
       "(('/home/tzortzis/Data/IRI-CATs-light/real_data/long_tasks/cropped_robotic/test/orange/no_release_orange/robotic_no_release_orange_0586.jpg',),\n",
       " tensor([1]))"
      ]
     },
     "execution_count": 21,
     "metadata": {},
     "output_type": "execute_result"
    },
    {
     "data": {
      "text/plain": [
       "(('/home/tzortzis/Data/IRI-CATs-light/real_data/long_tasks/cropped_robotic/test/orange/no_release_orange/robotic_no_release_orange_0587.jpg',),\n",
       " tensor([1]))"
      ]
     },
     "execution_count": 21,
     "metadata": {},
     "output_type": "execute_result"
    },
    {
     "data": {
      "text/plain": [
       "(('/home/tzortzis/Data/IRI-CATs-light/real_data/long_tasks/cropped_robotic/test/orange/no_release_orange/robotic_no_release_orange_0588.jpg',),\n",
       " tensor([1]))"
      ]
     },
     "execution_count": 21,
     "metadata": {},
     "output_type": "execute_result"
    },
    {
     "data": {
      "text/plain": [
       "(('/home/tzortzis/Data/IRI-CATs-light/real_data/long_tasks/cropped_robotic/test/orange/no_release_orange/robotic_no_release_orange_0589.jpg',),\n",
       " tensor([1]))"
      ]
     },
     "execution_count": 21,
     "metadata": {},
     "output_type": "execute_result"
    },
    {
     "data": {
      "text/plain": [
       "(('/home/tzortzis/Data/IRI-CATs-light/real_data/long_tasks/cropped_robotic/test/orange/no_release_orange/robotic_no_release_orange_0590.jpg',),\n",
       " tensor([1]))"
      ]
     },
     "execution_count": 21,
     "metadata": {},
     "output_type": "execute_result"
    },
    {
     "data": {
      "text/plain": [
       "(('/home/tzortzis/Data/IRI-CATs-light/real_data/long_tasks/cropped_robotic/test/orange/no_release_orange/robotic_no_release_orange_0591.jpg',),\n",
       " tensor([1]))"
      ]
     },
     "execution_count": 21,
     "metadata": {},
     "output_type": "execute_result"
    },
    {
     "data": {
      "text/plain": [
       "(('/home/tzortzis/Data/IRI-CATs-light/real_data/long_tasks/cropped_robotic/test/orange/no_release_orange/robotic_no_release_orange_0592.jpg',),\n",
       " tensor([1]))"
      ]
     },
     "execution_count": 21,
     "metadata": {},
     "output_type": "execute_result"
    },
    {
     "data": {
      "text/plain": [
       "(('/home/tzortzis/Data/IRI-CATs-light/real_data/long_tasks/cropped_robotic/test/orange/no_release_orange/robotic_no_release_orange_0593.jpg',),\n",
       " tensor([1]))"
      ]
     },
     "execution_count": 21,
     "metadata": {},
     "output_type": "execute_result"
    },
    {
     "data": {
      "text/plain": [
       "(('/home/tzortzis/Data/IRI-CATs-light/real_data/long_tasks/cropped_robotic/test/orange/no_release_orange/robotic_no_release_orange_0594.jpg',),\n",
       " tensor([1]))"
      ]
     },
     "execution_count": 21,
     "metadata": {},
     "output_type": "execute_result"
    },
    {
     "data": {
      "text/plain": [
       "(('/home/tzortzis/Data/IRI-CATs-light/real_data/long_tasks/cropped_robotic/test/orange/no_release_orange/robotic_no_release_orange_0595.jpg',),\n",
       " tensor([1]))"
      ]
     },
     "execution_count": 21,
     "metadata": {},
     "output_type": "execute_result"
    },
    {
     "data": {
      "text/plain": [
       "(('/home/tzortzis/Data/IRI-CATs-light/real_data/long_tasks/cropped_robotic/test/orange/no_release_orange/robotic_no_release_orange_0596.jpg',),\n",
       " tensor([1]))"
      ]
     },
     "execution_count": 21,
     "metadata": {},
     "output_type": "execute_result"
    },
    {
     "data": {
      "text/plain": [
       "(('/home/tzortzis/Data/IRI-CATs-light/real_data/long_tasks/cropped_robotic/test/orange/no_release_orange/robotic_no_release_orange_0597.jpg',),\n",
       " tensor([1]))"
      ]
     },
     "execution_count": 21,
     "metadata": {},
     "output_type": "execute_result"
    },
    {
     "data": {
      "text/plain": [
       "(('/home/tzortzis/Data/IRI-CATs-light/real_data/long_tasks/cropped_robotic/test/orange/no_release_orange/robotic_no_release_orange_0598.jpg',),\n",
       " tensor([1]))"
      ]
     },
     "execution_count": 21,
     "metadata": {},
     "output_type": "execute_result"
    },
    {
     "data": {
      "text/plain": [
       "(('/home/tzortzis/Data/IRI-CATs-light/real_data/long_tasks/cropped_robotic/test/orange/no_release_orange/robotic_no_release_orange_0599.jpg',),\n",
       " tensor([1]))"
      ]
     },
     "execution_count": 21,
     "metadata": {},
     "output_type": "execute_result"
    },
    {
     "data": {
      "text/plain": [
       "(('/home/tzortzis/Data/IRI-CATs-light/real_data/long_tasks/cropped_robotic/test/orange/no_release_orange/robotic_no_release_orange_0600.jpg',),\n",
       " tensor([1]))"
      ]
     },
     "execution_count": 21,
     "metadata": {},
     "output_type": "execute_result"
    },
    {
     "data": {
      "text/plain": [
       "(('/home/tzortzis/Data/IRI-CATs-light/real_data/long_tasks/cropped_robotic/test/orange/no_release_orange/robotic_no_release_orange_0601.jpg',),\n",
       " tensor([1]))"
      ]
     },
     "execution_count": 21,
     "metadata": {},
     "output_type": "execute_result"
    },
    {
     "data": {
      "text/plain": [
       "(('/home/tzortzis/Data/IRI-CATs-light/real_data/long_tasks/cropped_robotic/test/orange/no_release_orange/robotic_no_release_orange_0602.jpg',),\n",
       " tensor([1]))"
      ]
     },
     "execution_count": 21,
     "metadata": {},
     "output_type": "execute_result"
    },
    {
     "data": {
      "text/plain": [
       "(('/home/tzortzis/Data/IRI-CATs-light/real_data/long_tasks/cropped_robotic/test/orange/no_release_orange/robotic_no_release_orange_0603.jpg',),\n",
       " tensor([1]))"
      ]
     },
     "execution_count": 21,
     "metadata": {},
     "output_type": "execute_result"
    },
    {
     "data": {
      "text/plain": [
       "(('/home/tzortzis/Data/IRI-CATs-light/real_data/long_tasks/cropped_robotic/test/orange/no_release_orange/robotic_no_release_orange_0604.jpg',),\n",
       " tensor([1]))"
      ]
     },
     "execution_count": 21,
     "metadata": {},
     "output_type": "execute_result"
    },
    {
     "data": {
      "text/plain": [
       "(('/home/tzortzis/Data/IRI-CATs-light/real_data/long_tasks/cropped_robotic/test/orange/no_release_orange/robotic_no_release_orange_0605.jpg',),\n",
       " tensor([1]))"
      ]
     },
     "execution_count": 21,
     "metadata": {},
     "output_type": "execute_result"
    },
    {
     "data": {
      "text/plain": [
       "(('/home/tzortzis/Data/IRI-CATs-light/real_data/long_tasks/cropped_robotic/test/orange/no_release_orange/robotic_no_release_orange_0606.jpg',),\n",
       " tensor([1]))"
      ]
     },
     "execution_count": 21,
     "metadata": {},
     "output_type": "execute_result"
    },
    {
     "data": {
      "text/plain": [
       "(('/home/tzortzis/Data/IRI-CATs-light/real_data/long_tasks/cropped_robotic/test/orange/no_release_orange/robotic_no_release_orange_0607.jpg',),\n",
       " tensor([1]))"
      ]
     },
     "execution_count": 21,
     "metadata": {},
     "output_type": "execute_result"
    },
    {
     "data": {
      "text/plain": [
       "(('/home/tzortzis/Data/IRI-CATs-light/real_data/long_tasks/cropped_robotic/test/orange/no_release_orange/robotic_no_release_orange_0608.jpg',),\n",
       " tensor([1]))"
      ]
     },
     "execution_count": 21,
     "metadata": {},
     "output_type": "execute_result"
    },
    {
     "data": {
      "text/plain": [
       "(('/home/tzortzis/Data/IRI-CATs-light/real_data/long_tasks/cropped_robotic/test/orange/no_release_orange/robotic_no_release_orange_0609.jpg',),\n",
       " tensor([1]))"
      ]
     },
     "execution_count": 21,
     "metadata": {},
     "output_type": "execute_result"
    },
    {
     "data": {
      "text/plain": [
       "(('/home/tzortzis/Data/IRI-CATs-light/real_data/long_tasks/cropped_robotic/test/orange/no_release_orange/robotic_no_release_orange_0610.jpg',),\n",
       " tensor([1]))"
      ]
     },
     "execution_count": 21,
     "metadata": {},
     "output_type": "execute_result"
    },
    {
     "data": {
      "text/plain": [
       "(('/home/tzortzis/Data/IRI-CATs-light/real_data/long_tasks/cropped_robotic/test/orange/no_release_orange/robotic_no_release_orange_0611.jpg',),\n",
       " tensor([1]))"
      ]
     },
     "execution_count": 21,
     "metadata": {},
     "output_type": "execute_result"
    },
    {
     "data": {
      "text/plain": [
       "(('/home/tzortzis/Data/IRI-CATs-light/real_data/long_tasks/cropped_robotic/test/orange/no_release_orange/robotic_no_release_orange_0612.jpg',),\n",
       " tensor([1]))"
      ]
     },
     "execution_count": 21,
     "metadata": {},
     "output_type": "execute_result"
    },
    {
     "data": {
      "text/plain": [
       "(('/home/tzortzis/Data/IRI-CATs-light/real_data/long_tasks/cropped_robotic/test/orange/no_release_orange/robotic_no_release_orange_0613.jpg',),\n",
       " tensor([1]))"
      ]
     },
     "execution_count": 21,
     "metadata": {},
     "output_type": "execute_result"
    },
    {
     "data": {
      "text/plain": [
       "(('/home/tzortzis/Data/IRI-CATs-light/real_data/long_tasks/cropped_robotic/test/orange/no_release_orange/robotic_no_release_orange_0614.jpg',),\n",
       " tensor([1]))"
      ]
     },
     "execution_count": 21,
     "metadata": {},
     "output_type": "execute_result"
    },
    {
     "data": {
      "text/plain": [
       "(('/home/tzortzis/Data/IRI-CATs-light/real_data/long_tasks/cropped_robotic/test/orange/no_release_orange/robotic_no_release_orange_0615.jpg',),\n",
       " tensor([1]))"
      ]
     },
     "execution_count": 21,
     "metadata": {},
     "output_type": "execute_result"
    },
    {
     "data": {
      "text/plain": [
       "(('/home/tzortzis/Data/IRI-CATs-light/real_data/long_tasks/cropped_robotic/test/orange/no_release_orange/robotic_no_release_orange_0616.jpg',),\n",
       " tensor([1]))"
      ]
     },
     "execution_count": 21,
     "metadata": {},
     "output_type": "execute_result"
    },
    {
     "data": {
      "text/plain": [
       "(('/home/tzortzis/Data/IRI-CATs-light/real_data/long_tasks/cropped_robotic/test/orange/no_release_orange/robotic_no_release_orange_0617.jpg',),\n",
       " tensor([1]))"
      ]
     },
     "execution_count": 21,
     "metadata": {},
     "output_type": "execute_result"
    },
    {
     "data": {
      "text/plain": [
       "(('/home/tzortzis/Data/IRI-CATs-light/real_data/long_tasks/cropped_robotic/test/orange/no_release_orange/robotic_no_release_orange_0618.jpg',),\n",
       " tensor([1]))"
      ]
     },
     "execution_count": 21,
     "metadata": {},
     "output_type": "execute_result"
    },
    {
     "data": {
      "text/plain": [
       "(('/home/tzortzis/Data/IRI-CATs-light/real_data/long_tasks/cropped_robotic/test/orange/no_release_orange/robotic_no_release_orange_0619.jpg',),\n",
       " tensor([1]))"
      ]
     },
     "execution_count": 21,
     "metadata": {},
     "output_type": "execute_result"
    },
    {
     "data": {
      "text/plain": [
       "(('/home/tzortzis/Data/IRI-CATs-light/real_data/long_tasks/cropped_robotic/test/orange/no_release_orange/robotic_no_release_orange_0620.jpg',),\n",
       " tensor([1]))"
      ]
     },
     "execution_count": 21,
     "metadata": {},
     "output_type": "execute_result"
    },
    {
     "data": {
      "text/plain": [
       "(('/home/tzortzis/Data/IRI-CATs-light/real_data/long_tasks/cropped_robotic/test/orange/no_release_orange/robotic_no_release_orange_0621.jpg',),\n",
       " tensor([1]))"
      ]
     },
     "execution_count": 21,
     "metadata": {},
     "output_type": "execute_result"
    },
    {
     "data": {
      "text/plain": [
       "(('/home/tzortzis/Data/IRI-CATs-light/real_data/long_tasks/cropped_robotic/test/orange/no_release_orange/robotic_no_release_orange_0622.jpg',),\n",
       " tensor([1]))"
      ]
     },
     "execution_count": 21,
     "metadata": {},
     "output_type": "execute_result"
    },
    {
     "data": {
      "text/plain": [
       "(('/home/tzortzis/Data/IRI-CATs-light/real_data/long_tasks/cropped_robotic/test/orange/no_release_orange/robotic_no_release_orange_0623.jpg',),\n",
       " tensor([1]))"
      ]
     },
     "execution_count": 21,
     "metadata": {},
     "output_type": "execute_result"
    },
    {
     "data": {
      "text/plain": [
       "(('/home/tzortzis/Data/IRI-CATs-light/real_data/long_tasks/cropped_robotic/test/orange/no_release_orange/robotic_no_release_orange_0624.jpg',),\n",
       " tensor([1]))"
      ]
     },
     "execution_count": 21,
     "metadata": {},
     "output_type": "execute_result"
    },
    {
     "data": {
      "text/plain": [
       "(('/home/tzortzis/Data/IRI-CATs-light/real_data/long_tasks/cropped_robotic/test/orange/no_release_orange/robotic_no_release_orange_0625.jpg',),\n",
       " tensor([1]))"
      ]
     },
     "execution_count": 21,
     "metadata": {},
     "output_type": "execute_result"
    },
    {
     "data": {
      "text/plain": [
       "(('/home/tzortzis/Data/IRI-CATs-light/real_data/long_tasks/cropped_robotic/test/orange/no_release_orange/robotic_no_release_orange_0626.jpg',),\n",
       " tensor([1]))"
      ]
     },
     "execution_count": 21,
     "metadata": {},
     "output_type": "execute_result"
    },
    {
     "data": {
      "text/plain": [
       "(('/home/tzortzis/Data/IRI-CATs-light/real_data/long_tasks/cropped_robotic/test/orange/no_release_orange/robotic_no_release_orange_0627.jpg',),\n",
       " tensor([1]))"
      ]
     },
     "execution_count": 21,
     "metadata": {},
     "output_type": "execute_result"
    },
    {
     "data": {
      "text/plain": [
       "(('/home/tzortzis/Data/IRI-CATs-light/real_data/long_tasks/cropped_robotic/test/orange/no_release_orange/robotic_no_release_orange_0628.jpg',),\n",
       " tensor([1]))"
      ]
     },
     "execution_count": 21,
     "metadata": {},
     "output_type": "execute_result"
    },
    {
     "data": {
      "text/plain": [
       "(('/home/tzortzis/Data/IRI-CATs-light/real_data/long_tasks/cropped_robotic/test/orange/no_release_orange/robotic_no_release_orange_0629.jpg',),\n",
       " tensor([1]))"
      ]
     },
     "execution_count": 21,
     "metadata": {},
     "output_type": "execute_result"
    },
    {
     "data": {
      "text/plain": [
       "(('/home/tzortzis/Data/IRI-CATs-light/real_data/long_tasks/cropped_robotic/test/orange/no_release_orange/robotic_no_release_orange_0630.jpg',),\n",
       " tensor([1]))"
      ]
     },
     "execution_count": 21,
     "metadata": {},
     "output_type": "execute_result"
    },
    {
     "data": {
      "text/plain": [
       "(('/home/tzortzis/Data/IRI-CATs-light/real_data/long_tasks/cropped_robotic/test/orange/no_release_orange/robotic_no_release_orange_0631.jpg',),\n",
       " tensor([1]))"
      ]
     },
     "execution_count": 21,
     "metadata": {},
     "output_type": "execute_result"
    },
    {
     "data": {
      "text/plain": [
       "(('/home/tzortzis/Data/IRI-CATs-light/real_data/long_tasks/cropped_robotic/test/orange/no_release_orange/robotic_no_release_orange_0632.jpg',),\n",
       " tensor([1]))"
      ]
     },
     "execution_count": 21,
     "metadata": {},
     "output_type": "execute_result"
    },
    {
     "data": {
      "text/plain": [
       "(('/home/tzortzis/Data/IRI-CATs-light/real_data/long_tasks/cropped_robotic/test/orange/no_release_orange/robotic_no_release_orange_0633.jpg',),\n",
       " tensor([1]))"
      ]
     },
     "execution_count": 21,
     "metadata": {},
     "output_type": "execute_result"
    },
    {
     "data": {
      "text/plain": [
       "(('/home/tzortzis/Data/IRI-CATs-light/real_data/long_tasks/cropped_robotic/test/orange/no_release_orange/robotic_no_release_orange_0634.jpg',),\n",
       " tensor([1]))"
      ]
     },
     "execution_count": 21,
     "metadata": {},
     "output_type": "execute_result"
    },
    {
     "data": {
      "text/plain": [
       "(('/home/tzortzis/Data/IRI-CATs-light/real_data/long_tasks/cropped_robotic/test/orange/no_release_orange/robotic_no_release_orange_0635.jpg',),\n",
       " tensor([1]))"
      ]
     },
     "execution_count": 21,
     "metadata": {},
     "output_type": "execute_result"
    },
    {
     "data": {
      "text/plain": [
       "(('/home/tzortzis/Data/IRI-CATs-light/real_data/long_tasks/cropped_robotic/test/orange/no_release_orange/robotic_no_release_orange_0636.jpg',),\n",
       " tensor([1]))"
      ]
     },
     "execution_count": 21,
     "metadata": {},
     "output_type": "execute_result"
    },
    {
     "data": {
      "text/plain": [
       "(('/home/tzortzis/Data/IRI-CATs-light/real_data/long_tasks/cropped_robotic/test/orange/no_release_orange/robotic_no_release_orange_0637.jpg',),\n",
       " tensor([1]))"
      ]
     },
     "execution_count": 21,
     "metadata": {},
     "output_type": "execute_result"
    },
    {
     "data": {
      "text/plain": [
       "(('/home/tzortzis/Data/IRI-CATs-light/real_data/long_tasks/cropped_robotic/test/orange/no_release_orange/robotic_no_release_orange_0638.jpg',),\n",
       " tensor([1]))"
      ]
     },
     "execution_count": 21,
     "metadata": {},
     "output_type": "execute_result"
    },
    {
     "data": {
      "text/plain": [
       "(('/home/tzortzis/Data/IRI-CATs-light/real_data/long_tasks/cropped_robotic/test/orange/no_release_orange/robotic_no_release_orange_0639.jpg',),\n",
       " tensor([1]))"
      ]
     },
     "execution_count": 21,
     "metadata": {},
     "output_type": "execute_result"
    },
    {
     "data": {
      "text/plain": [
       "(('/home/tzortzis/Data/IRI-CATs-light/real_data/long_tasks/cropped_robotic/test/orange/no_release_orange/robotic_no_release_orange_0640.jpg',),\n",
       " tensor([1]))"
      ]
     },
     "execution_count": 21,
     "metadata": {},
     "output_type": "execute_result"
    },
    {
     "data": {
      "text/plain": [
       "(('/home/tzortzis/Data/IRI-CATs-light/real_data/long_tasks/cropped_robotic/test/orange/no_release_orange/robotic_no_release_orange_0641.jpg',),\n",
       " tensor([1]))"
      ]
     },
     "execution_count": 21,
     "metadata": {},
     "output_type": "execute_result"
    },
    {
     "data": {
      "text/plain": [
       "(('/home/tzortzis/Data/IRI-CATs-light/real_data/long_tasks/cropped_robotic/test/orange/no_release_orange/robotic_no_release_orange_0642.jpg',),\n",
       " tensor([1]))"
      ]
     },
     "execution_count": 21,
     "metadata": {},
     "output_type": "execute_result"
    },
    {
     "data": {
      "text/plain": [
       "(('/home/tzortzis/Data/IRI-CATs-light/real_data/long_tasks/cropped_robotic/test/orange/no_release_orange/robotic_no_release_orange_0643.jpg',),\n",
       " tensor([1]))"
      ]
     },
     "execution_count": 21,
     "metadata": {},
     "output_type": "execute_result"
    },
    {
     "data": {
      "text/plain": [
       "(('/home/tzortzis/Data/IRI-CATs-light/real_data/long_tasks/cropped_robotic/test/orange/no_release_orange/robotic_no_release_orange_0644.jpg',),\n",
       " tensor([1]))"
      ]
     },
     "execution_count": 21,
     "metadata": {},
     "output_type": "execute_result"
    },
    {
     "data": {
      "text/plain": [
       "(('/home/tzortzis/Data/IRI-CATs-light/real_data/long_tasks/cropped_robotic/test/orange/no_release_orange/robotic_no_release_orange_0645.jpg',),\n",
       " tensor([1]))"
      ]
     },
     "execution_count": 21,
     "metadata": {},
     "output_type": "execute_result"
    },
    {
     "data": {
      "text/plain": [
       "(('/home/tzortzis/Data/IRI-CATs-light/real_data/long_tasks/cropped_robotic/test/orange/no_release_orange/robotic_no_release_orange_0646.jpg',),\n",
       " tensor([1]))"
      ]
     },
     "execution_count": 21,
     "metadata": {},
     "output_type": "execute_result"
    },
    {
     "data": {
      "text/plain": [
       "(('/home/tzortzis/Data/IRI-CATs-light/real_data/long_tasks/cropped_robotic/test/orange/no_release_orange/robotic_no_release_orange_0647.jpg',),\n",
       " tensor([1]))"
      ]
     },
     "execution_count": 21,
     "metadata": {},
     "output_type": "execute_result"
    },
    {
     "data": {
      "text/plain": [
       "(('/home/tzortzis/Data/IRI-CATs-light/real_data/long_tasks/cropped_robotic/test/orange/no_release_orange/robotic_no_release_orange_0648.jpg',),\n",
       " tensor([1]))"
      ]
     },
     "execution_count": 21,
     "metadata": {},
     "output_type": "execute_result"
    },
    {
     "data": {
      "text/plain": [
       "(('/home/tzortzis/Data/IRI-CATs-light/real_data/long_tasks/cropped_robotic/test/orange/no_release_orange/robotic_no_release_orange_0649.jpg',),\n",
       " tensor([1]))"
      ]
     },
     "execution_count": 21,
     "metadata": {},
     "output_type": "execute_result"
    },
    {
     "data": {
      "text/plain": [
       "(('/home/tzortzis/Data/IRI-CATs-light/real_data/long_tasks/cropped_robotic/test/orange/no_release_orange/robotic_no_release_orange_0650.jpg',),\n",
       " tensor([1]))"
      ]
     },
     "execution_count": 21,
     "metadata": {},
     "output_type": "execute_result"
    },
    {
     "data": {
      "text/plain": [
       "(('/home/tzortzis/Data/IRI-CATs-light/real_data/long_tasks/cropped_robotic/test/orange/no_release_orange/robotic_no_release_orange_0651.jpg',),\n",
       " tensor([1]))"
      ]
     },
     "execution_count": 21,
     "metadata": {},
     "output_type": "execute_result"
    },
    {
     "data": {
      "text/plain": [
       "(('/home/tzortzis/Data/IRI-CATs-light/real_data/long_tasks/cropped_robotic/test/orange/no_release_orange/robotic_no_release_orange_0652.jpg',),\n",
       " tensor([1]))"
      ]
     },
     "execution_count": 21,
     "metadata": {},
     "output_type": "execute_result"
    },
    {
     "data": {
      "text/plain": [
       "(('/home/tzortzis/Data/IRI-CATs-light/real_data/long_tasks/cropped_robotic/test/orange/no_release_orange/robotic_no_release_orange_0653.jpg',),\n",
       " tensor([1]))"
      ]
     },
     "execution_count": 21,
     "metadata": {},
     "output_type": "execute_result"
    },
    {
     "data": {
      "text/plain": [
       "(('/home/tzortzis/Data/IRI-CATs-light/real_data/long_tasks/cropped_robotic/test/orange/no_release_orange/robotic_no_release_orange_0654.jpg',),\n",
       " tensor([1]))"
      ]
     },
     "execution_count": 21,
     "metadata": {},
     "output_type": "execute_result"
    },
    {
     "data": {
      "text/plain": [
       "(('/home/tzortzis/Data/IRI-CATs-light/real_data/long_tasks/cropped_robotic/test/orange/no_release_orange/robotic_no_release_orange_0655.jpg',),\n",
       " tensor([1]))"
      ]
     },
     "execution_count": 21,
     "metadata": {},
     "output_type": "execute_result"
    },
    {
     "data": {
      "text/plain": [
       "(('/home/tzortzis/Data/IRI-CATs-light/real_data/long_tasks/cropped_robotic/test/orange/no_release_orange/robotic_no_release_orange_0656.jpg',),\n",
       " tensor([1]))"
      ]
     },
     "execution_count": 21,
     "metadata": {},
     "output_type": "execute_result"
    },
    {
     "data": {
      "text/plain": [
       "(('/home/tzortzis/Data/IRI-CATs-light/real_data/long_tasks/cropped_robotic/test/orange/no_release_orange/robotic_no_release_orange_0657.jpg',),\n",
       " tensor([1]))"
      ]
     },
     "execution_count": 21,
     "metadata": {},
     "output_type": "execute_result"
    },
    {
     "data": {
      "text/plain": [
       "(('/home/tzortzis/Data/IRI-CATs-light/real_data/long_tasks/cropped_robotic/test/orange/no_release_orange/robotic_no_release_orange_0658.jpg',),\n",
       " tensor([1]))"
      ]
     },
     "execution_count": 21,
     "metadata": {},
     "output_type": "execute_result"
    },
    {
     "data": {
      "text/plain": [
       "(('/home/tzortzis/Data/IRI-CATs-light/real_data/long_tasks/cropped_robotic/test/orange/no_release_orange/robotic_no_release_orange_0659.jpg',),\n",
       " tensor([1]))"
      ]
     },
     "execution_count": 21,
     "metadata": {},
     "output_type": "execute_result"
    },
    {
     "data": {
      "text/plain": [
       "(('/home/tzortzis/Data/IRI-CATs-light/real_data/long_tasks/cropped_robotic/test/orange/no_release_orange/robotic_no_release_orange_0660.jpg',),\n",
       " tensor([1]))"
      ]
     },
     "execution_count": 21,
     "metadata": {},
     "output_type": "execute_result"
    },
    {
     "data": {
      "text/plain": [
       "(('/home/tzortzis/Data/IRI-CATs-light/real_data/long_tasks/cropped_robotic/test/orange/no_release_orange/robotic_no_release_orange_0661.jpg',),\n",
       " tensor([1]))"
      ]
     },
     "execution_count": 21,
     "metadata": {},
     "output_type": "execute_result"
    },
    {
     "data": {
      "text/plain": [
       "(('/home/tzortzis/Data/IRI-CATs-light/real_data/long_tasks/cropped_robotic/test/orange/no_release_orange/robotic_no_release_orange_0662.jpg',),\n",
       " tensor([1]))"
      ]
     },
     "execution_count": 21,
     "metadata": {},
     "output_type": "execute_result"
    },
    {
     "data": {
      "text/plain": [
       "(('/home/tzortzis/Data/IRI-CATs-light/real_data/long_tasks/cropped_robotic/test/orange/no_release_orange/robotic_no_release_orange_0663.jpg',),\n",
       " tensor([1]))"
      ]
     },
     "execution_count": 21,
     "metadata": {},
     "output_type": "execute_result"
    },
    {
     "data": {
      "text/plain": [
       "(('/home/tzortzis/Data/IRI-CATs-light/real_data/long_tasks/cropped_robotic/test/orange/no_release_orange/robotic_no_release_orange_0664.jpg',),\n",
       " tensor([1]))"
      ]
     },
     "execution_count": 21,
     "metadata": {},
     "output_type": "execute_result"
    },
    {
     "data": {
      "text/plain": [
       "(('/home/tzortzis/Data/IRI-CATs-light/real_data/long_tasks/cropped_robotic/test/orange/no_release_orange/robotic_no_release_orange_0665.jpg',),\n",
       " tensor([1]))"
      ]
     },
     "execution_count": 21,
     "metadata": {},
     "output_type": "execute_result"
    },
    {
     "data": {
      "text/plain": [
       "(('/home/tzortzis/Data/IRI-CATs-light/real_data/long_tasks/cropped_robotic/test/orange/no_release_orange/robotic_no_release_orange_0666.jpg',),\n",
       " tensor([1]))"
      ]
     },
     "execution_count": 21,
     "metadata": {},
     "output_type": "execute_result"
    },
    {
     "data": {
      "text/plain": [
       "(('/home/tzortzis/Data/IRI-CATs-light/real_data/long_tasks/cropped_robotic/test/orange/no_release_orange/robotic_no_release_orange_0667.jpg',),\n",
       " tensor([1]))"
      ]
     },
     "execution_count": 21,
     "metadata": {},
     "output_type": "execute_result"
    },
    {
     "data": {
      "text/plain": [
       "(('/home/tzortzis/Data/IRI-CATs-light/real_data/long_tasks/cropped_robotic/test/orange/no_release_orange/robotic_no_release_orange_0668.jpg',),\n",
       " tensor([1]))"
      ]
     },
     "execution_count": 21,
     "metadata": {},
     "output_type": "execute_result"
    },
    {
     "data": {
      "text/plain": [
       "(('/home/tzortzis/Data/IRI-CATs-light/real_data/long_tasks/cropped_robotic/test/orange/no_release_orange/robotic_no_release_orange_0669.jpg',),\n",
       " tensor([1]))"
      ]
     },
     "execution_count": 21,
     "metadata": {},
     "output_type": "execute_result"
    },
    {
     "data": {
      "text/plain": [
       "(('/home/tzortzis/Data/IRI-CATs-light/real_data/long_tasks/cropped_robotic/test/orange/no_release_orange/robotic_no_release_orange_0670.jpg',),\n",
       " tensor([1]))"
      ]
     },
     "execution_count": 21,
     "metadata": {},
     "output_type": "execute_result"
    },
    {
     "data": {
      "text/plain": [
       "(('/home/tzortzis/Data/IRI-CATs-light/real_data/long_tasks/cropped_robotic/test/orange/no_release_orange/robotic_no_release_orange_0671.jpg',),\n",
       " tensor([1]))"
      ]
     },
     "execution_count": 21,
     "metadata": {},
     "output_type": "execute_result"
    },
    {
     "data": {
      "text/plain": [
       "(('/home/tzortzis/Data/IRI-CATs-light/real_data/long_tasks/cropped_robotic/test/orange/no_release_orange/robotic_no_release_orange_0672.jpg',),\n",
       " tensor([1]))"
      ]
     },
     "execution_count": 21,
     "metadata": {},
     "output_type": "execute_result"
    },
    {
     "data": {
      "text/plain": [
       "(('/home/tzortzis/Data/IRI-CATs-light/real_data/long_tasks/cropped_robotic/test/orange/no_release_orange/robotic_no_release_orange_0673.jpg',),\n",
       " tensor([1]))"
      ]
     },
     "execution_count": 21,
     "metadata": {},
     "output_type": "execute_result"
    },
    {
     "data": {
      "text/plain": [
       "(('/home/tzortzis/Data/IRI-CATs-light/real_data/long_tasks/cropped_robotic/test/orange/no_release_orange/robotic_no_release_orange_0674.jpg',),\n",
       " tensor([1]))"
      ]
     },
     "execution_count": 21,
     "metadata": {},
     "output_type": "execute_result"
    },
    {
     "data": {
      "text/plain": [
       "(('/home/tzortzis/Data/IRI-CATs-light/real_data/long_tasks/cropped_robotic/test/orange/no_release_orange/robotic_no_release_orange_0675.jpg',),\n",
       " tensor([1]))"
      ]
     },
     "execution_count": 21,
     "metadata": {},
     "output_type": "execute_result"
    },
    {
     "data": {
      "text/plain": [
       "(('/home/tzortzis/Data/IRI-CATs-light/real_data/long_tasks/cropped_robotic/test/orange/no_release_orange/robotic_no_release_orange_0676.jpg',),\n",
       " tensor([1]))"
      ]
     },
     "execution_count": 21,
     "metadata": {},
     "output_type": "execute_result"
    },
    {
     "data": {
      "text/plain": [
       "(('/home/tzortzis/Data/IRI-CATs-light/real_data/long_tasks/cropped_robotic/test/orange/no_release_orange/robotic_no_release_orange_0677.jpg',),\n",
       " tensor([1]))"
      ]
     },
     "execution_count": 21,
     "metadata": {},
     "output_type": "execute_result"
    },
    {
     "data": {
      "text/plain": [
       "(('/home/tzortzis/Data/IRI-CATs-light/real_data/long_tasks/cropped_robotic/test/orange/no_release_orange/robotic_no_release_orange_0678.jpg',),\n",
       " tensor([1]))"
      ]
     },
     "execution_count": 21,
     "metadata": {},
     "output_type": "execute_result"
    },
    {
     "data": {
      "text/plain": [
       "(('/home/tzortzis/Data/IRI-CATs-light/real_data/long_tasks/cropped_robotic/test/orange/no_release_orange/robotic_no_release_orange_0679.jpg',),\n",
       " tensor([1]))"
      ]
     },
     "execution_count": 21,
     "metadata": {},
     "output_type": "execute_result"
    },
    {
     "data": {
      "text/plain": [
       "(('/home/tzortzis/Data/IRI-CATs-light/real_data/long_tasks/cropped_robotic/test/orange/no_release_orange/robotic_no_release_orange_0680.jpg',),\n",
       " tensor([1]))"
      ]
     },
     "execution_count": 21,
     "metadata": {},
     "output_type": "execute_result"
    },
    {
     "data": {
      "text/plain": [
       "(('/home/tzortzis/Data/IRI-CATs-light/real_data/long_tasks/cropped_robotic/test/orange/no_release_orange/robotic_no_release_orange_0681.jpg',),\n",
       " tensor([1]))"
      ]
     },
     "execution_count": 21,
     "metadata": {},
     "output_type": "execute_result"
    },
    {
     "data": {
      "text/plain": [
       "(('/home/tzortzis/Data/IRI-CATs-light/real_data/long_tasks/cropped_robotic/test/orange/no_release_orange/robotic_no_release_orange_0682.jpg',),\n",
       " tensor([1]))"
      ]
     },
     "execution_count": 21,
     "metadata": {},
     "output_type": "execute_result"
    },
    {
     "data": {
      "text/plain": [
       "(('/home/tzortzis/Data/IRI-CATs-light/real_data/long_tasks/cropped_robotic/test/orange/no_release_orange/robotic_no_release_orange_0683.jpg',),\n",
       " tensor([1]))"
      ]
     },
     "execution_count": 21,
     "metadata": {},
     "output_type": "execute_result"
    },
    {
     "data": {
      "text/plain": [
       "(('/home/tzortzis/Data/IRI-CATs-light/real_data/long_tasks/cropped_robotic/test/orange/no_release_orange/robotic_no_release_orange_0684.jpg',),\n",
       " tensor([1]))"
      ]
     },
     "execution_count": 21,
     "metadata": {},
     "output_type": "execute_result"
    },
    {
     "data": {
      "text/plain": [
       "(('/home/tzortzis/Data/IRI-CATs-light/real_data/long_tasks/cropped_robotic/test/orange/no_release_orange/robotic_no_release_orange_0685.jpg',),\n",
       " tensor([1]))"
      ]
     },
     "execution_count": 21,
     "metadata": {},
     "output_type": "execute_result"
    },
    {
     "data": {
      "text/plain": [
       "(('/home/tzortzis/Data/IRI-CATs-light/real_data/long_tasks/cropped_robotic/test/orange/no_release_orange/robotic_no_release_orange_0686.jpg',),\n",
       " tensor([1]))"
      ]
     },
     "execution_count": 21,
     "metadata": {},
     "output_type": "execute_result"
    },
    {
     "data": {
      "text/plain": [
       "(('/home/tzortzis/Data/IRI-CATs-light/real_data/long_tasks/cropped_robotic/test/orange/no_release_orange/robotic_no_release_orange_0687.jpg',),\n",
       " tensor([1]))"
      ]
     },
     "execution_count": 21,
     "metadata": {},
     "output_type": "execute_result"
    },
    {
     "data": {
      "text/plain": [
       "(('/home/tzortzis/Data/IRI-CATs-light/real_data/long_tasks/cropped_robotic/test/orange/no_release_orange/robotic_no_release_orange_0688.jpg',),\n",
       " tensor([1]))"
      ]
     },
     "execution_count": 21,
     "metadata": {},
     "output_type": "execute_result"
    },
    {
     "data": {
      "text/plain": [
       "(('/home/tzortzis/Data/IRI-CATs-light/real_data/long_tasks/cropped_robotic/test/orange/no_release_orange/robotic_no_release_orange_0689.jpg',),\n",
       " tensor([1]))"
      ]
     },
     "execution_count": 21,
     "metadata": {},
     "output_type": "execute_result"
    },
    {
     "data": {
      "text/plain": [
       "(('/home/tzortzis/Data/IRI-CATs-light/real_data/long_tasks/cropped_robotic/test/orange/no_release_orange/robotic_no_release_orange_0690.jpg',),\n",
       " tensor([1]))"
      ]
     },
     "execution_count": 21,
     "metadata": {},
     "output_type": "execute_result"
    },
    {
     "data": {
      "text/plain": [
       "(('/home/tzortzis/Data/IRI-CATs-light/real_data/long_tasks/cropped_robotic/test/orange/no_release_orange/robotic_no_release_orange_0691.jpg',),\n",
       " tensor([1]))"
      ]
     },
     "execution_count": 21,
     "metadata": {},
     "output_type": "execute_result"
    },
    {
     "data": {
      "text/plain": [
       "(('/home/tzortzis/Data/IRI-CATs-light/real_data/long_tasks/cropped_robotic/test/orange/no_release_orange/robotic_no_release_orange_0692.jpg',),\n",
       " tensor([1]))"
      ]
     },
     "execution_count": 21,
     "metadata": {},
     "output_type": "execute_result"
    },
    {
     "data": {
      "text/plain": [
       "(('/home/tzortzis/Data/IRI-CATs-light/real_data/long_tasks/cropped_robotic/test/orange/no_release_orange/robotic_no_release_orange_0693.jpg',),\n",
       " tensor([1]))"
      ]
     },
     "execution_count": 21,
     "metadata": {},
     "output_type": "execute_result"
    },
    {
     "data": {
      "text/plain": [
       "(('/home/tzortzis/Data/IRI-CATs-light/real_data/long_tasks/cropped_robotic/test/orange/no_release_orange/robotic_no_release_orange_0694.jpg',),\n",
       " tensor([1]))"
      ]
     },
     "execution_count": 21,
     "metadata": {},
     "output_type": "execute_result"
    },
    {
     "data": {
      "text/plain": [
       "(('/home/tzortzis/Data/IRI-CATs-light/real_data/long_tasks/cropped_robotic/test/orange/no_release_orange/robotic_no_release_orange_0695.jpg',),\n",
       " tensor([1]))"
      ]
     },
     "execution_count": 21,
     "metadata": {},
     "output_type": "execute_result"
    },
    {
     "data": {
      "text/plain": [
       "(('/home/tzortzis/Data/IRI-CATs-light/real_data/long_tasks/cropped_robotic/test/orange/no_release_orange/robotic_no_release_orange_0696.jpg',),\n",
       " tensor([1]))"
      ]
     },
     "execution_count": 21,
     "metadata": {},
     "output_type": "execute_result"
    },
    {
     "data": {
      "text/plain": [
       "(('/home/tzortzis/Data/IRI-CATs-light/real_data/long_tasks/cropped_robotic/test/orange/no_release_orange/robotic_no_release_orange_0697.jpg',),\n",
       " tensor([1]))"
      ]
     },
     "execution_count": 21,
     "metadata": {},
     "output_type": "execute_result"
    },
    {
     "data": {
      "text/plain": [
       "(('/home/tzortzis/Data/IRI-CATs-light/real_data/long_tasks/cropped_robotic/test/orange/no_release_orange/robotic_no_release_orange_0698.jpg',),\n",
       " tensor([1]))"
      ]
     },
     "execution_count": 21,
     "metadata": {},
     "output_type": "execute_result"
    },
    {
     "data": {
      "text/plain": [
       "(('/home/tzortzis/Data/IRI-CATs-light/real_data/long_tasks/cropped_robotic/test/orange/no_release_orange/robotic_no_release_orange_0699.jpg',),\n",
       " tensor([1]))"
      ]
     },
     "execution_count": 21,
     "metadata": {},
     "output_type": "execute_result"
    },
    {
     "data": {
      "text/plain": [
       "(('/home/tzortzis/Data/IRI-CATs-light/real_data/long_tasks/cropped_robotic/test/orange/no_release_orange/robotic_no_release_orange_0700.jpg',),\n",
       " tensor([1]))"
      ]
     },
     "execution_count": 21,
     "metadata": {},
     "output_type": "execute_result"
    },
    {
     "data": {
      "text/plain": [
       "(('/home/tzortzis/Data/IRI-CATs-light/real_data/long_tasks/cropped_robotic/test/orange/no_release_orange/robotic_no_release_orange_0701.jpg',),\n",
       " tensor([1]))"
      ]
     },
     "execution_count": 21,
     "metadata": {},
     "output_type": "execute_result"
    },
    {
     "data": {
      "text/plain": [
       "(('/home/tzortzis/Data/IRI-CATs-light/real_data/long_tasks/cropped_robotic/test/orange/no_release_orange/robotic_no_release_orange_0702.jpg',),\n",
       " tensor([1]))"
      ]
     },
     "execution_count": 21,
     "metadata": {},
     "output_type": "execute_result"
    },
    {
     "data": {
      "text/plain": [
       "(('/home/tzortzis/Data/IRI-CATs-light/real_data/long_tasks/cropped_robotic/test/orange/no_release_orange/robotic_no_release_orange_0703.jpg',),\n",
       " tensor([1]))"
      ]
     },
     "execution_count": 21,
     "metadata": {},
     "output_type": "execute_result"
    },
    {
     "data": {
      "text/plain": [
       "(('/home/tzortzis/Data/IRI-CATs-light/real_data/long_tasks/cropped_robotic/test/orange/no_release_orange/robotic_no_release_orange_0704.jpg',),\n",
       " tensor([1]))"
      ]
     },
     "execution_count": 21,
     "metadata": {},
     "output_type": "execute_result"
    },
    {
     "data": {
      "text/plain": [
       "(('/home/tzortzis/Data/IRI-CATs-light/real_data/long_tasks/cropped_robotic/test/orange/no_release_orange/robotic_no_release_orange_0705.jpg',),\n",
       " tensor([1]))"
      ]
     },
     "execution_count": 21,
     "metadata": {},
     "output_type": "execute_result"
    },
    {
     "data": {
      "text/plain": [
       "(('/home/tzortzis/Data/IRI-CATs-light/real_data/long_tasks/cropped_robotic/test/orange/no_release_orange/robotic_no_release_orange_0706.jpg',),\n",
       " tensor([1]))"
      ]
     },
     "execution_count": 21,
     "metadata": {},
     "output_type": "execute_result"
    },
    {
     "data": {
      "text/plain": [
       "(('/home/tzortzis/Data/IRI-CATs-light/real_data/long_tasks/cropped_robotic/test/orange/no_release_orange/robotic_no_release_orange_0707.jpg',),\n",
       " tensor([1]))"
      ]
     },
     "execution_count": 21,
     "metadata": {},
     "output_type": "execute_result"
    },
    {
     "data": {
      "text/plain": [
       "(('/home/tzortzis/Data/IRI-CATs-light/real_data/long_tasks/cropped_robotic/test/orange/no_release_orange/robotic_no_release_orange_0708.jpg',),\n",
       " tensor([1]))"
      ]
     },
     "execution_count": 21,
     "metadata": {},
     "output_type": "execute_result"
    },
    {
     "data": {
      "text/plain": [
       "(('/home/tzortzis/Data/IRI-CATs-light/real_data/long_tasks/cropped_robotic/test/orange/no_release_orange/robotic_no_release_orange_0709.jpg',),\n",
       " tensor([1]))"
      ]
     },
     "execution_count": 21,
     "metadata": {},
     "output_type": "execute_result"
    },
    {
     "data": {
      "text/plain": [
       "(('/home/tzortzis/Data/IRI-CATs-light/real_data/long_tasks/cropped_robotic/test/orange/no_release_orange/robotic_no_release_orange_0710.jpg',),\n",
       " tensor([1]))"
      ]
     },
     "execution_count": 21,
     "metadata": {},
     "output_type": "execute_result"
    },
    {
     "data": {
      "text/plain": [
       "(('/home/tzortzis/Data/IRI-CATs-light/real_data/long_tasks/cropped_robotic/test/orange/no_release_orange/robotic_no_release_orange_0711.jpg',),\n",
       " tensor([1]))"
      ]
     },
     "execution_count": 21,
     "metadata": {},
     "output_type": "execute_result"
    },
    {
     "data": {
      "text/plain": [
       "(('/home/tzortzis/Data/IRI-CATs-light/real_data/long_tasks/cropped_robotic/test/orange/no_release_orange/robotic_no_release_orange_0712.jpg',),\n",
       " tensor([1]))"
      ]
     },
     "execution_count": 21,
     "metadata": {},
     "output_type": "execute_result"
    },
    {
     "data": {
      "text/plain": [
       "(('/home/tzortzis/Data/IRI-CATs-light/real_data/long_tasks/cropped_robotic/test/orange/no_release_orange/robotic_no_release_orange_0713.jpg',),\n",
       " tensor([1]))"
      ]
     },
     "execution_count": 21,
     "metadata": {},
     "output_type": "execute_result"
    },
    {
     "data": {
      "text/plain": [
       "(('/home/tzortzis/Data/IRI-CATs-light/real_data/long_tasks/cropped_robotic/test/orange/no_release_orange/robotic_no_release_orange_0714.jpg',),\n",
       " tensor([1]))"
      ]
     },
     "execution_count": 21,
     "metadata": {},
     "output_type": "execute_result"
    },
    {
     "data": {
      "text/plain": [
       "(('/home/tzortzis/Data/IRI-CATs-light/real_data/long_tasks/cropped_robotic/test/orange/no_release_orange/robotic_no_release_orange_0715.jpg',),\n",
       " tensor([1]))"
      ]
     },
     "execution_count": 21,
     "metadata": {},
     "output_type": "execute_result"
    },
    {
     "data": {
      "text/plain": [
       "(('/home/tzortzis/Data/IRI-CATs-light/real_data/long_tasks/cropped_robotic/test/orange/no_release_orange/robotic_no_release_orange_0716.jpg',),\n",
       " tensor([1]))"
      ]
     },
     "execution_count": 21,
     "metadata": {},
     "output_type": "execute_result"
    },
    {
     "data": {
      "text/plain": [
       "(('/home/tzortzis/Data/IRI-CATs-light/real_data/long_tasks/cropped_robotic/test/orange/no_release_orange/robotic_no_release_orange_0717.jpg',),\n",
       " tensor([1]))"
      ]
     },
     "execution_count": 21,
     "metadata": {},
     "output_type": "execute_result"
    },
    {
     "data": {
      "text/plain": [
       "(('/home/tzortzis/Data/IRI-CATs-light/real_data/long_tasks/cropped_robotic/test/orange/no_release_orange/robotic_no_release_orange_0718.jpg',),\n",
       " tensor([1]))"
      ]
     },
     "execution_count": 21,
     "metadata": {},
     "output_type": "execute_result"
    },
    {
     "data": {
      "text/plain": [
       "(('/home/tzortzis/Data/IRI-CATs-light/real_data/long_tasks/cropped_robotic/test/orange/no_release_orange/robotic_no_release_orange_0719.jpg',),\n",
       " tensor([1]))"
      ]
     },
     "execution_count": 21,
     "metadata": {},
     "output_type": "execute_result"
    },
    {
     "data": {
      "text/plain": [
       "(('/home/tzortzis/Data/IRI-CATs-light/real_data/long_tasks/cropped_robotic/test/orange/no_release_orange/robotic_no_release_orange_0720.jpg',),\n",
       " tensor([1]))"
      ]
     },
     "execution_count": 21,
     "metadata": {},
     "output_type": "execute_result"
    },
    {
     "data": {
      "text/plain": [
       "(('/home/tzortzis/Data/IRI-CATs-light/real_data/long_tasks/cropped_robotic/test/orange/no_release_orange/robotic_no_release_orange_0721.jpg',),\n",
       " tensor([1]))"
      ]
     },
     "execution_count": 21,
     "metadata": {},
     "output_type": "execute_result"
    },
    {
     "data": {
      "text/plain": [
       "(('/home/tzortzis/Data/IRI-CATs-light/real_data/long_tasks/cropped_robotic/test/orange/no_release_orange/robotic_no_release_orange_0722.jpg',),\n",
       " tensor([1]))"
      ]
     },
     "execution_count": 21,
     "metadata": {},
     "output_type": "execute_result"
    },
    {
     "data": {
      "text/plain": [
       "(('/home/tzortzis/Data/IRI-CATs-light/real_data/long_tasks/cropped_robotic/test/orange/no_release_orange/robotic_no_release_orange_0723.jpg',),\n",
       " tensor([1]))"
      ]
     },
     "execution_count": 21,
     "metadata": {},
     "output_type": "execute_result"
    },
    {
     "data": {
      "text/plain": [
       "(('/home/tzortzis/Data/IRI-CATs-light/real_data/long_tasks/cropped_robotic/test/orange/no_release_orange/robotic_no_release_orange_0724.jpg',),\n",
       " tensor([1]))"
      ]
     },
     "execution_count": 21,
     "metadata": {},
     "output_type": "execute_result"
    },
    {
     "data": {
      "text/plain": [
       "(('/home/tzortzis/Data/IRI-CATs-light/real_data/long_tasks/cropped_robotic/test/orange/no_release_orange/robotic_no_release_orange_0725.jpg',),\n",
       " tensor([1]))"
      ]
     },
     "execution_count": 21,
     "metadata": {},
     "output_type": "execute_result"
    },
    {
     "data": {
      "text/plain": [
       "(('/home/tzortzis/Data/IRI-CATs-light/real_data/long_tasks/cropped_robotic/test/orange/no_release_orange/robotic_no_release_orange_0726.jpg',),\n",
       " tensor([1]))"
      ]
     },
     "execution_count": 21,
     "metadata": {},
     "output_type": "execute_result"
    },
    {
     "data": {
      "text/plain": [
       "(('/home/tzortzis/Data/IRI-CATs-light/real_data/long_tasks/cropped_robotic/test/orange/no_release_orange/robotic_no_release_orange_0727.jpg',),\n",
       " tensor([1]))"
      ]
     },
     "execution_count": 21,
     "metadata": {},
     "output_type": "execute_result"
    },
    {
     "data": {
      "text/plain": [
       "(('/home/tzortzis/Data/IRI-CATs-light/real_data/long_tasks/cropped_robotic/test/orange/no_release_orange/robotic_no_release_orange_0728.jpg',),\n",
       " tensor([1]))"
      ]
     },
     "execution_count": 21,
     "metadata": {},
     "output_type": "execute_result"
    },
    {
     "data": {
      "text/plain": [
       "(('/home/tzortzis/Data/IRI-CATs-light/real_data/long_tasks/cropped_robotic/test/orange/no_release_orange/robotic_no_release_orange_0729.jpg',),\n",
       " tensor([1]))"
      ]
     },
     "execution_count": 21,
     "metadata": {},
     "output_type": "execute_result"
    },
    {
     "data": {
      "text/plain": [
       "(('/home/tzortzis/Data/IRI-CATs-light/real_data/long_tasks/cropped_robotic/test/orange/no_release_orange/robotic_no_release_orange_0730.jpg',),\n",
       " tensor([1]))"
      ]
     },
     "execution_count": 21,
     "metadata": {},
     "output_type": "execute_result"
    },
    {
     "data": {
      "text/plain": [
       "(('/home/tzortzis/Data/IRI-CATs-light/real_data/long_tasks/cropped_robotic/test/orange/no_release_orange/robotic_no_release_orange_0731.jpg',),\n",
       " tensor([1]))"
      ]
     },
     "execution_count": 21,
     "metadata": {},
     "output_type": "execute_result"
    },
    {
     "data": {
      "text/plain": [
       "(('/home/tzortzis/Data/IRI-CATs-light/real_data/long_tasks/cropped_robotic/test/orange/no_release_orange/robotic_no_release_orange_0732.jpg',),\n",
       " tensor([1]))"
      ]
     },
     "execution_count": 21,
     "metadata": {},
     "output_type": "execute_result"
    },
    {
     "data": {
      "text/plain": [
       "(('/home/tzortzis/Data/IRI-CATs-light/real_data/long_tasks/cropped_robotic/test/orange/no_release_orange/robotic_no_release_orange_0733.jpg',),\n",
       " tensor([1]))"
      ]
     },
     "execution_count": 21,
     "metadata": {},
     "output_type": "execute_result"
    },
    {
     "data": {
      "text/plain": [
       "(('/home/tzortzis/Data/IRI-CATs-light/real_data/long_tasks/cropped_robotic/test/orange/no_release_orange/robotic_no_release_orange_0734.jpg',),\n",
       " tensor([1]))"
      ]
     },
     "execution_count": 21,
     "metadata": {},
     "output_type": "execute_result"
    },
    {
     "data": {
      "text/plain": [
       "(('/home/tzortzis/Data/IRI-CATs-light/real_data/long_tasks/cropped_robotic/test/orange/no_release_orange/robotic_no_release_orange_0735.jpg',),\n",
       " tensor([1]))"
      ]
     },
     "execution_count": 21,
     "metadata": {},
     "output_type": "execute_result"
    },
    {
     "data": {
      "text/plain": [
       "(('/home/tzortzis/Data/IRI-CATs-light/real_data/long_tasks/cropped_robotic/test/orange/no_release_orange/robotic_no_release_orange_0736.jpg',),\n",
       " tensor([1]))"
      ]
     },
     "execution_count": 21,
     "metadata": {},
     "output_type": "execute_result"
    },
    {
     "data": {
      "text/plain": [
       "(('/home/tzortzis/Data/IRI-CATs-light/real_data/long_tasks/cropped_robotic/test/orange/no_release_orange/robotic_no_release_orange_0737.jpg',),\n",
       " tensor([1]))"
      ]
     },
     "execution_count": 21,
     "metadata": {},
     "output_type": "execute_result"
    },
    {
     "data": {
      "text/plain": [
       "(('/home/tzortzis/Data/IRI-CATs-light/real_data/long_tasks/cropped_robotic/test/orange/no_release_orange/robotic_no_release_orange_0738.jpg',),\n",
       " tensor([1]))"
      ]
     },
     "execution_count": 21,
     "metadata": {},
     "output_type": "execute_result"
    },
    {
     "data": {
      "text/plain": [
       "(('/home/tzortzis/Data/IRI-CATs-light/real_data/long_tasks/cropped_robotic/test/orange/no_release_orange/robotic_no_release_orange_0739.jpg',),\n",
       " tensor([1]))"
      ]
     },
     "execution_count": 21,
     "metadata": {},
     "output_type": "execute_result"
    },
    {
     "data": {
      "text/plain": [
       "(('/home/tzortzis/Data/IRI-CATs-light/real_data/long_tasks/cropped_robotic/test/orange/no_release_orange/robotic_no_release_orange_0740.jpg',),\n",
       " tensor([1]))"
      ]
     },
     "execution_count": 21,
     "metadata": {},
     "output_type": "execute_result"
    },
    {
     "data": {
      "text/plain": [
       "(('/home/tzortzis/Data/IRI-CATs-light/real_data/long_tasks/cropped_robotic/test/orange/no_release_orange/robotic_no_release_orange_0741.jpg',),\n",
       " tensor([1]))"
      ]
     },
     "execution_count": 21,
     "metadata": {},
     "output_type": "execute_result"
    },
    {
     "data": {
      "text/plain": [
       "(('/home/tzortzis/Data/IRI-CATs-light/real_data/long_tasks/cropped_robotic/test/orange/no_release_orange/robotic_no_release_orange_0742.jpg',),\n",
       " tensor([1]))"
      ]
     },
     "execution_count": 21,
     "metadata": {},
     "output_type": "execute_result"
    },
    {
     "data": {
      "text/plain": [
       "(('/home/tzortzis/Data/IRI-CATs-light/real_data/long_tasks/cropped_robotic/test/orange/no_release_orange/robotic_no_release_orange_0743.jpg',),\n",
       " tensor([1]))"
      ]
     },
     "execution_count": 21,
     "metadata": {},
     "output_type": "execute_result"
    },
    {
     "data": {
      "text/plain": [
       "(('/home/tzortzis/Data/IRI-CATs-light/real_data/long_tasks/cropped_robotic/test/orange/no_release_orange/robotic_no_release_orange_0744.jpg',),\n",
       " tensor([1]))"
      ]
     },
     "execution_count": 21,
     "metadata": {},
     "output_type": "execute_result"
    },
    {
     "data": {
      "text/plain": [
       "(('/home/tzortzis/Data/IRI-CATs-light/real_data/long_tasks/cropped_robotic/test/orange/no_release_orange/robotic_no_release_orange_0745.jpg',),\n",
       " tensor([1]))"
      ]
     },
     "execution_count": 21,
     "metadata": {},
     "output_type": "execute_result"
    },
    {
     "data": {
      "text/plain": [
       "(('/home/tzortzis/Data/IRI-CATs-light/real_data/long_tasks/cropped_robotic/test/orange/no_release_orange/robotic_no_release_orange_0746.jpg',),\n",
       " tensor([1]))"
      ]
     },
     "execution_count": 21,
     "metadata": {},
     "output_type": "execute_result"
    },
    {
     "data": {
      "text/plain": [
       "(('/home/tzortzis/Data/IRI-CATs-light/real_data/long_tasks/cropped_robotic/test/orange/no_release_orange/robotic_no_release_orange_0747.jpg',),\n",
       " tensor([1]))"
      ]
     },
     "execution_count": 21,
     "metadata": {},
     "output_type": "execute_result"
    },
    {
     "data": {
      "text/plain": [
       "(('/home/tzortzis/Data/IRI-CATs-light/real_data/long_tasks/cropped_robotic/test/orange/no_release_orange/robotic_no_release_orange_0748.jpg',),\n",
       " tensor([1]))"
      ]
     },
     "execution_count": 21,
     "metadata": {},
     "output_type": "execute_result"
    },
    {
     "data": {
      "text/plain": [
       "(('/home/tzortzis/Data/IRI-CATs-light/real_data/long_tasks/cropped_robotic/test/orange/no_release_orange/robotic_no_release_orange_0749.jpg',),\n",
       " tensor([1]))"
      ]
     },
     "execution_count": 21,
     "metadata": {},
     "output_type": "execute_result"
    },
    {
     "data": {
      "text/plain": [
       "(('/home/tzortzis/Data/IRI-CATs-light/real_data/long_tasks/cropped_robotic/test/orange/no_release_orange/robotic_no_release_orange_0750.jpg',),\n",
       " tensor([1]))"
      ]
     },
     "execution_count": 21,
     "metadata": {},
     "output_type": "execute_result"
    },
    {
     "data": {
      "text/plain": [
       "(('/home/tzortzis/Data/IRI-CATs-light/real_data/long_tasks/cropped_robotic/test/orange/no_release_orange/robotic_no_release_orange_0751.jpg',),\n",
       " tensor([1]))"
      ]
     },
     "execution_count": 21,
     "metadata": {},
     "output_type": "execute_result"
    },
    {
     "data": {
      "text/plain": [
       "(('/home/tzortzis/Data/IRI-CATs-light/real_data/long_tasks/cropped_robotic/test/orange/no_release_orange/robotic_no_release_orange_0752.jpg',),\n",
       " tensor([1]))"
      ]
     },
     "execution_count": 21,
     "metadata": {},
     "output_type": "execute_result"
    },
    {
     "data": {
      "text/plain": [
       "(('/home/tzortzis/Data/IRI-CATs-light/real_data/long_tasks/cropped_robotic/test/orange/no_release_orange/robotic_no_release_orange_0753.jpg',),\n",
       " tensor([1]))"
      ]
     },
     "execution_count": 21,
     "metadata": {},
     "output_type": "execute_result"
    },
    {
     "data": {
      "text/plain": [
       "(('/home/tzortzis/Data/IRI-CATs-light/real_data/long_tasks/cropped_robotic/test/orange/no_release_orange/robotic_no_release_orange_0754.jpg',),\n",
       " tensor([1]))"
      ]
     },
     "execution_count": 21,
     "metadata": {},
     "output_type": "execute_result"
    },
    {
     "data": {
      "text/plain": [
       "(('/home/tzortzis/Data/IRI-CATs-light/real_data/long_tasks/cropped_robotic/test/orange/no_release_orange/robotic_no_release_orange_0755.jpg',),\n",
       " tensor([1]))"
      ]
     },
     "execution_count": 21,
     "metadata": {},
     "output_type": "execute_result"
    },
    {
     "data": {
      "text/plain": [
       "(('/home/tzortzis/Data/IRI-CATs-light/real_data/long_tasks/cropped_robotic/test/orange/no_release_orange/robotic_no_release_orange_0756.jpg',),\n",
       " tensor([1]))"
      ]
     },
     "execution_count": 21,
     "metadata": {},
     "output_type": "execute_result"
    },
    {
     "data": {
      "text/plain": [
       "(('/home/tzortzis/Data/IRI-CATs-light/real_data/long_tasks/cropped_robotic/test/orange/no_release_orange/robotic_no_release_orange_0757.jpg',),\n",
       " tensor([1]))"
      ]
     },
     "execution_count": 21,
     "metadata": {},
     "output_type": "execute_result"
    },
    {
     "data": {
      "text/plain": [
       "(('/home/tzortzis/Data/IRI-CATs-light/real_data/long_tasks/cropped_robotic/test/orange/no_release_orange/robotic_no_release_orange_0758.jpg',),\n",
       " tensor([1]))"
      ]
     },
     "execution_count": 21,
     "metadata": {},
     "output_type": "execute_result"
    },
    {
     "data": {
      "text/plain": [
       "(('/home/tzortzis/Data/IRI-CATs-light/real_data/long_tasks/cropped_robotic/test/orange/no_release_orange/robotic_no_release_orange_0759.jpg',),\n",
       " tensor([1]))"
      ]
     },
     "execution_count": 21,
     "metadata": {},
     "output_type": "execute_result"
    },
    {
     "data": {
      "text/plain": [
       "(('/home/tzortzis/Data/IRI-CATs-light/real_data/long_tasks/cropped_robotic/test/orange/no_release_orange/robotic_no_release_orange_0760.jpg',),\n",
       " tensor([1]))"
      ]
     },
     "execution_count": 21,
     "metadata": {},
     "output_type": "execute_result"
    },
    {
     "data": {
      "text/plain": [
       "(('/home/tzortzis/Data/IRI-CATs-light/real_data/long_tasks/cropped_robotic/test/orange/no_release_orange/robotic_no_release_orange_0761.jpg',),\n",
       " tensor([1]))"
      ]
     },
     "execution_count": 21,
     "metadata": {},
     "output_type": "execute_result"
    },
    {
     "data": {
      "text/plain": [
       "(('/home/tzortzis/Data/IRI-CATs-light/real_data/long_tasks/cropped_robotic/test/orange/no_release_orange/robotic_no_release_orange_0762.jpg',),\n",
       " tensor([1]))"
      ]
     },
     "execution_count": 21,
     "metadata": {},
     "output_type": "execute_result"
    },
    {
     "data": {
      "text/plain": [
       "(('/home/tzortzis/Data/IRI-CATs-light/real_data/long_tasks/cropped_robotic/test/orange/no_release_orange/robotic_no_release_orange_0763.jpg',),\n",
       " tensor([1]))"
      ]
     },
     "execution_count": 21,
     "metadata": {},
     "output_type": "execute_result"
    },
    {
     "data": {
      "text/plain": [
       "(('/home/tzortzis/Data/IRI-CATs-light/real_data/long_tasks/cropped_robotic/test/orange/no_release_orange/robotic_no_release_orange_0764.jpg',),\n",
       " tensor([1]))"
      ]
     },
     "execution_count": 21,
     "metadata": {},
     "output_type": "execute_result"
    },
    {
     "data": {
      "text/plain": [
       "(('/home/tzortzis/Data/IRI-CATs-light/real_data/long_tasks/cropped_robotic/test/orange/no_release_orange/robotic_no_release_orange_0765.jpg',),\n",
       " tensor([1]))"
      ]
     },
     "execution_count": 21,
     "metadata": {},
     "output_type": "execute_result"
    },
    {
     "data": {
      "text/plain": [
       "(('/home/tzortzis/Data/IRI-CATs-light/real_data/long_tasks/cropped_robotic/test/orange/no_release_orange/robotic_no_release_orange_0766.jpg',),\n",
       " tensor([1]))"
      ]
     },
     "execution_count": 21,
     "metadata": {},
     "output_type": "execute_result"
    },
    {
     "data": {
      "text/plain": [
       "(('/home/tzortzis/Data/IRI-CATs-light/real_data/long_tasks/cropped_robotic/test/orange/no_release_orange/robotic_no_release_orange_0767.jpg',),\n",
       " tensor([1]))"
      ]
     },
     "execution_count": 21,
     "metadata": {},
     "output_type": "execute_result"
    },
    {
     "data": {
      "text/plain": [
       "(('/home/tzortzis/Data/IRI-CATs-light/real_data/long_tasks/cropped_robotic/test/orange/no_release_orange/robotic_no_release_orange_0768.jpg',),\n",
       " tensor([1]))"
      ]
     },
     "execution_count": 21,
     "metadata": {},
     "output_type": "execute_result"
    },
    {
     "data": {
      "text/plain": [
       "(('/home/tzortzis/Data/IRI-CATs-light/real_data/long_tasks/cropped_robotic/test/orange/no_release_orange/robotic_no_release_orange_0769.jpg',),\n",
       " tensor([1]))"
      ]
     },
     "execution_count": 21,
     "metadata": {},
     "output_type": "execute_result"
    },
    {
     "data": {
      "text/plain": [
       "(('/home/tzortzis/Data/IRI-CATs-light/real_data/long_tasks/cropped_robotic/test/orange/no_release_orange/robotic_no_release_orange_0770.jpg',),\n",
       " tensor([1]))"
      ]
     },
     "execution_count": 21,
     "metadata": {},
     "output_type": "execute_result"
    },
    {
     "data": {
      "text/plain": [
       "(('/home/tzortzis/Data/IRI-CATs-light/real_data/long_tasks/cropped_robotic/test/orange/no_release_orange/robotic_no_release_orange_0771.jpg',),\n",
       " tensor([1]))"
      ]
     },
     "execution_count": 21,
     "metadata": {},
     "output_type": "execute_result"
    },
    {
     "data": {
      "text/plain": [
       "(('/home/tzortzis/Data/IRI-CATs-light/real_data/long_tasks/cropped_robotic/test/orange/no_release_orange/robotic_no_release_orange_0772.jpg',),\n",
       " tensor([1]))"
      ]
     },
     "execution_count": 21,
     "metadata": {},
     "output_type": "execute_result"
    },
    {
     "data": {
      "text/plain": [
       "(('/home/tzortzis/Data/IRI-CATs-light/real_data/long_tasks/cropped_robotic/test/orange/no_release_orange/robotic_no_release_orange_0773.jpg',),\n",
       " tensor([1]))"
      ]
     },
     "execution_count": 21,
     "metadata": {},
     "output_type": "execute_result"
    },
    {
     "data": {
      "text/plain": [
       "(('/home/tzortzis/Data/IRI-CATs-light/real_data/long_tasks/cropped_robotic/test/orange/no_release_orange/robotic_no_release_orange_0774.jpg',),\n",
       " tensor([1]))"
      ]
     },
     "execution_count": 21,
     "metadata": {},
     "output_type": "execute_result"
    },
    {
     "data": {
      "text/plain": [
       "(('/home/tzortzis/Data/IRI-CATs-light/real_data/long_tasks/cropped_robotic/test/orange/no_release_orange/robotic_no_release_orange_0775.jpg',),\n",
       " tensor([1]))"
      ]
     },
     "execution_count": 21,
     "metadata": {},
     "output_type": "execute_result"
    },
    {
     "data": {
      "text/plain": [
       "(('/home/tzortzis/Data/IRI-CATs-light/real_data/long_tasks/cropped_robotic/test/orange/no_release_orange/robotic_no_release_orange_0776.jpg',),\n",
       " tensor([1]))"
      ]
     },
     "execution_count": 21,
     "metadata": {},
     "output_type": "execute_result"
    },
    {
     "data": {
      "text/plain": [
       "(('/home/tzortzis/Data/IRI-CATs-light/real_data/long_tasks/cropped_robotic/test/orange/no_release_orange/robotic_no_release_orange_0777.jpg',),\n",
       " tensor([1]))"
      ]
     },
     "execution_count": 21,
     "metadata": {},
     "output_type": "execute_result"
    },
    {
     "data": {
      "text/plain": [
       "(('/home/tzortzis/Data/IRI-CATs-light/real_data/long_tasks/cropped_robotic/test/orange/no_release_orange/robotic_no_release_orange_0778.jpg',),\n",
       " tensor([1]))"
      ]
     },
     "execution_count": 21,
     "metadata": {},
     "output_type": "execute_result"
    },
    {
     "data": {
      "text/plain": [
       "(('/home/tzortzis/Data/IRI-CATs-light/real_data/long_tasks/cropped_robotic/test/orange/no_release_orange/robotic_no_release_orange_0779.jpg',),\n",
       " tensor([1]))"
      ]
     },
     "execution_count": 21,
     "metadata": {},
     "output_type": "execute_result"
    },
    {
     "data": {
      "text/plain": [
       "(('/home/tzortzis/Data/IRI-CATs-light/real_data/long_tasks/cropped_robotic/test/orange/no_release_orange/robotic_no_release_orange_0780.jpg',),\n",
       " tensor([1]))"
      ]
     },
     "execution_count": 21,
     "metadata": {},
     "output_type": "execute_result"
    },
    {
     "data": {
      "text/plain": [
       "(('/home/tzortzis/Data/IRI-CATs-light/real_data/long_tasks/cropped_robotic/test/orange/no_release_orange/robotic_no_release_orange_0781.jpg',),\n",
       " tensor([1]))"
      ]
     },
     "execution_count": 21,
     "metadata": {},
     "output_type": "execute_result"
    },
    {
     "data": {
      "text/plain": [
       "(('/home/tzortzis/Data/IRI-CATs-light/real_data/long_tasks/cropped_robotic/test/orange/no_release_orange/robotic_no_release_orange_0782.jpg',),\n",
       " tensor([1]))"
      ]
     },
     "execution_count": 21,
     "metadata": {},
     "output_type": "execute_result"
    },
    {
     "data": {
      "text/plain": [
       "(('/home/tzortzis/Data/IRI-CATs-light/real_data/long_tasks/cropped_robotic/test/orange/no_release_orange/robotic_no_release_orange_0783.jpg',),\n",
       " tensor([1]))"
      ]
     },
     "execution_count": 21,
     "metadata": {},
     "output_type": "execute_result"
    },
    {
     "data": {
      "text/plain": [
       "(('/home/tzortzis/Data/IRI-CATs-light/real_data/long_tasks/cropped_robotic/test/orange/no_release_orange/robotic_no_release_orange_0784.jpg',),\n",
       " tensor([1]))"
      ]
     },
     "execution_count": 21,
     "metadata": {},
     "output_type": "execute_result"
    },
    {
     "data": {
      "text/plain": [
       "(('/home/tzortzis/Data/IRI-CATs-light/real_data/long_tasks/cropped_robotic/test/orange/no_release_orange/robotic_no_release_orange_0785.jpg',),\n",
       " tensor([1]))"
      ]
     },
     "execution_count": 21,
     "metadata": {},
     "output_type": "execute_result"
    },
    {
     "data": {
      "text/plain": [
       "(('/home/tzortzis/Data/IRI-CATs-light/real_data/long_tasks/cropped_robotic/test/orange/no_release_orange/robotic_no_release_orange_0786.jpg',),\n",
       " tensor([1]))"
      ]
     },
     "execution_count": 21,
     "metadata": {},
     "output_type": "execute_result"
    },
    {
     "data": {
      "text/plain": [
       "(('/home/tzortzis/Data/IRI-CATs-light/real_data/long_tasks/cropped_robotic/test/orange/no_release_orange/robotic_no_release_orange_0787.jpg',),\n",
       " tensor([1]))"
      ]
     },
     "execution_count": 21,
     "metadata": {},
     "output_type": "execute_result"
    },
    {
     "data": {
      "text/plain": [
       "(('/home/tzortzis/Data/IRI-CATs-light/real_data/long_tasks/cropped_robotic/test/orange/no_release_orange/robotic_no_release_orange_0788.jpg',),\n",
       " tensor([1]))"
      ]
     },
     "execution_count": 21,
     "metadata": {},
     "output_type": "execute_result"
    },
    {
     "data": {
      "text/plain": [
       "(('/home/tzortzis/Data/IRI-CATs-light/real_data/long_tasks/cropped_robotic/test/orange/no_release_orange/robotic_no_release_orange_0789.jpg',),\n",
       " tensor([1]))"
      ]
     },
     "execution_count": 21,
     "metadata": {},
     "output_type": "execute_result"
    },
    {
     "data": {
      "text/plain": [
       "(('/home/tzortzis/Data/IRI-CATs-light/real_data/long_tasks/cropped_robotic/test/orange/no_release_orange/robotic_no_release_orange_0790.jpg',),\n",
       " tensor([1]))"
      ]
     },
     "execution_count": 21,
     "metadata": {},
     "output_type": "execute_result"
    },
    {
     "data": {
      "text/plain": [
       "(('/home/tzortzis/Data/IRI-CATs-light/real_data/long_tasks/cropped_robotic/test/orange/no_release_orange/robotic_no_release_orange_0791.jpg',),\n",
       " tensor([1]))"
      ]
     },
     "execution_count": 21,
     "metadata": {},
     "output_type": "execute_result"
    },
    {
     "data": {
      "text/plain": [
       "(('/home/tzortzis/Data/IRI-CATs-light/real_data/long_tasks/cropped_robotic/test/orange/no_release_orange/robotic_no_release_orange_0792.jpg',),\n",
       " tensor([1]))"
      ]
     },
     "execution_count": 21,
     "metadata": {},
     "output_type": "execute_result"
    },
    {
     "data": {
      "text/plain": [
       "(('/home/tzortzis/Data/IRI-CATs-light/real_data/long_tasks/cropped_robotic/test/orange/no_release_orange/robotic_no_release_orange_0793.jpg',),\n",
       " tensor([1]))"
      ]
     },
     "execution_count": 21,
     "metadata": {},
     "output_type": "execute_result"
    },
    {
     "data": {
      "text/plain": [
       "(('/home/tzortzis/Data/IRI-CATs-light/real_data/long_tasks/cropped_robotic/test/orange/no_release_orange/robotic_no_release_orange_0794.jpg',),\n",
       " tensor([1]))"
      ]
     },
     "execution_count": 21,
     "metadata": {},
     "output_type": "execute_result"
    },
    {
     "data": {
      "text/plain": [
       "(('/home/tzortzis/Data/IRI-CATs-light/real_data/long_tasks/cropped_robotic/test/orange/no_release_orange/robotic_no_release_orange_0795.jpg',),\n",
       " tensor([1]))"
      ]
     },
     "execution_count": 21,
     "metadata": {},
     "output_type": "execute_result"
    },
    {
     "data": {
      "text/plain": [
       "(('/home/tzortzis/Data/IRI-CATs-light/real_data/long_tasks/cropped_robotic/test/orange/no_release_orange/robotic_no_release_orange_0796.jpg',),\n",
       " tensor([1]))"
      ]
     },
     "execution_count": 21,
     "metadata": {},
     "output_type": "execute_result"
    },
    {
     "data": {
      "text/plain": [
       "(('/home/tzortzis/Data/IRI-CATs-light/real_data/long_tasks/cropped_robotic/test/orange/no_release_orange/robotic_no_release_orange_0797.jpg',),\n",
       " tensor([1]))"
      ]
     },
     "execution_count": 21,
     "metadata": {},
     "output_type": "execute_result"
    },
    {
     "data": {
      "text/plain": [
       "(('/home/tzortzis/Data/IRI-CATs-light/real_data/long_tasks/cropped_robotic/test/orange/no_release_orange/robotic_no_release_orange_0798.jpg',),\n",
       " tensor([1]))"
      ]
     },
     "execution_count": 21,
     "metadata": {},
     "output_type": "execute_result"
    },
    {
     "data": {
      "text/plain": [
       "(('/home/tzortzis/Data/IRI-CATs-light/real_data/long_tasks/cropped_robotic/test/orange/no_release_orange/robotic_no_release_orange_0799.jpg',),\n",
       " tensor([1]))"
      ]
     },
     "execution_count": 21,
     "metadata": {},
     "output_type": "execute_result"
    },
    {
     "data": {
      "text/plain": [
       "(('/home/tzortzis/Data/IRI-CATs-light/real_data/long_tasks/cropped_robotic/test/orange/no_release_orange/robotic_no_release_orange_0800.jpg',),\n",
       " tensor([1]))"
      ]
     },
     "execution_count": 21,
     "metadata": {},
     "output_type": "execute_result"
    },
    {
     "data": {
      "text/plain": [
       "(('/home/tzortzis/Data/IRI-CATs-light/real_data/long_tasks/cropped_robotic/test/orange/no_release_orange/robotic_no_release_orange_0801.jpg',),\n",
       " tensor([1]))"
      ]
     },
     "execution_count": 21,
     "metadata": {},
     "output_type": "execute_result"
    },
    {
     "data": {
      "text/plain": [
       "(('/home/tzortzis/Data/IRI-CATs-light/real_data/long_tasks/cropped_robotic/test/orange/no_release_orange/robotic_no_release_orange_0802.jpg',),\n",
       " tensor([1]))"
      ]
     },
     "execution_count": 21,
     "metadata": {},
     "output_type": "execute_result"
    },
    {
     "data": {
      "text/plain": [
       "(('/home/tzortzis/Data/IRI-CATs-light/real_data/long_tasks/cropped_robotic/test/orange/no_release_orange/robotic_no_release_orange_0803.jpg',),\n",
       " tensor([1]))"
      ]
     },
     "execution_count": 21,
     "metadata": {},
     "output_type": "execute_result"
    },
    {
     "data": {
      "text/plain": [
       "(('/home/tzortzis/Data/IRI-CATs-light/real_data/long_tasks/cropped_robotic/test/orange/no_release_orange/robotic_no_release_orange_0804.jpg',),\n",
       " tensor([1]))"
      ]
     },
     "execution_count": 21,
     "metadata": {},
     "output_type": "execute_result"
    },
    {
     "data": {
      "text/plain": [
       "(('/home/tzortzis/Data/IRI-CATs-light/real_data/long_tasks/cropped_robotic/test/orange/no_release_orange/robotic_no_release_orange_0805.jpg',),\n",
       " tensor([1]))"
      ]
     },
     "execution_count": 21,
     "metadata": {},
     "output_type": "execute_result"
    },
    {
     "data": {
      "text/plain": [
       "(('/home/tzortzis/Data/IRI-CATs-light/real_data/long_tasks/cropped_robotic/test/orange/no_release_orange/robotic_no_release_orange_0806.jpg',),\n",
       " tensor([1]))"
      ]
     },
     "execution_count": 21,
     "metadata": {},
     "output_type": "execute_result"
    },
    {
     "data": {
      "text/plain": [
       "(('/home/tzortzis/Data/IRI-CATs-light/real_data/long_tasks/cropped_robotic/test/orange/no_release_orange/robotic_no_release_orange_0807.jpg',),\n",
       " tensor([1]))"
      ]
     },
     "execution_count": 21,
     "metadata": {},
     "output_type": "execute_result"
    },
    {
     "data": {
      "text/plain": [
       "(('/home/tzortzis/Data/IRI-CATs-light/real_data/long_tasks/cropped_robotic/test/orange/no_release_orange/robotic_no_release_orange_0808.jpg',),\n",
       " tensor([1]))"
      ]
     },
     "execution_count": 21,
     "metadata": {},
     "output_type": "execute_result"
    },
    {
     "data": {
      "text/plain": [
       "(('/home/tzortzis/Data/IRI-CATs-light/real_data/long_tasks/cropped_robotic/test/orange/no_release_orange/robotic_no_release_orange_0809.jpg',),\n",
       " tensor([1]))"
      ]
     },
     "execution_count": 21,
     "metadata": {},
     "output_type": "execute_result"
    },
    {
     "data": {
      "text/plain": [
       "(('/home/tzortzis/Data/IRI-CATs-light/real_data/long_tasks/cropped_robotic/test/orange/no_release_orange/robotic_no_release_orange_0810.jpg',),\n",
       " tensor([1]))"
      ]
     },
     "execution_count": 21,
     "metadata": {},
     "output_type": "execute_result"
    },
    {
     "data": {
      "text/plain": [
       "(('/home/tzortzis/Data/IRI-CATs-light/real_data/long_tasks/cropped_robotic/test/orange/no_release_orange/robotic_no_release_orange_0811.jpg',),\n",
       " tensor([1]))"
      ]
     },
     "execution_count": 21,
     "metadata": {},
     "output_type": "execute_result"
    },
    {
     "data": {
      "text/plain": [
       "(('/home/tzortzis/Data/IRI-CATs-light/real_data/long_tasks/cropped_robotic/test/orange/no_release_orange/robotic_no_release_orange_0812.jpg',),\n",
       " tensor([1]))"
      ]
     },
     "execution_count": 21,
     "metadata": {},
     "output_type": "execute_result"
    },
    {
     "data": {
      "text/plain": [
       "(('/home/tzortzis/Data/IRI-CATs-light/real_data/long_tasks/cropped_robotic/test/orange/no_release_orange/robotic_no_release_orange_0813.jpg',),\n",
       " tensor([1]))"
      ]
     },
     "execution_count": 21,
     "metadata": {},
     "output_type": "execute_result"
    },
    {
     "data": {
      "text/plain": [
       "(('/home/tzortzis/Data/IRI-CATs-light/real_data/long_tasks/cropped_robotic/test/orange/no_release_orange/robotic_no_release_orange_0814.jpg',),\n",
       " tensor([1]))"
      ]
     },
     "execution_count": 21,
     "metadata": {},
     "output_type": "execute_result"
    },
    {
     "data": {
      "text/plain": [
       "(('/home/tzortzis/Data/IRI-CATs-light/real_data/long_tasks/cropped_robotic/test/orange/no_release_orange/robotic_no_release_orange_0815.jpg',),\n",
       " tensor([1]))"
      ]
     },
     "execution_count": 21,
     "metadata": {},
     "output_type": "execute_result"
    },
    {
     "data": {
      "text/plain": [
       "(('/home/tzortzis/Data/IRI-CATs-light/real_data/long_tasks/cropped_robotic/test/orange/no_release_orange/robotic_no_release_orange_0816.jpg',),\n",
       " tensor([1]))"
      ]
     },
     "execution_count": 21,
     "metadata": {},
     "output_type": "execute_result"
    },
    {
     "data": {
      "text/plain": [
       "(('/home/tzortzis/Data/IRI-CATs-light/real_data/long_tasks/cropped_robotic/test/orange/no_release_orange/robotic_no_release_orange_0817.jpg',),\n",
       " tensor([1]))"
      ]
     },
     "execution_count": 21,
     "metadata": {},
     "output_type": "execute_result"
    },
    {
     "data": {
      "text/plain": [
       "(('/home/tzortzis/Data/IRI-CATs-light/real_data/long_tasks/cropped_robotic/test/orange/no_release_orange/robotic_no_release_orange_0818.jpg',),\n",
       " tensor([1]))"
      ]
     },
     "execution_count": 21,
     "metadata": {},
     "output_type": "execute_result"
    },
    {
     "data": {
      "text/plain": [
       "(('/home/tzortzis/Data/IRI-CATs-light/real_data/long_tasks/cropped_robotic/test/orange/no_release_orange/robotic_no_release_orange_0819.jpg',),\n",
       " tensor([1]))"
      ]
     },
     "execution_count": 21,
     "metadata": {},
     "output_type": "execute_result"
    },
    {
     "data": {
      "text/plain": [
       "(('/home/tzortzis/Data/IRI-CATs-light/real_data/long_tasks/cropped_robotic/test/orange/no_release_orange/robotic_no_release_orange_0820.jpg',),\n",
       " tensor([1]))"
      ]
     },
     "execution_count": 21,
     "metadata": {},
     "output_type": "execute_result"
    },
    {
     "data": {
      "text/plain": [
       "(('/home/tzortzis/Data/IRI-CATs-light/real_data/long_tasks/cropped_robotic/test/orange/no_release_orange/robotic_no_release_orange_0821.jpg',),\n",
       " tensor([1]))"
      ]
     },
     "execution_count": 21,
     "metadata": {},
     "output_type": "execute_result"
    },
    {
     "data": {
      "text/plain": [
       "(('/home/tzortzis/Data/IRI-CATs-light/real_data/long_tasks/cropped_robotic/test/orange/no_release_orange/robotic_no_release_orange_0822.jpg',),\n",
       " tensor([1]))"
      ]
     },
     "execution_count": 21,
     "metadata": {},
     "output_type": "execute_result"
    },
    {
     "data": {
      "text/plain": [
       "(('/home/tzortzis/Data/IRI-CATs-light/real_data/long_tasks/cropped_robotic/test/orange/no_release_orange/robotic_no_release_orange_0823.jpg',),\n",
       " tensor([1]))"
      ]
     },
     "execution_count": 21,
     "metadata": {},
     "output_type": "execute_result"
    },
    {
     "data": {
      "text/plain": [
       "(('/home/tzortzis/Data/IRI-CATs-light/real_data/long_tasks/cropped_robotic/test/orange/no_release_orange/robotic_no_release_orange_0824.jpg',),\n",
       " tensor([1]))"
      ]
     },
     "execution_count": 21,
     "metadata": {},
     "output_type": "execute_result"
    },
    {
     "data": {
      "text/plain": [
       "(('/home/tzortzis/Data/IRI-CATs-light/real_data/long_tasks/cropped_robotic/test/orange/no_release_orange/robotic_no_release_orange_0825.jpg',),\n",
       " tensor([1]))"
      ]
     },
     "execution_count": 21,
     "metadata": {},
     "output_type": "execute_result"
    },
    {
     "data": {
      "text/plain": [
       "(('/home/tzortzis/Data/IRI-CATs-light/real_data/long_tasks/cropped_robotic/test/orange/no_release_orange/robotic_no_release_orange_0826.jpg',),\n",
       " tensor([1]))"
      ]
     },
     "execution_count": 21,
     "metadata": {},
     "output_type": "execute_result"
    },
    {
     "data": {
      "text/plain": [
       "(('/home/tzortzis/Data/IRI-CATs-light/real_data/long_tasks/cropped_robotic/test/orange/no_release_orange/robotic_no_release_orange_0827.jpg',),\n",
       " tensor([1]))"
      ]
     },
     "execution_count": 21,
     "metadata": {},
     "output_type": "execute_result"
    },
    {
     "data": {
      "text/plain": [
       "(('/home/tzortzis/Data/IRI-CATs-light/real_data/long_tasks/cropped_robotic/test/orange/no_release_orange/robotic_no_release_orange_0828.jpg',),\n",
       " tensor([1]))"
      ]
     },
     "execution_count": 21,
     "metadata": {},
     "output_type": "execute_result"
    },
    {
     "data": {
      "text/plain": [
       "(('/home/tzortzis/Data/IRI-CATs-light/real_data/long_tasks/cropped_robotic/test/orange/no_release_orange/robotic_no_release_orange_0829.jpg',),\n",
       " tensor([1]))"
      ]
     },
     "execution_count": 21,
     "metadata": {},
     "output_type": "execute_result"
    },
    {
     "data": {
      "text/plain": [
       "(('/home/tzortzis/Data/IRI-CATs-light/real_data/long_tasks/cropped_robotic/test/orange/no_release_orange/robotic_no_release_orange_0830.jpg',),\n",
       " tensor([1]))"
      ]
     },
     "execution_count": 21,
     "metadata": {},
     "output_type": "execute_result"
    },
    {
     "data": {
      "text/plain": [
       "(('/home/tzortzis/Data/IRI-CATs-light/real_data/long_tasks/cropped_robotic/test/orange/no_release_orange/robotic_no_release_orange_0831.jpg',),\n",
       " tensor([1]))"
      ]
     },
     "execution_count": 21,
     "metadata": {},
     "output_type": "execute_result"
    },
    {
     "data": {
      "text/plain": [
       "(('/home/tzortzis/Data/IRI-CATs-light/real_data/long_tasks/cropped_robotic/test/orange/no_release_orange/robotic_no_release_orange_0832.jpg',),\n",
       " tensor([1]))"
      ]
     },
     "execution_count": 21,
     "metadata": {},
     "output_type": "execute_result"
    },
    {
     "data": {
      "text/plain": [
       "(('/home/tzortzis/Data/IRI-CATs-light/real_data/long_tasks/cropped_robotic/test/orange/no_release_orange/robotic_no_release_orange_0833.jpg',),\n",
       " tensor([1]))"
      ]
     },
     "execution_count": 21,
     "metadata": {},
     "output_type": "execute_result"
    },
    {
     "data": {
      "text/plain": [
       "(('/home/tzortzis/Data/IRI-CATs-light/real_data/long_tasks/cropped_robotic/test/orange/no_release_orange/robotic_no_release_orange_0834.jpg',),\n",
       " tensor([1]))"
      ]
     },
     "execution_count": 21,
     "metadata": {},
     "output_type": "execute_result"
    },
    {
     "data": {
      "text/plain": [
       "(('/home/tzortzis/Data/IRI-CATs-light/real_data/long_tasks/cropped_robotic/test/orange/no_release_orange/robotic_no_release_orange_0835.jpg',),\n",
       " tensor([1]))"
      ]
     },
     "execution_count": 21,
     "metadata": {},
     "output_type": "execute_result"
    },
    {
     "data": {
      "text/plain": [
       "(('/home/tzortzis/Data/IRI-CATs-light/real_data/long_tasks/cropped_robotic/test/orange/no_release_orange/robotic_no_release_orange_0836.jpg',),\n",
       " tensor([1]))"
      ]
     },
     "execution_count": 21,
     "metadata": {},
     "output_type": "execute_result"
    },
    {
     "data": {
      "text/plain": [
       "(('/home/tzortzis/Data/IRI-CATs-light/real_data/long_tasks/cropped_robotic/test/orange/no_release_orange/robotic_no_release_orange_0837.jpg',),\n",
       " tensor([1]))"
      ]
     },
     "execution_count": 21,
     "metadata": {},
     "output_type": "execute_result"
    },
    {
     "data": {
      "text/plain": [
       "(('/home/tzortzis/Data/IRI-CATs-light/real_data/long_tasks/cropped_robotic/test/orange/no_release_orange/robotic_no_release_orange_0838.jpg',),\n",
       " tensor([1]))"
      ]
     },
     "execution_count": 21,
     "metadata": {},
     "output_type": "execute_result"
    },
    {
     "data": {
      "text/plain": [
       "(('/home/tzortzis/Data/IRI-CATs-light/real_data/long_tasks/cropped_robotic/test/orange/no_release_orange/robotic_no_release_orange_0839.jpg',),\n",
       " tensor([1]))"
      ]
     },
     "execution_count": 21,
     "metadata": {},
     "output_type": "execute_result"
    },
    {
     "data": {
      "text/plain": [
       "(('/home/tzortzis/Data/IRI-CATs-light/real_data/long_tasks/cropped_robotic/test/orange/no_release_orange/robotic_no_release_orange_0840.jpg',),\n",
       " tensor([1]))"
      ]
     },
     "execution_count": 21,
     "metadata": {},
     "output_type": "execute_result"
    },
    {
     "data": {
      "text/plain": [
       "(('/home/tzortzis/Data/IRI-CATs-light/real_data/long_tasks/cropped_robotic/test/orange/no_release_orange/robotic_no_release_orange_0841.jpg',),\n",
       " tensor([1]))"
      ]
     },
     "execution_count": 21,
     "metadata": {},
     "output_type": "execute_result"
    },
    {
     "data": {
      "text/plain": [
       "(('/home/tzortzis/Data/IRI-CATs-light/real_data/long_tasks/cropped_robotic/test/orange/no_release_orange/robotic_no_release_orange_0842.jpg',),\n",
       " tensor([1]))"
      ]
     },
     "execution_count": 21,
     "metadata": {},
     "output_type": "execute_result"
    },
    {
     "data": {
      "text/plain": [
       "(('/home/tzortzis/Data/IRI-CATs-light/real_data/long_tasks/cropped_robotic/test/orange/no_release_orange/robotic_no_release_orange_0843.jpg',),\n",
       " tensor([1]))"
      ]
     },
     "execution_count": 21,
     "metadata": {},
     "output_type": "execute_result"
    },
    {
     "data": {
      "text/plain": [
       "(('/home/tzortzis/Data/IRI-CATs-light/real_data/long_tasks/cropped_robotic/test/orange/no_release_orange/robotic_no_release_orange_0844.jpg',),\n",
       " tensor([1]))"
      ]
     },
     "execution_count": 21,
     "metadata": {},
     "output_type": "execute_result"
    },
    {
     "data": {
      "text/plain": [
       "(('/home/tzortzis/Data/IRI-CATs-light/real_data/long_tasks/cropped_robotic/test/orange/no_release_orange/robotic_no_release_orange_0845.jpg',),\n",
       " tensor([1]))"
      ]
     },
     "execution_count": 21,
     "metadata": {},
     "output_type": "execute_result"
    },
    {
     "data": {
      "text/plain": [
       "(('/home/tzortzis/Data/IRI-CATs-light/real_data/long_tasks/cropped_robotic/test/orange/no_release_orange/robotic_no_release_orange_0846.jpg',),\n",
       " tensor([1]))"
      ]
     },
     "execution_count": 21,
     "metadata": {},
     "output_type": "execute_result"
    },
    {
     "data": {
      "text/plain": [
       "(('/home/tzortzis/Data/IRI-CATs-light/real_data/long_tasks/cropped_robotic/test/orange/no_release_orange/robotic_no_release_orange_0847.jpg',),\n",
       " tensor([1]))"
      ]
     },
     "execution_count": 21,
     "metadata": {},
     "output_type": "execute_result"
    },
    {
     "data": {
      "text/plain": [
       "(('/home/tzortzis/Data/IRI-CATs-light/real_data/long_tasks/cropped_robotic/test/orange/no_release_orange/robotic_no_release_orange_0848.jpg',),\n",
       " tensor([1]))"
      ]
     },
     "execution_count": 21,
     "metadata": {},
     "output_type": "execute_result"
    },
    {
     "data": {
      "text/plain": [
       "(('/home/tzortzis/Data/IRI-CATs-light/real_data/long_tasks/cropped_robotic/test/orange/no_release_orange/robotic_no_release_orange_0849.jpg',),\n",
       " tensor([1]))"
      ]
     },
     "execution_count": 21,
     "metadata": {},
     "output_type": "execute_result"
    },
    {
     "data": {
      "text/plain": [
       "(('/home/tzortzis/Data/IRI-CATs-light/real_data/long_tasks/cropped_robotic/test/orange/no_release_orange/robotic_no_release_orange_0850.jpg',),\n",
       " tensor([1]))"
      ]
     },
     "execution_count": 21,
     "metadata": {},
     "output_type": "execute_result"
    },
    {
     "data": {
      "text/plain": [
       "(('/home/tzortzis/Data/IRI-CATs-light/real_data/long_tasks/cropped_robotic/test/orange/no_release_orange/robotic_no_release_orange_0851.jpg',),\n",
       " tensor([1]))"
      ]
     },
     "execution_count": 21,
     "metadata": {},
     "output_type": "execute_result"
    },
    {
     "data": {
      "text/plain": [
       "(('/home/tzortzis/Data/IRI-CATs-light/real_data/long_tasks/cropped_robotic/test/orange/no_release_orange/robotic_no_release_orange_0852.jpg',),\n",
       " tensor([1]))"
      ]
     },
     "execution_count": 21,
     "metadata": {},
     "output_type": "execute_result"
    },
    {
     "data": {
      "text/plain": [
       "(('/home/tzortzis/Data/IRI-CATs-light/real_data/long_tasks/cropped_robotic/test/orange/no_release_orange/robotic_no_release_orange_0853.jpg',),\n",
       " tensor([1]))"
      ]
     },
     "execution_count": 21,
     "metadata": {},
     "output_type": "execute_result"
    },
    {
     "data": {
      "text/plain": [
       "(('/home/tzortzis/Data/IRI-CATs-light/real_data/long_tasks/cropped_robotic/test/orange/no_release_orange/robotic_no_release_orange_0854.jpg',),\n",
       " tensor([1]))"
      ]
     },
     "execution_count": 21,
     "metadata": {},
     "output_type": "execute_result"
    },
    {
     "data": {
      "text/plain": [
       "(('/home/tzortzis/Data/IRI-CATs-light/real_data/long_tasks/cropped_robotic/test/orange/no_release_orange/robotic_no_release_orange_0855.jpg',),\n",
       " tensor([1]))"
      ]
     },
     "execution_count": 21,
     "metadata": {},
     "output_type": "execute_result"
    },
    {
     "data": {
      "text/plain": [
       "(('/home/tzortzis/Data/IRI-CATs-light/real_data/long_tasks/cropped_robotic/test/orange/no_release_orange/robotic_no_release_orange_0856.jpg',),\n",
       " tensor([1]))"
      ]
     },
     "execution_count": 21,
     "metadata": {},
     "output_type": "execute_result"
    },
    {
     "data": {
      "text/plain": [
       "(('/home/tzortzis/Data/IRI-CATs-light/real_data/long_tasks/cropped_robotic/test/orange/no_release_orange/robotic_no_release_orange_0857.jpg',),\n",
       " tensor([1]))"
      ]
     },
     "execution_count": 21,
     "metadata": {},
     "output_type": "execute_result"
    },
    {
     "data": {
      "text/plain": [
       "(('/home/tzortzis/Data/IRI-CATs-light/real_data/long_tasks/cropped_robotic/test/orange/no_release_orange/robotic_no_release_orange_0858.jpg',),\n",
       " tensor([1]))"
      ]
     },
     "execution_count": 21,
     "metadata": {},
     "output_type": "execute_result"
    },
    {
     "data": {
      "text/plain": [
       "(('/home/tzortzis/Data/IRI-CATs-light/real_data/long_tasks/cropped_robotic/test/orange/no_release_orange/robotic_no_release_orange_0859.jpg',),\n",
       " tensor([1]))"
      ]
     },
     "execution_count": 21,
     "metadata": {},
     "output_type": "execute_result"
    },
    {
     "data": {
      "text/plain": [
       "(('/home/tzortzis/Data/IRI-CATs-light/real_data/long_tasks/cropped_robotic/test/orange/no_release_orange/robotic_no_release_orange_0860.jpg',),\n",
       " tensor([1]))"
      ]
     },
     "execution_count": 21,
     "metadata": {},
     "output_type": "execute_result"
    },
    {
     "data": {
      "text/plain": [
       "(('/home/tzortzis/Data/IRI-CATs-light/real_data/long_tasks/cropped_robotic/test/orange/no_release_orange/robotic_no_release_orange_0861.jpg',),\n",
       " tensor([1]))"
      ]
     },
     "execution_count": 21,
     "metadata": {},
     "output_type": "execute_result"
    },
    {
     "data": {
      "text/plain": [
       "(('/home/tzortzis/Data/IRI-CATs-light/real_data/long_tasks/cropped_robotic/test/orange/no_release_orange/robotic_no_release_orange_0862.jpg',),\n",
       " tensor([1]))"
      ]
     },
     "execution_count": 21,
     "metadata": {},
     "output_type": "execute_result"
    },
    {
     "data": {
      "text/plain": [
       "(('/home/tzortzis/Data/IRI-CATs-light/real_data/long_tasks/cropped_robotic/test/orange/no_release_orange/robotic_no_release_orange_0863.jpg',),\n",
       " tensor([1]))"
      ]
     },
     "execution_count": 21,
     "metadata": {},
     "output_type": "execute_result"
    },
    {
     "data": {
      "text/plain": [
       "(('/home/tzortzis/Data/IRI-CATs-light/real_data/long_tasks/cropped_robotic/test/orange/no_release_orange/robotic_no_release_orange_0864.jpg',),\n",
       " tensor([1]))"
      ]
     },
     "execution_count": 21,
     "metadata": {},
     "output_type": "execute_result"
    },
    {
     "data": {
      "text/plain": [
       "(('/home/tzortzis/Data/IRI-CATs-light/real_data/long_tasks/cropped_robotic/test/orange/no_release_orange/robotic_no_release_orange_0865.jpg',),\n",
       " tensor([1]))"
      ]
     },
     "execution_count": 21,
     "metadata": {},
     "output_type": "execute_result"
    },
    {
     "data": {
      "text/plain": [
       "(('/home/tzortzis/Data/IRI-CATs-light/real_data/long_tasks/cropped_robotic/test/orange/no_release_orange/robotic_no_release_orange_0866.jpg',),\n",
       " tensor([1]))"
      ]
     },
     "execution_count": 21,
     "metadata": {},
     "output_type": "execute_result"
    },
    {
     "data": {
      "text/plain": [
       "(('/home/tzortzis/Data/IRI-CATs-light/real_data/long_tasks/cropped_robotic/test/orange/no_release_orange/robotic_no_release_orange_0867.jpg',),\n",
       " tensor([1]))"
      ]
     },
     "execution_count": 21,
     "metadata": {},
     "output_type": "execute_result"
    },
    {
     "data": {
      "text/plain": [
       "(('/home/tzortzis/Data/IRI-CATs-light/real_data/long_tasks/cropped_robotic/test/orange/no_release_orange/robotic_no_release_orange_0868.jpg',),\n",
       " tensor([1]))"
      ]
     },
     "execution_count": 21,
     "metadata": {},
     "output_type": "execute_result"
    },
    {
     "data": {
      "text/plain": [
       "(('/home/tzortzis/Data/IRI-CATs-light/real_data/long_tasks/cropped_robotic/test/orange/no_release_orange/robotic_no_release_orange_0869.jpg',),\n",
       " tensor([1]))"
      ]
     },
     "execution_count": 21,
     "metadata": {},
     "output_type": "execute_result"
    },
    {
     "data": {
      "text/plain": [
       "(('/home/tzortzis/Data/IRI-CATs-light/real_data/long_tasks/cropped_robotic/test/orange/no_release_orange/robotic_no_release_orange_0870.jpg',),\n",
       " tensor([1]))"
      ]
     },
     "execution_count": 21,
     "metadata": {},
     "output_type": "execute_result"
    },
    {
     "data": {
      "text/plain": [
       "(('/home/tzortzis/Data/IRI-CATs-light/real_data/long_tasks/cropped_robotic/test/orange/no_release_orange/robotic_no_release_orange_0871.jpg',),\n",
       " tensor([1]))"
      ]
     },
     "execution_count": 21,
     "metadata": {},
     "output_type": "execute_result"
    },
    {
     "data": {
      "text/plain": [
       "(('/home/tzortzis/Data/IRI-CATs-light/real_data/long_tasks/cropped_robotic/test/orange/no_release_orange/robotic_no_release_orange_0872.jpg',),\n",
       " tensor([1]))"
      ]
     },
     "execution_count": 21,
     "metadata": {},
     "output_type": "execute_result"
    },
    {
     "data": {
      "text/plain": [
       "(('/home/tzortzis/Data/IRI-CATs-light/real_data/long_tasks/cropped_robotic/test/orange/no_release_orange/robotic_no_release_orange_0873.jpg',),\n",
       " tensor([1]))"
      ]
     },
     "execution_count": 21,
     "metadata": {},
     "output_type": "execute_result"
    },
    {
     "data": {
      "text/plain": [
       "(('/home/tzortzis/Data/IRI-CATs-light/real_data/long_tasks/cropped_robotic/test/orange/no_release_orange/robotic_no_release_orange_0874.jpg',),\n",
       " tensor([1]))"
      ]
     },
     "execution_count": 21,
     "metadata": {},
     "output_type": "execute_result"
    },
    {
     "data": {
      "text/plain": [
       "(('/home/tzortzis/Data/IRI-CATs-light/real_data/long_tasks/cropped_robotic/test/orange/no_release_orange/robotic_no_release_orange_0875.jpg',),\n",
       " tensor([1]))"
      ]
     },
     "execution_count": 21,
     "metadata": {},
     "output_type": "execute_result"
    },
    {
     "data": {
      "text/plain": [
       "(('/home/tzortzis/Data/IRI-CATs-light/real_data/long_tasks/cropped_robotic/test/orange/no_release_orange/robotic_no_release_orange_0876.jpg',),\n",
       " tensor([1]))"
      ]
     },
     "execution_count": 21,
     "metadata": {},
     "output_type": "execute_result"
    },
    {
     "data": {
      "text/plain": [
       "(('/home/tzortzis/Data/IRI-CATs-light/real_data/long_tasks/cropped_robotic/test/orange/no_release_orange/robotic_no_release_orange_0877.jpg',),\n",
       " tensor([1]))"
      ]
     },
     "execution_count": 21,
     "metadata": {},
     "output_type": "execute_result"
    },
    {
     "data": {
      "text/plain": [
       "(('/home/tzortzis/Data/IRI-CATs-light/real_data/long_tasks/cropped_robotic/test/orange/no_release_orange/robotic_no_release_orange_0878.jpg',),\n",
       " tensor([1]))"
      ]
     },
     "execution_count": 21,
     "metadata": {},
     "output_type": "execute_result"
    },
    {
     "data": {
      "text/plain": [
       "(('/home/tzortzis/Data/IRI-CATs-light/real_data/long_tasks/cropped_robotic/test/orange/no_release_orange/robotic_no_release_orange_0879.jpg',),\n",
       " tensor([1]))"
      ]
     },
     "execution_count": 21,
     "metadata": {},
     "output_type": "execute_result"
    },
    {
     "data": {
      "text/plain": [
       "(('/home/tzortzis/Data/IRI-CATs-light/real_data/long_tasks/cropped_robotic/test/orange/no_release_orange/robotic_no_release_orange_0880.jpg',),\n",
       " tensor([1]))"
      ]
     },
     "execution_count": 21,
     "metadata": {},
     "output_type": "execute_result"
    },
    {
     "data": {
      "text/plain": [
       "(('/home/tzortzis/Data/IRI-CATs-light/real_data/long_tasks/cropped_robotic/test/orange/no_release_orange/robotic_no_release_orange_0881.jpg',),\n",
       " tensor([1]))"
      ]
     },
     "execution_count": 21,
     "metadata": {},
     "output_type": "execute_result"
    },
    {
     "data": {
      "text/plain": [
       "(('/home/tzortzis/Data/IRI-CATs-light/real_data/long_tasks/cropped_robotic/test/orange/no_release_orange/robotic_no_release_orange_0882.jpg',),\n",
       " tensor([1]))"
      ]
     },
     "execution_count": 21,
     "metadata": {},
     "output_type": "execute_result"
    },
    {
     "data": {
      "text/plain": [
       "(('/home/tzortzis/Data/IRI-CATs-light/real_data/long_tasks/cropped_robotic/test/orange/no_release_orange/robotic_no_release_orange_0883.jpg',),\n",
       " tensor([1]))"
      ]
     },
     "execution_count": 21,
     "metadata": {},
     "output_type": "execute_result"
    },
    {
     "data": {
      "text/plain": [
       "(('/home/tzortzis/Data/IRI-CATs-light/real_data/long_tasks/cropped_robotic/test/orange/no_release_orange/robotic_no_release_orange_0884.jpg',),\n",
       " tensor([1]))"
      ]
     },
     "execution_count": 21,
     "metadata": {},
     "output_type": "execute_result"
    },
    {
     "data": {
      "text/plain": [
       "(('/home/tzortzis/Data/IRI-CATs-light/real_data/long_tasks/cropped_robotic/test/orange/no_release_orange/robotic_no_release_orange_0885.jpg',),\n",
       " tensor([1]))"
      ]
     },
     "execution_count": 21,
     "metadata": {},
     "output_type": "execute_result"
    },
    {
     "data": {
      "text/plain": [
       "(('/home/tzortzis/Data/IRI-CATs-light/real_data/long_tasks/cropped_robotic/test/orange/no_release_orange/robotic_no_release_orange_0886.jpg',),\n",
       " tensor([1]))"
      ]
     },
     "execution_count": 21,
     "metadata": {},
     "output_type": "execute_result"
    },
    {
     "data": {
      "text/plain": [
       "(('/home/tzortzis/Data/IRI-CATs-light/real_data/long_tasks/cropped_robotic/test/orange/no_release_orange/robotic_no_release_orange_0887.jpg',),\n",
       " tensor([1]))"
      ]
     },
     "execution_count": 21,
     "metadata": {},
     "output_type": "execute_result"
    },
    {
     "data": {
      "text/plain": [
       "(('/home/tzortzis/Data/IRI-CATs-light/real_data/long_tasks/cropped_robotic/test/orange/no_release_orange/robotic_no_release_orange_0888.jpg',),\n",
       " tensor([1]))"
      ]
     },
     "execution_count": 21,
     "metadata": {},
     "output_type": "execute_result"
    },
    {
     "data": {
      "text/plain": [
       "(('/home/tzortzis/Data/IRI-CATs-light/real_data/long_tasks/cropped_robotic/test/orange/no_release_orange/robotic_no_release_orange_0889.jpg',),\n",
       " tensor([1]))"
      ]
     },
     "execution_count": 21,
     "metadata": {},
     "output_type": "execute_result"
    },
    {
     "data": {
      "text/plain": [
       "(('/home/tzortzis/Data/IRI-CATs-light/real_data/long_tasks/cropped_robotic/test/orange/no_release_orange/robotic_no_release_orange_0890.jpg',),\n",
       " tensor([1]))"
      ]
     },
     "execution_count": 21,
     "metadata": {},
     "output_type": "execute_result"
    },
    {
     "data": {
      "text/plain": [
       "(('/home/tzortzis/Data/IRI-CATs-light/real_data/long_tasks/cropped_robotic/test/orange/no_release_orange/robotic_no_release_orange_0891.jpg',),\n",
       " tensor([1]))"
      ]
     },
     "execution_count": 21,
     "metadata": {},
     "output_type": "execute_result"
    },
    {
     "data": {
      "text/plain": [
       "(('/home/tzortzis/Data/IRI-CATs-light/real_data/long_tasks/cropped_robotic/test/orange/no_release_orange/robotic_no_release_orange_0892.jpg',),\n",
       " tensor([1]))"
      ]
     },
     "execution_count": 21,
     "metadata": {},
     "output_type": "execute_result"
    },
    {
     "data": {
      "text/plain": [
       "(('/home/tzortzis/Data/IRI-CATs-light/real_data/long_tasks/cropped_robotic/test/orange/no_release_orange/robotic_no_release_orange_0893.jpg',),\n",
       " tensor([1]))"
      ]
     },
     "execution_count": 21,
     "metadata": {},
     "output_type": "execute_result"
    },
    {
     "data": {
      "text/plain": [
       "(('/home/tzortzis/Data/IRI-CATs-light/real_data/long_tasks/cropped_robotic/test/orange/no_release_orange/robotic_no_release_orange_0894.jpg',),\n",
       " tensor([1]))"
      ]
     },
     "execution_count": 21,
     "metadata": {},
     "output_type": "execute_result"
    },
    {
     "data": {
      "text/plain": [
       "(('/home/tzortzis/Data/IRI-CATs-light/real_data/long_tasks/cropped_robotic/test/orange/no_release_orange/robotic_no_release_orange_0895.jpg',),\n",
       " tensor([1]))"
      ]
     },
     "execution_count": 21,
     "metadata": {},
     "output_type": "execute_result"
    },
    {
     "data": {
      "text/plain": [
       "(('/home/tzortzis/Data/IRI-CATs-light/real_data/long_tasks/cropped_robotic/test/orange/no_release_orange/robotic_no_release_orange_0896.jpg',),\n",
       " tensor([1]))"
      ]
     },
     "execution_count": 21,
     "metadata": {},
     "output_type": "execute_result"
    },
    {
     "data": {
      "text/plain": [
       "(('/home/tzortzis/Data/IRI-CATs-light/real_data/long_tasks/cropped_robotic/test/orange/no_release_orange/robotic_no_release_orange_0897.jpg',),\n",
       " tensor([1]))"
      ]
     },
     "execution_count": 21,
     "metadata": {},
     "output_type": "execute_result"
    },
    {
     "data": {
      "text/plain": [
       "(('/home/tzortzis/Data/IRI-CATs-light/real_data/long_tasks/cropped_robotic/test/orange/no_release_orange/robotic_no_release_orange_0898.jpg',),\n",
       " tensor([1]))"
      ]
     },
     "execution_count": 21,
     "metadata": {},
     "output_type": "execute_result"
    },
    {
     "data": {
      "text/plain": [
       "(('/home/tzortzis/Data/IRI-CATs-light/real_data/long_tasks/cropped_robotic/test/orange/no_release_orange/robotic_no_release_orange_0899.jpg',),\n",
       " tensor([1]))"
      ]
     },
     "execution_count": 21,
     "metadata": {},
     "output_type": "execute_result"
    },
    {
     "data": {
      "text/plain": [
       "(('/home/tzortzis/Data/IRI-CATs-light/real_data/long_tasks/cropped_robotic/test/orange/no_release_orange/robotic_no_release_orange_0900.jpg',),\n",
       " tensor([1]))"
      ]
     },
     "execution_count": 21,
     "metadata": {},
     "output_type": "execute_result"
    },
    {
     "data": {
      "text/plain": [
       "(('/home/tzortzis/Data/IRI-CATs-light/real_data/long_tasks/cropped_robotic/test/orange/no_release_orange/robotic_no_release_orange_0901.jpg',),\n",
       " tensor([1]))"
      ]
     },
     "execution_count": 21,
     "metadata": {},
     "output_type": "execute_result"
    },
    {
     "data": {
      "text/plain": [
       "(('/home/tzortzis/Data/IRI-CATs-light/real_data/long_tasks/cropped_robotic/test/orange/no_release_orange/robotic_no_release_orange_0902.jpg',),\n",
       " tensor([1]))"
      ]
     },
     "execution_count": 21,
     "metadata": {},
     "output_type": "execute_result"
    },
    {
     "data": {
      "text/plain": [
       "(('/home/tzortzis/Data/IRI-CATs-light/real_data/long_tasks/cropped_robotic/test/orange/no_release_orange/robotic_no_release_orange_0903.jpg',),\n",
       " tensor([1]))"
      ]
     },
     "execution_count": 21,
     "metadata": {},
     "output_type": "execute_result"
    },
    {
     "data": {
      "text/plain": [
       "(('/home/tzortzis/Data/IRI-CATs-light/real_data/long_tasks/cropped_robotic/test/orange/no_release_orange/robotic_no_release_orange_0904.jpg',),\n",
       " tensor([1]))"
      ]
     },
     "execution_count": 21,
     "metadata": {},
     "output_type": "execute_result"
    },
    {
     "data": {
      "text/plain": [
       "(('/home/tzortzis/Data/IRI-CATs-light/real_data/long_tasks/cropped_robotic/test/orange/no_release_orange/robotic_no_release_orange_0905.jpg',),\n",
       " tensor([1]))"
      ]
     },
     "execution_count": 21,
     "metadata": {},
     "output_type": "execute_result"
    },
    {
     "data": {
      "text/plain": [
       "(('/home/tzortzis/Data/IRI-CATs-light/real_data/long_tasks/cropped_robotic/test/orange/no_release_orange/robotic_no_release_orange_0906.jpg',),\n",
       " tensor([1]))"
      ]
     },
     "execution_count": 21,
     "metadata": {},
     "output_type": "execute_result"
    },
    {
     "data": {
      "text/plain": [
       "(('/home/tzortzis/Data/IRI-CATs-light/real_data/long_tasks/cropped_robotic/test/orange/no_release_orange/robotic_no_release_orange_0907.jpg',),\n",
       " tensor([1]))"
      ]
     },
     "execution_count": 21,
     "metadata": {},
     "output_type": "execute_result"
    },
    {
     "data": {
      "text/plain": [
       "(('/home/tzortzis/Data/IRI-CATs-light/real_data/long_tasks/cropped_robotic/test/orange/no_release_orange/robotic_no_release_orange_0908.jpg',),\n",
       " tensor([1]))"
      ]
     },
     "execution_count": 21,
     "metadata": {},
     "output_type": "execute_result"
    },
    {
     "data": {
      "text/plain": [
       "(('/home/tzortzis/Data/IRI-CATs-light/real_data/long_tasks/cropped_robotic/test/orange/no_release_orange/robotic_no_release_orange_0909.jpg',),\n",
       " tensor([1]))"
      ]
     },
     "execution_count": 21,
     "metadata": {},
     "output_type": "execute_result"
    },
    {
     "data": {
      "text/plain": [
       "(('/home/tzortzis/Data/IRI-CATs-light/real_data/long_tasks/cropped_robotic/test/orange/no_release_orange/robotic_no_release_orange_0910.jpg',),\n",
       " tensor([1]))"
      ]
     },
     "execution_count": 21,
     "metadata": {},
     "output_type": "execute_result"
    },
    {
     "data": {
      "text/plain": [
       "(('/home/tzortzis/Data/IRI-CATs-light/real_data/long_tasks/cropped_robotic/test/orange/no_release_orange/robotic_no_release_orange_0911.jpg',),\n",
       " tensor([1]))"
      ]
     },
     "execution_count": 21,
     "metadata": {},
     "output_type": "execute_result"
    },
    {
     "data": {
      "text/plain": [
       "(('/home/tzortzis/Data/IRI-CATs-light/real_data/long_tasks/cropped_robotic/test/orange/no_release_orange/robotic_no_release_orange_0912.jpg',),\n",
       " tensor([1]))"
      ]
     },
     "execution_count": 21,
     "metadata": {},
     "output_type": "execute_result"
    },
    {
     "data": {
      "text/plain": [
       "(('/home/tzortzis/Data/IRI-CATs-light/real_data/long_tasks/cropped_robotic/test/orange/no_release_orange/robotic_no_release_orange_0913.jpg',),\n",
       " tensor([1]))"
      ]
     },
     "execution_count": 21,
     "metadata": {},
     "output_type": "execute_result"
    },
    {
     "data": {
      "text/plain": [
       "(('/home/tzortzis/Data/IRI-CATs-light/real_data/long_tasks/cropped_robotic/test/orange/no_release_orange/robotic_no_release_orange_0914.jpg',),\n",
       " tensor([1]))"
      ]
     },
     "execution_count": 21,
     "metadata": {},
     "output_type": "execute_result"
    },
    {
     "data": {
      "text/plain": [
       "(('/home/tzortzis/Data/IRI-CATs-light/real_data/long_tasks/cropped_robotic/test/orange/no_release_orange/robotic_no_release_orange_0915.jpg',),\n",
       " tensor([1]))"
      ]
     },
     "execution_count": 21,
     "metadata": {},
     "output_type": "execute_result"
    },
    {
     "data": {
      "text/plain": [
       "(('/home/tzortzis/Data/IRI-CATs-light/real_data/long_tasks/cropped_robotic/test/orange/no_release_orange/robotic_no_release_orange_0916.jpg',),\n",
       " tensor([1]))"
      ]
     },
     "execution_count": 21,
     "metadata": {},
     "output_type": "execute_result"
    },
    {
     "data": {
      "text/plain": [
       "(('/home/tzortzis/Data/IRI-CATs-light/real_data/long_tasks/cropped_robotic/test/orange/no_release_orange/robotic_no_release_orange_0917.jpg',),\n",
       " tensor([1]))"
      ]
     },
     "execution_count": 21,
     "metadata": {},
     "output_type": "execute_result"
    },
    {
     "data": {
      "text/plain": [
       "(('/home/tzortzis/Data/IRI-CATs-light/real_data/long_tasks/cropped_robotic/test/orange/no_release_orange/robotic_no_release_orange_0918.jpg',),\n",
       " tensor([1]))"
      ]
     },
     "execution_count": 21,
     "metadata": {},
     "output_type": "execute_result"
    },
    {
     "data": {
      "text/plain": [
       "(('/home/tzortzis/Data/IRI-CATs-light/real_data/long_tasks/cropped_robotic/test/orange/no_release_orange/robotic_no_release_orange_0919.jpg',),\n",
       " tensor([1]))"
      ]
     },
     "execution_count": 21,
     "metadata": {},
     "output_type": "execute_result"
    },
    {
     "data": {
      "text/plain": [
       "(('/home/tzortzis/Data/IRI-CATs-light/real_data/long_tasks/cropped_robotic/test/orange/no_release_orange/robotic_no_release_orange_0920.jpg',),\n",
       " tensor([1]))"
      ]
     },
     "execution_count": 21,
     "metadata": {},
     "output_type": "execute_result"
    },
    {
     "data": {
      "text/plain": [
       "(('/home/tzortzis/Data/IRI-CATs-light/real_data/long_tasks/cropped_robotic/test/orange/no_release_orange/robotic_no_release_orange_0921.jpg',),\n",
       " tensor([1]))"
      ]
     },
     "execution_count": 21,
     "metadata": {},
     "output_type": "execute_result"
    },
    {
     "data": {
      "text/plain": [
       "(('/home/tzortzis/Data/IRI-CATs-light/real_data/long_tasks/cropped_robotic/test/orange/no_release_orange/robotic_no_release_orange_0922.jpg',),\n",
       " tensor([1]))"
      ]
     },
     "execution_count": 21,
     "metadata": {},
     "output_type": "execute_result"
    },
    {
     "data": {
      "text/plain": [
       "(('/home/tzortzis/Data/IRI-CATs-light/real_data/long_tasks/cropped_robotic/test/orange/no_release_orange/robotic_no_release_orange_0923.jpg',),\n",
       " tensor([1]))"
      ]
     },
     "execution_count": 21,
     "metadata": {},
     "output_type": "execute_result"
    },
    {
     "data": {
      "text/plain": [
       "(('/home/tzortzis/Data/IRI-CATs-light/real_data/long_tasks/cropped_robotic/test/orange/no_release_orange/robotic_no_release_orange_0924.jpg',),\n",
       " tensor([1]))"
      ]
     },
     "execution_count": 21,
     "metadata": {},
     "output_type": "execute_result"
    },
    {
     "data": {
      "text/plain": [
       "(('/home/tzortzis/Data/IRI-CATs-light/real_data/long_tasks/cropped_robotic/test/orange/no_release_orange/robotic_no_release_orange_0925.jpg',),\n",
       " tensor([1]))"
      ]
     },
     "execution_count": 21,
     "metadata": {},
     "output_type": "execute_result"
    },
    {
     "data": {
      "text/plain": [
       "(('/home/tzortzis/Data/IRI-CATs-light/real_data/long_tasks/cropped_robotic/test/orange/no_release_orange/robotic_no_release_orange_0926.jpg',),\n",
       " tensor([1]))"
      ]
     },
     "execution_count": 21,
     "metadata": {},
     "output_type": "execute_result"
    },
    {
     "data": {
      "text/plain": [
       "(('/home/tzortzis/Data/IRI-CATs-light/real_data/long_tasks/cropped_robotic/test/orange/no_release_orange/robotic_no_release_orange_0927.jpg',),\n",
       " tensor([1]))"
      ]
     },
     "execution_count": 21,
     "metadata": {},
     "output_type": "execute_result"
    },
    {
     "data": {
      "text/plain": [
       "(('/home/tzortzis/Data/IRI-CATs-light/real_data/long_tasks/cropped_robotic/test/orange/no_release_orange/robotic_no_release_orange_0928.jpg',),\n",
       " tensor([1]))"
      ]
     },
     "execution_count": 21,
     "metadata": {},
     "output_type": "execute_result"
    },
    {
     "data": {
      "text/plain": [
       "(('/home/tzortzis/Data/IRI-CATs-light/real_data/long_tasks/cropped_robotic/test/orange/no_release_orange/robotic_no_release_orange_0929.jpg',),\n",
       " tensor([1]))"
      ]
     },
     "execution_count": 21,
     "metadata": {},
     "output_type": "execute_result"
    },
    {
     "data": {
      "text/plain": [
       "(('/home/tzortzis/Data/IRI-CATs-light/real_data/long_tasks/cropped_robotic/test/orange/no_release_orange/robotic_no_release_orange_0930.jpg',),\n",
       " tensor([1]))"
      ]
     },
     "execution_count": 21,
     "metadata": {},
     "output_type": "execute_result"
    },
    {
     "data": {
      "text/plain": [
       "(('/home/tzortzis/Data/IRI-CATs-light/real_data/long_tasks/cropped_robotic/test/orange/no_release_orange/robotic_no_release_orange_0931.jpg',),\n",
       " tensor([1]))"
      ]
     },
     "execution_count": 21,
     "metadata": {},
     "output_type": "execute_result"
    },
    {
     "data": {
      "text/plain": [
       "(('/home/tzortzis/Data/IRI-CATs-light/real_data/long_tasks/cropped_robotic/test/orange/no_release_orange/robotic_no_release_orange_0932.jpg',),\n",
       " tensor([1]))"
      ]
     },
     "execution_count": 21,
     "metadata": {},
     "output_type": "execute_result"
    },
    {
     "data": {
      "text/plain": [
       "(('/home/tzortzis/Data/IRI-CATs-light/real_data/long_tasks/cropped_robotic/test/orange/no_release_orange/robotic_no_release_orange_0933.jpg',),\n",
       " tensor([1]))"
      ]
     },
     "execution_count": 21,
     "metadata": {},
     "output_type": "execute_result"
    },
    {
     "data": {
      "text/plain": [
       "(('/home/tzortzis/Data/IRI-CATs-light/real_data/long_tasks/cropped_robotic/test/orange/no_release_orange/robotic_no_release_orange_0934.jpg',),\n",
       " tensor([1]))"
      ]
     },
     "execution_count": 21,
     "metadata": {},
     "output_type": "execute_result"
    },
    {
     "data": {
      "text/plain": [
       "(('/home/tzortzis/Data/IRI-CATs-light/real_data/long_tasks/cropped_robotic/test/orange/no_release_orange/robotic_no_release_orange_0935.jpg',),\n",
       " tensor([1]))"
      ]
     },
     "execution_count": 21,
     "metadata": {},
     "output_type": "execute_result"
    },
    {
     "data": {
      "text/plain": [
       "(('/home/tzortzis/Data/IRI-CATs-light/real_data/long_tasks/cropped_robotic/test/orange/no_release_orange/robotic_no_release_orange_0936.jpg',),\n",
       " tensor([1]))"
      ]
     },
     "execution_count": 21,
     "metadata": {},
     "output_type": "execute_result"
    },
    {
     "data": {
      "text/plain": [
       "(('/home/tzortzis/Data/IRI-CATs-light/real_data/long_tasks/cropped_robotic/test/orange/no_release_orange/robotic_no_release_orange_0937.jpg',),\n",
       " tensor([1]))"
      ]
     },
     "execution_count": 21,
     "metadata": {},
     "output_type": "execute_result"
    },
    {
     "data": {
      "text/plain": [
       "(('/home/tzortzis/Data/IRI-CATs-light/real_data/long_tasks/cropped_robotic/test/orange/no_release_orange/robotic_no_release_orange_0938.jpg',),\n",
       " tensor([1]))"
      ]
     },
     "execution_count": 21,
     "metadata": {},
     "output_type": "execute_result"
    },
    {
     "data": {
      "text/plain": [
       "(('/home/tzortzis/Data/IRI-CATs-light/real_data/long_tasks/cropped_robotic/test/orange/no_release_orange/robotic_no_release_orange_0939.jpg',),\n",
       " tensor([1]))"
      ]
     },
     "execution_count": 21,
     "metadata": {},
     "output_type": "execute_result"
    },
    {
     "data": {
      "text/plain": [
       "(('/home/tzortzis/Data/IRI-CATs-light/real_data/long_tasks/cropped_robotic/test/orange/no_release_orange/robotic_no_release_orange_0940.jpg',),\n",
       " tensor([1]))"
      ]
     },
     "execution_count": 21,
     "metadata": {},
     "output_type": "execute_result"
    },
    {
     "data": {
      "text/plain": [
       "(('/home/tzortzis/Data/IRI-CATs-light/real_data/long_tasks/cropped_robotic/test/orange/no_release_orange/robotic_no_release_orange_0941.jpg',),\n",
       " tensor([1]))"
      ]
     },
     "execution_count": 21,
     "metadata": {},
     "output_type": "execute_result"
    },
    {
     "data": {
      "text/plain": [
       "(('/home/tzortzis/Data/IRI-CATs-light/real_data/long_tasks/cropped_robotic/test/orange/no_release_orange/robotic_no_release_orange_0942.jpg',),\n",
       " tensor([1]))"
      ]
     },
     "execution_count": 21,
     "metadata": {},
     "output_type": "execute_result"
    },
    {
     "data": {
      "text/plain": [
       "(('/home/tzortzis/Data/IRI-CATs-light/real_data/long_tasks/cropped_robotic/test/orange/no_release_orange/robotic_no_release_orange_0943.jpg',),\n",
       " tensor([1]))"
      ]
     },
     "execution_count": 21,
     "metadata": {},
     "output_type": "execute_result"
    },
    {
     "data": {
      "text/plain": [
       "(('/home/tzortzis/Data/IRI-CATs-light/real_data/long_tasks/cropped_robotic/test/orange/no_release_orange/robotic_no_release_orange_0944.jpg',),\n",
       " tensor([1]))"
      ]
     },
     "execution_count": 21,
     "metadata": {},
     "output_type": "execute_result"
    },
    {
     "data": {
      "text/plain": [
       "(('/home/tzortzis/Data/IRI-CATs-light/real_data/long_tasks/cropped_robotic/test/orange/no_release_orange/robotic_no_release_orange_0945.jpg',),\n",
       " tensor([1]))"
      ]
     },
     "execution_count": 21,
     "metadata": {},
     "output_type": "execute_result"
    },
    {
     "data": {
      "text/plain": [
       "(('/home/tzortzis/Data/IRI-CATs-light/real_data/long_tasks/cropped_robotic/test/orange/no_release_orange/robotic_no_release_orange_0946.jpg',),\n",
       " tensor([1]))"
      ]
     },
     "execution_count": 21,
     "metadata": {},
     "output_type": "execute_result"
    },
    {
     "data": {
      "text/plain": [
       "(('/home/tzortzis/Data/IRI-CATs-light/real_data/long_tasks/cropped_robotic/test/orange/no_release_orange/robotic_no_release_orange_0947.jpg',),\n",
       " tensor([1]))"
      ]
     },
     "execution_count": 21,
     "metadata": {},
     "output_type": "execute_result"
    },
    {
     "data": {
      "text/plain": [
       "(('/home/tzortzis/Data/IRI-CATs-light/real_data/long_tasks/cropped_robotic/test/orange/no_release_orange/robotic_no_release_orange_0948.jpg',),\n",
       " tensor([1]))"
      ]
     },
     "execution_count": 21,
     "metadata": {},
     "output_type": "execute_result"
    },
    {
     "data": {
      "text/plain": [
       "(('/home/tzortzis/Data/IRI-CATs-light/real_data/long_tasks/cropped_robotic/test/orange/no_release_orange/robotic_no_release_orange_0949.jpg',),\n",
       " tensor([1]))"
      ]
     },
     "execution_count": 21,
     "metadata": {},
     "output_type": "execute_result"
    },
    {
     "data": {
      "text/plain": [
       "(('/home/tzortzis/Data/IRI-CATs-light/real_data/long_tasks/cropped_robotic/test/orange/no_release_orange/robotic_no_release_orange_0950.jpg',),\n",
       " tensor([1]))"
      ]
     },
     "execution_count": 21,
     "metadata": {},
     "output_type": "execute_result"
    },
    {
     "data": {
      "text/plain": [
       "(('/home/tzortzis/Data/IRI-CATs-light/real_data/long_tasks/cropped_robotic/test/orange/no_release_orange/robotic_no_release_orange_0951.jpg',),\n",
       " tensor([1]))"
      ]
     },
     "execution_count": 21,
     "metadata": {},
     "output_type": "execute_result"
    },
    {
     "data": {
      "text/plain": [
       "(('/home/tzortzis/Data/IRI-CATs-light/real_data/long_tasks/cropped_robotic/test/orange/no_release_orange/robotic_no_release_orange_0952.jpg',),\n",
       " tensor([1]))"
      ]
     },
     "execution_count": 21,
     "metadata": {},
     "output_type": "execute_result"
    },
    {
     "data": {
      "text/plain": [
       "(('/home/tzortzis/Data/IRI-CATs-light/real_data/long_tasks/cropped_robotic/test/orange/no_release_orange/robotic_no_release_orange_0953.jpg',),\n",
       " tensor([1]))"
      ]
     },
     "execution_count": 21,
     "metadata": {},
     "output_type": "execute_result"
    },
    {
     "data": {
      "text/plain": [
       "(('/home/tzortzis/Data/IRI-CATs-light/real_data/long_tasks/cropped_robotic/test/orange/no_release_orange/robotic_no_release_orange_0954.jpg',),\n",
       " tensor([1]))"
      ]
     },
     "execution_count": 21,
     "metadata": {},
     "output_type": "execute_result"
    },
    {
     "data": {
      "text/plain": [
       "(('/home/tzortzis/Data/IRI-CATs-light/real_data/long_tasks/cropped_robotic/test/orange/no_release_orange/robotic_no_release_orange_0955.jpg',),\n",
       " tensor([1]))"
      ]
     },
     "execution_count": 21,
     "metadata": {},
     "output_type": "execute_result"
    },
    {
     "data": {
      "text/plain": [
       "(('/home/tzortzis/Data/IRI-CATs-light/real_data/long_tasks/cropped_robotic/test/orange/no_release_orange/robotic_no_release_orange_0956.jpg',),\n",
       " tensor([1]))"
      ]
     },
     "execution_count": 21,
     "metadata": {},
     "output_type": "execute_result"
    },
    {
     "data": {
      "text/plain": [
       "(('/home/tzortzis/Data/IRI-CATs-light/real_data/long_tasks/cropped_robotic/test/orange/no_release_orange/robotic_no_release_orange_0957.jpg',),\n",
       " tensor([1]))"
      ]
     },
     "execution_count": 21,
     "metadata": {},
     "output_type": "execute_result"
    },
    {
     "data": {
      "text/plain": [
       "(('/home/tzortzis/Data/IRI-CATs-light/real_data/long_tasks/cropped_robotic/test/orange/no_release_orange/robotic_no_release_orange_0958.jpg',),\n",
       " tensor([1]))"
      ]
     },
     "execution_count": 21,
     "metadata": {},
     "output_type": "execute_result"
    },
    {
     "data": {
      "text/plain": [
       "(('/home/tzortzis/Data/IRI-CATs-light/real_data/long_tasks/cropped_robotic/test/orange/no_release_orange/robotic_no_release_orange_0959.jpg',),\n",
       " tensor([1]))"
      ]
     },
     "execution_count": 21,
     "metadata": {},
     "output_type": "execute_result"
    },
    {
     "data": {
      "text/plain": [
       "(('/home/tzortzis/Data/IRI-CATs-light/real_data/long_tasks/cropped_robotic/test/orange/no_release_orange/robotic_no_release_orange_0960.jpg',),\n",
       " tensor([1]))"
      ]
     },
     "execution_count": 21,
     "metadata": {},
     "output_type": "execute_result"
    },
    {
     "data": {
      "text/plain": [
       "(('/home/tzortzis/Data/IRI-CATs-light/real_data/long_tasks/cropped_robotic/test/orange/no_release_orange/robotic_no_release_orange_0961.jpg',),\n",
       " tensor([1]))"
      ]
     },
     "execution_count": 21,
     "metadata": {},
     "output_type": "execute_result"
    },
    {
     "data": {
      "text/plain": [
       "(('/home/tzortzis/Data/IRI-CATs-light/real_data/long_tasks/cropped_robotic/test/orange/no_release_orange/robotic_no_release_orange_0962.jpg',),\n",
       " tensor([1]))"
      ]
     },
     "execution_count": 21,
     "metadata": {},
     "output_type": "execute_result"
    },
    {
     "data": {
      "text/plain": [
       "(('/home/tzortzis/Data/IRI-CATs-light/real_data/long_tasks/cropped_robotic/test/orange/no_release_orange/robotic_no_release_orange_0963.jpg',),\n",
       " tensor([1]))"
      ]
     },
     "execution_count": 21,
     "metadata": {},
     "output_type": "execute_result"
    },
    {
     "data": {
      "text/plain": [
       "(('/home/tzortzis/Data/IRI-CATs-light/real_data/long_tasks/cropped_robotic/test/orange/no_release_orange/robotic_no_release_orange_0964.jpg',),\n",
       " tensor([1]))"
      ]
     },
     "execution_count": 21,
     "metadata": {},
     "output_type": "execute_result"
    },
    {
     "data": {
      "text/plain": [
       "(('/home/tzortzis/Data/IRI-CATs-light/real_data/long_tasks/cropped_robotic/test/orange/no_release_orange/robotic_no_release_orange_0965.jpg',),\n",
       " tensor([1]))"
      ]
     },
     "execution_count": 21,
     "metadata": {},
     "output_type": "execute_result"
    },
    {
     "data": {
      "text/plain": [
       "(('/home/tzortzis/Data/IRI-CATs-light/real_data/long_tasks/cropped_robotic/test/orange/no_release_orange/robotic_no_release_orange_0966.jpg',),\n",
       " tensor([1]))"
      ]
     },
     "execution_count": 21,
     "metadata": {},
     "output_type": "execute_result"
    },
    {
     "data": {
      "text/plain": [
       "(('/home/tzortzis/Data/IRI-CATs-light/real_data/long_tasks/cropped_robotic/test/orange/no_release_orange/robotic_no_release_orange_0967.jpg',),\n",
       " tensor([1]))"
      ]
     },
     "execution_count": 21,
     "metadata": {},
     "output_type": "execute_result"
    },
    {
     "data": {
      "text/plain": [
       "(('/home/tzortzis/Data/IRI-CATs-light/real_data/long_tasks/cropped_robotic/test/orange/no_release_orange/robotic_no_release_orange_0968.jpg',),\n",
       " tensor([1]))"
      ]
     },
     "execution_count": 21,
     "metadata": {},
     "output_type": "execute_result"
    },
    {
     "data": {
      "text/plain": [
       "(('/home/tzortzis/Data/IRI-CATs-light/real_data/long_tasks/cropped_robotic/test/orange/no_release_orange/robotic_no_release_orange_0969.jpg',),\n",
       " tensor([1]))"
      ]
     },
     "execution_count": 21,
     "metadata": {},
     "output_type": "execute_result"
    },
    {
     "data": {
      "text/plain": [
       "(('/home/tzortzis/Data/IRI-CATs-light/real_data/long_tasks/cropped_robotic/test/orange/no_release_orange/robotic_no_release_orange_0970.jpg',),\n",
       " tensor([1]))"
      ]
     },
     "execution_count": 21,
     "metadata": {},
     "output_type": "execute_result"
    },
    {
     "data": {
      "text/plain": [
       "(('/home/tzortzis/Data/IRI-CATs-light/real_data/long_tasks/cropped_robotic/test/orange/no_release_orange/robotic_no_release_orange_0971.jpg',),\n",
       " tensor([1]))"
      ]
     },
     "execution_count": 21,
     "metadata": {},
     "output_type": "execute_result"
    },
    {
     "data": {
      "text/plain": [
       "(('/home/tzortzis/Data/IRI-CATs-light/real_data/long_tasks/cropped_robotic/test/orange/no_release_orange/robotic_no_release_orange_0972.jpg',),\n",
       " tensor([1]))"
      ]
     },
     "execution_count": 21,
     "metadata": {},
     "output_type": "execute_result"
    },
    {
     "data": {
      "text/plain": [
       "(('/home/tzortzis/Data/IRI-CATs-light/real_data/long_tasks/cropped_robotic/test/orange/no_release_orange/robotic_no_release_orange_0973.jpg',),\n",
       " tensor([1]))"
      ]
     },
     "execution_count": 21,
     "metadata": {},
     "output_type": "execute_result"
    },
    {
     "data": {
      "text/plain": [
       "(('/home/tzortzis/Data/IRI-CATs-light/real_data/long_tasks/cropped_robotic/test/orange/no_release_orange/robotic_no_release_orange_0974.jpg',),\n",
       " tensor([1]))"
      ]
     },
     "execution_count": 21,
     "metadata": {},
     "output_type": "execute_result"
    },
    {
     "data": {
      "text/plain": [
       "(('/home/tzortzis/Data/IRI-CATs-light/real_data/long_tasks/cropped_robotic/test/orange/no_release_orange/robotic_no_release_orange_0975.jpg',),\n",
       " tensor([1]))"
      ]
     },
     "execution_count": 21,
     "metadata": {},
     "output_type": "execute_result"
    },
    {
     "data": {
      "text/plain": [
       "(('/home/tzortzis/Data/IRI-CATs-light/real_data/long_tasks/cropped_robotic/test/orange/no_release_orange/robotic_no_release_orange_0976.jpg',),\n",
       " tensor([1]))"
      ]
     },
     "execution_count": 21,
     "metadata": {},
     "output_type": "execute_result"
    },
    {
     "data": {
      "text/plain": [
       "(('/home/tzortzis/Data/IRI-CATs-light/real_data/long_tasks/cropped_robotic/test/orange/no_release_orange/robotic_no_release_orange_0977.jpg',),\n",
       " tensor([1]))"
      ]
     },
     "execution_count": 21,
     "metadata": {},
     "output_type": "execute_result"
    },
    {
     "data": {
      "text/plain": [
       "(('/home/tzortzis/Data/IRI-CATs-light/real_data/long_tasks/cropped_robotic/test/orange/no_release_orange/robotic_no_release_orange_0978.jpg',),\n",
       " tensor([1]))"
      ]
     },
     "execution_count": 21,
     "metadata": {},
     "output_type": "execute_result"
    },
    {
     "data": {
      "text/plain": [
       "(('/home/tzortzis/Data/IRI-CATs-light/real_data/long_tasks/cropped_robotic/test/orange/no_release_orange/robotic_no_release_orange_0979.jpg',),\n",
       " tensor([1]))"
      ]
     },
     "execution_count": 21,
     "metadata": {},
     "output_type": "execute_result"
    },
    {
     "data": {
      "text/plain": [
       "(('/home/tzortzis/Data/IRI-CATs-light/real_data/long_tasks/cropped_robotic/test/orange/no_release_orange/robotic_no_release_orange_0980.jpg',),\n",
       " tensor([1]))"
      ]
     },
     "execution_count": 21,
     "metadata": {},
     "output_type": "execute_result"
    },
    {
     "data": {
      "text/plain": [
       "(('/home/tzortzis/Data/IRI-CATs-light/real_data/long_tasks/cropped_robotic/test/orange/no_release_orange/robotic_no_release_orange_0981.jpg',),\n",
       " tensor([1]))"
      ]
     },
     "execution_count": 21,
     "metadata": {},
     "output_type": "execute_result"
    },
    {
     "data": {
      "text/plain": [
       "(('/home/tzortzis/Data/IRI-CATs-light/real_data/long_tasks/cropped_robotic/test/orange/no_release_orange/robotic_no_release_orange_0982.jpg',),\n",
       " tensor([1]))"
      ]
     },
     "execution_count": 21,
     "metadata": {},
     "output_type": "execute_result"
    },
    {
     "data": {
      "text/plain": [
       "(('/home/tzortzis/Data/IRI-CATs-light/real_data/long_tasks/cropped_robotic/test/orange/no_release_orange/robotic_no_release_orange_0983.jpg',),\n",
       " tensor([1]))"
      ]
     },
     "execution_count": 21,
     "metadata": {},
     "output_type": "execute_result"
    },
    {
     "data": {
      "text/plain": [
       "(('/home/tzortzis/Data/IRI-CATs-light/real_data/long_tasks/cropped_robotic/test/orange/no_release_orange/robotic_no_release_orange_0984.jpg',),\n",
       " tensor([1]))"
      ]
     },
     "execution_count": 21,
     "metadata": {},
     "output_type": "execute_result"
    },
    {
     "data": {
      "text/plain": [
       "(('/home/tzortzis/Data/IRI-CATs-light/real_data/long_tasks/cropped_robotic/test/orange/no_release_orange/robotic_no_release_orange_0985.jpg',),\n",
       " tensor([1]))"
      ]
     },
     "execution_count": 21,
     "metadata": {},
     "output_type": "execute_result"
    },
    {
     "data": {
      "text/plain": [
       "(('/home/tzortzis/Data/IRI-CATs-light/real_data/long_tasks/cropped_robotic/test/orange/no_release_orange/robotic_no_release_orange_0986.jpg',),\n",
       " tensor([1]))"
      ]
     },
     "execution_count": 21,
     "metadata": {},
     "output_type": "execute_result"
    },
    {
     "data": {
      "text/plain": [
       "(('/home/tzortzis/Data/IRI-CATs-light/real_data/long_tasks/cropped_robotic/test/orange/no_release_orange/robotic_no_release_orange_0987.jpg',),\n",
       " tensor([1]))"
      ]
     },
     "execution_count": 21,
     "metadata": {},
     "output_type": "execute_result"
    },
    {
     "data": {
      "text/plain": [
       "(('/home/tzortzis/Data/IRI-CATs-light/real_data/long_tasks/cropped_robotic/test/orange/no_release_orange/robotic_no_release_orange_0988.jpg',),\n",
       " tensor([1]))"
      ]
     },
     "execution_count": 21,
     "metadata": {},
     "output_type": "execute_result"
    },
    {
     "data": {
      "text/plain": [
       "(('/home/tzortzis/Data/IRI-CATs-light/real_data/long_tasks/cropped_robotic/test/orange/no_release_orange/robotic_no_release_orange_0989.jpg',),\n",
       " tensor([1]))"
      ]
     },
     "execution_count": 21,
     "metadata": {},
     "output_type": "execute_result"
    },
    {
     "data": {
      "text/plain": [
       "(('/home/tzortzis/Data/IRI-CATs-light/real_data/long_tasks/cropped_robotic/test/orange/no_release_orange/robotic_no_release_orange_0990.jpg',),\n",
       " tensor([1]))"
      ]
     },
     "execution_count": 21,
     "metadata": {},
     "output_type": "execute_result"
    },
    {
     "data": {
      "text/plain": [
       "(('/home/tzortzis/Data/IRI-CATs-light/real_data/long_tasks/cropped_robotic/test/orange/no_release_orange/robotic_no_release_orange_0991.jpg',),\n",
       " tensor([1]))"
      ]
     },
     "execution_count": 21,
     "metadata": {},
     "output_type": "execute_result"
    },
    {
     "data": {
      "text/plain": [
       "(('/home/tzortzis/Data/IRI-CATs-light/real_data/long_tasks/cropped_robotic/test/orange/no_release_orange/robotic_no_release_orange_0992.jpg',),\n",
       " tensor([1]))"
      ]
     },
     "execution_count": 21,
     "metadata": {},
     "output_type": "execute_result"
    },
    {
     "data": {
      "text/plain": [
       "(('/home/tzortzis/Data/IRI-CATs-light/real_data/long_tasks/cropped_robotic/test/orange/no_release_orange/robotic_no_release_orange_0993.jpg',),\n",
       " tensor([1]))"
      ]
     },
     "execution_count": 21,
     "metadata": {},
     "output_type": "execute_result"
    },
    {
     "data": {
      "text/plain": [
       "(('/home/tzortzis/Data/IRI-CATs-light/real_data/long_tasks/cropped_robotic/test/orange/no_release_orange/robotic_no_release_orange_0994.jpg',),\n",
       " tensor([1]))"
      ]
     },
     "execution_count": 21,
     "metadata": {},
     "output_type": "execute_result"
    },
    {
     "data": {
      "text/plain": [
       "(('/home/tzortzis/Data/IRI-CATs-light/real_data/long_tasks/cropped_robotic/test/orange/no_release_orange/robotic_no_release_orange_0995.jpg',),\n",
       " tensor([1]))"
      ]
     },
     "execution_count": 21,
     "metadata": {},
     "output_type": "execute_result"
    },
    {
     "data": {
      "text/plain": [
       "(('/home/tzortzis/Data/IRI-CATs-light/real_data/long_tasks/cropped_robotic/test/orange/no_release_orange/robotic_no_release_orange_0996.jpg',),\n",
       " tensor([1]))"
      ]
     },
     "execution_count": 21,
     "metadata": {},
     "output_type": "execute_result"
    },
    {
     "data": {
      "text/plain": [
       "(('/home/tzortzis/Data/IRI-CATs-light/real_data/long_tasks/cropped_robotic/test/orange/no_release_orange/robotic_no_release_orange_0997.jpg',),\n",
       " tensor([1]))"
      ]
     },
     "execution_count": 21,
     "metadata": {},
     "output_type": "execute_result"
    },
    {
     "data": {
      "text/plain": [
       "(('/home/tzortzis/Data/IRI-CATs-light/real_data/long_tasks/cropped_robotic/test/orange/no_release_orange/robotic_no_release_orange_0998.jpg',),\n",
       " tensor([1]))"
      ]
     },
     "execution_count": 21,
     "metadata": {},
     "output_type": "execute_result"
    },
    {
     "data": {
      "text/plain": [
       "(('/home/tzortzis/Data/IRI-CATs-light/real_data/long_tasks/cropped_robotic/test/orange/no_release_orange/robotic_no_release_orange_0999.jpg',),\n",
       " tensor([1]))"
      ]
     },
     "execution_count": 21,
     "metadata": {},
     "output_type": "execute_result"
    },
    {
     "data": {
      "text/plain": [
       "(('/home/tzortzis/Data/IRI-CATs-light/real_data/long_tasks/cropped_robotic/test/orange/no_release_orange/robotic_no_release_orange_1000.jpg',),\n",
       " tensor([1]))"
      ]
     },
     "execution_count": 21,
     "metadata": {},
     "output_type": "execute_result"
    },
    {
     "data": {
      "text/plain": [
       "(('/home/tzortzis/Data/IRI-CATs-light/real_data/long_tasks/cropped_robotic/test/orange/no_release_orange/robotic_no_release_orange_1001.jpg',),\n",
       " tensor([1]))"
      ]
     },
     "execution_count": 21,
     "metadata": {},
     "output_type": "execute_result"
    },
    {
     "data": {
      "text/plain": [
       "(('/home/tzortzis/Data/IRI-CATs-light/real_data/long_tasks/cropped_robotic/test/orange/no_release_orange/robotic_no_release_orange_1002.jpg',),\n",
       " tensor([1]))"
      ]
     },
     "execution_count": 21,
     "metadata": {},
     "output_type": "execute_result"
    },
    {
     "data": {
      "text/plain": [
       "(('/home/tzortzis/Data/IRI-CATs-light/real_data/long_tasks/cropped_robotic/test/orange/no_release_orange/robotic_no_release_orange_1003.jpg',),\n",
       " tensor([1]))"
      ]
     },
     "execution_count": 21,
     "metadata": {},
     "output_type": "execute_result"
    },
    {
     "data": {
      "text/plain": [
       "(('/home/tzortzis/Data/IRI-CATs-light/real_data/long_tasks/cropped_robotic/test/orange/no_release_orange/robotic_no_release_orange_1004.jpg',),\n",
       " tensor([1]))"
      ]
     },
     "execution_count": 21,
     "metadata": {},
     "output_type": "execute_result"
    },
    {
     "data": {
      "text/plain": [
       "(('/home/tzortzis/Data/IRI-CATs-light/real_data/long_tasks/cropped_robotic/test/orange/no_release_orange/robotic_no_release_orange_1005.jpg',),\n",
       " tensor([1]))"
      ]
     },
     "execution_count": 21,
     "metadata": {},
     "output_type": "execute_result"
    },
    {
     "data": {
      "text/plain": [
       "(('/home/tzortzis/Data/IRI-CATs-light/real_data/long_tasks/cropped_robotic/test/orange/no_release_orange/robotic_no_release_orange_1006.jpg',),\n",
       " tensor([1]))"
      ]
     },
     "execution_count": 21,
     "metadata": {},
     "output_type": "execute_result"
    },
    {
     "data": {
      "text/plain": [
       "(('/home/tzortzis/Data/IRI-CATs-light/real_data/long_tasks/cropped_robotic/test/orange/no_release_orange/robotic_no_release_orange_1007.jpg',),\n",
       " tensor([1]))"
      ]
     },
     "execution_count": 21,
     "metadata": {},
     "output_type": "execute_result"
    },
    {
     "data": {
      "text/plain": [
       "(('/home/tzortzis/Data/IRI-CATs-light/real_data/long_tasks/cropped_robotic/test/orange/no_release_orange/robotic_no_release_orange_1008.jpg',),\n",
       " tensor([1]))"
      ]
     },
     "execution_count": 21,
     "metadata": {},
     "output_type": "execute_result"
    },
    {
     "data": {
      "text/plain": [
       "(('/home/tzortzis/Data/IRI-CATs-light/real_data/long_tasks/cropped_robotic/test/orange/no_release_orange/robotic_no_release_orange_1009.jpg',),\n",
       " tensor([1]))"
      ]
     },
     "execution_count": 21,
     "metadata": {},
     "output_type": "execute_result"
    },
    {
     "data": {
      "text/plain": [
       "(('/home/tzortzis/Data/IRI-CATs-light/real_data/long_tasks/cropped_robotic/test/orange/no_release_orange/robotic_no_release_orange_1010.jpg',),\n",
       " tensor([1]))"
      ]
     },
     "execution_count": 21,
     "metadata": {},
     "output_type": "execute_result"
    },
    {
     "data": {
      "text/plain": [
       "(('/home/tzortzis/Data/IRI-CATs-light/real_data/long_tasks/cropped_robotic/test/orange/no_release_orange/robotic_no_release_orange_1011.jpg',),\n",
       " tensor([1]))"
      ]
     },
     "execution_count": 21,
     "metadata": {},
     "output_type": "execute_result"
    },
    {
     "data": {
      "text/plain": [
       "(('/home/tzortzis/Data/IRI-CATs-light/real_data/long_tasks/cropped_robotic/test/orange/no_release_orange/robotic_no_release_orange_1012.jpg',),\n",
       " tensor([1]))"
      ]
     },
     "execution_count": 21,
     "metadata": {},
     "output_type": "execute_result"
    },
    {
     "data": {
      "text/plain": [
       "(('/home/tzortzis/Data/IRI-CATs-light/real_data/long_tasks/cropped_robotic/test/orange/no_release_orange/robotic_no_release_orange_1013.jpg',),\n",
       " tensor([1]))"
      ]
     },
     "execution_count": 21,
     "metadata": {},
     "output_type": "execute_result"
    },
    {
     "data": {
      "text/plain": [
       "(('/home/tzortzis/Data/IRI-CATs-light/real_data/long_tasks/cropped_robotic/test/orange/no_release_orange/robotic_no_release_orange_1014.jpg',),\n",
       " tensor([1]))"
      ]
     },
     "execution_count": 21,
     "metadata": {},
     "output_type": "execute_result"
    },
    {
     "data": {
      "text/plain": [
       "(('/home/tzortzis/Data/IRI-CATs-light/real_data/long_tasks/cropped_robotic/test/orange/no_release_orange/robotic_no_release_orange_1015.jpg',),\n",
       " tensor([1]))"
      ]
     },
     "execution_count": 21,
     "metadata": {},
     "output_type": "execute_result"
    },
    {
     "data": {
      "text/plain": [
       "(('/home/tzortzis/Data/IRI-CATs-light/real_data/long_tasks/cropped_robotic/test/orange/no_release_orange/robotic_no_release_orange_1016.jpg',),\n",
       " tensor([1]))"
      ]
     },
     "execution_count": 21,
     "metadata": {},
     "output_type": "execute_result"
    },
    {
     "data": {
      "text/plain": [
       "(('/home/tzortzis/Data/IRI-CATs-light/real_data/long_tasks/cropped_robotic/test/orange/no_release_orange/robotic_no_release_orange_1017.jpg',),\n",
       " tensor([1]))"
      ]
     },
     "execution_count": 21,
     "metadata": {},
     "output_type": "execute_result"
    },
    {
     "data": {
      "text/plain": [
       "(('/home/tzortzis/Data/IRI-CATs-light/real_data/long_tasks/cropped_robotic/test/orange/no_release_orange/robotic_no_release_orange_1018.jpg',),\n",
       " tensor([1]))"
      ]
     },
     "execution_count": 21,
     "metadata": {},
     "output_type": "execute_result"
    },
    {
     "data": {
      "text/plain": [
       "(('/home/tzortzis/Data/IRI-CATs-light/real_data/long_tasks/cropped_robotic/test/orange/no_release_orange/robotic_no_release_orange_1019.jpg',),\n",
       " tensor([1]))"
      ]
     },
     "execution_count": 21,
     "metadata": {},
     "output_type": "execute_result"
    },
    {
     "data": {
      "text/plain": [
       "(('/home/tzortzis/Data/IRI-CATs-light/real_data/long_tasks/cropped_robotic/test/orange/no_release_orange/robotic_no_release_orange_1020.jpg',),\n",
       " tensor([1]))"
      ]
     },
     "execution_count": 21,
     "metadata": {},
     "output_type": "execute_result"
    },
    {
     "data": {
      "text/plain": [
       "(('/home/tzortzis/Data/IRI-CATs-light/real_data/long_tasks/cropped_robotic/test/orange/no_release_orange/robotic_no_release_orange_1021.jpg',),\n",
       " tensor([1]))"
      ]
     },
     "execution_count": 21,
     "metadata": {},
     "output_type": "execute_result"
    },
    {
     "data": {
      "text/plain": [
       "(('/home/tzortzis/Data/IRI-CATs-light/real_data/long_tasks/cropped_robotic/test/orange/no_release_orange/robotic_no_release_orange_1022.jpg',),\n",
       " tensor([1]))"
      ]
     },
     "execution_count": 21,
     "metadata": {},
     "output_type": "execute_result"
    },
    {
     "data": {
      "text/plain": [
       "(('/home/tzortzis/Data/IRI-CATs-light/real_data/long_tasks/cropped_robotic/test/orange/no_release_orange/robotic_no_release_orange_1023.jpg',),\n",
       " tensor([1]))"
      ]
     },
     "execution_count": 21,
     "metadata": {},
     "output_type": "execute_result"
    },
    {
     "data": {
      "text/plain": [
       "(('/home/tzortzis/Data/IRI-CATs-light/real_data/long_tasks/cropped_robotic/test/orange/no_release_orange/robotic_no_release_orange_1024.jpg',),\n",
       " tensor([1]))"
      ]
     },
     "execution_count": 21,
     "metadata": {},
     "output_type": "execute_result"
    },
    {
     "data": {
      "text/plain": [
       "(('/home/tzortzis/Data/IRI-CATs-light/real_data/long_tasks/cropped_robotic/test/orange/no_release_orange/robotic_no_release_orange_1025.jpg',),\n",
       " tensor([1]))"
      ]
     },
     "execution_count": 21,
     "metadata": {},
     "output_type": "execute_result"
    },
    {
     "data": {
      "text/plain": [
       "(('/home/tzortzis/Data/IRI-CATs-light/real_data/long_tasks/cropped_robotic/test/orange/no_release_orange/robotic_no_release_orange_1026.jpg',),\n",
       " tensor([1]))"
      ]
     },
     "execution_count": 21,
     "metadata": {},
     "output_type": "execute_result"
    },
    {
     "data": {
      "text/plain": [
       "(('/home/tzortzis/Data/IRI-CATs-light/real_data/long_tasks/cropped_robotic/test/orange/no_release_orange/robotic_no_release_orange_1027.jpg',),\n",
       " tensor([1]))"
      ]
     },
     "execution_count": 21,
     "metadata": {},
     "output_type": "execute_result"
    },
    {
     "data": {
      "text/plain": [
       "(('/home/tzortzis/Data/IRI-CATs-light/real_data/long_tasks/cropped_robotic/test/orange/no_release_orange/robotic_no_release_orange_1028.jpg',),\n",
       " tensor([1]))"
      ]
     },
     "execution_count": 21,
     "metadata": {},
     "output_type": "execute_result"
    },
    {
     "data": {
      "text/plain": [
       "(('/home/tzortzis/Data/IRI-CATs-light/real_data/long_tasks/cropped_robotic/test/orange/no_release_orange/robotic_no_release_orange_1029.jpg',),\n",
       " tensor([1]))"
      ]
     },
     "execution_count": 21,
     "metadata": {},
     "output_type": "execute_result"
    },
    {
     "data": {
      "text/plain": [
       "(('/home/tzortzis/Data/IRI-CATs-light/real_data/long_tasks/cropped_robotic/test/orange/no_release_orange/robotic_no_release_orange_1030.jpg',),\n",
       " tensor([1]))"
      ]
     },
     "execution_count": 21,
     "metadata": {},
     "output_type": "execute_result"
    },
    {
     "data": {
      "text/plain": [
       "(('/home/tzortzis/Data/IRI-CATs-light/real_data/long_tasks/cropped_robotic/test/orange/no_release_orange/robotic_no_release_orange_1031.jpg',),\n",
       " tensor([1]))"
      ]
     },
     "execution_count": 21,
     "metadata": {},
     "output_type": "execute_result"
    },
    {
     "data": {
      "text/plain": [
       "(('/home/tzortzis/Data/IRI-CATs-light/real_data/long_tasks/cropped_robotic/test/orange/no_release_orange/robotic_no_release_orange_1032.jpg',),\n",
       " tensor([1]))"
      ]
     },
     "execution_count": 21,
     "metadata": {},
     "output_type": "execute_result"
    },
    {
     "data": {
      "text/plain": [
       "(('/home/tzortzis/Data/IRI-CATs-light/real_data/long_tasks/cropped_robotic/test/orange/no_release_orange/robotic_no_release_orange_1033.jpg',),\n",
       " tensor([1]))"
      ]
     },
     "execution_count": 21,
     "metadata": {},
     "output_type": "execute_result"
    },
    {
     "data": {
      "text/plain": [
       "(('/home/tzortzis/Data/IRI-CATs-light/real_data/long_tasks/cropped_robotic/test/orange/no_release_orange/robotic_no_release_orange_1034.jpg',),\n",
       " tensor([1]))"
      ]
     },
     "execution_count": 21,
     "metadata": {},
     "output_type": "execute_result"
    },
    {
     "data": {
      "text/plain": [
       "(('/home/tzortzis/Data/IRI-CATs-light/real_data/long_tasks/cropped_robotic/test/orange/no_release_orange/robotic_no_release_orange_1035.jpg',),\n",
       " tensor([1]))"
      ]
     },
     "execution_count": 21,
     "metadata": {},
     "output_type": "execute_result"
    },
    {
     "data": {
      "text/plain": [
       "(('/home/tzortzis/Data/IRI-CATs-light/real_data/long_tasks/cropped_robotic/test/orange/no_release_orange/robotic_no_release_orange_1036.jpg',),\n",
       " tensor([1]))"
      ]
     },
     "execution_count": 21,
     "metadata": {},
     "output_type": "execute_result"
    },
    {
     "data": {
      "text/plain": [
       "(('/home/tzortzis/Data/IRI-CATs-light/real_data/long_tasks/cropped_robotic/test/orange/no_release_orange/robotic_no_release_orange_1037.jpg',),\n",
       " tensor([1]))"
      ]
     },
     "execution_count": 21,
     "metadata": {},
     "output_type": "execute_result"
    },
    {
     "data": {
      "text/plain": [
       "(('/home/tzortzis/Data/IRI-CATs-light/real_data/long_tasks/cropped_robotic/test/orange/no_release_orange/robotic_no_release_orange_1038.jpg',),\n",
       " tensor([1]))"
      ]
     },
     "execution_count": 21,
     "metadata": {},
     "output_type": "execute_result"
    },
    {
     "data": {
      "text/plain": [
       "(('/home/tzortzis/Data/IRI-CATs-light/real_data/long_tasks/cropped_robotic/test/orange/no_release_orange/robotic_no_release_orange_1039.jpg',),\n",
       " tensor([1]))"
      ]
     },
     "execution_count": 21,
     "metadata": {},
     "output_type": "execute_result"
    },
    {
     "data": {
      "text/plain": [
       "(('/home/tzortzis/Data/IRI-CATs-light/real_data/long_tasks/cropped_robotic/test/orange/no_release_orange/robotic_no_release_orange_1040.jpg',),\n",
       " tensor([1]))"
      ]
     },
     "execution_count": 21,
     "metadata": {},
     "output_type": "execute_result"
    },
    {
     "data": {
      "text/plain": [
       "(('/home/tzortzis/Data/IRI-CATs-light/real_data/long_tasks/cropped_robotic/test/orange/no_release_orange/robotic_no_release_orange_1041.jpg',),\n",
       " tensor([1]))"
      ]
     },
     "execution_count": 21,
     "metadata": {},
     "output_type": "execute_result"
    },
    {
     "data": {
      "text/plain": [
       "(('/home/tzortzis/Data/IRI-CATs-light/real_data/long_tasks/cropped_robotic/test/orange/no_release_orange/robotic_no_release_orange_1042.jpg',),\n",
       " tensor([1]))"
      ]
     },
     "execution_count": 21,
     "metadata": {},
     "output_type": "execute_result"
    },
    {
     "data": {
      "text/plain": [
       "(('/home/tzortzis/Data/IRI-CATs-light/real_data/long_tasks/cropped_robotic/test/orange/no_release_orange/robotic_no_release_orange_1043.jpg',),\n",
       " tensor([1]))"
      ]
     },
     "execution_count": 21,
     "metadata": {},
     "output_type": "execute_result"
    },
    {
     "data": {
      "text/plain": [
       "(('/home/tzortzis/Data/IRI-CATs-light/real_data/long_tasks/cropped_robotic/test/orange/no_release_orange/robotic_no_release_orange_1044.jpg',),\n",
       " tensor([1]))"
      ]
     },
     "execution_count": 21,
     "metadata": {},
     "output_type": "execute_result"
    },
    {
     "data": {
      "text/plain": [
       "(('/home/tzortzis/Data/IRI-CATs-light/real_data/long_tasks/cropped_robotic/test/orange/no_release_orange/robotic_no_release_orange_1045.jpg',),\n",
       " tensor([1]))"
      ]
     },
     "execution_count": 21,
     "metadata": {},
     "output_type": "execute_result"
    },
    {
     "data": {
      "text/plain": [
       "(('/home/tzortzis/Data/IRI-CATs-light/real_data/long_tasks/cropped_robotic/test/orange/no_release_orange/robotic_no_release_orange_1046.jpg',),\n",
       " tensor([1]))"
      ]
     },
     "execution_count": 21,
     "metadata": {},
     "output_type": "execute_result"
    },
    {
     "data": {
      "text/plain": [
       "(('/home/tzortzis/Data/IRI-CATs-light/real_data/long_tasks/cropped_robotic/test/orange/no_release_orange/robotic_no_release_orange_1047.jpg',),\n",
       " tensor([1]))"
      ]
     },
     "execution_count": 21,
     "metadata": {},
     "output_type": "execute_result"
    },
    {
     "data": {
      "text/plain": [
       "(('/home/tzortzis/Data/IRI-CATs-light/real_data/long_tasks/cropped_robotic/test/orange/no_release_orange/robotic_no_release_orange_1048.jpg',),\n",
       " tensor([1]))"
      ]
     },
     "execution_count": 21,
     "metadata": {},
     "output_type": "execute_result"
    },
    {
     "data": {
      "text/plain": [
       "(('/home/tzortzis/Data/IRI-CATs-light/real_data/long_tasks/cropped_robotic/test/orange/no_release_orange/robotic_no_release_orange_1049.jpg',),\n",
       " tensor([1]))"
      ]
     },
     "execution_count": 21,
     "metadata": {},
     "output_type": "execute_result"
    },
    {
     "data": {
      "text/plain": [
       "(('/home/tzortzis/Data/IRI-CATs-light/real_data/long_tasks/cropped_robotic/test/orange/no_release_orange/robotic_no_release_orange_1050.jpg',),\n",
       " tensor([1]))"
      ]
     },
     "execution_count": 21,
     "metadata": {},
     "output_type": "execute_result"
    },
    {
     "data": {
      "text/plain": [
       "(('/home/tzortzis/Data/IRI-CATs-light/real_data/long_tasks/cropped_robotic/test/orange/no_release_orange/robotic_no_release_orange_1051.jpg',),\n",
       " tensor([1]))"
      ]
     },
     "execution_count": 21,
     "metadata": {},
     "output_type": "execute_result"
    },
    {
     "data": {
      "text/plain": [
       "(('/home/tzortzis/Data/IRI-CATs-light/real_data/long_tasks/cropped_robotic/test/orange/no_release_orange/robotic_no_release_orange_1052.jpg',),\n",
       " tensor([1]))"
      ]
     },
     "execution_count": 21,
     "metadata": {},
     "output_type": "execute_result"
    },
    {
     "data": {
      "text/plain": [
       "(('/home/tzortzis/Data/IRI-CATs-light/real_data/long_tasks/cropped_robotic/test/orange/no_release_orange/robotic_no_release_orange_1053.jpg',),\n",
       " tensor([1]))"
      ]
     },
     "execution_count": 21,
     "metadata": {},
     "output_type": "execute_result"
    },
    {
     "data": {
      "text/plain": [
       "(('/home/tzortzis/Data/IRI-CATs-light/real_data/long_tasks/cropped_robotic/test/orange/no_release_orange/robotic_no_release_orange_1054.jpg',),\n",
       " tensor([1]))"
      ]
     },
     "execution_count": 21,
     "metadata": {},
     "output_type": "execute_result"
    },
    {
     "data": {
      "text/plain": [
       "(('/home/tzortzis/Data/IRI-CATs-light/real_data/long_tasks/cropped_robotic/test/orange/no_release_orange/robotic_no_release_orange_1055.jpg',),\n",
       " tensor([1]))"
      ]
     },
     "execution_count": 21,
     "metadata": {},
     "output_type": "execute_result"
    },
    {
     "data": {
      "text/plain": [
       "(('/home/tzortzis/Data/IRI-CATs-light/real_data/long_tasks/cropped_robotic/test/orange/no_release_orange/robotic_no_release_orange_1056.jpg',),\n",
       " tensor([1]))"
      ]
     },
     "execution_count": 21,
     "metadata": {},
     "output_type": "execute_result"
    },
    {
     "data": {
      "text/plain": [
       "(('/home/tzortzis/Data/IRI-CATs-light/real_data/long_tasks/cropped_robotic/test/orange/no_release_orange/robotic_no_release_orange_1057.jpg',),\n",
       " tensor([1]))"
      ]
     },
     "execution_count": 21,
     "metadata": {},
     "output_type": "execute_result"
    },
    {
     "data": {
      "text/plain": [
       "(('/home/tzortzis/Data/IRI-CATs-light/real_data/long_tasks/cropped_robotic/test/orange/no_release_orange/robotic_no_release_orange_1058.jpg',),\n",
       " tensor([1]))"
      ]
     },
     "execution_count": 21,
     "metadata": {},
     "output_type": "execute_result"
    },
    {
     "data": {
      "text/plain": [
       "(('/home/tzortzis/Data/IRI-CATs-light/real_data/long_tasks/cropped_robotic/test/orange/no_release_orange/robotic_no_release_orange_1059.jpg',),\n",
       " tensor([1]))"
      ]
     },
     "execution_count": 21,
     "metadata": {},
     "output_type": "execute_result"
    },
    {
     "data": {
      "text/plain": [
       "(('/home/tzortzis/Data/IRI-CATs-light/real_data/long_tasks/cropped_robotic/test/orange/no_release_orange/robotic_no_release_orange_1060.jpg',),\n",
       " tensor([1]))"
      ]
     },
     "execution_count": 21,
     "metadata": {},
     "output_type": "execute_result"
    },
    {
     "data": {
      "text/plain": [
       "(('/home/tzortzis/Data/IRI-CATs-light/real_data/long_tasks/cropped_robotic/test/orange/no_release_orange/robotic_no_release_orange_1061.jpg',),\n",
       " tensor([1]))"
      ]
     },
     "execution_count": 21,
     "metadata": {},
     "output_type": "execute_result"
    },
    {
     "data": {
      "text/plain": [
       "(('/home/tzortzis/Data/IRI-CATs-light/real_data/long_tasks/cropped_robotic/test/orange/no_release_orange/robotic_no_release_orange_1062.jpg',),\n",
       " tensor([1]))"
      ]
     },
     "execution_count": 21,
     "metadata": {},
     "output_type": "execute_result"
    },
    {
     "data": {
      "text/plain": [
       "(('/home/tzortzis/Data/IRI-CATs-light/real_data/long_tasks/cropped_robotic/test/orange/no_release_orange/robotic_no_release_orange_1063.jpg',),\n",
       " tensor([1]))"
      ]
     },
     "execution_count": 21,
     "metadata": {},
     "output_type": "execute_result"
    },
    {
     "data": {
      "text/plain": [
       "(('/home/tzortzis/Data/IRI-CATs-light/real_data/long_tasks/cropped_robotic/test/orange/no_release_orange/robotic_no_release_orange_1064.jpg',),\n",
       " tensor([1]))"
      ]
     },
     "execution_count": 21,
     "metadata": {},
     "output_type": "execute_result"
    },
    {
     "data": {
      "text/plain": [
       "(('/home/tzortzis/Data/IRI-CATs-light/real_data/long_tasks/cropped_robotic/test/orange/no_release_orange/robotic_no_release_orange_1065.jpg',),\n",
       " tensor([1]))"
      ]
     },
     "execution_count": 21,
     "metadata": {},
     "output_type": "execute_result"
    },
    {
     "data": {
      "text/plain": [
       "(('/home/tzortzis/Data/IRI-CATs-light/real_data/long_tasks/cropped_robotic/test/orange/no_release_orange/robotic_no_release_orange_1066.jpg',),\n",
       " tensor([1]))"
      ]
     },
     "execution_count": 21,
     "metadata": {},
     "output_type": "execute_result"
    },
    {
     "data": {
      "text/plain": [
       "(('/home/tzortzis/Data/IRI-CATs-light/real_data/long_tasks/cropped_robotic/test/orange/no_release_orange/robotic_no_release_orange_1067.jpg',),\n",
       " tensor([1]))"
      ]
     },
     "execution_count": 21,
     "metadata": {},
     "output_type": "execute_result"
    },
    {
     "data": {
      "text/plain": [
       "(('/home/tzortzis/Data/IRI-CATs-light/real_data/long_tasks/cropped_robotic/test/orange/no_release_orange/robotic_no_release_orange_1068.jpg',),\n",
       " tensor([1]))"
      ]
     },
     "execution_count": 21,
     "metadata": {},
     "output_type": "execute_result"
    },
    {
     "data": {
      "text/plain": [
       "(('/home/tzortzis/Data/IRI-CATs-light/real_data/long_tasks/cropped_robotic/test/orange/no_release_orange/robotic_no_release_orange_1069.jpg',),\n",
       " tensor([1]))"
      ]
     },
     "execution_count": 21,
     "metadata": {},
     "output_type": "execute_result"
    },
    {
     "data": {
      "text/plain": [
       "(('/home/tzortzis/Data/IRI-CATs-light/real_data/long_tasks/cropped_robotic/test/orange/no_release_orange/robotic_no_release_orange_1070.jpg',),\n",
       " tensor([1]))"
      ]
     },
     "execution_count": 21,
     "metadata": {},
     "output_type": "execute_result"
    },
    {
     "data": {
      "text/plain": [
       "(('/home/tzortzis/Data/IRI-CATs-light/real_data/long_tasks/cropped_robotic/test/orange/no_release_orange/robotic_no_release_orange_1071.jpg',),\n",
       " tensor([1]))"
      ]
     },
     "execution_count": 21,
     "metadata": {},
     "output_type": "execute_result"
    },
    {
     "data": {
      "text/plain": [
       "(('/home/tzortzis/Data/IRI-CATs-light/real_data/long_tasks/cropped_robotic/test/orange/no_release_orange/robotic_no_release_orange_1072.jpg',),\n",
       " tensor([1]))"
      ]
     },
     "execution_count": 21,
     "metadata": {},
     "output_type": "execute_result"
    },
    {
     "data": {
      "text/plain": [
       "(('/home/tzortzis/Data/IRI-CATs-light/real_data/long_tasks/cropped_robotic/test/orange/no_release_orange/robotic_no_release_orange_1073.jpg',),\n",
       " tensor([1]))"
      ]
     },
     "execution_count": 21,
     "metadata": {},
     "output_type": "execute_result"
    },
    {
     "data": {
      "text/plain": [
       "(('/home/tzortzis/Data/IRI-CATs-light/real_data/long_tasks/cropped_robotic/test/orange/no_release_orange/robotic_no_release_orange_1074.jpg',),\n",
       " tensor([1]))"
      ]
     },
     "execution_count": 21,
     "metadata": {},
     "output_type": "execute_result"
    },
    {
     "data": {
      "text/plain": [
       "(('/home/tzortzis/Data/IRI-CATs-light/real_data/long_tasks/cropped_robotic/test/orange/no_release_orange/robotic_no_release_orange_1075.jpg',),\n",
       " tensor([1]))"
      ]
     },
     "execution_count": 21,
     "metadata": {},
     "output_type": "execute_result"
    },
    {
     "data": {
      "text/plain": [
       "(('/home/tzortzis/Data/IRI-CATs-light/real_data/long_tasks/cropped_robotic/test/orange/no_release_orange/robotic_no_release_orange_1076.jpg',),\n",
       " tensor([1]))"
      ]
     },
     "execution_count": 21,
     "metadata": {},
     "output_type": "execute_result"
    },
    {
     "data": {
      "text/plain": [
       "(('/home/tzortzis/Data/IRI-CATs-light/real_data/long_tasks/cropped_robotic/test/orange/no_release_orange/robotic_no_release_orange_1077.jpg',),\n",
       " tensor([1]))"
      ]
     },
     "execution_count": 21,
     "metadata": {},
     "output_type": "execute_result"
    },
    {
     "data": {
      "text/plain": [
       "(('/home/tzortzis/Data/IRI-CATs-light/real_data/long_tasks/cropped_robotic/test/orange/no_release_orange/robotic_no_release_orange_1078.jpg',),\n",
       " tensor([1]))"
      ]
     },
     "execution_count": 21,
     "metadata": {},
     "output_type": "execute_result"
    },
    {
     "data": {
      "text/plain": [
       "(('/home/tzortzis/Data/IRI-CATs-light/real_data/long_tasks/cropped_robotic/test/orange/no_release_orange/robotic_no_release_orange_1079.jpg',),\n",
       " tensor([1]))"
      ]
     },
     "execution_count": 21,
     "metadata": {},
     "output_type": "execute_result"
    },
    {
     "data": {
      "text/plain": [
       "(('/home/tzortzis/Data/IRI-CATs-light/real_data/long_tasks/cropped_robotic/test/orange/no_release_orange/robotic_no_release_orange_1080.jpg',),\n",
       " tensor([1]))"
      ]
     },
     "execution_count": 21,
     "metadata": {},
     "output_type": "execute_result"
    },
    {
     "data": {
      "text/plain": [
       "(('/home/tzortzis/Data/IRI-CATs-light/real_data/long_tasks/cropped_robotic/test/orange/no_release_orange/robotic_no_release_orange_1081.jpg',),\n",
       " tensor([1]))"
      ]
     },
     "execution_count": 21,
     "metadata": {},
     "output_type": "execute_result"
    },
    {
     "data": {
      "text/plain": [
       "(('/home/tzortzis/Data/IRI-CATs-light/real_data/long_tasks/cropped_robotic/test/orange/no_release_orange/robotic_no_release_orange_1082.jpg',),\n",
       " tensor([1]))"
      ]
     },
     "execution_count": 21,
     "metadata": {},
     "output_type": "execute_result"
    },
    {
     "data": {
      "text/plain": [
       "(('/home/tzortzis/Data/IRI-CATs-light/real_data/long_tasks/cropped_robotic/test/orange/no_release_orange/robotic_no_release_orange_1083.jpg',),\n",
       " tensor([1]))"
      ]
     },
     "execution_count": 21,
     "metadata": {},
     "output_type": "execute_result"
    },
    {
     "data": {
      "text/plain": [
       "(('/home/tzortzis/Data/IRI-CATs-light/real_data/long_tasks/cropped_robotic/test/orange/no_release_orange/robotic_no_release_orange_1084.jpg',),\n",
       " tensor([1]))"
      ]
     },
     "execution_count": 21,
     "metadata": {},
     "output_type": "execute_result"
    },
    {
     "data": {
      "text/plain": [
       "(('/home/tzortzis/Data/IRI-CATs-light/real_data/long_tasks/cropped_robotic/test/orange/no_release_orange/robotic_no_release_orange_1085.jpg',),\n",
       " tensor([1]))"
      ]
     },
     "execution_count": 21,
     "metadata": {},
     "output_type": "execute_result"
    },
    {
     "data": {
      "text/plain": [
       "(('/home/tzortzis/Data/IRI-CATs-light/real_data/long_tasks/cropped_robotic/test/orange/no_release_orange/robotic_no_release_orange_1086.jpg',),\n",
       " tensor([1]))"
      ]
     },
     "execution_count": 21,
     "metadata": {},
     "output_type": "execute_result"
    },
    {
     "data": {
      "text/plain": [
       "(('/home/tzortzis/Data/IRI-CATs-light/real_data/long_tasks/cropped_robotic/test/orange/no_release_orange/robotic_no_release_orange_1087.jpg',),\n",
       " tensor([1]))"
      ]
     },
     "execution_count": 21,
     "metadata": {},
     "output_type": "execute_result"
    },
    {
     "data": {
      "text/plain": [
       "(('/home/tzortzis/Data/IRI-CATs-light/real_data/long_tasks/cropped_robotic/test/orange/no_release_orange/robotic_no_release_orange_1088.jpg',),\n",
       " tensor([1]))"
      ]
     },
     "execution_count": 21,
     "metadata": {},
     "output_type": "execute_result"
    },
    {
     "data": {
      "text/plain": [
       "(('/home/tzortzis/Data/IRI-CATs-light/real_data/long_tasks/cropped_robotic/test/orange/no_release_orange/robotic_no_release_orange_1089.jpg',),\n",
       " tensor([2]))"
      ]
     },
     "execution_count": 21,
     "metadata": {},
     "output_type": "execute_result"
    },
    {
     "data": {
      "text/plain": [
       "(('/home/tzortzis/Data/IRI-CATs-light/real_data/long_tasks/cropped_robotic/test/orange/no_release_orange/robotic_no_release_orange_1090.jpg',),\n",
       " tensor([2]))"
      ]
     },
     "execution_count": 21,
     "metadata": {},
     "output_type": "execute_result"
    },
    {
     "data": {
      "text/plain": [
       "(('/home/tzortzis/Data/IRI-CATs-light/real_data/long_tasks/cropped_robotic/test/orange/no_release_orange/robotic_no_release_orange_1091.jpg',),\n",
       " tensor([2]))"
      ]
     },
     "execution_count": 21,
     "metadata": {},
     "output_type": "execute_result"
    },
    {
     "data": {
      "text/plain": [
       "(('/home/tzortzis/Data/IRI-CATs-light/real_data/long_tasks/cropped_robotic/test/orange/no_release_orange/robotic_no_release_orange_1092.jpg',),\n",
       " tensor([2]))"
      ]
     },
     "execution_count": 21,
     "metadata": {},
     "output_type": "execute_result"
    },
    {
     "data": {
      "text/plain": [
       "(('/home/tzortzis/Data/IRI-CATs-light/real_data/long_tasks/cropped_robotic/test/orange/no_release_orange/robotic_no_release_orange_1093.jpg',),\n",
       " tensor([2]))"
      ]
     },
     "execution_count": 21,
     "metadata": {},
     "output_type": "execute_result"
    },
    {
     "data": {
      "text/plain": [
       "(('/home/tzortzis/Data/IRI-CATs-light/real_data/long_tasks/cropped_robotic/test/orange/no_release_orange/robotic_no_release_orange_1094.jpg',),\n",
       " tensor([2]))"
      ]
     },
     "execution_count": 21,
     "metadata": {},
     "output_type": "execute_result"
    },
    {
     "data": {
      "text/plain": [
       "(('/home/tzortzis/Data/IRI-CATs-light/real_data/long_tasks/cropped_robotic/test/orange/no_release_orange/robotic_no_release_orange_1095.jpg',),\n",
       " tensor([2]))"
      ]
     },
     "execution_count": 21,
     "metadata": {},
     "output_type": "execute_result"
    },
    {
     "data": {
      "text/plain": [
       "(('/home/tzortzis/Data/IRI-CATs-light/real_data/long_tasks/cropped_robotic/test/orange/no_release_orange/robotic_no_release_orange_1096.jpg',),\n",
       " tensor([2]))"
      ]
     },
     "execution_count": 21,
     "metadata": {},
     "output_type": "execute_result"
    },
    {
     "data": {
      "text/plain": [
       "(('/home/tzortzis/Data/IRI-CATs-light/real_data/long_tasks/cropped_robotic/test/orange/no_release_orange/robotic_no_release_orange_1097.jpg',),\n",
       " tensor([2]))"
      ]
     },
     "execution_count": 21,
     "metadata": {},
     "output_type": "execute_result"
    },
    {
     "data": {
      "text/plain": [
       "(('/home/tzortzis/Data/IRI-CATs-light/real_data/long_tasks/cropped_robotic/test/orange/no_release_orange/robotic_no_release_orange_1098.jpg',),\n",
       " tensor([2]))"
      ]
     },
     "execution_count": 21,
     "metadata": {},
     "output_type": "execute_result"
    },
    {
     "data": {
      "text/plain": [
       "(('/home/tzortzis/Data/IRI-CATs-light/real_data/long_tasks/cropped_robotic/test/orange/no_release_orange/robotic_no_release_orange_1099.jpg',),\n",
       " tensor([2]))"
      ]
     },
     "execution_count": 21,
     "metadata": {},
     "output_type": "execute_result"
    },
    {
     "data": {
      "text/plain": [
       "(('/home/tzortzis/Data/IRI-CATs-light/real_data/long_tasks/cropped_robotic/test/orange/no_release_orange/robotic_no_release_orange_1100.jpg',),\n",
       " tensor([2]))"
      ]
     },
     "execution_count": 21,
     "metadata": {},
     "output_type": "execute_result"
    },
    {
     "data": {
      "text/plain": [
       "(('/home/tzortzis/Data/IRI-CATs-light/real_data/long_tasks/cropped_robotic/test/orange/no_release_orange/robotic_no_release_orange_1101.jpg',),\n",
       " tensor([2]))"
      ]
     },
     "execution_count": 21,
     "metadata": {},
     "output_type": "execute_result"
    },
    {
     "data": {
      "text/plain": [
       "(('/home/tzortzis/Data/IRI-CATs-light/real_data/long_tasks/cropped_robotic/test/orange/no_release_orange/robotic_no_release_orange_1102.jpg',),\n",
       " tensor([2]))"
      ]
     },
     "execution_count": 21,
     "metadata": {},
     "output_type": "execute_result"
    },
    {
     "data": {
      "text/plain": [
       "(('/home/tzortzis/Data/IRI-CATs-light/real_data/long_tasks/cropped_robotic/test/orange/no_release_orange/robotic_no_release_orange_1103.jpg',),\n",
       " tensor([2]))"
      ]
     },
     "execution_count": 21,
     "metadata": {},
     "output_type": "execute_result"
    },
    {
     "data": {
      "text/plain": [
       "(('/home/tzortzis/Data/IRI-CATs-light/real_data/long_tasks/cropped_robotic/test/orange/no_release_orange/robotic_no_release_orange_1104.jpg',),\n",
       " tensor([2]))"
      ]
     },
     "execution_count": 21,
     "metadata": {},
     "output_type": "execute_result"
    },
    {
     "data": {
      "text/plain": [
       "(('/home/tzortzis/Data/IRI-CATs-light/real_data/long_tasks/cropped_robotic/test/orange/no_release_orange/robotic_no_release_orange_1105.jpg',),\n",
       " tensor([2]))"
      ]
     },
     "execution_count": 21,
     "metadata": {},
     "output_type": "execute_result"
    },
    {
     "data": {
      "text/plain": [
       "(('/home/tzortzis/Data/IRI-CATs-light/real_data/long_tasks/cropped_robotic/test/orange/no_release_orange/robotic_no_release_orange_1106.jpg',),\n",
       " tensor([2]))"
      ]
     },
     "execution_count": 21,
     "metadata": {},
     "output_type": "execute_result"
    },
    {
     "data": {
      "text/plain": [
       "(('/home/tzortzis/Data/IRI-CATs-light/real_data/long_tasks/cropped_robotic/test/orange/no_release_orange/robotic_no_release_orange_1107.jpg',),\n",
       " tensor([2]))"
      ]
     },
     "execution_count": 21,
     "metadata": {},
     "output_type": "execute_result"
    },
    {
     "data": {
      "text/plain": [
       "(('/home/tzortzis/Data/IRI-CATs-light/real_data/long_tasks/cropped_robotic/test/orange/no_release_orange/robotic_no_release_orange_1108.jpg',),\n",
       " tensor([2]))"
      ]
     },
     "execution_count": 21,
     "metadata": {},
     "output_type": "execute_result"
    },
    {
     "data": {
      "text/plain": [
       "(('/home/tzortzis/Data/IRI-CATs-light/real_data/long_tasks/cropped_robotic/test/orange/no_release_orange/robotic_no_release_orange_1109.jpg',),\n",
       " tensor([2]))"
      ]
     },
     "execution_count": 21,
     "metadata": {},
     "output_type": "execute_result"
    },
    {
     "data": {
      "text/plain": [
       "(('/home/tzortzis/Data/IRI-CATs-light/real_data/long_tasks/cropped_robotic/test/orange/no_release_orange/robotic_no_release_orange_1110.jpg',),\n",
       " tensor([2]))"
      ]
     },
     "execution_count": 21,
     "metadata": {},
     "output_type": "execute_result"
    },
    {
     "data": {
      "text/plain": [
       "(('/home/tzortzis/Data/IRI-CATs-light/real_data/long_tasks/cropped_robotic/test/orange/no_release_orange/robotic_no_release_orange_1111.jpg',),\n",
       " tensor([2]))"
      ]
     },
     "execution_count": 21,
     "metadata": {},
     "output_type": "execute_result"
    },
    {
     "data": {
      "text/plain": [
       "(('/home/tzortzis/Data/IRI-CATs-light/real_data/long_tasks/cropped_robotic/test/orange/no_release_orange/robotic_no_release_orange_1112.jpg',),\n",
       " tensor([2]))"
      ]
     },
     "execution_count": 21,
     "metadata": {},
     "output_type": "execute_result"
    },
    {
     "data": {
      "text/plain": [
       "(('/home/tzortzis/Data/IRI-CATs-light/real_data/long_tasks/cropped_robotic/test/orange/no_release_orange/robotic_no_release_orange_1113.jpg',),\n",
       " tensor([2]))"
      ]
     },
     "execution_count": 21,
     "metadata": {},
     "output_type": "execute_result"
    },
    {
     "data": {
      "text/plain": [
       "(('/home/tzortzis/Data/IRI-CATs-light/real_data/long_tasks/cropped_robotic/test/orange/no_release_orange/robotic_no_release_orange_1114.jpg',),\n",
       " tensor([2]))"
      ]
     },
     "execution_count": 21,
     "metadata": {},
     "output_type": "execute_result"
    },
    {
     "data": {
      "text/plain": [
       "(('/home/tzortzis/Data/IRI-CATs-light/real_data/long_tasks/cropped_robotic/test/orange/no_release_orange/robotic_no_release_orange_1115.jpg',),\n",
       " tensor([2]))"
      ]
     },
     "execution_count": 21,
     "metadata": {},
     "output_type": "execute_result"
    },
    {
     "data": {
      "text/plain": [
       "(('/home/tzortzis/Data/IRI-CATs-light/real_data/long_tasks/cropped_robotic/test/orange/no_release_orange/robotic_no_release_orange_1116.jpg',),\n",
       " tensor([2]))"
      ]
     },
     "execution_count": 21,
     "metadata": {},
     "output_type": "execute_result"
    },
    {
     "data": {
      "text/plain": [
       "(('/home/tzortzis/Data/IRI-CATs-light/real_data/long_tasks/cropped_robotic/test/orange/no_release_orange/robotic_no_release_orange_1117.jpg',),\n",
       " tensor([2]))"
      ]
     },
     "execution_count": 21,
     "metadata": {},
     "output_type": "execute_result"
    },
    {
     "data": {
      "text/plain": [
       "(('/home/tzortzis/Data/IRI-CATs-light/real_data/long_tasks/cropped_robotic/test/orange/no_release_orange/robotic_no_release_orange_1118.jpg',),\n",
       " tensor([2]))"
      ]
     },
     "execution_count": 21,
     "metadata": {},
     "output_type": "execute_result"
    },
    {
     "data": {
      "text/plain": [
       "(('/home/tzortzis/Data/IRI-CATs-light/real_data/long_tasks/cropped_robotic/test/orange/no_release_orange/robotic_no_release_orange_1119.jpg',),\n",
       " tensor([2]))"
      ]
     },
     "execution_count": 21,
     "metadata": {},
     "output_type": "execute_result"
    },
    {
     "data": {
      "text/plain": [
       "(('/home/tzortzis/Data/IRI-CATs-light/real_data/long_tasks/cropped_robotic/test/orange/no_release_orange/robotic_no_release_orange_1120.jpg',),\n",
       " tensor([2]))"
      ]
     },
     "execution_count": 21,
     "metadata": {},
     "output_type": "execute_result"
    },
    {
     "data": {
      "text/plain": [
       "(('/home/tzortzis/Data/IRI-CATs-light/real_data/long_tasks/cropped_robotic/test/orange/no_release_orange/robotic_no_release_orange_1121.jpg',),\n",
       " tensor([2]))"
      ]
     },
     "execution_count": 21,
     "metadata": {},
     "output_type": "execute_result"
    },
    {
     "data": {
      "text/plain": [
       "(('/home/tzortzis/Data/IRI-CATs-light/real_data/long_tasks/cropped_robotic/test/orange/no_release_orange/robotic_no_release_orange_1122.jpg',),\n",
       " tensor([2]))"
      ]
     },
     "execution_count": 21,
     "metadata": {},
     "output_type": "execute_result"
    },
    {
     "data": {
      "text/plain": [
       "(('/home/tzortzis/Data/IRI-CATs-light/real_data/long_tasks/cropped_robotic/test/orange/no_release_orange/robotic_no_release_orange_1123.jpg',),\n",
       " tensor([2]))"
      ]
     },
     "execution_count": 21,
     "metadata": {},
     "output_type": "execute_result"
    },
    {
     "data": {
      "text/plain": [
       "(('/home/tzortzis/Data/IRI-CATs-light/real_data/long_tasks/cropped_robotic/test/orange/no_release_orange/robotic_no_release_orange_1124.jpg',),\n",
       " tensor([2]))"
      ]
     },
     "execution_count": 21,
     "metadata": {},
     "output_type": "execute_result"
    },
    {
     "data": {
      "text/plain": [
       "(('/home/tzortzis/Data/IRI-CATs-light/real_data/long_tasks/cropped_robotic/test/orange/no_release_orange/robotic_no_release_orange_1125.jpg',),\n",
       " tensor([2]))"
      ]
     },
     "execution_count": 21,
     "metadata": {},
     "output_type": "execute_result"
    },
    {
     "data": {
      "text/plain": [
       "(('/home/tzortzis/Data/IRI-CATs-light/real_data/long_tasks/cropped_robotic/test/orange/no_release_orange/robotic_no_release_orange_1126.jpg',),\n",
       " tensor([2]))"
      ]
     },
     "execution_count": 21,
     "metadata": {},
     "output_type": "execute_result"
    },
    {
     "data": {
      "text/plain": [
       "(('/home/tzortzis/Data/IRI-CATs-light/real_data/long_tasks/cropped_robotic/test/orange/no_release_orange/robotic_no_release_orange_1127.jpg',),\n",
       " tensor([2]))"
      ]
     },
     "execution_count": 21,
     "metadata": {},
     "output_type": "execute_result"
    },
    {
     "data": {
      "text/plain": [
       "(('/home/tzortzis/Data/IRI-CATs-light/real_data/long_tasks/cropped_robotic/test/orange/no_release_orange/robotic_no_release_orange_1128.jpg',),\n",
       " tensor([2]))"
      ]
     },
     "execution_count": 21,
     "metadata": {},
     "output_type": "execute_result"
    },
    {
     "data": {
      "text/plain": [
       "(('/home/tzortzis/Data/IRI-CATs-light/real_data/long_tasks/cropped_robotic/test/orange/no_release_orange/robotic_no_release_orange_1129.jpg',),\n",
       " tensor([2]))"
      ]
     },
     "execution_count": 21,
     "metadata": {},
     "output_type": "execute_result"
    },
    {
     "data": {
      "text/plain": [
       "(('/home/tzortzis/Data/IRI-CATs-light/real_data/long_tasks/cropped_robotic/test/orange/no_release_orange/robotic_no_release_orange_1130.jpg',),\n",
       " tensor([2]))"
      ]
     },
     "execution_count": 21,
     "metadata": {},
     "output_type": "execute_result"
    },
    {
     "data": {
      "text/plain": [
       "(('/home/tzortzis/Data/IRI-CATs-light/real_data/long_tasks/cropped_robotic/test/orange/no_release_orange/robotic_no_release_orange_1131.jpg',),\n",
       " tensor([2]))"
      ]
     },
     "execution_count": 21,
     "metadata": {},
     "output_type": "execute_result"
    },
    {
     "data": {
      "text/plain": [
       "(('/home/tzortzis/Data/IRI-CATs-light/real_data/long_tasks/cropped_robotic/test/orange/no_release_orange/robotic_no_release_orange_1132.jpg',),\n",
       " tensor([2]))"
      ]
     },
     "execution_count": 21,
     "metadata": {},
     "output_type": "execute_result"
    },
    {
     "data": {
      "text/plain": [
       "(('/home/tzortzis/Data/IRI-CATs-light/real_data/long_tasks/cropped_robotic/test/orange/no_release_orange/robotic_no_release_orange_1133.jpg',),\n",
       " tensor([2]))"
      ]
     },
     "execution_count": 21,
     "metadata": {},
     "output_type": "execute_result"
    },
    {
     "data": {
      "text/plain": [
       "(('/home/tzortzis/Data/IRI-CATs-light/real_data/long_tasks/cropped_robotic/test/orange/no_release_orange/robotic_no_release_orange_1134.jpg',),\n",
       " tensor([2]))"
      ]
     },
     "execution_count": 21,
     "metadata": {},
     "output_type": "execute_result"
    },
    {
     "data": {
      "text/plain": [
       "(('/home/tzortzis/Data/IRI-CATs-light/real_data/long_tasks/cropped_robotic/test/orange/no_release_orange/robotic_no_release_orange_1135.jpg',),\n",
       " tensor([2]))"
      ]
     },
     "execution_count": 21,
     "metadata": {},
     "output_type": "execute_result"
    },
    {
     "data": {
      "text/plain": [
       "(('/home/tzortzis/Data/IRI-CATs-light/real_data/long_tasks/cropped_robotic/test/orange/no_release_orange/robotic_no_release_orange_1136.jpg',),\n",
       " tensor([2]))"
      ]
     },
     "execution_count": 21,
     "metadata": {},
     "output_type": "execute_result"
    },
    {
     "data": {
      "text/plain": [
       "(('/home/tzortzis/Data/IRI-CATs-light/real_data/long_tasks/cropped_robotic/test/orange/no_release_orange/robotic_no_release_orange_1137.jpg',),\n",
       " tensor([2]))"
      ]
     },
     "execution_count": 21,
     "metadata": {},
     "output_type": "execute_result"
    },
    {
     "data": {
      "text/plain": [
       "(('/home/tzortzis/Data/IRI-CATs-light/real_data/long_tasks/cropped_robotic/test/orange/no_release_orange/robotic_no_release_orange_1138.jpg',),\n",
       " tensor([2]))"
      ]
     },
     "execution_count": 21,
     "metadata": {},
     "output_type": "execute_result"
    },
    {
     "data": {
      "text/plain": [
       "(('/home/tzortzis/Data/IRI-CATs-light/real_data/long_tasks/cropped_robotic/test/orange/no_release_orange/robotic_no_release_orange_1139.jpg',),\n",
       " tensor([2]))"
      ]
     },
     "execution_count": 21,
     "metadata": {},
     "output_type": "execute_result"
    },
    {
     "data": {
      "text/plain": [
       "(('/home/tzortzis/Data/IRI-CATs-light/real_data/long_tasks/cropped_robotic/test/orange/no_release_orange/robotic_no_release_orange_1140.jpg',),\n",
       " tensor([2]))"
      ]
     },
     "execution_count": 21,
     "metadata": {},
     "output_type": "execute_result"
    },
    {
     "data": {
      "text/plain": [
       "(('/home/tzortzis/Data/IRI-CATs-light/real_data/long_tasks/cropped_robotic/test/orange/no_release_orange/robotic_no_release_orange_1141.jpg',),\n",
       " tensor([2]))"
      ]
     },
     "execution_count": 21,
     "metadata": {},
     "output_type": "execute_result"
    },
    {
     "data": {
      "text/plain": [
       "(('/home/tzortzis/Data/IRI-CATs-light/real_data/long_tasks/cropped_robotic/test/orange/no_release_orange/robotic_no_release_orange_1142.jpg',),\n",
       " tensor([2]))"
      ]
     },
     "execution_count": 21,
     "metadata": {},
     "output_type": "execute_result"
    },
    {
     "data": {
      "text/plain": [
       "(('/home/tzortzis/Data/IRI-CATs-light/real_data/long_tasks/cropped_robotic/test/orange/no_release_orange/robotic_no_release_orange_1143.jpg',),\n",
       " tensor([2]))"
      ]
     },
     "execution_count": 21,
     "metadata": {},
     "output_type": "execute_result"
    },
    {
     "data": {
      "text/plain": [
       "(('/home/tzortzis/Data/IRI-CATs-light/real_data/long_tasks/cropped_robotic/test/orange/no_release_orange/robotic_no_release_orange_1144.jpg',),\n",
       " tensor([2]))"
      ]
     },
     "execution_count": 21,
     "metadata": {},
     "output_type": "execute_result"
    },
    {
     "data": {
      "text/plain": [
       "(('/home/tzortzis/Data/IRI-CATs-light/real_data/long_tasks/cropped_robotic/test/orange/no_release_orange/robotic_no_release_orange_1145.jpg',),\n",
       " tensor([2]))"
      ]
     },
     "execution_count": 21,
     "metadata": {},
     "output_type": "execute_result"
    },
    {
     "data": {
      "text/plain": [
       "(('/home/tzortzis/Data/IRI-CATs-light/real_data/long_tasks/cropped_robotic/test/orange/no_release_orange/robotic_no_release_orange_1146.jpg',),\n",
       " tensor([2]))"
      ]
     },
     "execution_count": 21,
     "metadata": {},
     "output_type": "execute_result"
    },
    {
     "data": {
      "text/plain": [
       "(('/home/tzortzis/Data/IRI-CATs-light/real_data/long_tasks/cropped_robotic/test/orange/no_release_orange/robotic_no_release_orange_1147.jpg',),\n",
       " tensor([2]))"
      ]
     },
     "execution_count": 21,
     "metadata": {},
     "output_type": "execute_result"
    },
    {
     "data": {
      "text/plain": [
       "(('/home/tzortzis/Data/IRI-CATs-light/real_data/long_tasks/cropped_robotic/test/orange/no_release_orange/robotic_no_release_orange_1148.jpg',),\n",
       " tensor([2]))"
      ]
     },
     "execution_count": 21,
     "metadata": {},
     "output_type": "execute_result"
    },
    {
     "data": {
      "text/plain": [
       "(('/home/tzortzis/Data/IRI-CATs-light/real_data/long_tasks/cropped_robotic/test/orange/no_release_orange/robotic_no_release_orange_1149.jpg',),\n",
       " tensor([2]))"
      ]
     },
     "execution_count": 21,
     "metadata": {},
     "output_type": "execute_result"
    },
    {
     "data": {
      "text/plain": [
       "(('/home/tzortzis/Data/IRI-CATs-light/real_data/long_tasks/cropped_robotic/test/orange/no_release_orange/robotic_no_release_orange_1150.jpg',),\n",
       " tensor([2]))"
      ]
     },
     "execution_count": 21,
     "metadata": {},
     "output_type": "execute_result"
    },
    {
     "data": {
      "text/plain": [
       "(('/home/tzortzis/Data/IRI-CATs-light/real_data/long_tasks/cropped_robotic/test/orange/no_release_orange/robotic_no_release_orange_1151.jpg',),\n",
       " tensor([2]))"
      ]
     },
     "execution_count": 21,
     "metadata": {},
     "output_type": "execute_result"
    },
    {
     "data": {
      "text/plain": [
       "(('/home/tzortzis/Data/IRI-CATs-light/real_data/long_tasks/cropped_robotic/test/orange/no_release_orange/robotic_no_release_orange_1152.jpg',),\n",
       " tensor([2]))"
      ]
     },
     "execution_count": 21,
     "metadata": {},
     "output_type": "execute_result"
    },
    {
     "data": {
      "text/plain": [
       "(('/home/tzortzis/Data/IRI-CATs-light/real_data/long_tasks/cropped_robotic/test/orange/no_release_orange/robotic_no_release_orange_1153.jpg',),\n",
       " tensor([2]))"
      ]
     },
     "execution_count": 21,
     "metadata": {},
     "output_type": "execute_result"
    },
    {
     "data": {
      "text/plain": [
       "(('/home/tzortzis/Data/IRI-CATs-light/real_data/long_tasks/cropped_robotic/test/orange/no_release_orange/robotic_no_release_orange_1154.jpg',),\n",
       " tensor([2]))"
      ]
     },
     "execution_count": 21,
     "metadata": {},
     "output_type": "execute_result"
    },
    {
     "data": {
      "text/plain": [
       "(('/home/tzortzis/Data/IRI-CATs-light/real_data/long_tasks/cropped_robotic/test/orange/no_release_orange/robotic_no_release_orange_1155.jpg',),\n",
       " tensor([2]))"
      ]
     },
     "execution_count": 21,
     "metadata": {},
     "output_type": "execute_result"
    },
    {
     "data": {
      "text/plain": [
       "(('/home/tzortzis/Data/IRI-CATs-light/real_data/long_tasks/cropped_robotic/test/orange/no_release_orange/robotic_no_release_orange_1156.jpg',),\n",
       " tensor([2]))"
      ]
     },
     "execution_count": 21,
     "metadata": {},
     "output_type": "execute_result"
    },
    {
     "data": {
      "text/plain": [
       "(('/home/tzortzis/Data/IRI-CATs-light/real_data/long_tasks/cropped_robotic/test/orange/no_release_orange/robotic_no_release_orange_1157.jpg',),\n",
       " tensor([2]))"
      ]
     },
     "execution_count": 21,
     "metadata": {},
     "output_type": "execute_result"
    },
    {
     "data": {
      "text/plain": [
       "(('/home/tzortzis/Data/IRI-CATs-light/real_data/long_tasks/cropped_robotic/test/orange/no_release_orange/robotic_no_release_orange_1158.jpg',),\n",
       " tensor([2]))"
      ]
     },
     "execution_count": 21,
     "metadata": {},
     "output_type": "execute_result"
    },
    {
     "data": {
      "text/plain": [
       "(('/home/tzortzis/Data/IRI-CATs-light/real_data/long_tasks/cropped_robotic/test/orange/no_release_orange/robotic_no_release_orange_1159.jpg',),\n",
       " tensor([2]))"
      ]
     },
     "execution_count": 21,
     "metadata": {},
     "output_type": "execute_result"
    },
    {
     "data": {
      "text/plain": [
       "(('/home/tzortzis/Data/IRI-CATs-light/real_data/long_tasks/cropped_robotic/test/orange/no_release_orange/robotic_no_release_orange_1160.jpg',),\n",
       " tensor([2]))"
      ]
     },
     "execution_count": 21,
     "metadata": {},
     "output_type": "execute_result"
    },
    {
     "data": {
      "text/plain": [
       "(('/home/tzortzis/Data/IRI-CATs-light/real_data/long_tasks/cropped_robotic/test/orange/no_release_orange/robotic_no_release_orange_1161.jpg',),\n",
       " tensor([2]))"
      ]
     },
     "execution_count": 21,
     "metadata": {},
     "output_type": "execute_result"
    },
    {
     "data": {
      "text/plain": [
       "(('/home/tzortzis/Data/IRI-CATs-light/real_data/long_tasks/cropped_robotic/test/orange/no_release_orange/robotic_no_release_orange_1162.jpg',),\n",
       " tensor([2]))"
      ]
     },
     "execution_count": 21,
     "metadata": {},
     "output_type": "execute_result"
    },
    {
     "data": {
      "text/plain": [
       "(('/home/tzortzis/Data/IRI-CATs-light/real_data/long_tasks/cropped_robotic/test/orange/no_release_orange/robotic_no_release_orange_1163.jpg',),\n",
       " tensor([2]))"
      ]
     },
     "execution_count": 21,
     "metadata": {},
     "output_type": "execute_result"
    },
    {
     "data": {
      "text/plain": [
       "(('/home/tzortzis/Data/IRI-CATs-light/real_data/long_tasks/cropped_robotic/test/orange/no_release_orange/robotic_no_release_orange_1164.jpg',),\n",
       " tensor([2]))"
      ]
     },
     "execution_count": 21,
     "metadata": {},
     "output_type": "execute_result"
    },
    {
     "data": {
      "text/plain": [
       "(('/home/tzortzis/Data/IRI-CATs-light/real_data/long_tasks/cropped_robotic/test/orange/no_release_orange/robotic_no_release_orange_1165.jpg',),\n",
       " tensor([2]))"
      ]
     },
     "execution_count": 21,
     "metadata": {},
     "output_type": "execute_result"
    },
    {
     "data": {
      "text/plain": [
       "(('/home/tzortzis/Data/IRI-CATs-light/real_data/long_tasks/cropped_robotic/test/orange/no_release_orange/robotic_no_release_orange_1166.jpg',),\n",
       " tensor([2]))"
      ]
     },
     "execution_count": 21,
     "metadata": {},
     "output_type": "execute_result"
    },
    {
     "data": {
      "text/plain": [
       "(('/home/tzortzis/Data/IRI-CATs-light/real_data/long_tasks/cropped_robotic/test/orange/no_release_orange/robotic_no_release_orange_1167.jpg',),\n",
       " tensor([2]))"
      ]
     },
     "execution_count": 21,
     "metadata": {},
     "output_type": "execute_result"
    },
    {
     "data": {
      "text/plain": [
       "(('/home/tzortzis/Data/IRI-CATs-light/real_data/long_tasks/cropped_robotic/test/orange/no_release_orange/robotic_no_release_orange_1168.jpg',),\n",
       " tensor([2]))"
      ]
     },
     "execution_count": 21,
     "metadata": {},
     "output_type": "execute_result"
    },
    {
     "data": {
      "text/plain": [
       "(('/home/tzortzis/Data/IRI-CATs-light/real_data/long_tasks/cropped_robotic/test/orange/no_release_orange/robotic_no_release_orange_1169.jpg',),\n",
       " tensor([2]))"
      ]
     },
     "execution_count": 21,
     "metadata": {},
     "output_type": "execute_result"
    },
    {
     "data": {
      "text/plain": [
       "(('/home/tzortzis/Data/IRI-CATs-light/real_data/long_tasks/cropped_robotic/test/orange/no_release_orange/robotic_no_release_orange_1170.jpg',),\n",
       " tensor([2]))"
      ]
     },
     "execution_count": 21,
     "metadata": {},
     "output_type": "execute_result"
    },
    {
     "data": {
      "text/plain": [
       "(('/home/tzortzis/Data/IRI-CATs-light/real_data/long_tasks/cropped_robotic/test/orange/no_release_orange/robotic_no_release_orange_1171.jpg',),\n",
       " tensor([2]))"
      ]
     },
     "execution_count": 21,
     "metadata": {},
     "output_type": "execute_result"
    },
    {
     "data": {
      "text/plain": [
       "(('/home/tzortzis/Data/IRI-CATs-light/real_data/long_tasks/cropped_robotic/test/orange/no_release_orange/robotic_no_release_orange_1172.jpg',),\n",
       " tensor([2]))"
      ]
     },
     "execution_count": 21,
     "metadata": {},
     "output_type": "execute_result"
    },
    {
     "data": {
      "text/plain": [
       "(('/home/tzortzis/Data/IRI-CATs-light/real_data/long_tasks/cropped_robotic/test/orange/no_release_orange/robotic_no_release_orange_1173.jpg',),\n",
       " tensor([2]))"
      ]
     },
     "execution_count": 21,
     "metadata": {},
     "output_type": "execute_result"
    },
    {
     "data": {
      "text/plain": [
       "(('/home/tzortzis/Data/IRI-CATs-light/real_data/long_tasks/cropped_robotic/test/orange/no_release_orange/robotic_no_release_orange_1174.jpg',),\n",
       " tensor([2]))"
      ]
     },
     "execution_count": 21,
     "metadata": {},
     "output_type": "execute_result"
    },
    {
     "data": {
      "text/plain": [
       "(('/home/tzortzis/Data/IRI-CATs-light/real_data/long_tasks/cropped_robotic/test/orange/no_release_orange/robotic_no_release_orange_1175.jpg',),\n",
       " tensor([2]))"
      ]
     },
     "execution_count": 21,
     "metadata": {},
     "output_type": "execute_result"
    },
    {
     "data": {
      "text/plain": [
       "(('/home/tzortzis/Data/IRI-CATs-light/real_data/long_tasks/cropped_robotic/test/orange/no_release_orange/robotic_no_release_orange_1176.jpg',),\n",
       " tensor([2]))"
      ]
     },
     "execution_count": 21,
     "metadata": {},
     "output_type": "execute_result"
    },
    {
     "data": {
      "text/plain": [
       "(('/home/tzortzis/Data/IRI-CATs-light/real_data/long_tasks/cropped_robotic/test/orange/no_release_orange/robotic_no_release_orange_1177.jpg',),\n",
       " tensor([2]))"
      ]
     },
     "execution_count": 21,
     "metadata": {},
     "output_type": "execute_result"
    },
    {
     "data": {
      "text/plain": [
       "(('/home/tzortzis/Data/IRI-CATs-light/real_data/long_tasks/cropped_robotic/test/orange/no_release_orange/robotic_no_release_orange_1178.jpg',),\n",
       " tensor([2]))"
      ]
     },
     "execution_count": 21,
     "metadata": {},
     "output_type": "execute_result"
    },
    {
     "data": {
      "text/plain": [
       "(('/home/tzortzis/Data/IRI-CATs-light/real_data/long_tasks/cropped_robotic/test/orange/no_release_orange/robotic_no_release_orange_1179.jpg',),\n",
       " tensor([2]))"
      ]
     },
     "execution_count": 21,
     "metadata": {},
     "output_type": "execute_result"
    },
    {
     "data": {
      "text/plain": [
       "(('/home/tzortzis/Data/IRI-CATs-light/real_data/long_tasks/cropped_robotic/test/orange/no_release_orange/robotic_no_release_orange_1180.jpg',),\n",
       " tensor([2]))"
      ]
     },
     "execution_count": 21,
     "metadata": {},
     "output_type": "execute_result"
    },
    {
     "data": {
      "text/plain": [
       "(('/home/tzortzis/Data/IRI-CATs-light/real_data/long_tasks/cropped_robotic/test/orange/no_release_orange/robotic_no_release_orange_1181.jpg',),\n",
       " tensor([2]))"
      ]
     },
     "execution_count": 21,
     "metadata": {},
     "output_type": "execute_result"
    },
    {
     "data": {
      "text/plain": [
       "(('/home/tzortzis/Data/IRI-CATs-light/real_data/long_tasks/cropped_robotic/test/orange/no_release_orange/robotic_no_release_orange_1182.jpg',),\n",
       " tensor([2]))"
      ]
     },
     "execution_count": 21,
     "metadata": {},
     "output_type": "execute_result"
    },
    {
     "data": {
      "text/plain": [
       "(('/home/tzortzis/Data/IRI-CATs-light/real_data/long_tasks/cropped_robotic/test/orange/no_release_orange/robotic_no_release_orange_1183.jpg',),\n",
       " tensor([2]))"
      ]
     },
     "execution_count": 21,
     "metadata": {},
     "output_type": "execute_result"
    },
    {
     "data": {
      "text/plain": [
       "(('/home/tzortzis/Data/IRI-CATs-light/real_data/long_tasks/cropped_robotic/test/orange/no_release_orange/robotic_no_release_orange_1184.jpg',),\n",
       " tensor([2]))"
      ]
     },
     "execution_count": 21,
     "metadata": {},
     "output_type": "execute_result"
    },
    {
     "data": {
      "text/plain": [
       "(('/home/tzortzis/Data/IRI-CATs-light/real_data/long_tasks/cropped_robotic/test/orange/no_release_orange/robotic_no_release_orange_1185.jpg',),\n",
       " tensor([2]))"
      ]
     },
     "execution_count": 21,
     "metadata": {},
     "output_type": "execute_result"
    },
    {
     "data": {
      "text/plain": [
       "(('/home/tzortzis/Data/IRI-CATs-light/real_data/long_tasks/cropped_robotic/test/orange/no_release_orange/robotic_no_release_orange_1186.jpg',),\n",
       " tensor([2]))"
      ]
     },
     "execution_count": 21,
     "metadata": {},
     "output_type": "execute_result"
    },
    {
     "data": {
      "text/plain": [
       "(('/home/tzortzis/Data/IRI-CATs-light/real_data/long_tasks/cropped_robotic/test/orange/no_release_orange/robotic_no_release_orange_1187.jpg',),\n",
       " tensor([2]))"
      ]
     },
     "execution_count": 21,
     "metadata": {},
     "output_type": "execute_result"
    },
    {
     "data": {
      "text/plain": [
       "(('/home/tzortzis/Data/IRI-CATs-light/real_data/long_tasks/cropped_robotic/test/orange/no_release_orange/robotic_no_release_orange_1188.jpg',),\n",
       " tensor([2]))"
      ]
     },
     "execution_count": 21,
     "metadata": {},
     "output_type": "execute_result"
    },
    {
     "data": {
      "text/plain": [
       "(('/home/tzortzis/Data/IRI-CATs-light/real_data/long_tasks/cropped_robotic/test/orange/no_release_orange/robotic_no_release_orange_1189.jpg',),\n",
       " tensor([2]))"
      ]
     },
     "execution_count": 21,
     "metadata": {},
     "output_type": "execute_result"
    },
    {
     "data": {
      "text/plain": [
       "(('/home/tzortzis/Data/IRI-CATs-light/real_data/long_tasks/cropped_robotic/test/orange/no_release_orange/robotic_no_release_orange_1190.jpg',),\n",
       " tensor([2]))"
      ]
     },
     "execution_count": 21,
     "metadata": {},
     "output_type": "execute_result"
    },
    {
     "data": {
      "text/plain": [
       "(('/home/tzortzis/Data/IRI-CATs-light/real_data/long_tasks/cropped_robotic/test/orange/no_release_orange/robotic_no_release_orange_1191.jpg',),\n",
       " tensor([2]))"
      ]
     },
     "execution_count": 21,
     "metadata": {},
     "output_type": "execute_result"
    },
    {
     "data": {
      "text/plain": [
       "(('/home/tzortzis/Data/IRI-CATs-light/real_data/long_tasks/cropped_robotic/test/orange/no_release_orange/robotic_no_release_orange_1192.jpg',),\n",
       " tensor([2]))"
      ]
     },
     "execution_count": 21,
     "metadata": {},
     "output_type": "execute_result"
    },
    {
     "data": {
      "text/plain": [
       "(('/home/tzortzis/Data/IRI-CATs-light/real_data/long_tasks/cropped_robotic/test/orange/no_release_orange/robotic_no_release_orange_1193.jpg',),\n",
       " tensor([2]))"
      ]
     },
     "execution_count": 21,
     "metadata": {},
     "output_type": "execute_result"
    },
    {
     "data": {
      "text/plain": [
       "(('/home/tzortzis/Data/IRI-CATs-light/real_data/long_tasks/cropped_robotic/test/orange/no_release_orange/robotic_no_release_orange_1194.jpg',),\n",
       " tensor([2]))"
      ]
     },
     "execution_count": 21,
     "metadata": {},
     "output_type": "execute_result"
    },
    {
     "data": {
      "text/plain": [
       "(('/home/tzortzis/Data/IRI-CATs-light/real_data/long_tasks/cropped_robotic/test/orange/no_release_orange/robotic_no_release_orange_1195.jpg',),\n",
       " tensor([2]))"
      ]
     },
     "execution_count": 21,
     "metadata": {},
     "output_type": "execute_result"
    },
    {
     "data": {
      "text/plain": [
       "(('/home/tzortzis/Data/IRI-CATs-light/real_data/long_tasks/cropped_robotic/test/orange/no_release_orange/robotic_no_release_orange_1196.jpg',),\n",
       " tensor([2]))"
      ]
     },
     "execution_count": 21,
     "metadata": {},
     "output_type": "execute_result"
    },
    {
     "data": {
      "text/plain": [
       "(('/home/tzortzis/Data/IRI-CATs-light/real_data/long_tasks/cropped_robotic/test/orange/no_release_orange/robotic_no_release_orange_1197.jpg',),\n",
       " tensor([2]))"
      ]
     },
     "execution_count": 21,
     "metadata": {},
     "output_type": "execute_result"
    },
    {
     "data": {
      "text/plain": [
       "(('/home/tzortzis/Data/IRI-CATs-light/real_data/long_tasks/cropped_robotic/test/orange/no_release_orange/robotic_no_release_orange_1198.jpg',),\n",
       " tensor([2]))"
      ]
     },
     "execution_count": 21,
     "metadata": {},
     "output_type": "execute_result"
    },
    {
     "data": {
      "text/plain": [
       "(('/home/tzortzis/Data/IRI-CATs-light/real_data/long_tasks/cropped_robotic/test/orange/no_release_orange/robotic_no_release_orange_1199.jpg',),\n",
       " tensor([2]))"
      ]
     },
     "execution_count": 21,
     "metadata": {},
     "output_type": "execute_result"
    },
    {
     "data": {
      "text/plain": [
       "(('/home/tzortzis/Data/IRI-CATs-light/real_data/long_tasks/cropped_robotic/test/orange/no_release_orange/robotic_no_release_orange_1200.jpg',),\n",
       " tensor([2]))"
      ]
     },
     "execution_count": 21,
     "metadata": {},
     "output_type": "execute_result"
    },
    {
     "data": {
      "text/plain": [
       "(('/home/tzortzis/Data/IRI-CATs-light/real_data/long_tasks/cropped_robotic/test/orange/no_release_orange/robotic_no_release_orange_1201.jpg',),\n",
       " tensor([2]))"
      ]
     },
     "execution_count": 21,
     "metadata": {},
     "output_type": "execute_result"
    },
    {
     "data": {
      "text/plain": [
       "(('/home/tzortzis/Data/IRI-CATs-light/real_data/long_tasks/cropped_robotic/test/orange/no_release_orange/robotic_no_release_orange_1202.jpg',),\n",
       " tensor([2]))"
      ]
     },
     "execution_count": 21,
     "metadata": {},
     "output_type": "execute_result"
    },
    {
     "data": {
      "text/plain": [
       "(('/home/tzortzis/Data/IRI-CATs-light/real_data/long_tasks/cropped_robotic/test/orange/no_release_orange/robotic_no_release_orange_1203.jpg',),\n",
       " tensor([2]))"
      ]
     },
     "execution_count": 21,
     "metadata": {},
     "output_type": "execute_result"
    },
    {
     "data": {
      "text/plain": [
       "(('/home/tzortzis/Data/IRI-CATs-light/real_data/long_tasks/cropped_robotic/test/orange/no_release_orange/robotic_no_release_orange_1204.jpg',),\n",
       " tensor([2]))"
      ]
     },
     "execution_count": 21,
     "metadata": {},
     "output_type": "execute_result"
    },
    {
     "data": {
      "text/plain": [
       "(('/home/tzortzis/Data/IRI-CATs-light/real_data/long_tasks/cropped_robotic/test/orange/no_release_orange/robotic_no_release_orange_1205.jpg',),\n",
       " tensor([2]))"
      ]
     },
     "execution_count": 21,
     "metadata": {},
     "output_type": "execute_result"
    },
    {
     "data": {
      "text/plain": [
       "(('/home/tzortzis/Data/IRI-CATs-light/real_data/long_tasks/cropped_robotic/test/orange/no_release_orange/robotic_no_release_orange_1206.jpg',),\n",
       " tensor([2]))"
      ]
     },
     "execution_count": 21,
     "metadata": {},
     "output_type": "execute_result"
    },
    {
     "data": {
      "text/plain": [
       "(('/home/tzortzis/Data/IRI-CATs-light/real_data/long_tasks/cropped_robotic/test/orange/no_release_orange/robotic_no_release_orange_1207.jpg',),\n",
       " tensor([2]))"
      ]
     },
     "execution_count": 21,
     "metadata": {},
     "output_type": "execute_result"
    },
    {
     "data": {
      "text/plain": [
       "(('/home/tzortzis/Data/IRI-CATs-light/real_data/long_tasks/cropped_robotic/test/orange/no_release_orange/robotic_no_release_orange_1208.jpg',),\n",
       " tensor([2]))"
      ]
     },
     "execution_count": 21,
     "metadata": {},
     "output_type": "execute_result"
    },
    {
     "data": {
      "text/plain": [
       "(('/home/tzortzis/Data/IRI-CATs-light/real_data/long_tasks/cropped_robotic/test/orange/no_release_orange/robotic_no_release_orange_1209.jpg',),\n",
       " tensor([2]))"
      ]
     },
     "execution_count": 21,
     "metadata": {},
     "output_type": "execute_result"
    },
    {
     "data": {
      "text/plain": [
       "(('/home/tzortzis/Data/IRI-CATs-light/real_data/long_tasks/cropped_robotic/test/orange/no_release_orange/robotic_no_release_orange_1210.jpg',),\n",
       " tensor([2]))"
      ]
     },
     "execution_count": 21,
     "metadata": {},
     "output_type": "execute_result"
    },
    {
     "data": {
      "text/plain": [
       "(('/home/tzortzis/Data/IRI-CATs-light/real_data/long_tasks/cropped_robotic/test/orange/no_release_orange/robotic_no_release_orange_1211.jpg',),\n",
       " tensor([2]))"
      ]
     },
     "execution_count": 21,
     "metadata": {},
     "output_type": "execute_result"
    },
    {
     "data": {
      "text/plain": [
       "(('/home/tzortzis/Data/IRI-CATs-light/real_data/long_tasks/cropped_robotic/test/orange/no_release_orange/robotic_no_release_orange_1212.jpg',),\n",
       " tensor([2]))"
      ]
     },
     "execution_count": 21,
     "metadata": {},
     "output_type": "execute_result"
    },
    {
     "data": {
      "text/plain": [
       "(('/home/tzortzis/Data/IRI-CATs-light/real_data/long_tasks/cropped_robotic/test/orange/no_release_orange/robotic_no_release_orange_1213.jpg',),\n",
       " tensor([2]))"
      ]
     },
     "execution_count": 21,
     "metadata": {},
     "output_type": "execute_result"
    },
    {
     "data": {
      "text/plain": [
       "(('/home/tzortzis/Data/IRI-CATs-light/real_data/long_tasks/cropped_robotic/test/orange/no_release_orange/robotic_no_release_orange_1214.jpg',),\n",
       " tensor([2]))"
      ]
     },
     "execution_count": 21,
     "metadata": {},
     "output_type": "execute_result"
    },
    {
     "data": {
      "text/plain": [
       "(('/home/tzortzis/Data/IRI-CATs-light/real_data/long_tasks/cropped_robotic/test/orange/no_release_orange/robotic_no_release_orange_1215.jpg',),\n",
       " tensor([2]))"
      ]
     },
     "execution_count": 21,
     "metadata": {},
     "output_type": "execute_result"
    },
    {
     "data": {
      "text/plain": [
       "(('/home/tzortzis/Data/IRI-CATs-light/real_data/long_tasks/cropped_robotic/test/orange/no_release_orange/robotic_no_release_orange_1216.jpg',),\n",
       " tensor([2]))"
      ]
     },
     "execution_count": 21,
     "metadata": {},
     "output_type": "execute_result"
    },
    {
     "data": {
      "text/plain": [
       "(('/home/tzortzis/Data/IRI-CATs-light/real_data/long_tasks/cropped_robotic/test/orange/no_release_orange/robotic_no_release_orange_1217.jpg',),\n",
       " tensor([2]))"
      ]
     },
     "execution_count": 21,
     "metadata": {},
     "output_type": "execute_result"
    },
    {
     "data": {
      "text/plain": [
       "(('/home/tzortzis/Data/IRI-CATs-light/real_data/long_tasks/cropped_robotic/test/orange/no_release_orange/robotic_no_release_orange_1218.jpg',),\n",
       " tensor([2]))"
      ]
     },
     "execution_count": 21,
     "metadata": {},
     "output_type": "execute_result"
    },
    {
     "data": {
      "text/plain": [
       "(('/home/tzortzis/Data/IRI-CATs-light/real_data/long_tasks/cropped_robotic/test/orange/no_release_orange/robotic_no_release_orange_1219.jpg',),\n",
       " tensor([2]))"
      ]
     },
     "execution_count": 21,
     "metadata": {},
     "output_type": "execute_result"
    },
    {
     "data": {
      "text/plain": [
       "(('/home/tzortzis/Data/IRI-CATs-light/real_data/long_tasks/cropped_robotic/test/orange/no_release_orange/robotic_no_release_orange_1220.jpg',),\n",
       " tensor([2]))"
      ]
     },
     "execution_count": 21,
     "metadata": {},
     "output_type": "execute_result"
    },
    {
     "data": {
      "text/plain": [
       "(('/home/tzortzis/Data/IRI-CATs-light/real_data/long_tasks/cropped_robotic/test/orange/no_release_orange/robotic_no_release_orange_1221.jpg',),\n",
       " tensor([2]))"
      ]
     },
     "execution_count": 21,
     "metadata": {},
     "output_type": "execute_result"
    },
    {
     "data": {
      "text/plain": [
       "(('/home/tzortzis/Data/IRI-CATs-light/real_data/long_tasks/cropped_robotic/test/orange/no_release_orange/robotic_no_release_orange_1222.jpg',),\n",
       " tensor([2]))"
      ]
     },
     "execution_count": 21,
     "metadata": {},
     "output_type": "execute_result"
    },
    {
     "data": {
      "text/plain": [
       "(('/home/tzortzis/Data/IRI-CATs-light/real_data/long_tasks/cropped_robotic/test/orange/no_release_orange/robotic_no_release_orange_1223.jpg',),\n",
       " tensor([2]))"
      ]
     },
     "execution_count": 21,
     "metadata": {},
     "output_type": "execute_result"
    },
    {
     "data": {
      "text/plain": [
       "(('/home/tzortzis/Data/IRI-CATs-light/real_data/long_tasks/cropped_robotic/test/orange/no_release_orange/robotic_no_release_orange_1224.jpg',),\n",
       " tensor([2]))"
      ]
     },
     "execution_count": 21,
     "metadata": {},
     "output_type": "execute_result"
    },
    {
     "data": {
      "text/plain": [
       "(('/home/tzortzis/Data/IRI-CATs-light/real_data/long_tasks/cropped_robotic/test/orange/no_release_orange/robotic_no_release_orange_1225.jpg',),\n",
       " tensor([2]))"
      ]
     },
     "execution_count": 21,
     "metadata": {},
     "output_type": "execute_result"
    },
    {
     "data": {
      "text/plain": [
       "(('/home/tzortzis/Data/IRI-CATs-light/real_data/long_tasks/cropped_robotic/test/orange/no_release_orange/robotic_no_release_orange_1226.jpg',),\n",
       " tensor([2]))"
      ]
     },
     "execution_count": 21,
     "metadata": {},
     "output_type": "execute_result"
    },
    {
     "data": {
      "text/plain": [
       "(('/home/tzortzis/Data/IRI-CATs-light/real_data/long_tasks/cropped_robotic/test/orange/no_release_orange/robotic_no_release_orange_1227.jpg',),\n",
       " tensor([2]))"
      ]
     },
     "execution_count": 21,
     "metadata": {},
     "output_type": "execute_result"
    },
    {
     "data": {
      "text/plain": [
       "(('/home/tzortzis/Data/IRI-CATs-light/real_data/long_tasks/cropped_robotic/test/orange/no_release_orange/robotic_no_release_orange_1228.jpg',),\n",
       " tensor([2]))"
      ]
     },
     "execution_count": 21,
     "metadata": {},
     "output_type": "execute_result"
    },
    {
     "data": {
      "text/plain": [
       "(('/home/tzortzis/Data/IRI-CATs-light/real_data/long_tasks/cropped_robotic/test/orange/no_release_orange/robotic_no_release_orange_1229.jpg',),\n",
       " tensor([2]))"
      ]
     },
     "execution_count": 21,
     "metadata": {},
     "output_type": "execute_result"
    },
    {
     "data": {
      "text/plain": [
       "(('/home/tzortzis/Data/IRI-CATs-light/real_data/long_tasks/cropped_robotic/test/orange/no_release_orange/robotic_no_release_orange_1230.jpg',),\n",
       " tensor([2]))"
      ]
     },
     "execution_count": 21,
     "metadata": {},
     "output_type": "execute_result"
    },
    {
     "data": {
      "text/plain": [
       "(('/home/tzortzis/Data/IRI-CATs-light/real_data/long_tasks/cropped_robotic/test/orange/no_release_orange/robotic_no_release_orange_1231.jpg',),\n",
       " tensor([2]))"
      ]
     },
     "execution_count": 21,
     "metadata": {},
     "output_type": "execute_result"
    },
    {
     "data": {
      "text/plain": [
       "(('/home/tzortzis/Data/IRI-CATs-light/real_data/long_tasks/cropped_robotic/test/orange/no_release_orange/robotic_no_release_orange_1232.jpg',),\n",
       " tensor([2]))"
      ]
     },
     "execution_count": 21,
     "metadata": {},
     "output_type": "execute_result"
    },
    {
     "data": {
      "text/plain": [
       "(('/home/tzortzis/Data/IRI-CATs-light/real_data/long_tasks/cropped_robotic/test/orange/no_release_orange/robotic_no_release_orange_1233.jpg',),\n",
       " tensor([2]))"
      ]
     },
     "execution_count": 21,
     "metadata": {},
     "output_type": "execute_result"
    },
    {
     "data": {
      "text/plain": [
       "(('/home/tzortzis/Data/IRI-CATs-light/real_data/long_tasks/cropped_robotic/test/orange/no_release_orange/robotic_no_release_orange_1234.jpg',),\n",
       " tensor([2]))"
      ]
     },
     "execution_count": 21,
     "metadata": {},
     "output_type": "execute_result"
    },
    {
     "data": {
      "text/plain": [
       "(('/home/tzortzis/Data/IRI-CATs-light/real_data/long_tasks/cropped_robotic/test/orange/no_release_orange/robotic_no_release_orange_1235.jpg',),\n",
       " tensor([2]))"
      ]
     },
     "execution_count": 21,
     "metadata": {},
     "output_type": "execute_result"
    },
    {
     "data": {
      "text/plain": [
       "(('/home/tzortzis/Data/IRI-CATs-light/real_data/long_tasks/cropped_robotic/test/orange/no_release_orange/robotic_no_release_orange_1236.jpg',),\n",
       " tensor([2]))"
      ]
     },
     "execution_count": 21,
     "metadata": {},
     "output_type": "execute_result"
    },
    {
     "data": {
      "text/plain": [
       "(('/home/tzortzis/Data/IRI-CATs-light/real_data/long_tasks/cropped_robotic/test/orange/no_release_orange/robotic_no_release_orange_1237.jpg',),\n",
       " tensor([2]))"
      ]
     },
     "execution_count": 21,
     "metadata": {},
     "output_type": "execute_result"
    },
    {
     "data": {
      "text/plain": [
       "(('/home/tzortzis/Data/IRI-CATs-light/real_data/long_tasks/cropped_robotic/test/orange/no_release_orange/robotic_no_release_orange_1238.jpg',),\n",
       " tensor([2]))"
      ]
     },
     "execution_count": 21,
     "metadata": {},
     "output_type": "execute_result"
    },
    {
     "data": {
      "text/plain": [
       "(('/home/tzortzis/Data/IRI-CATs-light/real_data/long_tasks/cropped_robotic/test/orange/no_release_orange/robotic_no_release_orange_1239.jpg',),\n",
       " tensor([2]))"
      ]
     },
     "execution_count": 21,
     "metadata": {},
     "output_type": "execute_result"
    },
    {
     "data": {
      "text/plain": [
       "(('/home/tzortzis/Data/IRI-CATs-light/real_data/long_tasks/cropped_robotic/test/orange/no_release_orange/robotic_no_release_orange_1240.jpg',),\n",
       " tensor([2]))"
      ]
     },
     "execution_count": 21,
     "metadata": {},
     "output_type": "execute_result"
    },
    {
     "data": {
      "text/plain": [
       "(('/home/tzortzis/Data/IRI-CATs-light/real_data/long_tasks/cropped_robotic/test/orange/no_release_orange/robotic_no_release_orange_1241.jpg',),\n",
       " tensor([2]))"
      ]
     },
     "execution_count": 21,
     "metadata": {},
     "output_type": "execute_result"
    },
    {
     "data": {
      "text/plain": [
       "(('/home/tzortzis/Data/IRI-CATs-light/real_data/long_tasks/cropped_robotic/test/orange/no_release_orange/robotic_no_release_orange_1242.jpg',),\n",
       " tensor([2]))"
      ]
     },
     "execution_count": 21,
     "metadata": {},
     "output_type": "execute_result"
    },
    {
     "data": {
      "text/plain": [
       "(('/home/tzortzis/Data/IRI-CATs-light/real_data/long_tasks/cropped_robotic/test/orange/no_release_orange/robotic_no_release_orange_1243.jpg',),\n",
       " tensor([2]))"
      ]
     },
     "execution_count": 21,
     "metadata": {},
     "output_type": "execute_result"
    },
    {
     "data": {
      "text/plain": [
       "(('/home/tzortzis/Data/IRI-CATs-light/real_data/long_tasks/cropped_robotic/test/orange/no_release_orange/robotic_no_release_orange_1244.jpg',),\n",
       " tensor([2]))"
      ]
     },
     "execution_count": 21,
     "metadata": {},
     "output_type": "execute_result"
    },
    {
     "data": {
      "text/plain": [
       "(('/home/tzortzis/Data/IRI-CATs-light/real_data/long_tasks/cropped_robotic/test/orange/no_release_orange/robotic_no_release_orange_1245.jpg',),\n",
       " tensor([2]))"
      ]
     },
     "execution_count": 21,
     "metadata": {},
     "output_type": "execute_result"
    },
    {
     "data": {
      "text/plain": [
       "(('/home/tzortzis/Data/IRI-CATs-light/real_data/long_tasks/cropped_robotic/test/orange/no_release_orange/robotic_no_release_orange_1246.jpg',),\n",
       " tensor([2]))"
      ]
     },
     "execution_count": 21,
     "metadata": {},
     "output_type": "execute_result"
    },
    {
     "data": {
      "text/plain": [
       "(('/home/tzortzis/Data/IRI-CATs-light/real_data/long_tasks/cropped_robotic/test/orange/no_release_orange/robotic_no_release_orange_1247.jpg',),\n",
       " tensor([2]))"
      ]
     },
     "execution_count": 21,
     "metadata": {},
     "output_type": "execute_result"
    },
    {
     "data": {
      "text/plain": [
       "(('/home/tzortzis/Data/IRI-CATs-light/real_data/long_tasks/cropped_robotic/test/orange/no_release_orange/robotic_no_release_orange_1248.jpg',),\n",
       " tensor([2]))"
      ]
     },
     "execution_count": 21,
     "metadata": {},
     "output_type": "execute_result"
    },
    {
     "data": {
      "text/plain": [
       "(('/home/tzortzis/Data/IRI-CATs-light/real_data/long_tasks/cropped_robotic/test/orange/no_release_orange/robotic_no_release_orange_1249.jpg',),\n",
       " tensor([2]))"
      ]
     },
     "execution_count": 21,
     "metadata": {},
     "output_type": "execute_result"
    },
    {
     "data": {
      "text/plain": [
       "(('/home/tzortzis/Data/IRI-CATs-light/real_data/long_tasks/cropped_robotic/test/orange/no_release_orange/robotic_no_release_orange_1250.jpg',),\n",
       " tensor([2]))"
      ]
     },
     "execution_count": 21,
     "metadata": {},
     "output_type": "execute_result"
    },
    {
     "data": {
      "text/plain": [
       "(('/home/tzortzis/Data/IRI-CATs-light/real_data/long_tasks/cropped_robotic/test/orange/no_release_orange/robotic_no_release_orange_1251.jpg',),\n",
       " tensor([2]))"
      ]
     },
     "execution_count": 21,
     "metadata": {},
     "output_type": "execute_result"
    },
    {
     "data": {
      "text/plain": [
       "(('/home/tzortzis/Data/IRI-CATs-light/real_data/long_tasks/cropped_robotic/test/orange/no_release_orange/robotic_no_release_orange_1252.jpg',),\n",
       " tensor([2]))"
      ]
     },
     "execution_count": 21,
     "metadata": {},
     "output_type": "execute_result"
    },
    {
     "data": {
      "text/plain": [
       "(('/home/tzortzis/Data/IRI-CATs-light/real_data/long_tasks/cropped_robotic/test/orange/no_release_orange/robotic_no_release_orange_1253.jpg',),\n",
       " tensor([2]))"
      ]
     },
     "execution_count": 21,
     "metadata": {},
     "output_type": "execute_result"
    },
    {
     "data": {
      "text/plain": [
       "(('/home/tzortzis/Data/IRI-CATs-light/real_data/long_tasks/cropped_robotic/test/orange/no_release_orange/robotic_no_release_orange_1254.jpg',),\n",
       " tensor([2]))"
      ]
     },
     "execution_count": 21,
     "metadata": {},
     "output_type": "execute_result"
    },
    {
     "data": {
      "text/plain": [
       "(('/home/tzortzis/Data/IRI-CATs-light/real_data/long_tasks/cropped_robotic/test/orange/no_release_orange/robotic_no_release_orange_1255.jpg',),\n",
       " tensor([2]))"
      ]
     },
     "execution_count": 21,
     "metadata": {},
     "output_type": "execute_result"
    },
    {
     "data": {
      "text/plain": [
       "(('/home/tzortzis/Data/IRI-CATs-light/real_data/long_tasks/cropped_robotic/test/orange/no_release_orange/robotic_no_release_orange_1256.jpg',),\n",
       " tensor([2]))"
      ]
     },
     "execution_count": 21,
     "metadata": {},
     "output_type": "execute_result"
    },
    {
     "data": {
      "text/plain": [
       "(('/home/tzortzis/Data/IRI-CATs-light/real_data/long_tasks/cropped_robotic/test/orange/no_release_orange/robotic_no_release_orange_1257.jpg',),\n",
       " tensor([2]))"
      ]
     },
     "execution_count": 21,
     "metadata": {},
     "output_type": "execute_result"
    },
    {
     "data": {
      "text/plain": [
       "(('/home/tzortzis/Data/IRI-CATs-light/real_data/long_tasks/cropped_robotic/test/orange/no_release_orange/robotic_no_release_orange_1258.jpg',),\n",
       " tensor([2]))"
      ]
     },
     "execution_count": 21,
     "metadata": {},
     "output_type": "execute_result"
    },
    {
     "data": {
      "text/plain": [
       "(('/home/tzortzis/Data/IRI-CATs-light/real_data/long_tasks/cropped_robotic/test/orange/no_release_orange/robotic_no_release_orange_1259.jpg',),\n",
       " tensor([2]))"
      ]
     },
     "execution_count": 21,
     "metadata": {},
     "output_type": "execute_result"
    },
    {
     "data": {
      "text/plain": [
       "(('/home/tzortzis/Data/IRI-CATs-light/real_data/long_tasks/cropped_robotic/test/orange/no_release_orange/robotic_no_release_orange_1260.jpg',),\n",
       " tensor([2]))"
      ]
     },
     "execution_count": 21,
     "metadata": {},
     "output_type": "execute_result"
    },
    {
     "data": {
      "text/plain": [
       "(('/home/tzortzis/Data/IRI-CATs-light/real_data/long_tasks/cropped_robotic/test/orange/no_release_orange/robotic_no_release_orange_1261.jpg',),\n",
       " tensor([2]))"
      ]
     },
     "execution_count": 21,
     "metadata": {},
     "output_type": "execute_result"
    },
    {
     "data": {
      "text/plain": [
       "(('/home/tzortzis/Data/IRI-CATs-light/real_data/long_tasks/cropped_robotic/test/orange/no_release_orange/robotic_no_release_orange_1262.jpg',),\n",
       " tensor([2]))"
      ]
     },
     "execution_count": 21,
     "metadata": {},
     "output_type": "execute_result"
    },
    {
     "data": {
      "text/plain": [
       "(('/home/tzortzis/Data/IRI-CATs-light/real_data/long_tasks/cropped_robotic/test/orange/no_release_orange/robotic_no_release_orange_1263.jpg',),\n",
       " tensor([2]))"
      ]
     },
     "execution_count": 21,
     "metadata": {},
     "output_type": "execute_result"
    },
    {
     "data": {
      "text/plain": [
       "(('/home/tzortzis/Data/IRI-CATs-light/real_data/long_tasks/cropped_robotic/test/orange/no_release_orange/robotic_no_release_orange_1264.jpg',),\n",
       " tensor([2]))"
      ]
     },
     "execution_count": 21,
     "metadata": {},
     "output_type": "execute_result"
    },
    {
     "data": {
      "text/plain": [
       "(('/home/tzortzis/Data/IRI-CATs-light/real_data/long_tasks/cropped_robotic/test/orange/no_release_orange/robotic_no_release_orange_1265.jpg',),\n",
       " tensor([2]))"
      ]
     },
     "execution_count": 21,
     "metadata": {},
     "output_type": "execute_result"
    },
    {
     "data": {
      "text/plain": [
       "(('/home/tzortzis/Data/IRI-CATs-light/real_data/long_tasks/cropped_robotic/test/orange/no_release_orange/robotic_no_release_orange_1266.jpg',),\n",
       " tensor([2]))"
      ]
     },
     "execution_count": 21,
     "metadata": {},
     "output_type": "execute_result"
    },
    {
     "data": {
      "text/plain": [
       "(('/home/tzortzis/Data/IRI-CATs-light/real_data/long_tasks/cropped_robotic/test/orange/no_release_orange/robotic_no_release_orange_1267.jpg',),\n",
       " tensor([2]))"
      ]
     },
     "execution_count": 21,
     "metadata": {},
     "output_type": "execute_result"
    },
    {
     "data": {
      "text/plain": [
       "(('/home/tzortzis/Data/IRI-CATs-light/real_data/long_tasks/cropped_robotic/test/orange/no_release_orange/robotic_no_release_orange_1268.jpg',),\n",
       " tensor([2]))"
      ]
     },
     "execution_count": 21,
     "metadata": {},
     "output_type": "execute_result"
    },
    {
     "data": {
      "text/plain": [
       "(('/home/tzortzis/Data/IRI-CATs-light/real_data/long_tasks/cropped_robotic/test/orange/no_release_orange/robotic_no_release_orange_1269.jpg',),\n",
       " tensor([2]))"
      ]
     },
     "execution_count": 21,
     "metadata": {},
     "output_type": "execute_result"
    },
    {
     "data": {
      "text/plain": [
       "(('/home/tzortzis/Data/IRI-CATs-light/real_data/long_tasks/cropped_robotic/test/orange/no_release_orange/robotic_no_release_orange_1270.jpg',),\n",
       " tensor([2]))"
      ]
     },
     "execution_count": 21,
     "metadata": {},
     "output_type": "execute_result"
    },
    {
     "data": {
      "text/plain": [
       "(('/home/tzortzis/Data/IRI-CATs-light/real_data/long_tasks/cropped_robotic/test/orange/no_release_orange/robotic_no_release_orange_1271.jpg',),\n",
       " tensor([2]))"
      ]
     },
     "execution_count": 21,
     "metadata": {},
     "output_type": "execute_result"
    },
    {
     "data": {
      "text/plain": [
       "(('/home/tzortzis/Data/IRI-CATs-light/real_data/long_tasks/cropped_robotic/test/orange/no_release_orange/robotic_no_release_orange_1272.jpg',),\n",
       " tensor([2]))"
      ]
     },
     "execution_count": 21,
     "metadata": {},
     "output_type": "execute_result"
    },
    {
     "data": {
      "text/plain": [
       "(('/home/tzortzis/Data/IRI-CATs-light/real_data/long_tasks/cropped_robotic/test/orange/no_release_orange/robotic_no_release_orange_1273.jpg',),\n",
       " tensor([2]))"
      ]
     },
     "execution_count": 21,
     "metadata": {},
     "output_type": "execute_result"
    },
    {
     "data": {
      "text/plain": [
       "(('/home/tzortzis/Data/IRI-CATs-light/real_data/long_tasks/cropped_robotic/test/orange/no_release_orange/robotic_no_release_orange_1274.jpg',),\n",
       " tensor([2]))"
      ]
     },
     "execution_count": 21,
     "metadata": {},
     "output_type": "execute_result"
    },
    {
     "data": {
      "text/plain": [
       "(('/home/tzortzis/Data/IRI-CATs-light/real_data/long_tasks/cropped_robotic/test/orange/no_release_orange/robotic_no_release_orange_1275.jpg',),\n",
       " tensor([2]))"
      ]
     },
     "execution_count": 21,
     "metadata": {},
     "output_type": "execute_result"
    },
    {
     "data": {
      "text/plain": [
       "(('/home/tzortzis/Data/IRI-CATs-light/real_data/long_tasks/cropped_robotic/test/orange/no_release_orange/robotic_no_release_orange_1276.jpg',),\n",
       " tensor([2]))"
      ]
     },
     "execution_count": 21,
     "metadata": {},
     "output_type": "execute_result"
    },
    {
     "data": {
      "text/plain": [
       "(('/home/tzortzis/Data/IRI-CATs-light/real_data/long_tasks/cropped_robotic/test/orange/no_release_orange/robotic_no_release_orange_1277.jpg',),\n",
       " tensor([2]))"
      ]
     },
     "execution_count": 21,
     "metadata": {},
     "output_type": "execute_result"
    },
    {
     "data": {
      "text/plain": [
       "(('/home/tzortzis/Data/IRI-CATs-light/real_data/long_tasks/cropped_robotic/test/orange/no_release_orange/robotic_no_release_orange_1278.jpg',),\n",
       " tensor([2]))"
      ]
     },
     "execution_count": 21,
     "metadata": {},
     "output_type": "execute_result"
    },
    {
     "data": {
      "text/plain": [
       "(('/home/tzortzis/Data/IRI-CATs-light/real_data/long_tasks/cropped_robotic/test/orange/no_release_orange/robotic_no_release_orange_1279.jpg',),\n",
       " tensor([2]))"
      ]
     },
     "execution_count": 21,
     "metadata": {},
     "output_type": "execute_result"
    },
    {
     "data": {
      "text/plain": [
       "(('/home/tzortzis/Data/IRI-CATs-light/real_data/long_tasks/cropped_robotic/test/orange/no_release_orange/robotic_no_release_orange_1280.jpg',),\n",
       " tensor([2]))"
      ]
     },
     "execution_count": 21,
     "metadata": {},
     "output_type": "execute_result"
    },
    {
     "data": {
      "text/plain": [
       "(('/home/tzortzis/Data/IRI-CATs-light/real_data/long_tasks/cropped_robotic/test/orange/no_release_orange/robotic_no_release_orange_1281.jpg',),\n",
       " tensor([2]))"
      ]
     },
     "execution_count": 21,
     "metadata": {},
     "output_type": "execute_result"
    },
    {
     "data": {
      "text/plain": [
       "(('/home/tzortzis/Data/IRI-CATs-light/real_data/long_tasks/cropped_robotic/test/orange/no_release_orange/robotic_no_release_orange_1282.jpg',),\n",
       " tensor([2]))"
      ]
     },
     "execution_count": 21,
     "metadata": {},
     "output_type": "execute_result"
    },
    {
     "data": {
      "text/plain": [
       "(('/home/tzortzis/Data/IRI-CATs-light/real_data/long_tasks/cropped_robotic/test/orange/no_release_orange/robotic_no_release_orange_1283.jpg',),\n",
       " tensor([2]))"
      ]
     },
     "execution_count": 21,
     "metadata": {},
     "output_type": "execute_result"
    },
    {
     "data": {
      "text/plain": [
       "(('/home/tzortzis/Data/IRI-CATs-light/real_data/long_tasks/cropped_robotic/test/orange/no_release_orange/robotic_no_release_orange_1284.jpg',),\n",
       " tensor([2]))"
      ]
     },
     "execution_count": 21,
     "metadata": {},
     "output_type": "execute_result"
    },
    {
     "data": {
      "text/plain": [
       "(('/home/tzortzis/Data/IRI-CATs-light/real_data/long_tasks/cropped_robotic/test/orange/no_release_orange/robotic_no_release_orange_1285.jpg',),\n",
       " tensor([2]))"
      ]
     },
     "execution_count": 21,
     "metadata": {},
     "output_type": "execute_result"
    },
    {
     "data": {
      "text/plain": [
       "(('/home/tzortzis/Data/IRI-CATs-light/real_data/long_tasks/cropped_robotic/test/orange/no_release_orange/robotic_no_release_orange_1286.jpg',),\n",
       " tensor([2]))"
      ]
     },
     "execution_count": 21,
     "metadata": {},
     "output_type": "execute_result"
    },
    {
     "data": {
      "text/plain": [
       "(('/home/tzortzis/Data/IRI-CATs-light/real_data/long_tasks/cropped_robotic/test/orange/no_release_orange/robotic_no_release_orange_1287.jpg',),\n",
       " tensor([2]))"
      ]
     },
     "execution_count": 21,
     "metadata": {},
     "output_type": "execute_result"
    },
    {
     "data": {
      "text/plain": [
       "(('/home/tzortzis/Data/IRI-CATs-light/real_data/long_tasks/cropped_robotic/test/orange/no_release_orange/robotic_no_release_orange_1288.jpg',),\n",
       " tensor([2]))"
      ]
     },
     "execution_count": 21,
     "metadata": {},
     "output_type": "execute_result"
    },
    {
     "data": {
      "text/plain": [
       "(('/home/tzortzis/Data/IRI-CATs-light/real_data/long_tasks/cropped_robotic/test/orange/no_release_orange/robotic_no_release_orange_1289.jpg',),\n",
       " tensor([2]))"
      ]
     },
     "execution_count": 21,
     "metadata": {},
     "output_type": "execute_result"
    },
    {
     "data": {
      "text/plain": [
       "(('/home/tzortzis/Data/IRI-CATs-light/real_data/long_tasks/cropped_robotic/test/orange/no_release_orange/robotic_no_release_orange_1290.jpg',),\n",
       " tensor([2]))"
      ]
     },
     "execution_count": 21,
     "metadata": {},
     "output_type": "execute_result"
    },
    {
     "data": {
      "text/plain": [
       "(('/home/tzortzis/Data/IRI-CATs-light/real_data/long_tasks/cropped_robotic/test/orange/no_release_orange/robotic_no_release_orange_1291.jpg',),\n",
       " tensor([2]))"
      ]
     },
     "execution_count": 21,
     "metadata": {},
     "output_type": "execute_result"
    },
    {
     "data": {
      "text/plain": [
       "(('/home/tzortzis/Data/IRI-CATs-light/real_data/long_tasks/cropped_robotic/test/orange/no_release_orange/robotic_no_release_orange_1292.jpg',),\n",
       " tensor([2]))"
      ]
     },
     "execution_count": 21,
     "metadata": {},
     "output_type": "execute_result"
    },
    {
     "data": {
      "text/plain": [
       "(('/home/tzortzis/Data/IRI-CATs-light/real_data/long_tasks/cropped_robotic/test/orange/no_release_orange/robotic_no_release_orange_1293.jpg',),\n",
       " tensor([2]))"
      ]
     },
     "execution_count": 21,
     "metadata": {},
     "output_type": "execute_result"
    },
    {
     "data": {
      "text/plain": [
       "(('/home/tzortzis/Data/IRI-CATs-light/real_data/long_tasks/cropped_robotic/test/orange/no_release_orange/robotic_no_release_orange_1294.jpg',),\n",
       " tensor([2]))"
      ]
     },
     "execution_count": 21,
     "metadata": {},
     "output_type": "execute_result"
    },
    {
     "data": {
      "text/plain": [
       "(('/home/tzortzis/Data/IRI-CATs-light/real_data/long_tasks/cropped_robotic/test/orange/no_release_orange/robotic_no_release_orange_1295.jpg',),\n",
       " tensor([2]))"
      ]
     },
     "execution_count": 21,
     "metadata": {},
     "output_type": "execute_result"
    },
    {
     "data": {
      "text/plain": [
       "(('/home/tzortzis/Data/IRI-CATs-light/real_data/long_tasks/cropped_robotic/test/orange/no_release_orange/robotic_no_release_orange_1296.jpg',),\n",
       " tensor([2]))"
      ]
     },
     "execution_count": 21,
     "metadata": {},
     "output_type": "execute_result"
    },
    {
     "data": {
      "text/plain": [
       "(('/home/tzortzis/Data/IRI-CATs-light/real_data/long_tasks/cropped_robotic/test/orange/no_release_orange/robotic_no_release_orange_1297.jpg',),\n",
       " tensor([2]))"
      ]
     },
     "execution_count": 21,
     "metadata": {},
     "output_type": "execute_result"
    },
    {
     "data": {
      "text/plain": [
       "(('/home/tzortzis/Data/IRI-CATs-light/real_data/long_tasks/cropped_robotic/test/orange/no_release_orange/robotic_no_release_orange_1298.jpg',),\n",
       " tensor([2]))"
      ]
     },
     "execution_count": 21,
     "metadata": {},
     "output_type": "execute_result"
    },
    {
     "data": {
      "text/plain": [
       "(('/home/tzortzis/Data/IRI-CATs-light/real_data/long_tasks/cropped_robotic/test/orange/no_release_orange/robotic_no_release_orange_1299.jpg',),\n",
       " tensor([2]))"
      ]
     },
     "execution_count": 21,
     "metadata": {},
     "output_type": "execute_result"
    },
    {
     "data": {
      "text/plain": [
       "(('/home/tzortzis/Data/IRI-CATs-light/real_data/long_tasks/cropped_robotic/test/orange/no_release_orange/robotic_no_release_orange_1300.jpg',),\n",
       " tensor([2]))"
      ]
     },
     "execution_count": 21,
     "metadata": {},
     "output_type": "execute_result"
    },
    {
     "data": {
      "text/plain": [
       "(('/home/tzortzis/Data/IRI-CATs-light/real_data/long_tasks/cropped_robotic/test/orange/no_release_orange/robotic_no_release_orange_1301.jpg',),\n",
       " tensor([2]))"
      ]
     },
     "execution_count": 21,
     "metadata": {},
     "output_type": "execute_result"
    },
    {
     "data": {
      "text/plain": [
       "(('/home/tzortzis/Data/IRI-CATs-light/real_data/long_tasks/cropped_robotic/test/orange/no_release_orange/robotic_no_release_orange_1302.jpg',),\n",
       " tensor([2]))"
      ]
     },
     "execution_count": 21,
     "metadata": {},
     "output_type": "execute_result"
    },
    {
     "data": {
      "text/plain": [
       "(('/home/tzortzis/Data/IRI-CATs-light/real_data/long_tasks/cropped_robotic/test/orange/no_release_orange/robotic_no_release_orange_1303.jpg',),\n",
       " tensor([2]))"
      ]
     },
     "execution_count": 21,
     "metadata": {},
     "output_type": "execute_result"
    },
    {
     "data": {
      "text/plain": [
       "(('/home/tzortzis/Data/IRI-CATs-light/real_data/long_tasks/cropped_robotic/test/orange/no_release_orange/robotic_no_release_orange_1304.jpg',),\n",
       " tensor([2]))"
      ]
     },
     "execution_count": 21,
     "metadata": {},
     "output_type": "execute_result"
    },
    {
     "data": {
      "text/plain": [
       "(('/home/tzortzis/Data/IRI-CATs-light/real_data/long_tasks/cropped_robotic/test/orange/no_release_orange/robotic_no_release_orange_1305.jpg',),\n",
       " tensor([2]))"
      ]
     },
     "execution_count": 21,
     "metadata": {},
     "output_type": "execute_result"
    },
    {
     "data": {
      "text/plain": [
       "(('/home/tzortzis/Data/IRI-CATs-light/real_data/long_tasks/cropped_robotic/test/orange/no_release_orange/robotic_no_release_orange_1306.jpg',),\n",
       " tensor([2]))"
      ]
     },
     "execution_count": 21,
     "metadata": {},
     "output_type": "execute_result"
    },
    {
     "data": {
      "text/plain": [
       "(('/home/tzortzis/Data/IRI-CATs-light/real_data/long_tasks/cropped_robotic/test/orange/no_release_orange/robotic_no_release_orange_1307.jpg',),\n",
       " tensor([2]))"
      ]
     },
     "execution_count": 21,
     "metadata": {},
     "output_type": "execute_result"
    },
    {
     "data": {
      "text/plain": [
       "(('/home/tzortzis/Data/IRI-CATs-light/real_data/long_tasks/cropped_robotic/test/orange/no_release_orange/robotic_no_release_orange_1308.jpg',),\n",
       " tensor([2]))"
      ]
     },
     "execution_count": 21,
     "metadata": {},
     "output_type": "execute_result"
    },
    {
     "data": {
      "text/plain": [
       "(('/home/tzortzis/Data/IRI-CATs-light/real_data/long_tasks/cropped_robotic/test/orange/no_release_orange/robotic_no_release_orange_1309.jpg',),\n",
       " tensor([2]))"
      ]
     },
     "execution_count": 21,
     "metadata": {},
     "output_type": "execute_result"
    },
    {
     "data": {
      "text/plain": [
       "(('/home/tzortzis/Data/IRI-CATs-light/real_data/long_tasks/cropped_robotic/test/orange/no_release_orange/robotic_no_release_orange_1310.jpg',),\n",
       " tensor([2]))"
      ]
     },
     "execution_count": 21,
     "metadata": {},
     "output_type": "execute_result"
    },
    {
     "data": {
      "text/plain": [
       "(('/home/tzortzis/Data/IRI-CATs-light/real_data/long_tasks/cropped_robotic/test/orange/no_release_orange/robotic_no_release_orange_1311.jpg',),\n",
       " tensor([2]))"
      ]
     },
     "execution_count": 21,
     "metadata": {},
     "output_type": "execute_result"
    },
    {
     "data": {
      "text/plain": [
       "(('/home/tzortzis/Data/IRI-CATs-light/real_data/long_tasks/cropped_robotic/test/orange/no_release_orange/robotic_no_release_orange_1312.jpg',),\n",
       " tensor([2]))"
      ]
     },
     "execution_count": 21,
     "metadata": {},
     "output_type": "execute_result"
    },
    {
     "data": {
      "text/plain": [
       "(('/home/tzortzis/Data/IRI-CATs-light/real_data/long_tasks/cropped_robotic/test/orange/no_release_orange/robotic_no_release_orange_1313.jpg',),\n",
       " tensor([2]))"
      ]
     },
     "execution_count": 21,
     "metadata": {},
     "output_type": "execute_result"
    },
    {
     "data": {
      "text/plain": [
       "(('/home/tzortzis/Data/IRI-CATs-light/real_data/long_tasks/cropped_robotic/test/orange/no_release_orange/robotic_no_release_orange_1314.jpg',),\n",
       " tensor([2]))"
      ]
     },
     "execution_count": 21,
     "metadata": {},
     "output_type": "execute_result"
    },
    {
     "data": {
      "text/plain": [
       "(('/home/tzortzis/Data/IRI-CATs-light/real_data/long_tasks/cropped_robotic/test/orange/no_release_orange/robotic_no_release_orange_1315.jpg',),\n",
       " tensor([2]))"
      ]
     },
     "execution_count": 21,
     "metadata": {},
     "output_type": "execute_result"
    },
    {
     "data": {
      "text/plain": [
       "(('/home/tzortzis/Data/IRI-CATs-light/real_data/long_tasks/cropped_robotic/test/orange/no_release_orange/robotic_no_release_orange_1316.jpg',),\n",
       " tensor([2]))"
      ]
     },
     "execution_count": 21,
     "metadata": {},
     "output_type": "execute_result"
    },
    {
     "data": {
      "text/plain": [
       "(('/home/tzortzis/Data/IRI-CATs-light/real_data/long_tasks/cropped_robotic/test/orange/no_release_orange/robotic_no_release_orange_1317.jpg',),\n",
       " tensor([2]))"
      ]
     },
     "execution_count": 21,
     "metadata": {},
     "output_type": "execute_result"
    },
    {
     "data": {
      "text/plain": [
       "(('/home/tzortzis/Data/IRI-CATs-light/real_data/long_tasks/cropped_robotic/test/orange/no_release_orange/robotic_no_release_orange_1318.jpg',),\n",
       " tensor([2]))"
      ]
     },
     "execution_count": 21,
     "metadata": {},
     "output_type": "execute_result"
    },
    {
     "data": {
      "text/plain": [
       "(('/home/tzortzis/Data/IRI-CATs-light/real_data/long_tasks/cropped_robotic/test/orange/no_release_orange/robotic_no_release_orange_1319.jpg',),\n",
       " tensor([2]))"
      ]
     },
     "execution_count": 21,
     "metadata": {},
     "output_type": "execute_result"
    },
    {
     "data": {
      "text/plain": [
       "(('/home/tzortzis/Data/IRI-CATs-light/real_data/long_tasks/cropped_robotic/test/orange/no_release_orange/robotic_no_release_orange_1320.jpg',),\n",
       " tensor([2]))"
      ]
     },
     "execution_count": 21,
     "metadata": {},
     "output_type": "execute_result"
    },
    {
     "data": {
      "text/plain": [
       "(('/home/tzortzis/Data/IRI-CATs-light/real_data/long_tasks/cropped_robotic/test/orange/no_release_orange/robotic_no_release_orange_1321.jpg',),\n",
       " tensor([2]))"
      ]
     },
     "execution_count": 21,
     "metadata": {},
     "output_type": "execute_result"
    },
    {
     "data": {
      "text/plain": [
       "(('/home/tzortzis/Data/IRI-CATs-light/real_data/long_tasks/cropped_robotic/test/orange/no_release_orange/robotic_no_release_orange_1322.jpg',),\n",
       " tensor([2]))"
      ]
     },
     "execution_count": 21,
     "metadata": {},
     "output_type": "execute_result"
    },
    {
     "data": {
      "text/plain": [
       "(('/home/tzortzis/Data/IRI-CATs-light/real_data/long_tasks/cropped_robotic/test/orange/no_release_orange/robotic_no_release_orange_1323.jpg',),\n",
       " tensor([2]))"
      ]
     },
     "execution_count": 21,
     "metadata": {},
     "output_type": "execute_result"
    },
    {
     "data": {
      "text/plain": [
       "(('/home/tzortzis/Data/IRI-CATs-light/real_data/long_tasks/cropped_robotic/test/orange/no_release_orange/robotic_no_release_orange_1324.jpg',),\n",
       " tensor([2]))"
      ]
     },
     "execution_count": 21,
     "metadata": {},
     "output_type": "execute_result"
    },
    {
     "data": {
      "text/plain": [
       "(('/home/tzortzis/Data/IRI-CATs-light/real_data/long_tasks/cropped_robotic/test/orange/no_release_orange/robotic_no_release_orange_1325.jpg',),\n",
       " tensor([2]))"
      ]
     },
     "execution_count": 21,
     "metadata": {},
     "output_type": "execute_result"
    },
    {
     "data": {
      "text/plain": [
       "(('/home/tzortzis/Data/IRI-CATs-light/real_data/long_tasks/cropped_robotic/test/orange/no_release_orange/robotic_no_release_orange_1326.jpg',),\n",
       " tensor([2]))"
      ]
     },
     "execution_count": 21,
     "metadata": {},
     "output_type": "execute_result"
    },
    {
     "data": {
      "text/plain": [
       "(('/home/tzortzis/Data/IRI-CATs-light/real_data/long_tasks/cropped_robotic/test/orange/no_release_orange/robotic_no_release_orange_1327.jpg',),\n",
       " tensor([2]))"
      ]
     },
     "execution_count": 21,
     "metadata": {},
     "output_type": "execute_result"
    },
    {
     "data": {
      "text/plain": [
       "(('/home/tzortzis/Data/IRI-CATs-light/real_data/long_tasks/cropped_robotic/test/orange/no_release_orange/robotic_no_release_orange_1328.jpg',),\n",
       " tensor([2]))"
      ]
     },
     "execution_count": 21,
     "metadata": {},
     "output_type": "execute_result"
    },
    {
     "data": {
      "text/plain": [
       "(('/home/tzortzis/Data/IRI-CATs-light/real_data/long_tasks/cropped_robotic/test/orange/no_release_orange/robotic_no_release_orange_1329.jpg',),\n",
       " tensor([2]))"
      ]
     },
     "execution_count": 21,
     "metadata": {},
     "output_type": "execute_result"
    },
    {
     "data": {
      "text/plain": [
       "(('/home/tzortzis/Data/IRI-CATs-light/real_data/long_tasks/cropped_robotic/test/orange/no_release_orange/robotic_no_release_orange_1330.jpg',),\n",
       " tensor([2]))"
      ]
     },
     "execution_count": 21,
     "metadata": {},
     "output_type": "execute_result"
    },
    {
     "data": {
      "text/plain": [
       "(('/home/tzortzis/Data/IRI-CATs-light/real_data/long_tasks/cropped_robotic/test/orange/no_release_orange/robotic_no_release_orange_1331.jpg',),\n",
       " tensor([2]))"
      ]
     },
     "execution_count": 21,
     "metadata": {},
     "output_type": "execute_result"
    },
    {
     "data": {
      "text/plain": [
       "(('/home/tzortzis/Data/IRI-CATs-light/real_data/long_tasks/cropped_robotic/test/orange/no_release_orange/robotic_no_release_orange_1332.jpg',),\n",
       " tensor([2]))"
      ]
     },
     "execution_count": 21,
     "metadata": {},
     "output_type": "execute_result"
    },
    {
     "data": {
      "text/plain": [
       "(('/home/tzortzis/Data/IRI-CATs-light/real_data/long_tasks/cropped_robotic/test/orange/no_release_orange/robotic_no_release_orange_1333.jpg',),\n",
       " tensor([2]))"
      ]
     },
     "execution_count": 21,
     "metadata": {},
     "output_type": "execute_result"
    },
    {
     "data": {
      "text/plain": [
       "(('/home/tzortzis/Data/IRI-CATs-light/real_data/long_tasks/cropped_robotic/test/orange/no_release_orange/robotic_no_release_orange_1334.jpg',),\n",
       " tensor([2]))"
      ]
     },
     "execution_count": 21,
     "metadata": {},
     "output_type": "execute_result"
    },
    {
     "data": {
      "text/plain": [
       "(('/home/tzortzis/Data/IRI-CATs-light/real_data/long_tasks/cropped_robotic/test/orange/no_release_orange/robotic_no_release_orange_1335.jpg',),\n",
       " tensor([2]))"
      ]
     },
     "execution_count": 21,
     "metadata": {},
     "output_type": "execute_result"
    },
    {
     "data": {
      "text/plain": [
       "(('/home/tzortzis/Data/IRI-CATs-light/real_data/long_tasks/cropped_robotic/test/orange/no_release_orange/robotic_no_release_orange_1336.jpg',),\n",
       " tensor([2]))"
      ]
     },
     "execution_count": 21,
     "metadata": {},
     "output_type": "execute_result"
    },
    {
     "data": {
      "text/plain": [
       "(('/home/tzortzis/Data/IRI-CATs-light/real_data/long_tasks/cropped_robotic/test/orange/no_release_orange/robotic_no_release_orange_1337.jpg',),\n",
       " tensor([2]))"
      ]
     },
     "execution_count": 21,
     "metadata": {},
     "output_type": "execute_result"
    },
    {
     "data": {
      "text/plain": [
       "(('/home/tzortzis/Data/IRI-CATs-light/real_data/long_tasks/cropped_robotic/test/orange/no_release_orange/robotic_no_release_orange_1338.jpg',),\n",
       " tensor([2]))"
      ]
     },
     "execution_count": 21,
     "metadata": {},
     "output_type": "execute_result"
    },
    {
     "data": {
      "text/plain": [
       "(('/home/tzortzis/Data/IRI-CATs-light/real_data/long_tasks/cropped_robotic/test/orange/no_release_orange/robotic_no_release_orange_1339.jpg',),\n",
       " tensor([2]))"
      ]
     },
     "execution_count": 21,
     "metadata": {},
     "output_type": "execute_result"
    },
    {
     "data": {
      "text/plain": [
       "(('/home/tzortzis/Data/IRI-CATs-light/real_data/long_tasks/cropped_robotic/test/orange/no_release_orange/robotic_no_release_orange_1340.jpg',),\n",
       " tensor([2]))"
      ]
     },
     "execution_count": 21,
     "metadata": {},
     "output_type": "execute_result"
    },
    {
     "data": {
      "text/plain": [
       "(('/home/tzortzis/Data/IRI-CATs-light/real_data/long_tasks/cropped_robotic/test/orange/no_release_orange/robotic_no_release_orange_1341.jpg',),\n",
       " tensor([2]))"
      ]
     },
     "execution_count": 21,
     "metadata": {},
     "output_type": "execute_result"
    },
    {
     "data": {
      "text/plain": [
       "(('/home/tzortzis/Data/IRI-CATs-light/real_data/long_tasks/cropped_robotic/test/orange/no_release_orange/robotic_no_release_orange_1342.jpg',),\n",
       " tensor([2]))"
      ]
     },
     "execution_count": 21,
     "metadata": {},
     "output_type": "execute_result"
    },
    {
     "data": {
      "text/plain": [
       "(('/home/tzortzis/Data/IRI-CATs-light/real_data/long_tasks/cropped_robotic/test/orange/no_release_orange/robotic_no_release_orange_1343.jpg',),\n",
       " tensor([2]))"
      ]
     },
     "execution_count": 21,
     "metadata": {},
     "output_type": "execute_result"
    },
    {
     "data": {
      "text/plain": [
       "(('/home/tzortzis/Data/IRI-CATs-light/real_data/long_tasks/cropped_robotic/test/orange/no_release_orange/robotic_no_release_orange_1344.jpg',),\n",
       " tensor([2]))"
      ]
     },
     "execution_count": 21,
     "metadata": {},
     "output_type": "execute_result"
    },
    {
     "data": {
      "text/plain": [
       "(('/home/tzortzis/Data/IRI-CATs-light/real_data/long_tasks/cropped_robotic/test/orange/no_release_orange/robotic_no_release_orange_1345.jpg',),\n",
       " tensor([2]))"
      ]
     },
     "execution_count": 21,
     "metadata": {},
     "output_type": "execute_result"
    },
    {
     "data": {
      "text/plain": [
       "(('/home/tzortzis/Data/IRI-CATs-light/real_data/long_tasks/cropped_robotic/test/orange/no_release_orange/robotic_no_release_orange_1346.jpg',),\n",
       " tensor([2]))"
      ]
     },
     "execution_count": 21,
     "metadata": {},
     "output_type": "execute_result"
    },
    {
     "data": {
      "text/plain": [
       "(('/home/tzortzis/Data/IRI-CATs-light/real_data/long_tasks/cropped_robotic/test/orange/no_release_orange/robotic_no_release_orange_1347.jpg',),\n",
       " tensor([2]))"
      ]
     },
     "execution_count": 21,
     "metadata": {},
     "output_type": "execute_result"
    },
    {
     "data": {
      "text/plain": [
       "(('/home/tzortzis/Data/IRI-CATs-light/real_data/long_tasks/cropped_robotic/test/orange/no_release_orange/robotic_no_release_orange_1348.jpg',),\n",
       " tensor([2]))"
      ]
     },
     "execution_count": 21,
     "metadata": {},
     "output_type": "execute_result"
    },
    {
     "data": {
      "text/plain": [
       "(('/home/tzortzis/Data/IRI-CATs-light/real_data/long_tasks/cropped_robotic/test/orange/no_release_orange/robotic_no_release_orange_1349.jpg',),\n",
       " tensor([2]))"
      ]
     },
     "execution_count": 21,
     "metadata": {},
     "output_type": "execute_result"
    },
    {
     "data": {
      "text/plain": [
       "(('/home/tzortzis/Data/IRI-CATs-light/real_data/long_tasks/cropped_robotic/test/orange/no_release_orange/robotic_no_release_orange_1350.jpg',),\n",
       " tensor([2]))"
      ]
     },
     "execution_count": 21,
     "metadata": {},
     "output_type": "execute_result"
    },
    {
     "data": {
      "text/plain": [
       "(('/home/tzortzis/Data/IRI-CATs-light/real_data/long_tasks/cropped_robotic/test/orange/no_release_orange/robotic_no_release_orange_1351.jpg',),\n",
       " tensor([2]))"
      ]
     },
     "execution_count": 21,
     "metadata": {},
     "output_type": "execute_result"
    },
    {
     "data": {
      "text/plain": [
       "(('/home/tzortzis/Data/IRI-CATs-light/real_data/long_tasks/cropped_robotic/test/orange/no_release_orange/robotic_no_release_orange_1352.jpg',),\n",
       " tensor([2]))"
      ]
     },
     "execution_count": 21,
     "metadata": {},
     "output_type": "execute_result"
    },
    {
     "data": {
      "text/plain": [
       "(('/home/tzortzis/Data/IRI-CATs-light/real_data/long_tasks/cropped_robotic/test/orange/no_release_orange/robotic_no_release_orange_1353.jpg',),\n",
       " tensor([2]))"
      ]
     },
     "execution_count": 21,
     "metadata": {},
     "output_type": "execute_result"
    },
    {
     "data": {
      "text/plain": [
       "(('/home/tzortzis/Data/IRI-CATs-light/real_data/long_tasks/cropped_robotic/test/orange/no_release_orange/robotic_no_release_orange_1354.jpg',),\n",
       " tensor([2]))"
      ]
     },
     "execution_count": 21,
     "metadata": {},
     "output_type": "execute_result"
    },
    {
     "data": {
      "text/plain": [
       "(('/home/tzortzis/Data/IRI-CATs-light/real_data/long_tasks/cropped_robotic/test/orange/no_release_orange/robotic_no_release_orange_1355.jpg',),\n",
       " tensor([2]))"
      ]
     },
     "execution_count": 21,
     "metadata": {},
     "output_type": "execute_result"
    },
    {
     "data": {
      "text/plain": [
       "(('/home/tzortzis/Data/IRI-CATs-light/real_data/long_tasks/cropped_robotic/test/orange/no_release_orange/robotic_no_release_orange_1356.jpg',),\n",
       " tensor([2]))"
      ]
     },
     "execution_count": 21,
     "metadata": {},
     "output_type": "execute_result"
    },
    {
     "data": {
      "text/plain": [
       "(('/home/tzortzis/Data/IRI-CATs-light/real_data/long_tasks/cropped_robotic/test/orange/no_release_orange/robotic_no_release_orange_1357.jpg',),\n",
       " tensor([2]))"
      ]
     },
     "execution_count": 21,
     "metadata": {},
     "output_type": "execute_result"
    },
    {
     "data": {
      "text/plain": [
       "(('/home/tzortzis/Data/IRI-CATs-light/real_data/long_tasks/cropped_robotic/test/orange/no_release_orange/robotic_no_release_orange_1358.jpg',),\n",
       " tensor([2]))"
      ]
     },
     "execution_count": 21,
     "metadata": {},
     "output_type": "execute_result"
    },
    {
     "data": {
      "text/plain": [
       "(('/home/tzortzis/Data/IRI-CATs-light/real_data/long_tasks/cropped_robotic/test/orange/no_release_orange/robotic_no_release_orange_1359.jpg',),\n",
       " tensor([2]))"
      ]
     },
     "execution_count": 21,
     "metadata": {},
     "output_type": "execute_result"
    },
    {
     "data": {
      "text/plain": [
       "(('/home/tzortzis/Data/IRI-CATs-light/real_data/long_tasks/cropped_robotic/test/orange/no_release_orange/robotic_no_release_orange_1360.jpg',),\n",
       " tensor([2]))"
      ]
     },
     "execution_count": 21,
     "metadata": {},
     "output_type": "execute_result"
    },
    {
     "data": {
      "text/plain": [
       "(('/home/tzortzis/Data/IRI-CATs-light/real_data/long_tasks/cropped_robotic/test/orange/no_release_orange/robotic_no_release_orange_1361.jpg',),\n",
       " tensor([2]))"
      ]
     },
     "execution_count": 21,
     "metadata": {},
     "output_type": "execute_result"
    },
    {
     "data": {
      "text/plain": [
       "(('/home/tzortzis/Data/IRI-CATs-light/real_data/long_tasks/cropped_robotic/test/orange/no_release_orange/robotic_no_release_orange_1362.jpg',),\n",
       " tensor([2]))"
      ]
     },
     "execution_count": 21,
     "metadata": {},
     "output_type": "execute_result"
    },
    {
     "data": {
      "text/plain": [
       "(('/home/tzortzis/Data/IRI-CATs-light/real_data/long_tasks/cropped_robotic/test/orange/no_release_orange/robotic_no_release_orange_1363.jpg',),\n",
       " tensor([2]))"
      ]
     },
     "execution_count": 21,
     "metadata": {},
     "output_type": "execute_result"
    },
    {
     "data": {
      "text/plain": [
       "(('/home/tzortzis/Data/IRI-CATs-light/real_data/long_tasks/cropped_robotic/test/orange/no_release_orange/robotic_no_release_orange_1364.jpg',),\n",
       " tensor([2]))"
      ]
     },
     "execution_count": 21,
     "metadata": {},
     "output_type": "execute_result"
    },
    {
     "data": {
      "text/plain": [
       "(('/home/tzortzis/Data/IRI-CATs-light/real_data/long_tasks/cropped_robotic/test/orange/no_release_orange/robotic_no_release_orange_1365.jpg',),\n",
       " tensor([2]))"
      ]
     },
     "execution_count": 21,
     "metadata": {},
     "output_type": "execute_result"
    },
    {
     "data": {
      "text/plain": [
       "(('/home/tzortzis/Data/IRI-CATs-light/real_data/long_tasks/cropped_robotic/test/orange/no_release_orange/robotic_no_release_orange_1366.jpg',),\n",
       " tensor([2]))"
      ]
     },
     "execution_count": 21,
     "metadata": {},
     "output_type": "execute_result"
    },
    {
     "data": {
      "text/plain": [
       "(('/home/tzortzis/Data/IRI-CATs-light/real_data/long_tasks/cropped_robotic/test/orange/no_release_orange/robotic_no_release_orange_1367.jpg',),\n",
       " tensor([2]))"
      ]
     },
     "execution_count": 21,
     "metadata": {},
     "output_type": "execute_result"
    },
    {
     "data": {
      "text/plain": [
       "(('/home/tzortzis/Data/IRI-CATs-light/real_data/long_tasks/cropped_robotic/test/orange/no_release_orange/robotic_no_release_orange_1368.jpg',),\n",
       " tensor([2]))"
      ]
     },
     "execution_count": 21,
     "metadata": {},
     "output_type": "execute_result"
    },
    {
     "data": {
      "text/plain": [
       "(('/home/tzortzis/Data/IRI-CATs-light/real_data/long_tasks/cropped_robotic/test/orange/no_release_orange/robotic_no_release_orange_1369.jpg',),\n",
       " tensor([2]))"
      ]
     },
     "execution_count": 21,
     "metadata": {},
     "output_type": "execute_result"
    },
    {
     "data": {
      "text/plain": [
       "(('/home/tzortzis/Data/IRI-CATs-light/real_data/long_tasks/cropped_robotic/test/orange/no_release_orange/robotic_no_release_orange_1370.jpg',),\n",
       " tensor([2]))"
      ]
     },
     "execution_count": 21,
     "metadata": {},
     "output_type": "execute_result"
    },
    {
     "data": {
      "text/plain": [
       "(('/home/tzortzis/Data/IRI-CATs-light/real_data/long_tasks/cropped_robotic/test/orange/no_release_orange/robotic_no_release_orange_1371.jpg',),\n",
       " tensor([2]))"
      ]
     },
     "execution_count": 21,
     "metadata": {},
     "output_type": "execute_result"
    },
    {
     "data": {
      "text/plain": [
       "(('/home/tzortzis/Data/IRI-CATs-light/real_data/long_tasks/cropped_robotic/test/orange/no_release_orange/robotic_no_release_orange_1372.jpg',),\n",
       " tensor([2]))"
      ]
     },
     "execution_count": 21,
     "metadata": {},
     "output_type": "execute_result"
    },
    {
     "data": {
      "text/plain": [
       "(('/home/tzortzis/Data/IRI-CATs-light/real_data/long_tasks/cropped_robotic/test/orange/no_release_orange/robotic_no_release_orange_1373.jpg',),\n",
       " tensor([2]))"
      ]
     },
     "execution_count": 21,
     "metadata": {},
     "output_type": "execute_result"
    },
    {
     "data": {
      "text/plain": [
       "(('/home/tzortzis/Data/IRI-CATs-light/real_data/long_tasks/cropped_robotic/test/orange/no_release_orange/robotic_no_release_orange_1374.jpg',),\n",
       " tensor([2]))"
      ]
     },
     "execution_count": 21,
     "metadata": {},
     "output_type": "execute_result"
    },
    {
     "data": {
      "text/plain": [
       "(('/home/tzortzis/Data/IRI-CATs-light/real_data/long_tasks/cropped_robotic/test/orange/no_release_orange/robotic_no_release_orange_1375.jpg',),\n",
       " tensor([2]))"
      ]
     },
     "execution_count": 21,
     "metadata": {},
     "output_type": "execute_result"
    },
    {
     "data": {
      "text/plain": [
       "(('/home/tzortzis/Data/IRI-CATs-light/real_data/long_tasks/cropped_robotic/test/orange/no_release_orange/robotic_no_release_orange_1376.jpg',),\n",
       " tensor([2]))"
      ]
     },
     "execution_count": 21,
     "metadata": {},
     "output_type": "execute_result"
    },
    {
     "data": {
      "text/plain": [
       "(('/home/tzortzis/Data/IRI-CATs-light/real_data/long_tasks/cropped_robotic/test/orange/no_release_orange/robotic_no_release_orange_1377.jpg',),\n",
       " tensor([2]))"
      ]
     },
     "execution_count": 21,
     "metadata": {},
     "output_type": "execute_result"
    },
    {
     "data": {
      "text/plain": [
       "(('/home/tzortzis/Data/IRI-CATs-light/real_data/long_tasks/cropped_robotic/test/orange/no_release_orange/robotic_no_release_orange_1378.jpg',),\n",
       " tensor([2]))"
      ]
     },
     "execution_count": 21,
     "metadata": {},
     "output_type": "execute_result"
    },
    {
     "data": {
      "text/plain": [
       "(('/home/tzortzis/Data/IRI-CATs-light/real_data/long_tasks/cropped_robotic/test/orange/no_release_orange/robotic_no_release_orange_1379.jpg',),\n",
       " tensor([2]))"
      ]
     },
     "execution_count": 21,
     "metadata": {},
     "output_type": "execute_result"
    },
    {
     "data": {
      "text/plain": [
       "(('/home/tzortzis/Data/IRI-CATs-light/real_data/long_tasks/cropped_robotic/test/orange/no_release_orange/robotic_no_release_orange_1380.jpg',),\n",
       " tensor([2]))"
      ]
     },
     "execution_count": 21,
     "metadata": {},
     "output_type": "execute_result"
    },
    {
     "data": {
      "text/plain": [
       "(('/home/tzortzis/Data/IRI-CATs-light/real_data/long_tasks/cropped_robotic/test/orange/no_release_orange/robotic_no_release_orange_1381.jpg',),\n",
       " tensor([2]))"
      ]
     },
     "execution_count": 21,
     "metadata": {},
     "output_type": "execute_result"
    },
    {
     "data": {
      "text/plain": [
       "(('/home/tzortzis/Data/IRI-CATs-light/real_data/long_tasks/cropped_robotic/test/orange/no_release_orange/robotic_no_release_orange_1382.jpg',),\n",
       " tensor([2]))"
      ]
     },
     "execution_count": 21,
     "metadata": {},
     "output_type": "execute_result"
    },
    {
     "data": {
      "text/plain": [
       "(('/home/tzortzis/Data/IRI-CATs-light/real_data/long_tasks/cropped_robotic/test/orange/no_release_orange/robotic_no_release_orange_1383.jpg',),\n",
       " tensor([2]))"
      ]
     },
     "execution_count": 21,
     "metadata": {},
     "output_type": "execute_result"
    },
    {
     "data": {
      "text/plain": [
       "(('/home/tzortzis/Data/IRI-CATs-light/real_data/long_tasks/cropped_robotic/test/orange/no_release_orange/robotic_no_release_orange_1384.jpg',),\n",
       " tensor([2]))"
      ]
     },
     "execution_count": 21,
     "metadata": {},
     "output_type": "execute_result"
    },
    {
     "data": {
      "text/plain": [
       "(('/home/tzortzis/Data/IRI-CATs-light/real_data/long_tasks/cropped_robotic/test/orange/no_release_orange/robotic_no_release_orange_1385.jpg',),\n",
       " tensor([2]))"
      ]
     },
     "execution_count": 21,
     "metadata": {},
     "output_type": "execute_result"
    },
    {
     "data": {
      "text/plain": [
       "(('/home/tzortzis/Data/IRI-CATs-light/real_data/long_tasks/cropped_robotic/test/orange/no_release_orange/robotic_no_release_orange_1386.jpg',),\n",
       " tensor([2]))"
      ]
     },
     "execution_count": 21,
     "metadata": {},
     "output_type": "execute_result"
    },
    {
     "data": {
      "text/plain": [
       "(('/home/tzortzis/Data/IRI-CATs-light/real_data/long_tasks/cropped_robotic/test/orange/no_release_orange/robotic_no_release_orange_1387.jpg',),\n",
       " tensor([2]))"
      ]
     },
     "execution_count": 21,
     "metadata": {},
     "output_type": "execute_result"
    },
    {
     "data": {
      "text/plain": [
       "(('/home/tzortzis/Data/IRI-CATs-light/real_data/long_tasks/cropped_robotic/test/orange/no_release_orange/robotic_no_release_orange_1388.jpg',),\n",
       " tensor([2]))"
      ]
     },
     "execution_count": 21,
     "metadata": {},
     "output_type": "execute_result"
    },
    {
     "data": {
      "text/plain": [
       "(('/home/tzortzis/Data/IRI-CATs-light/real_data/long_tasks/cropped_robotic/test/orange/no_release_orange/robotic_no_release_orange_1389.jpg',),\n",
       " tensor([2]))"
      ]
     },
     "execution_count": 21,
     "metadata": {},
     "output_type": "execute_result"
    },
    {
     "data": {
      "text/plain": [
       "(('/home/tzortzis/Data/IRI-CATs-light/real_data/long_tasks/cropped_robotic/test/orange/no_release_orange/robotic_no_release_orange_1390.jpg',),\n",
       " tensor([2]))"
      ]
     },
     "execution_count": 21,
     "metadata": {},
     "output_type": "execute_result"
    },
    {
     "data": {
      "text/plain": [
       "(('/home/tzortzis/Data/IRI-CATs-light/real_data/long_tasks/cropped_robotic/test/orange/no_release_orange/robotic_no_release_orange_1391.jpg',),\n",
       " tensor([2]))"
      ]
     },
     "execution_count": 21,
     "metadata": {},
     "output_type": "execute_result"
    },
    {
     "data": {
      "text/plain": [
       "(('/home/tzortzis/Data/IRI-CATs-light/real_data/long_tasks/cropped_robotic/test/orange/no_release_orange/robotic_no_release_orange_1392.jpg',),\n",
       " tensor([2]))"
      ]
     },
     "execution_count": 21,
     "metadata": {},
     "output_type": "execute_result"
    },
    {
     "data": {
      "text/plain": [
       "(('/home/tzortzis/Data/IRI-CATs-light/real_data/long_tasks/cropped_robotic/test/orange/no_release_orange/robotic_no_release_orange_1393.jpg',),\n",
       " tensor([2]))"
      ]
     },
     "execution_count": 21,
     "metadata": {},
     "output_type": "execute_result"
    },
    {
     "data": {
      "text/plain": [
       "(('/home/tzortzis/Data/IRI-CATs-light/real_data/long_tasks/cropped_robotic/test/orange/no_release_orange/robotic_no_release_orange_1394.jpg',),\n",
       " tensor([2]))"
      ]
     },
     "execution_count": 21,
     "metadata": {},
     "output_type": "execute_result"
    },
    {
     "data": {
      "text/plain": [
       "(('/home/tzortzis/Data/IRI-CATs-light/real_data/long_tasks/cropped_robotic/test/orange/no_release_orange/robotic_no_release_orange_1395.jpg',),\n",
       " tensor([2]))"
      ]
     },
     "execution_count": 21,
     "metadata": {},
     "output_type": "execute_result"
    },
    {
     "data": {
      "text/plain": [
       "(('/home/tzortzis/Data/IRI-CATs-light/real_data/long_tasks/cropped_robotic/test/orange/no_release_orange/robotic_no_release_orange_1396.jpg',),\n",
       " tensor([2]))"
      ]
     },
     "execution_count": 21,
     "metadata": {},
     "output_type": "execute_result"
    },
    {
     "data": {
      "text/plain": [
       "(('/home/tzortzis/Data/IRI-CATs-light/real_data/long_tasks/cropped_robotic/test/orange/no_release_orange/robotic_no_release_orange_1397.jpg',),\n",
       " tensor([2]))"
      ]
     },
     "execution_count": 21,
     "metadata": {},
     "output_type": "execute_result"
    },
    {
     "data": {
      "text/plain": [
       "(('/home/tzortzis/Data/IRI-CATs-light/real_data/long_tasks/cropped_robotic/test/orange/no_release_orange/robotic_no_release_orange_1398.jpg',),\n",
       " tensor([2]))"
      ]
     },
     "execution_count": 21,
     "metadata": {},
     "output_type": "execute_result"
    },
    {
     "data": {
      "text/plain": [
       "(('/home/tzortzis/Data/IRI-CATs-light/real_data/long_tasks/cropped_robotic/test/orange/no_release_orange/robotic_no_release_orange_1399.jpg',),\n",
       " tensor([2]))"
      ]
     },
     "execution_count": 21,
     "metadata": {},
     "output_type": "execute_result"
    },
    {
     "data": {
      "text/plain": [
       "(('/home/tzortzis/Data/IRI-CATs-light/real_data/long_tasks/cropped_robotic/test/orange/no_release_orange/robotic_no_release_orange_1400.jpg',),\n",
       " tensor([2]))"
      ]
     },
     "execution_count": 21,
     "metadata": {},
     "output_type": "execute_result"
    },
    {
     "data": {
      "text/plain": [
       "(('/home/tzortzis/Data/IRI-CATs-light/real_data/long_tasks/cropped_robotic/test/orange/no_release_orange/robotic_no_release_orange_1401.jpg',),\n",
       " tensor([2]))"
      ]
     },
     "execution_count": 21,
     "metadata": {},
     "output_type": "execute_result"
    },
    {
     "data": {
      "text/plain": [
       "(('/home/tzortzis/Data/IRI-CATs-light/real_data/long_tasks/cropped_robotic/test/orange/no_release_orange/robotic_no_release_orange_1402.jpg',),\n",
       " tensor([2]))"
      ]
     },
     "execution_count": 21,
     "metadata": {},
     "output_type": "execute_result"
    },
    {
     "data": {
      "text/plain": [
       "(('/home/tzortzis/Data/IRI-CATs-light/real_data/long_tasks/cropped_robotic/test/orange/no_release_orange/robotic_no_release_orange_1403.jpg',),\n",
       " tensor([2]))"
      ]
     },
     "execution_count": 21,
     "metadata": {},
     "output_type": "execute_result"
    },
    {
     "data": {
      "text/plain": [
       "(('/home/tzortzis/Data/IRI-CATs-light/real_data/long_tasks/cropped_robotic/test/orange/no_release_orange/robotic_no_release_orange_1404.jpg',),\n",
       " tensor([2]))"
      ]
     },
     "execution_count": 21,
     "metadata": {},
     "output_type": "execute_result"
    },
    {
     "data": {
      "text/plain": [
       "(('/home/tzortzis/Data/IRI-CATs-light/real_data/long_tasks/cropped_robotic/test/orange/no_release_orange/robotic_no_release_orange_1405.jpg',),\n",
       " tensor([2]))"
      ]
     },
     "execution_count": 21,
     "metadata": {},
     "output_type": "execute_result"
    },
    {
     "data": {
      "text/plain": [
       "(('/home/tzortzis/Data/IRI-CATs-light/real_data/long_tasks/cropped_robotic/test/orange/no_release_orange/robotic_no_release_orange_1406.jpg',),\n",
       " tensor([2]))"
      ]
     },
     "execution_count": 21,
     "metadata": {},
     "output_type": "execute_result"
    },
    {
     "data": {
      "text/plain": [
       "(('/home/tzortzis/Data/IRI-CATs-light/real_data/long_tasks/cropped_robotic/test/orange/no_release_orange/robotic_no_release_orange_1407.jpg',),\n",
       " tensor([2]))"
      ]
     },
     "execution_count": 21,
     "metadata": {},
     "output_type": "execute_result"
    },
    {
     "data": {
      "text/plain": [
       "(('/home/tzortzis/Data/IRI-CATs-light/real_data/long_tasks/cropped_robotic/test/orange/no_release_orange/robotic_no_release_orange_1408.jpg',),\n",
       " tensor([2]))"
      ]
     },
     "execution_count": 21,
     "metadata": {},
     "output_type": "execute_result"
    },
    {
     "data": {
      "text/plain": [
       "(('/home/tzortzis/Data/IRI-CATs-light/real_data/long_tasks/cropped_robotic/test/orange/no_release_orange/robotic_no_release_orange_1409.jpg',),\n",
       " tensor([2]))"
      ]
     },
     "execution_count": 21,
     "metadata": {},
     "output_type": "execute_result"
    },
    {
     "data": {
      "text/plain": [
       "(('/home/tzortzis/Data/IRI-CATs-light/real_data/long_tasks/cropped_robotic/test/orange/no_release_orange/robotic_no_release_orange_1410.jpg',),\n",
       " tensor([2]))"
      ]
     },
     "execution_count": 21,
     "metadata": {},
     "output_type": "execute_result"
    },
    {
     "data": {
      "text/plain": [
       "(('/home/tzortzis/Data/IRI-CATs-light/real_data/long_tasks/cropped_robotic/test/orange/no_release_orange/robotic_no_release_orange_1411.jpg',),\n",
       " tensor([2]))"
      ]
     },
     "execution_count": 21,
     "metadata": {},
     "output_type": "execute_result"
    },
    {
     "data": {
      "text/plain": [
       "(('/home/tzortzis/Data/IRI-CATs-light/real_data/long_tasks/cropped_robotic/test/orange/no_release_orange/robotic_no_release_orange_1412.jpg',),\n",
       " tensor([2]))"
      ]
     },
     "execution_count": 21,
     "metadata": {},
     "output_type": "execute_result"
    },
    {
     "data": {
      "text/plain": [
       "(('/home/tzortzis/Data/IRI-CATs-light/real_data/long_tasks/cropped_robotic/test/orange/no_release_orange/robotic_no_release_orange_1413.jpg',),\n",
       " tensor([2]))"
      ]
     },
     "execution_count": 21,
     "metadata": {},
     "output_type": "execute_result"
    }
   ],
   "source": [
    "for data in test_loader:\n",
    "    inps, labels, filename = data\n",
    "    filename, labels\n",
    "    "
   ]
  },
  {
   "cell_type": "code",
   "execution_count": null,
   "id": "520aa625",
   "metadata": {},
   "outputs": [],
   "source": []
  }
 ],
 "metadata": {
  "kernelspec": {
   "display_name": "Python 3 (ipykernel)",
   "language": "python",
   "name": "python3"
  },
  "language_info": {
   "codemirror_mode": {
    "name": "ipython",
    "version": 3
   },
   "file_extension": ".py",
   "mimetype": "text/x-python",
   "name": "python",
   "nbconvert_exporter": "python",
   "pygments_lexer": "ipython3",
   "version": "3.8.13"
  }
 },
 "nbformat": 4,
 "nbformat_minor": 5
}
